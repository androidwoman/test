{
  "cells": [
    {
      "cell_type": "code",
      "execution_count": 7,
      "metadata": {
        "colab": {
          "base_uri": "https://localhost:8080/"
        },
        "id": "JOgaRbmzm2kS",
        "outputId": "903e6941-01e7-4724-c771-28212f67719e"
      },
      "outputs": [
        {
          "name": "stdout",
          "output_type": "stream",
          "text": [
            "Cloning into 'timesfm'...\n",
            "remote: Enumerating objects: 653, done.\u001b[K\n",
            "remote: Counting objects: 100% (651/651), done.\u001b[K\n",
            "remote: Compressing objects: 100% (326/326), done.\u001b[K\n",
            "remote: Total 653 (delta 344), reused 541 (delta 284), pack-reused 2 (from 1)\u001b[K\n",
            "Receiving objects: 100% (653/653), 1.91 MiB | 8.56 MiB/s, done.\n",
            "Resolving deltas: 100% (344/344), done.\n"
          ]
        }
      ],
      "source": [
        "!git clone https://github.com/google-research/timesfm.git"
      ]
    },
    {
      "cell_type": "code",
      "execution_count": 8,
      "metadata": {
        "colab": {
          "base_uri": "https://localhost:8080/",
          "height": 1000
        },
        "id": "mOCkB4grxSlw",
        "outputId": "4d54a842-6e3e-49bd-9603-c32d6f482d34"
      },
      "outputs": [
        {
          "name": "stdout",
          "output_type": "stream",
          "text": [
            "Requirement already satisfied: yfinance in /usr/local/lib/python3.10/dist-packages (0.2.48)\n",
            "Collecting timesfm==1.1.0\n",
            "  Downloading timesfm-1.1.0-py3-none-any.whl.metadata (12 kB)\n",
            "Collecting einshape>=1.0.0 (from timesfm==1.1.0)\n",
            "  Downloading einshape-1.0-py3-none-any.whl.metadata (706 bytes)\n",
            "Requirement already satisfied: huggingface_hub>=0.23.0 in /usr/local/lib/python3.10/dist-packages (from huggingface_hub[cli]>=0.23.0->timesfm==1.1.0) (0.24.7)\n",
            "Requirement already satisfied: jax>=0.4.26 in /usr/local/lib/python3.10/dist-packages (from jax[cuda12]>=0.4.26->timesfm==1.1.0) (0.4.33)\n",
            "Requirement already satisfied: jaxlib>=0.4.26 in /usr/local/lib/python3.10/dist-packages (from timesfm==1.1.0) (0.4.33)\n",
            "Requirement already satisfied: numpy>=1.26.4 in /usr/local/lib/python3.10/dist-packages (from timesfm==1.1.0) (1.26.4)\n",
            "Requirement already satisfied: pandas>=2.1.4 in /usr/local/lib/python3.10/dist-packages (from timesfm==1.1.0) (2.2.2)\n",
            "Collecting paxml>=1.4.0 (from timesfm==1.1.0)\n",
            "  Downloading paxml-1.4.0-py3-none-any.whl.metadata (1.3 kB)\n",
            "Requirement already satisfied: scikit-learn>=1.2.2 in /usr/local/lib/python3.10/dist-packages (from timesfm==1.1.0) (1.5.2)\n",
            "Requirement already satisfied: typer>=0.12.3 in /usr/local/lib/python3.10/dist-packages (from timesfm==1.1.0) (0.12.5)\n",
            "Collecting utilsforecast>=0.1.10 (from timesfm==1.1.0)\n",
            "  Downloading utilsforecast-0.2.8-py3-none-any.whl.metadata (7.4 kB)\n",
            "Requirement already satisfied: wandb>=0.17.5 in /usr/local/lib/python3.10/dist-packages (from timesfm==1.1.0) (0.18.5)\n",
            "Requirement already satisfied: requests>=2.31 in /usr/local/lib/python3.10/dist-packages (from yfinance) (2.32.3)\n",
            "Requirement already satisfied: multitasking>=0.0.7 in /usr/local/lib/python3.10/dist-packages (from yfinance) (0.0.11)\n",
            "Requirement already satisfied: lxml>=4.9.1 in /usr/local/lib/python3.10/dist-packages (from yfinance) (5.3.0)\n",
            "Requirement already satisfied: platformdirs>=2.0.0 in /usr/local/lib/python3.10/dist-packages (from yfinance) (4.3.6)\n",
            "Requirement already satisfied: pytz>=2022.5 in /usr/local/lib/python3.10/dist-packages (from yfinance) (2024.2)\n",
            "Requirement already satisfied: frozendict>=2.3.4 in /usr/local/lib/python3.10/dist-packages (from yfinance) (2.4.6)\n",
            "Requirement already satisfied: peewee>=3.16.2 in /usr/local/lib/python3.10/dist-packages (from yfinance) (3.17.7)\n",
            "Requirement already satisfied: beautifulsoup4>=4.11.1 in /usr/local/lib/python3.10/dist-packages (from yfinance) (4.12.3)\n",
            "Requirement already satisfied: html5lib>=1.1 in /usr/local/lib/python3.10/dist-packages (from yfinance) (1.1)\n",
            "Requirement already satisfied: soupsieve>1.2 in /usr/local/lib/python3.10/dist-packages (from beautifulsoup4>=4.11.1->yfinance) (2.6)\n",
            "Requirement already satisfied: absl-py in /usr/local/lib/python3.10/dist-packages (from einshape>=1.0.0->timesfm==1.1.0) (1.4.0)\n",
            "Requirement already satisfied: six>=1.9 in /usr/local/lib/python3.10/dist-packages (from html5lib>=1.1->yfinance) (1.16.0)\n",
            "Requirement already satisfied: webencodings in /usr/local/lib/python3.10/dist-packages (from html5lib>=1.1->yfinance) (0.5.1)\n",
            "Requirement already satisfied: filelock in /usr/local/lib/python3.10/dist-packages (from huggingface_hub>=0.23.0->huggingface_hub[cli]>=0.23.0->timesfm==1.1.0) (3.16.1)\n",
            "Requirement already satisfied: fsspec>=2023.5.0 in /usr/local/lib/python3.10/dist-packages (from huggingface_hub>=0.23.0->huggingface_hub[cli]>=0.23.0->timesfm==1.1.0) (2024.10.0)\n",
            "Requirement already satisfied: packaging>=20.9 in /usr/local/lib/python3.10/dist-packages (from huggingface_hub>=0.23.0->huggingface_hub[cli]>=0.23.0->timesfm==1.1.0) (24.1)\n",
            "Requirement already satisfied: pyyaml>=5.1 in /usr/local/lib/python3.10/dist-packages (from huggingface_hub>=0.23.0->huggingface_hub[cli]>=0.23.0->timesfm==1.1.0) (6.0.2)\n",
            "Requirement already satisfied: tqdm>=4.42.1 in /usr/local/lib/python3.10/dist-packages (from huggingface_hub>=0.23.0->huggingface_hub[cli]>=0.23.0->timesfm==1.1.0) (4.66.6)\n",
            "Requirement already satisfied: typing-extensions>=3.7.4.3 in /usr/local/lib/python3.10/dist-packages (from huggingface_hub>=0.23.0->huggingface_hub[cli]>=0.23.0->timesfm==1.1.0) (4.12.2)\n",
            "Collecting InquirerPy==0.3.4 (from huggingface_hub[cli]>=0.23.0->timesfm==1.1.0)\n",
            "  Downloading InquirerPy-0.3.4-py3-none-any.whl.metadata (8.1 kB)\n",
            "Collecting pfzy<0.4.0,>=0.3.1 (from InquirerPy==0.3.4->huggingface_hub[cli]>=0.23.0->timesfm==1.1.0)\n",
            "  Downloading pfzy-0.3.4-py3-none-any.whl.metadata (4.9 kB)\n",
            "Requirement already satisfied: prompt-toolkit<4.0.0,>=3.0.1 in /usr/local/lib/python3.10/dist-packages (from InquirerPy==0.3.4->huggingface_hub[cli]>=0.23.0->timesfm==1.1.0) (3.0.48)\n",
            "Requirement already satisfied: ml-dtypes>=0.2.0 in /usr/local/lib/python3.10/dist-packages (from jax>=0.4.26->jax[cuda12]>=0.4.26->timesfm==1.1.0) (0.4.1)\n",
            "Requirement already satisfied: opt-einsum in /usr/local/lib/python3.10/dist-packages (from jax>=0.4.26->jax[cuda12]>=0.4.26->timesfm==1.1.0) (3.4.0)\n",
            "Requirement already satisfied: scipy>=1.10 in /usr/local/lib/python3.10/dist-packages (from jax>=0.4.26->jax[cuda12]>=0.4.26->timesfm==1.1.0) (1.13.1)\n",
            "Requirement already satisfied: jax-cuda12-plugin<=0.4.33,>=0.4.33 in /usr/local/lib/python3.10/dist-packages (from jax-cuda12-plugin[with_cuda]<=0.4.33,>=0.4.33; extra == \"cuda12\"->jax[cuda12]>=0.4.26->timesfm==1.1.0) (0.4.33)\n",
            "Requirement already satisfied: python-dateutil>=2.8.2 in /usr/local/lib/python3.10/dist-packages (from pandas>=2.1.4->timesfm==1.1.0) (2.8.2)\n",
            "Requirement already satisfied: tzdata>=2022.7 in /usr/local/lib/python3.10/dist-packages (from pandas>=2.1.4->timesfm==1.1.0) (2024.2)\n",
            "Collecting clu==0.0.11 (from paxml>=1.4.0->timesfm==1.1.0)\n",
            "  Downloading clu-0.0.11-py3-none-any.whl.metadata (1.9 kB)\n",
            "Collecting etils==1.7.0 (from paxml>=1.4.0->timesfm==1.1.0)\n",
            "  Downloading etils-1.7.0-py3-none-any.whl.metadata (6.4 kB)\n",
            "Collecting flax==0.8.2 (from paxml>=1.4.0->timesfm==1.1.0)\n",
            "  Downloading flax-0.8.2-py3-none-any.whl.metadata (10 kB)\n",
            "Collecting graphviz==0.20.1 (from paxml>=1.4.0->timesfm==1.1.0)\n",
            "  Downloading graphviz-0.20.1-py3-none-any.whl.metadata (12 kB)\n",
            "INFO: pip is looking at multiple versions of paxml to determine which version is compatible with other requirements. This could take a while.\n",
            "Collecting jax[cuda12]>=0.4.26 (from timesfm==1.1.0)\n",
            "  Downloading jax-0.4.35-py3-none-any.whl.metadata (22 kB)\n",
            "INFO: pip is looking at multiple versions of jax[cuda12] to determine which version is compatible with other requirements. This could take a while.\n",
            "  Downloading jax-0.4.34-py3-none-any.whl.metadata (22 kB)\n",
            "  Downloading jax-0.4.33-py3-none-any.whl.metadata (22 kB)\n",
            "  Downloading jax-0.4.31-py3-none-any.whl.metadata (22 kB)\n",
            "  Downloading jax-0.4.30-py3-none-any.whl.metadata (22 kB)\n",
            "  Downloading jax-0.4.29-py3-none-any.whl.metadata (23 kB)\n",
            "  Downloading jax-0.4.28-py3-none-any.whl.metadata (23 kB)\n",
            "INFO: pip is still looking at multiple versions of jax[cuda12] to determine which version is compatible with other requirements. This could take a while.\n",
            "  Downloading jax-0.4.27-py3-none-any.whl.metadata (23 kB)\n",
            "  Downloading jax-0.4.26-py3-none-any.whl.metadata (23 kB)\n",
            "Collecting jaxlib>=0.4.26 (from timesfm==1.1.0)\n",
            "  Downloading jaxlib-0.4.35-cp310-cp310-manylinux2014_x86_64.whl.metadata (983 bytes)\n",
            "  Downloading jaxlib-0.4.34-cp310-cp310-manylinux2014_x86_64.whl.metadata (983 bytes)\n",
            "Collecting jax-cuda12-plugin<=0.4.35,>=0.4.34 (from jax-cuda12-plugin[with_cuda]<=0.4.35,>=0.4.34; extra == \"cuda12\"->jax[cuda12]>=0.4.26->timesfm==1.1.0)\n",
            "  Downloading jax_cuda12_plugin-0.4.35-cp310-cp310-manylinux2014_x86_64.whl.metadata (1.2 kB)\n",
            "Collecting jax-cuda12-plugin<=0.4.34,>=0.4.34 (from jax-cuda12-plugin[with_cuda]<=0.4.34,>=0.4.34; extra == \"cuda12\"->jax[cuda12]>=0.4.26->timesfm==1.1.0)\n",
            "  Downloading jax_cuda12_plugin-0.4.34-cp310-cp310-manylinux2014_x86_64.whl.metadata (1.2 kB)\n",
            "INFO: This is taking longer than usual. You might need to provide the dependency resolver with stricter constraints to reduce runtime. See https://pip.pypa.io/warnings/backtracking for guidance. If you want to abort this run, press Ctrl + C.\n",
            "Collecting jaxlib>=0.4.26 (from timesfm==1.1.0)\n",
            "  Downloading jaxlib-0.4.31-cp310-cp310-manylinux2014_x86_64.whl.metadata (983 bytes)\n",
            "Collecting jax-cuda12-plugin<=0.4.31,>=0.4.31 (from jax-cuda12-plugin[with_cuda]<=0.4.31,>=0.4.31; extra == \"cuda12\"->jax[cuda12]>=0.4.26->timesfm==1.1.0)\n",
            "  Downloading jax_cuda12_plugin-0.4.31-cp310-cp310-manylinux2014_x86_64.whl.metadata (1.2 kB)\n",
            "Collecting jaxlib>=0.4.26 (from timesfm==1.1.0)\n",
            "  Downloading jaxlib-0.4.30-cp310-cp310-manylinux2014_x86_64.whl.metadata (1.0 kB)\n",
            "Collecting jax-cuda12-plugin<=0.4.30,>=0.4.30 (from jax-cuda12-plugin[with_cuda]<=0.4.30,>=0.4.30; extra == \"cuda12\"->jax[cuda12]>=0.4.26->timesfm==1.1.0)\n",
            "  Downloading jax_cuda12_plugin-0.4.30-cp310-cp310-manylinux2014_x86_64.whl.metadata (1.3 kB)\n",
            "INFO: pip is still looking at multiple versions of paxml to determine which version is compatible with other requirements. This could take a while.\n",
            "Collecting jaxlib>=0.4.26 (from timesfm==1.1.0)\n",
            "  Downloading jaxlib-0.4.29-cp310-cp310-manylinux2014_x86_64.whl.metadata (1.8 kB)\n",
            "Collecting jax-cuda12-plugin==0.4.29 (from jax[cuda12]>=0.4.26->timesfm==1.1.0)\n",
            "  Downloading jax_cuda12_plugin-0.4.29-cp310-cp310-manylinux2014_x86_64.whl.metadata (560 bytes)\n",
            "Requirement already satisfied: nvidia-cublas-cu12>=12.1.3.1 in /usr/local/lib/python3.10/dist-packages (from jax[cuda12]>=0.4.26->timesfm==1.1.0) (12.6.3.3)\n",
            "Requirement already satisfied: nvidia-cuda-cupti-cu12>=12.1.105 in /usr/local/lib/python3.10/dist-packages (from jax[cuda12]>=0.4.26->timesfm==1.1.0) (12.6.80)\n",
            "Requirement already satisfied: nvidia-cuda-nvcc-cu12>=12.1.105 in /usr/local/lib/python3.10/dist-packages (from jax[cuda12]>=0.4.26->timesfm==1.1.0) (12.6.77)\n",
            "Requirement already satisfied: nvidia-cuda-runtime-cu12>=12.1.105 in /usr/local/lib/python3.10/dist-packages (from jax[cuda12]>=0.4.26->timesfm==1.1.0) (12.6.77)\n",
            "Requirement already satisfied: nvidia-cudnn-cu12<10.0,>=9.0 in /usr/local/lib/python3.10/dist-packages (from jax[cuda12]>=0.4.26->timesfm==1.1.0) (9.5.1.17)\n",
            "Requirement already satisfied: nvidia-cufft-cu12>=11.0.2.54 in /usr/local/lib/python3.10/dist-packages (from jax[cuda12]>=0.4.26->timesfm==1.1.0) (11.3.0.4)\n",
            "Requirement already satisfied: nvidia-cusolver-cu12>=11.4.5.107 in /usr/local/lib/python3.10/dist-packages (from jax[cuda12]>=0.4.26->timesfm==1.1.0) (11.7.1.2)\n",
            "Requirement already satisfied: nvidia-cusparse-cu12>=12.1.0.106 in /usr/local/lib/python3.10/dist-packages (from jax[cuda12]>=0.4.26->timesfm==1.1.0) (12.5.4.2)\n",
            "Requirement already satisfied: nvidia-nccl-cu12>=2.18.1 in /usr/local/lib/python3.10/dist-packages (from jax[cuda12]>=0.4.26->timesfm==1.1.0) (2.23.4)\n",
            "Requirement already satisfied: nvidia-nvjitlink-cu12>=12.1.105 in /usr/local/lib/python3.10/dist-packages (from jax[cuda12]>=0.4.26->timesfm==1.1.0) (12.6.77)\n",
            "Collecting jax-cuda12-pjrt==0.4.29 (from jax-cuda12-plugin==0.4.29->jax[cuda12]>=0.4.26->timesfm==1.1.0)\n",
            "  Downloading jax_cuda12_pjrt-0.4.29-py3-none-manylinux2014_x86_64.whl.metadata (349 bytes)\n",
            "Collecting jaxlib>=0.4.26 (from timesfm==1.1.0)\n",
            "  Downloading jaxlib-0.4.28-cp310-cp310-manylinux2014_x86_64.whl.metadata (1.8 kB)\n",
            "Collecting jax-cuda12-plugin==0.4.28 (from jax[cuda12]>=0.4.26->timesfm==1.1.0)\n",
            "  Downloading jax_cuda12_plugin-0.4.28-cp310-cp310-manylinux2014_x86_64.whl.metadata (560 bytes)\n",
            "Collecting nvidia-cudnn-cu12<9.0,>=8.9.2.26 (from jax[cuda12]>=0.4.26->timesfm==1.1.0)\n",
            "  Downloading nvidia_cudnn_cu12-8.9.7.29-py3-none-manylinux1_x86_64.whl.metadata (1.6 kB)\n",
            "Collecting jax-cuda12-pjrt==0.4.28 (from jax-cuda12-plugin==0.4.28->jax[cuda12]>=0.4.26->timesfm==1.1.0)\n",
            "  Downloading jax_cuda12_pjrt-0.4.28-py3-none-manylinux2014_x86_64.whl.metadata (349 bytes)\n",
            "Collecting jaxlib>=0.4.26 (from timesfm==1.1.0)\n",
            "  Downloading jaxlib-0.4.27-cp310-cp310-manylinux2014_x86_64.whl.metadata (1.8 kB)\n",
            "Collecting jax-cuda12-plugin==0.4.27 (from jax[cuda12]>=0.4.26->timesfm==1.1.0)\n",
            "  Downloading jax_cuda12_plugin-0.4.27-cp310-cp310-manylinux2014_x86_64.whl.metadata (560 bytes)\n",
            "Collecting jax-cuda12-pjrt==0.4.27 (from jax-cuda12-plugin==0.4.27->jax[cuda12]>=0.4.26->timesfm==1.1.0)\n",
            "  Downloading jax_cuda12_pjrt-0.4.27-py3-none-manylinux2014_x86_64.whl.metadata (349 bytes)\n",
            "INFO: This is taking longer than usual. You might need to provide the dependency resolver with stricter constraints to reduce runtime. See https://pip.pypa.io/warnings/backtracking for guidance. If you want to abort this run, press Ctrl + C.\n",
            "Collecting jaxlib>=0.4.26 (from timesfm==1.1.0)\n",
            "  Downloading jaxlib-0.4.26-cp310-cp310-manylinux2014_x86_64.whl.metadata (1.8 kB)\n",
            "Collecting jax-cuda12-plugin==0.4.26 (from jax[cuda12]>=0.4.26->timesfm==1.1.0)\n",
            "  Downloading jax_cuda12_plugin-0.4.26-cp310-cp310-manylinux2014_x86_64.whl.metadata (560 bytes)\n",
            "Collecting jax-cuda12-pjrt==0.4.26 (from jax-cuda12-plugin==0.4.26->jax[cuda12]>=0.4.26->timesfm==1.1.0)\n",
            "  Downloading jax_cuda12_pjrt-0.4.26-py3-none-manylinux2014_x86_64.whl.metadata (349 bytes)\n",
            "Collecting lingvo==0.12.7 (from paxml>=1.4.0->timesfm==1.1.0)\n",
            "  Downloading lingvo-0.12.7-cp310-cp310-manylinux_2_17_x86_64.manylinux2014_x86_64.whl.metadata (1.5 kB)\n",
            "Collecting orbax-checkpoint==0.5.9 (from paxml>=1.4.0->timesfm==1.1.0)\n",
            "  Downloading orbax_checkpoint-0.5.9-py3-none-any.whl.metadata (1.7 kB)\n",
            "Collecting praxis==1.4.0 (from paxml>=1.4.0->timesfm==1.1.0)\n",
            "  Downloading praxis-1.4.0-py3-none-any.whl.metadata (1.2 kB)\n",
            "Collecting protobuf==3.19.6 (from paxml>=1.4.0->timesfm==1.1.0)\n",
            "  Downloading protobuf-3.19.6-cp310-cp310-manylinux_2_17_x86_64.manylinux2014_x86_64.whl.metadata (787 bytes)\n",
            "Collecting pyglove==0.4.4 (from paxml>=1.4.0->timesfm==1.1.0)\n",
            "  Downloading pyglove-0.4.4-py3-none-any.whl.metadata (6.7 kB)\n",
            "Collecting seqio-nightly==0.0.17.dev20231010 (from paxml>=1.4.0->timesfm==1.1.0)\n",
            "  Downloading seqio_nightly-0.0.17.dev20231010-py3-none-any.whl.metadata (51 kB)\n",
            "\u001b[2K     \u001b[90m━━━━━━━━━━━━━━━━━━━━━━━━━━━━━━━━━━━━━━━━\u001b[0m \u001b[32m51.9/51.9 kB\u001b[0m \u001b[31m4.7 MB/s\u001b[0m eta \u001b[36m0:00:00\u001b[0m\n",
            "\u001b[?25hCollecting t5==0.9.4 (from paxml>=1.4.0->timesfm==1.1.0)\n",
            "  Downloading t5-0.9.4-py2.py3-none-any.whl.metadata (25 kB)\n",
            "Collecting tensorflow-datasets==4.8.3 (from paxml>=1.4.0->timesfm==1.1.0)\n",
            "  Downloading tensorflow_datasets-4.8.3-py3-none-any.whl.metadata (8.9 kB)\n",
            "Collecting tensorflow-metadata==1.12.0 (from paxml>=1.4.0->timesfm==1.1.0)\n",
            "  Downloading tensorflow_metadata-1.12.0-py3-none-any.whl.metadata (2.2 kB)\n",
            "Collecting tensorflow-text~=2.9.0 (from paxml>=1.4.0->timesfm==1.1.0)\n",
            "  Downloading tensorflow_text-2.9.0-cp310-cp310-manylinux_2_17_x86_64.manylinux2014_x86_64.whl.metadata (2.0 kB)\n",
            "Collecting tensorflow~=2.9.2 (from paxml>=1.4.0->timesfm==1.1.0)\n",
            "  Downloading tensorflow-2.9.3-cp310-cp310-manylinux_2_17_x86_64.manylinux2014_x86_64.whl.metadata (3.0 kB)\n",
            "Collecting tensorstore==0.1.55 (from paxml>=1.4.0->timesfm==1.1.0)\n",
            "  Downloading tensorstore-0.1.55-cp310-cp310-manylinux_2_17_x86_64.manylinux2014_x86_64.whl.metadata (3.0 kB)\n",
            "Collecting tfds-nightly==4.8.3.dev202303280045 (from paxml>=1.4.0->timesfm==1.1.0)\n",
            "  Downloading tfds_nightly-4.8.3.dev202303280045-py3-none-any.whl.metadata (9.0 kB)\n",
            "Collecting ml-collections (from clu==0.0.11->paxml>=1.4.0->timesfm==1.1.0)\n",
            "  Downloading ml_collections-0.1.1.tar.gz (77 kB)\n",
            "\u001b[2K     \u001b[90m━━━━━━━━━━━━━━━━━━━━━━━━━━━━━━━━━━━━━━━━\u001b[0m \u001b[32m77.9/77.9 kB\u001b[0m \u001b[31m7.9 MB/s\u001b[0m eta \u001b[36m0:00:00\u001b[0m\n",
            "\u001b[?25h  Preparing metadata (setup.py) ... \u001b[?25l\u001b[?25hdone\n",
            "Requirement already satisfied: wrapt in /usr/local/lib/python3.10/dist-packages (from clu==0.0.11->paxml>=1.4.0->timesfm==1.1.0) (1.16.0)\n",
            "Requirement already satisfied: msgpack in /usr/local/lib/python3.10/dist-packages (from flax==0.8.2->paxml>=1.4.0->timesfm==1.1.0) (1.1.0)\n",
            "Requirement already satisfied: optax in /usr/local/lib/python3.10/dist-packages (from flax==0.8.2->paxml>=1.4.0->timesfm==1.1.0) (0.2.3)\n",
            "Requirement already satisfied: rich>=11.1 in /usr/local/lib/python3.10/dist-packages (from flax==0.8.2->paxml>=1.4.0->timesfm==1.1.0) (13.9.3)\n",
            "Requirement already satisfied: attrs in /usr/local/lib/python3.10/dist-packages (from lingvo==0.12.7->paxml>=1.4.0->timesfm==1.1.0) (24.2.0)\n",
            "Collecting graph-compression-google-research (from lingvo==0.12.7->paxml>=1.4.0->timesfm==1.1.0)\n",
            "  Downloading graph_compression_google_research-0.0.4-py3-none-any.whl.metadata (8.5 kB)\n",
            "Requirement already satisfied: ipykernel in /usr/local/lib/python3.10/dist-packages (from lingvo==0.12.7->paxml>=1.4.0->timesfm==1.1.0) (5.5.6)\n",
            "Collecting jupyter-http-over-ws (from lingvo==0.12.7->paxml>=1.4.0->timesfm==1.1.0)\n",
            "  Downloading jupyter_http_over_ws-0.0.8-py2.py3-none-any.whl.metadata (1.1 kB)\n",
            "Collecting jupyter (from lingvo==0.12.7->paxml>=1.4.0->timesfm==1.1.0)\n",
            "  Downloading jupyter-1.1.1-py2.py3-none-any.whl.metadata (2.0 kB)\n",
            "Requirement already satisfied: matplotlib in /usr/local/lib/python3.10/dist-packages (from lingvo==0.12.7->paxml>=1.4.0->timesfm==1.1.0) (3.8.0)\n",
            "Collecting model-pruning-google-research (from lingvo==0.12.7->paxml>=1.4.0->timesfm==1.1.0)\n",
            "  Downloading model_pruning_google_research-0.0.5-py3-none-any.whl.metadata (627 bytes)\n",
            "Requirement already satisfied: Pillow in /usr/local/lib/python3.10/dist-packages (from lingvo==0.12.7->paxml>=1.4.0->timesfm==1.1.0) (10.4.0)\n",
            "Requirement already satisfied: sentencepiece in /usr/local/lib/python3.10/dist-packages (from lingvo==0.12.7->paxml>=1.4.0->timesfm==1.1.0) (0.2.0)\n",
            "Requirement already satisfied: sympy in /usr/local/lib/python3.10/dist-packages (from lingvo==0.12.7->paxml>=1.4.0->timesfm==1.1.0) (1.13.1)\n",
            "Requirement already satisfied: tensorflow-hub in /usr/local/lib/python3.10/dist-packages (from lingvo==0.12.7->paxml>=1.4.0->timesfm==1.1.0) (0.16.1)\n",
            "Requirement already satisfied: nest_asyncio in /usr/local/lib/python3.10/dist-packages (from orbax-checkpoint==0.5.9->paxml>=1.4.0->timesfm==1.1.0) (1.6.0)\n",
            "Requirement already satisfied: chex>=0.1.85 in /usr/local/lib/python3.10/dist-packages (from praxis==1.4.0->paxml>=1.4.0->timesfm==1.1.0) (0.1.87)\n",
            "Collecting einops==0.7.0 (from praxis==1.4.0->paxml>=1.4.0->timesfm==1.1.0)\n",
            "  Downloading einops-0.7.0-py3-none-any.whl.metadata (13 kB)\n",
            "Collecting fiddle==0.3.0 (from praxis==1.4.0->paxml>=1.4.0->timesfm==1.1.0)\n",
            "  Downloading fiddle-0.3.0-py3-none-any.whl.metadata (2.3 kB)\n",
            "Collecting jax-bitempered-loss==0.0.2 (from praxis==1.4.0->paxml>=1.4.0->timesfm==1.1.0)\n",
            "  Downloading jax_bitempered_loss-0.0.2-py3-none-any.whl.metadata (4.0 kB)\n",
            "Collecting jaxtyping==0.2.28 (from praxis==1.4.0->paxml>=1.4.0->timesfm==1.1.0)\n",
            "  Downloading jaxtyping-0.2.28-py3-none-any.whl.metadata (6.4 kB)\n",
            "Collecting opt-einsum (from jax[cuda12]>=0.4.26->timesfm==1.1.0)\n",
            "  Downloading opt_einsum-3.3.0-py3-none-any.whl.metadata (6.5 kB)\n",
            "Collecting optax-shampoo==0.0.6 (from praxis==1.4.0->paxml>=1.4.0->timesfm==1.1.0)\n",
            "  Downloading optax_shampoo-0.0.6-py3-none-any.whl.metadata (1.4 kB)\n",
            "Collecting optax (from flax==0.8.2->paxml>=1.4.0->timesfm==1.1.0)\n",
            "  Downloading optax-0.2.2-py3-none-any.whl.metadata (8.1 kB)\n",
            "Collecting sentencepiece (from lingvo==0.12.7->paxml>=1.4.0->timesfm==1.1.0)\n",
            "  Downloading sentencepiece-0.1.99-cp310-cp310-manylinux_2_17_x86_64.manylinux2014_x86_64.whl.metadata (7.7 kB)\n",
            "Collecting typeguard==2.13.3 (from praxis==1.4.0->paxml>=1.4.0->timesfm==1.1.0)\n",
            "  Downloading typeguard-2.13.3-py3-none-any.whl.metadata (3.6 kB)\n",
            "Requirement already satisfied: docstring-parser>=0.12 in /usr/local/lib/python3.10/dist-packages (from pyglove==0.4.4->paxml>=1.4.0->timesfm==1.1.0) (0.16)\n",
            "Requirement already satisfied: editdistance in /usr/local/lib/python3.10/dist-packages (from seqio-nightly==0.0.17.dev20231010->paxml>=1.4.0->timesfm==1.1.0) (0.8.1)\n",
            "Requirement already satisfied: babel in /usr/local/lib/python3.10/dist-packages (from t5==0.9.4->paxml>=1.4.0->timesfm==1.1.0) (2.16.0)\n",
            "Requirement already satisfied: immutabledict in /usr/local/lib/python3.10/dist-packages (from t5==0.9.4->paxml>=1.4.0->timesfm==1.1.0) (4.2.0)\n",
            "Requirement already satisfied: gin-config in /usr/local/lib/python3.10/dist-packages (from t5==0.9.4->paxml>=1.4.0->timesfm==1.1.0) (0.5.0)\n",
            "Collecting mesh-tensorflow>=0.1.13 (from mesh-tensorflow[transformer]>=0.1.13->t5==0.9.4->paxml>=1.4.0->timesfm==1.1.0)\n",
            "  Downloading mesh_tensorflow-0.1.21-py3-none-any.whl.metadata (1.0 kB)\n",
            "Requirement already satisfied: nltk in /usr/local/lib/python3.10/dist-packages (from t5==0.9.4->paxml>=1.4.0->timesfm==1.1.0) (3.8.1)\n",
            "Collecting rouge-score>=0.1.2 (from t5==0.9.4->paxml>=1.4.0->timesfm==1.1.0)\n",
            "  Downloading rouge_score-0.1.2.tar.gz (17 kB)\n",
            "  Preparing metadata (setup.py) ... \u001b[?25l\u001b[?25hdone\n",
            "Collecting sacrebleu (from t5==0.9.4->paxml>=1.4.0->timesfm==1.1.0)\n",
            "  Downloading sacrebleu-2.4.3-py3-none-any.whl.metadata (51 kB)\n",
            "\u001b[2K     \u001b[90m━━━━━━━━━━━━━━━━━━━━━━━━━━━━━━━━━━━━━━━━\u001b[0m \u001b[32m51.8/51.8 kB\u001b[0m \u001b[31m5.4 MB/s\u001b[0m eta \u001b[36m0:00:00\u001b[0m\n",
            "\u001b[?25hRequirement already satisfied: transformers>=2.7.0 in /usr/local/lib/python3.10/dist-packages (from t5==0.9.4->paxml>=1.4.0->timesfm==1.1.0) (4.44.2)\n",
            "Requirement already satisfied: click in /usr/local/lib/python3.10/dist-packages (from tensorflow-datasets==4.8.3->paxml>=1.4.0->timesfm==1.1.0) (8.1.7)\n",
            "Requirement already satisfied: dm-tree in /usr/local/lib/python3.10/dist-packages (from tensorflow-datasets==4.8.3->paxml>=1.4.0->timesfm==1.1.0) (0.1.8)\n",
            "Requirement already satisfied: promise in /usr/local/lib/python3.10/dist-packages (from tensorflow-datasets==4.8.3->paxml>=1.4.0->timesfm==1.1.0) (2.3)\n",
            "Requirement already satisfied: psutil in /usr/local/lib/python3.10/dist-packages (from tensorflow-datasets==4.8.3->paxml>=1.4.0->timesfm==1.1.0) (5.9.5)\n",
            "Requirement already satisfied: termcolor in /usr/local/lib/python3.10/dist-packages (from tensorflow-datasets==4.8.3->paxml>=1.4.0->timesfm==1.1.0) (2.5.0)\n",
            "Requirement already satisfied: toml in /usr/local/lib/python3.10/dist-packages (from tensorflow-datasets==4.8.3->paxml>=1.4.0->timesfm==1.1.0) (0.10.2)\n",
            "Requirement already satisfied: googleapis-common-protos<2,>=1.52.0 in /usr/local/lib/python3.10/dist-packages (from tensorflow-metadata==1.12.0->paxml>=1.4.0->timesfm==1.1.0) (1.65.0)\n",
            "Requirement already satisfied: array-record in /usr/local/lib/python3.10/dist-packages (from tfds-nightly==4.8.3.dev202303280045->paxml>=1.4.0->timesfm==1.1.0) (0.5.1)\n",
            "Collecting libcst (from fiddle==0.3.0->praxis==1.4.0->paxml>=1.4.0->timesfm==1.1.0)\n",
            "  Downloading libcst-1.5.0-cp310-cp310-manylinux_2_17_x86_64.manylinux2014_x86_64.whl.metadata (17 kB)\n",
            "Requirement already satisfied: charset-normalizer<4,>=2 in /usr/local/lib/python3.10/dist-packages (from requests>=2.31->yfinance) (3.4.0)\n",
            "Requirement already satisfied: idna<4,>=2.5 in /usr/local/lib/python3.10/dist-packages (from requests>=2.31->yfinance) (3.10)\n",
            "Requirement already satisfied: urllib3<3,>=1.21.1 in /usr/local/lib/python3.10/dist-packages (from requests>=2.31->yfinance) (2.2.3)\n",
            "Requirement already satisfied: certifi>=2017.4.17 in /usr/local/lib/python3.10/dist-packages (from requests>=2.31->yfinance) (2024.8.30)\n",
            "Requirement already satisfied: joblib>=1.2.0 in /usr/local/lib/python3.10/dist-packages (from scikit-learn>=1.2.2->timesfm==1.1.0) (1.4.2)\n",
            "Requirement already satisfied: threadpoolctl>=3.1.0 in /usr/local/lib/python3.10/dist-packages (from scikit-learn>=1.2.2->timesfm==1.1.0) (3.5.0)\n",
            "Requirement already satisfied: shellingham>=1.3.0 in /usr/local/lib/python3.10/dist-packages (from typer>=0.12.3->timesfm==1.1.0) (1.5.4)\n",
            "Requirement already satisfied: docker-pycreds>=0.4.0 in /usr/local/lib/python3.10/dist-packages (from wandb>=0.17.5->timesfm==1.1.0) (0.4.0)\n",
            "Requirement already satisfied: gitpython!=3.1.29,>=1.0.0 in /usr/local/lib/python3.10/dist-packages (from wandb>=0.17.5->timesfm==1.1.0) (3.1.43)\n",
            "Requirement already satisfied: sentry-sdk>=2.0.0 in /usr/local/lib/python3.10/dist-packages (from wandb>=0.17.5->timesfm==1.1.0) (2.17.0)\n",
            "Requirement already satisfied: setproctitle in /usr/local/lib/python3.10/dist-packages (from wandb>=0.17.5->timesfm==1.1.0) (1.3.3)\n",
            "Requirement already satisfied: setuptools in /usr/local/lib/python3.10/dist-packages (from wandb>=0.17.5->timesfm==1.1.0) (75.1.0)\n",
            "Requirement already satisfied: gitdb<5,>=4.0.1 in /usr/local/lib/python3.10/dist-packages (from gitpython!=3.1.29,>=1.0.0->wandb>=0.17.5->timesfm==1.1.0) (4.0.11)\n",
            "Collecting nvidia-cuda-nvrtc-cu12 (from nvidia-cudnn-cu12<9.0,>=8.9.2.26->jax[cuda12]>=0.4.26->timesfm==1.1.0)\n",
            "  Downloading nvidia_cuda_nvrtc_cu12-12.6.77-py3-none-manylinux2014_x86_64.whl.metadata (1.5 kB)\n",
            "Requirement already satisfied: markdown-it-py>=2.2.0 in /usr/local/lib/python3.10/dist-packages (from rich>=11.1->flax==0.8.2->paxml>=1.4.0->timesfm==1.1.0) (3.0.0)\n",
            "Requirement already satisfied: pygments<3.0.0,>=2.13.0 in /usr/local/lib/python3.10/dist-packages (from rich>=11.1->flax==0.8.2->paxml>=1.4.0->timesfm==1.1.0) (2.18.0)\n",
            "Requirement already satisfied: astunparse>=1.6.0 in /usr/local/lib/python3.10/dist-packages (from tensorflow~=2.9.2->paxml>=1.4.0->timesfm==1.1.0) (1.6.3)\n",
            "Collecting flatbuffers<2,>=1.12 (from tensorflow~=2.9.2->paxml>=1.4.0->timesfm==1.1.0)\n",
            "  Downloading flatbuffers-1.12-py2.py3-none-any.whl.metadata (872 bytes)\n",
            "Collecting gast<=0.4.0,>=0.2.1 (from tensorflow~=2.9.2->paxml>=1.4.0->timesfm==1.1.0)\n",
            "  Downloading gast-0.4.0-py3-none-any.whl.metadata (1.1 kB)\n",
            "Requirement already satisfied: google-pasta>=0.1.1 in /usr/local/lib/python3.10/dist-packages (from tensorflow~=2.9.2->paxml>=1.4.0->timesfm==1.1.0) (0.2.0)\n",
            "Requirement already satisfied: grpcio<2.0,>=1.24.3 in /usr/local/lib/python3.10/dist-packages (from tensorflow~=2.9.2->paxml>=1.4.0->timesfm==1.1.0) (1.64.1)\n",
            "Requirement already satisfied: h5py>=2.9.0 in /usr/local/lib/python3.10/dist-packages (from tensorflow~=2.9.2->paxml>=1.4.0->timesfm==1.1.0) (3.12.1)\n",
            "Collecting keras<2.10.0,>=2.9.0rc0 (from tensorflow~=2.9.2->paxml>=1.4.0->timesfm==1.1.0)\n",
            "  Downloading keras-2.9.0-py2.py3-none-any.whl.metadata (1.3 kB)\n",
            "Collecting keras-preprocessing>=1.1.1 (from tensorflow~=2.9.2->paxml>=1.4.0->timesfm==1.1.0)\n",
            "  Downloading Keras_Preprocessing-1.1.2-py2.py3-none-any.whl.metadata (1.9 kB)\n",
            "Requirement already satisfied: libclang>=13.0.0 in /usr/local/lib/python3.10/dist-packages (from tensorflow~=2.9.2->paxml>=1.4.0->timesfm==1.1.0) (18.1.1)\n",
            "Collecting tensorboard<2.10,>=2.9 (from tensorflow~=2.9.2->paxml>=1.4.0->timesfm==1.1.0)\n",
            "  Downloading tensorboard-2.9.1-py3-none-any.whl.metadata (1.9 kB)\n",
            "Requirement already satisfied: tensorflow-io-gcs-filesystem>=0.23.1 in /usr/local/lib/python3.10/dist-packages (from tensorflow~=2.9.2->paxml>=1.4.0->timesfm==1.1.0) (0.37.1)\n",
            "Collecting tensorflow-estimator<2.10.0,>=2.9.0rc0 (from tensorflow~=2.9.2->paxml>=1.4.0->timesfm==1.1.0)\n",
            "  Downloading tensorflow_estimator-2.9.0-py2.py3-none-any.whl.metadata (1.3 kB)\n",
            "Requirement already satisfied: wheel<1.0,>=0.23.0 in /usr/local/lib/python3.10/dist-packages (from astunparse>=1.6.0->tensorflow~=2.9.2->paxml>=1.4.0->timesfm==1.1.0) (0.44.0)\n",
            "INFO: pip is looking at multiple versions of chex to determine which version is compatible with other requirements. This could take a while.\n",
            "Collecting chex>=0.1.85 (from praxis==1.4.0->paxml>=1.4.0->timesfm==1.1.0)\n",
            "  Downloading chex-0.1.86-py3-none-any.whl.metadata (17 kB)\n",
            "Requirement already satisfied: toolz>=0.9.0 in /usr/local/lib/python3.10/dist-packages (from chex>=0.1.85->praxis==1.4.0->paxml>=1.4.0->timesfm==1.1.0) (0.12.1)\n",
            "Requirement already satisfied: importlib_resources in /usr/local/lib/python3.10/dist-packages (from etils[enp,epath]>=0.9.0->tensorflow-datasets==4.8.3->paxml>=1.4.0->timesfm==1.1.0) (6.4.5)\n",
            "Requirement already satisfied: zipp in /usr/local/lib/python3.10/dist-packages (from etils[enp,epath]>=0.9.0->tensorflow-datasets==4.8.3->paxml>=1.4.0->timesfm==1.1.0) (3.20.2)\n",
            "Requirement already satisfied: smmap<6,>=3.0.1 in /usr/local/lib/python3.10/dist-packages (from gitdb<5,>=4.0.1->gitpython!=3.1.29,>=1.0.0->wandb>=0.17.5->timesfm==1.1.0) (5.0.1)\n",
            "INFO: pip is looking at multiple versions of googleapis-common-protos to determine which version is compatible with other requirements. This could take a while.\n",
            "Collecting googleapis-common-protos<2,>=1.52.0 (from tensorflow-metadata==1.12.0->paxml>=1.4.0->timesfm==1.1.0)\n",
            "  Downloading googleapis_common_protos-1.64.0-py2.py3-none-any.whl.metadata (1.5 kB)\n",
            "  Downloading googleapis_common_protos-1.63.2-py2.py3-none-any.whl.metadata (1.5 kB)\n",
            "  Downloading googleapis_common_protos-1.63.1-py2.py3-none-any.whl.metadata (1.5 kB)\n",
            "Requirement already satisfied: mdurl~=0.1 in /usr/local/lib/python3.10/dist-packages (from markdown-it-py>=2.2.0->rich>=11.1->flax==0.8.2->paxml>=1.4.0->timesfm==1.1.0) (0.1.2)\n",
            "Requirement already satisfied: future in /usr/local/lib/python3.10/dist-packages (from mesh-tensorflow>=0.1.13->mesh-tensorflow[transformer]>=0.1.13->t5==0.9.4->paxml>=1.4.0->timesfm==1.1.0) (1.0.0)\n",
            "Requirement already satisfied: wcwidth in /usr/local/lib/python3.10/dist-packages (from prompt-toolkit<4.0.0,>=3.0.1->InquirerPy==0.3.4->huggingface_hub[cli]>=0.23.0->timesfm==1.1.0) (0.2.13)\n",
            "Requirement already satisfied: google-auth<3,>=1.6.3 in /usr/local/lib/python3.10/dist-packages (from tensorboard<2.10,>=2.9->tensorflow~=2.9.2->paxml>=1.4.0->timesfm==1.1.0) (2.27.0)\n",
            "Collecting google-auth-oauthlib<0.5,>=0.4.1 (from tensorboard<2.10,>=2.9->tensorflow~=2.9.2->paxml>=1.4.0->timesfm==1.1.0)\n",
            "  Downloading google_auth_oauthlib-0.4.6-py2.py3-none-any.whl.metadata (2.7 kB)\n",
            "Requirement already satisfied: markdown>=2.6.8 in /usr/local/lib/python3.10/dist-packages (from tensorboard<2.10,>=2.9->tensorflow~=2.9.2->paxml>=1.4.0->timesfm==1.1.0) (3.7)\n",
            "Collecting tensorboard-data-server<0.7.0,>=0.6.0 (from tensorboard<2.10,>=2.9->tensorflow~=2.9.2->paxml>=1.4.0->timesfm==1.1.0)\n",
            "  Downloading tensorboard_data_server-0.6.1-py3-none-manylinux2010_x86_64.whl.metadata (1.1 kB)\n",
            "Collecting tensorboard-plugin-wit>=1.6.0 (from tensorboard<2.10,>=2.9->tensorflow~=2.9.2->paxml>=1.4.0->timesfm==1.1.0)\n",
            "  Downloading tensorboard_plugin_wit-1.8.1-py3-none-any.whl.metadata (873 bytes)\n",
            "Requirement already satisfied: werkzeug>=1.0.1 in /usr/local/lib/python3.10/dist-packages (from tensorboard<2.10,>=2.9->tensorflow~=2.9.2->paxml>=1.4.0->timesfm==1.1.0) (3.0.6)\n",
            "Requirement already satisfied: tf-keras>=2.14.1 in /usr/local/lib/python3.10/dist-packages (from tensorflow-hub->lingvo==0.12.7->paxml>=1.4.0->timesfm==1.1.0) (2.17.0)\n",
            "Requirement already satisfied: regex!=2019.12.17 in /usr/local/lib/python3.10/dist-packages (from transformers>=2.7.0->t5==0.9.4->paxml>=1.4.0->timesfm==1.1.0) (2024.9.11)\n",
            "Requirement already satisfied: safetensors>=0.4.1 in /usr/local/lib/python3.10/dist-packages (from transformers>=2.7.0->t5==0.9.4->paxml>=1.4.0->timesfm==1.1.0) (0.4.5)\n",
            "Requirement already satisfied: tokenizers<0.20,>=0.19 in /usr/local/lib/python3.10/dist-packages (from transformers>=2.7.0->t5==0.9.4->paxml>=1.4.0->timesfm==1.1.0) (0.19.1)\n",
            "Requirement already satisfied: ipython-genutils in /usr/local/lib/python3.10/dist-packages (from ipykernel->lingvo==0.12.7->paxml>=1.4.0->timesfm==1.1.0) (0.2.0)\n",
            "Requirement already satisfied: ipython>=5.0.0 in /usr/local/lib/python3.10/dist-packages (from ipykernel->lingvo==0.12.7->paxml>=1.4.0->timesfm==1.1.0) (7.34.0)\n",
            "Requirement already satisfied: traitlets>=4.1.0 in /usr/local/lib/python3.10/dist-packages (from ipykernel->lingvo==0.12.7->paxml>=1.4.0->timesfm==1.1.0) (5.7.1)\n",
            "Requirement already satisfied: jupyter-client in /usr/local/lib/python3.10/dist-packages (from ipykernel->lingvo==0.12.7->paxml>=1.4.0->timesfm==1.1.0) (6.1.12)\n",
            "Requirement already satisfied: tornado>=4.2 in /usr/local/lib/python3.10/dist-packages (from ipykernel->lingvo==0.12.7->paxml>=1.4.0->timesfm==1.1.0) (6.3.3)\n",
            "Requirement already satisfied: notebook in /usr/local/lib/python3.10/dist-packages (from jupyter->lingvo==0.12.7->paxml>=1.4.0->timesfm==1.1.0) (6.5.5)\n",
            "Requirement already satisfied: jupyter-console in /usr/local/lib/python3.10/dist-packages (from jupyter->lingvo==0.12.7->paxml>=1.4.0->timesfm==1.1.0) (6.1.0)\n",
            "Requirement already satisfied: nbconvert in /usr/local/lib/python3.10/dist-packages (from jupyter->lingvo==0.12.7->paxml>=1.4.0->timesfm==1.1.0) (7.16.4)\n",
            "Requirement already satisfied: ipywidgets in /usr/local/lib/python3.10/dist-packages (from jupyter->lingvo==0.12.7->paxml>=1.4.0->timesfm==1.1.0) (7.7.1)\n",
            "Collecting jupyterlab (from jupyter->lingvo==0.12.7->paxml>=1.4.0->timesfm==1.1.0)\n",
            "  Downloading jupyterlab-4.3.0-py3-none-any.whl.metadata (16 kB)\n",
            "Requirement already satisfied: contourpy>=1.0.1 in /usr/local/lib/python3.10/dist-packages (from matplotlib->lingvo==0.12.7->paxml>=1.4.0->timesfm==1.1.0) (1.3.0)\n",
            "Requirement already satisfied: cycler>=0.10 in /usr/local/lib/python3.10/dist-packages (from matplotlib->lingvo==0.12.7->paxml>=1.4.0->timesfm==1.1.0) (0.12.1)\n",
            "Requirement already satisfied: fonttools>=4.22.0 in /usr/local/lib/python3.10/dist-packages (from matplotlib->lingvo==0.12.7->paxml>=1.4.0->timesfm==1.1.0) (4.54.1)\n",
            "Requirement already satisfied: kiwisolver>=1.0.1 in /usr/local/lib/python3.10/dist-packages (from matplotlib->lingvo==0.12.7->paxml>=1.4.0->timesfm==1.1.0) (1.4.7)\n",
            "Requirement already satisfied: pyparsing>=2.3.1 in /usr/local/lib/python3.10/dist-packages (from matplotlib->lingvo==0.12.7->paxml>=1.4.0->timesfm==1.1.0) (3.2.0)\n",
            "Collecting contextlib2 (from ml-collections->clu==0.0.11->paxml>=1.4.0->timesfm==1.1.0)\n",
            "  Downloading contextlib2-21.6.0-py2.py3-none-any.whl.metadata (4.1 kB)\n",
            "Collecting portalocker (from sacrebleu->t5==0.9.4->paxml>=1.4.0->timesfm==1.1.0)\n",
            "  Downloading portalocker-2.10.1-py3-none-any.whl.metadata (8.5 kB)\n",
            "Requirement already satisfied: tabulate>=0.8.9 in /usr/local/lib/python3.10/dist-packages (from sacrebleu->t5==0.9.4->paxml>=1.4.0->timesfm==1.1.0) (0.9.0)\n",
            "Collecting colorama (from sacrebleu->t5==0.9.4->paxml>=1.4.0->timesfm==1.1.0)\n",
            "  Downloading colorama-0.4.6-py2.py3-none-any.whl.metadata (17 kB)\n",
            "Requirement already satisfied: mpmath<1.4,>=1.1.0 in /usr/local/lib/python3.10/dist-packages (from sympy->lingvo==0.12.7->paxml>=1.4.0->timesfm==1.1.0) (1.3.0)\n",
            "Requirement already satisfied: cachetools<6.0,>=2.0.0 in /usr/local/lib/python3.10/dist-packages (from google-auth<3,>=1.6.3->tensorboard<2.10,>=2.9->tensorflow~=2.9.2->paxml>=1.4.0->timesfm==1.1.0) (5.5.0)\n",
            "Requirement already satisfied: pyasn1-modules>=0.2.1 in /usr/local/lib/python3.10/dist-packages (from google-auth<3,>=1.6.3->tensorboard<2.10,>=2.9->tensorflow~=2.9.2->paxml>=1.4.0->timesfm==1.1.0) (0.4.1)\n",
            "Requirement already satisfied: rsa<5,>=3.1.4 in /usr/local/lib/python3.10/dist-packages (from google-auth<3,>=1.6.3->tensorboard<2.10,>=2.9->tensorflow~=2.9.2->paxml>=1.4.0->timesfm==1.1.0) (4.9)\n",
            "Requirement already satisfied: requests-oauthlib>=0.7.0 in /usr/local/lib/python3.10/dist-packages (from google-auth-oauthlib<0.5,>=0.4.1->tensorboard<2.10,>=2.9->tensorflow~=2.9.2->paxml>=1.4.0->timesfm==1.1.0) (1.3.1)\n",
            "Collecting jedi>=0.16 (from ipython>=5.0.0->ipykernel->lingvo==0.12.7->paxml>=1.4.0->timesfm==1.1.0)\n",
            "  Downloading jedi-0.19.1-py2.py3-none-any.whl.metadata (22 kB)\n",
            "Requirement already satisfied: decorator in /usr/local/lib/python3.10/dist-packages (from ipython>=5.0.0->ipykernel->lingvo==0.12.7->paxml>=1.4.0->timesfm==1.1.0) (4.4.2)\n",
            "Requirement already satisfied: pickleshare in /usr/local/lib/python3.10/dist-packages (from ipython>=5.0.0->ipykernel->lingvo==0.12.7->paxml>=1.4.0->timesfm==1.1.0) (0.7.5)\n",
            "Requirement already satisfied: backcall in /usr/local/lib/python3.10/dist-packages (from ipython>=5.0.0->ipykernel->lingvo==0.12.7->paxml>=1.4.0->timesfm==1.1.0) (0.2.0)\n",
            "Requirement already satisfied: matplotlib-inline in /usr/local/lib/python3.10/dist-packages (from ipython>=5.0.0->ipykernel->lingvo==0.12.7->paxml>=1.4.0->timesfm==1.1.0) (0.1.7)\n",
            "Requirement already satisfied: pexpect>4.3 in /usr/local/lib/python3.10/dist-packages (from ipython>=5.0.0->ipykernel->lingvo==0.12.7->paxml>=1.4.0->timesfm==1.1.0) (4.9.0)\n",
            "Requirement already satisfied: jinja2 in /usr/local/lib/python3.10/dist-packages (from notebook->jupyter->lingvo==0.12.7->paxml>=1.4.0->timesfm==1.1.0) (3.1.4)\n",
            "Requirement already satisfied: pyzmq<25,>=17 in /usr/local/lib/python3.10/dist-packages (from notebook->jupyter->lingvo==0.12.7->paxml>=1.4.0->timesfm==1.1.0) (24.0.1)\n",
            "Requirement already satisfied: argon2-cffi in /usr/local/lib/python3.10/dist-packages (from notebook->jupyter->lingvo==0.12.7->paxml>=1.4.0->timesfm==1.1.0) (23.1.0)\n",
            "Requirement already satisfied: jupyter-core>=4.6.1 in /usr/local/lib/python3.10/dist-packages (from notebook->jupyter->lingvo==0.12.7->paxml>=1.4.0->timesfm==1.1.0) (5.7.2)\n",
            "Requirement already satisfied: nbformat in /usr/local/lib/python3.10/dist-packages (from notebook->jupyter->lingvo==0.12.7->paxml>=1.4.0->timesfm==1.1.0) (5.10.4)\n",
            "Requirement already satisfied: Send2Trash>=1.8.0 in /usr/local/lib/python3.10/dist-packages (from notebook->jupyter->lingvo==0.12.7->paxml>=1.4.0->timesfm==1.1.0) (1.8.3)\n",
            "Requirement already satisfied: terminado>=0.8.3 in /usr/local/lib/python3.10/dist-packages (from notebook->jupyter->lingvo==0.12.7->paxml>=1.4.0->timesfm==1.1.0) (0.18.1)\n",
            "Requirement already satisfied: prometheus-client in /usr/local/lib/python3.10/dist-packages (from notebook->jupyter->lingvo==0.12.7->paxml>=1.4.0->timesfm==1.1.0) (0.21.0)\n",
            "Requirement already satisfied: nbclassic>=0.4.7 in /usr/local/lib/python3.10/dist-packages (from notebook->jupyter->lingvo==0.12.7->paxml>=1.4.0->timesfm==1.1.0) (1.1.0)\n",
            "Requirement already satisfied: bleach!=5.0.0 in /usr/local/lib/python3.10/dist-packages (from nbconvert->jupyter->lingvo==0.12.7->paxml>=1.4.0->timesfm==1.1.0) (6.2.0)\n",
            "Requirement already satisfied: defusedxml in /usr/local/lib/python3.10/dist-packages (from nbconvert->jupyter->lingvo==0.12.7->paxml>=1.4.0->timesfm==1.1.0) (0.7.1)\n",
            "Requirement already satisfied: jupyterlab-pygments in /usr/local/lib/python3.10/dist-packages (from nbconvert->jupyter->lingvo==0.12.7->paxml>=1.4.0->timesfm==1.1.0) (0.3.0)\n",
            "Requirement already satisfied: markupsafe>=2.0 in /usr/local/lib/python3.10/dist-packages (from nbconvert->jupyter->lingvo==0.12.7->paxml>=1.4.0->timesfm==1.1.0) (3.0.2)\n",
            "Requirement already satisfied: mistune<4,>=2.0.3 in /usr/local/lib/python3.10/dist-packages (from nbconvert->jupyter->lingvo==0.12.7->paxml>=1.4.0->timesfm==1.1.0) (3.0.2)\n",
            "Requirement already satisfied: nbclient>=0.5.0 in /usr/local/lib/python3.10/dist-packages (from nbconvert->jupyter->lingvo==0.12.7->paxml>=1.4.0->timesfm==1.1.0) (0.10.0)\n",
            "Requirement already satisfied: pandocfilters>=1.4.1 in /usr/local/lib/python3.10/dist-packages (from nbconvert->jupyter->lingvo==0.12.7->paxml>=1.4.0->timesfm==1.1.0) (1.5.1)\n",
            "Requirement already satisfied: tinycss2 in /usr/local/lib/python3.10/dist-packages (from nbconvert->jupyter->lingvo==0.12.7->paxml>=1.4.0->timesfm==1.1.0) (1.4.0)\n",
            "INFO: pip is looking at multiple versions of tf-keras to determine which version is compatible with other requirements. This could take a while.\n",
            "Collecting tf-keras>=2.14.1 (from tensorflow-hub->lingvo==0.12.7->paxml>=1.4.0->timesfm==1.1.0)\n",
            "  Downloading tf_keras-2.18.0-py3-none-any.whl.metadata (1.6 kB)\n",
            "  Downloading tf_keras-2.16.0-py3-none-any.whl.metadata (1.6 kB)\n",
            "  Downloading tf_keras-2.15.1-py3-none-any.whl.metadata (1.7 kB)\n",
            "  Downloading tf_keras-2.15.0-py3-none-any.whl.metadata (1.6 kB)\n",
            "Requirement already satisfied: widgetsnbextension~=3.6.0 in /usr/local/lib/python3.10/dist-packages (from ipywidgets->jupyter->lingvo==0.12.7->paxml>=1.4.0->timesfm==1.1.0) (3.6.10)\n",
            "Requirement already satisfied: jupyterlab-widgets>=1.0.0 in /usr/local/lib/python3.10/dist-packages (from ipywidgets->jupyter->lingvo==0.12.7->paxml>=1.4.0->timesfm==1.1.0) (3.0.13)\n",
            "Collecting async-lru>=1.0.0 (from jupyterlab->jupyter->lingvo==0.12.7->paxml>=1.4.0->timesfm==1.1.0)\n",
            "  Downloading async_lru-2.0.4-py3-none-any.whl.metadata (4.5 kB)\n",
            "Requirement already satisfied: httpx>=0.25.0 in /usr/local/lib/python3.10/dist-packages (from jupyterlab->jupyter->lingvo==0.12.7->paxml>=1.4.0->timesfm==1.1.0) (0.27.2)\n",
            "Collecting ipykernel (from lingvo==0.12.7->paxml>=1.4.0->timesfm==1.1.0)\n",
            "  Downloading ipykernel-6.29.5-py3-none-any.whl.metadata (6.3 kB)\n",
            "Collecting jupyter-lsp>=2.0.0 (from jupyterlab->jupyter->lingvo==0.12.7->paxml>=1.4.0->timesfm==1.1.0)\n",
            "  Downloading jupyter_lsp-2.2.5-py3-none-any.whl.metadata (1.8 kB)\n",
            "Collecting jupyter-server<3,>=2.4.0 (from jupyterlab->jupyter->lingvo==0.12.7->paxml>=1.4.0->timesfm==1.1.0)\n",
            "  Downloading jupyter_server-2.14.2-py3-none-any.whl.metadata (8.4 kB)\n",
            "Collecting jupyterlab-server<3,>=2.27.1 (from jupyterlab->jupyter->lingvo==0.12.7->paxml>=1.4.0->timesfm==1.1.0)\n",
            "  Downloading jupyterlab_server-2.27.3-py3-none-any.whl.metadata (5.9 kB)\n",
            "Requirement already satisfied: notebook-shim>=0.2 in /usr/local/lib/python3.10/dist-packages (from jupyterlab->jupyter->lingvo==0.12.7->paxml>=1.4.0->timesfm==1.1.0) (0.2.4)\n",
            "Requirement already satisfied: tomli>=1.2.2 in /usr/local/lib/python3.10/dist-packages (from jupyterlab->jupyter->lingvo==0.12.7->paxml>=1.4.0->timesfm==1.1.0) (2.0.2)\n",
            "Collecting comm>=0.1.1 (from ipykernel->lingvo==0.12.7->paxml>=1.4.0->timesfm==1.1.0)\n",
            "  Downloading comm-0.2.2-py3-none-any.whl.metadata (3.7 kB)\n",
            "Requirement already satisfied: debugpy>=1.6.5 in /usr/local/lib/python3.10/dist-packages (from ipykernel->lingvo==0.12.7->paxml>=1.4.0->timesfm==1.1.0) (1.6.6)\n",
            "Requirement already satisfied: anyio in /usr/local/lib/python3.10/dist-packages (from httpx>=0.25.0->jupyterlab->jupyter->lingvo==0.12.7->paxml>=1.4.0->timesfm==1.1.0) (3.7.1)\n",
            "Requirement already satisfied: httpcore==1.* in /usr/local/lib/python3.10/dist-packages (from httpx>=0.25.0->jupyterlab->jupyter->lingvo==0.12.7->paxml>=1.4.0->timesfm==1.1.0) (1.0.6)\n",
            "Requirement already satisfied: sniffio in /usr/local/lib/python3.10/dist-packages (from httpx>=0.25.0->jupyterlab->jupyter->lingvo==0.12.7->paxml>=1.4.0->timesfm==1.1.0) (1.3.1)\n",
            "Requirement already satisfied: h11<0.15,>=0.13 in /usr/local/lib/python3.10/dist-packages (from httpcore==1.*->httpx>=0.25.0->jupyterlab->jupyter->lingvo==0.12.7->paxml>=1.4.0->timesfm==1.1.0) (0.14.0)\n",
            "Requirement already satisfied: parso<0.9.0,>=0.8.3 in /usr/local/lib/python3.10/dist-packages (from jedi>=0.16->ipython>=5.0.0->ipykernel->lingvo==0.12.7->paxml>=1.4.0->timesfm==1.1.0) (0.8.4)\n",
            "Collecting jupyter-client<8,>=5.3.4 (from notebook->jupyter->lingvo==0.12.7->paxml>=1.4.0->timesfm==1.1.0)\n",
            "  Downloading jupyter_client-7.4.9-py3-none-any.whl.metadata (8.5 kB)\n",
            "Collecting jupyter-events>=0.9.0 (from jupyter-server<3,>=2.4.0->jupyterlab->jupyter->lingvo==0.12.7->paxml>=1.4.0->timesfm==1.1.0)\n",
            "  Downloading jupyter_events-0.10.0-py3-none-any.whl.metadata (5.9 kB)\n",
            "Collecting jupyter-server-terminals>=0.4.4 (from jupyter-server<3,>=2.4.0->jupyterlab->jupyter->lingvo==0.12.7->paxml>=1.4.0->timesfm==1.1.0)\n",
            "  Downloading jupyter_server_terminals-0.5.3-py3-none-any.whl.metadata (5.6 kB)\n",
            "Collecting overrides>=5.0 (from jupyter-server<3,>=2.4.0->jupyterlab->jupyter->lingvo==0.12.7->paxml>=1.4.0->timesfm==1.1.0)\n",
            "  Downloading overrides-7.7.0-py3-none-any.whl.metadata (5.8 kB)\n",
            "Requirement already satisfied: websocket-client>=1.7 in /usr/local/lib/python3.10/dist-packages (from jupyter-server<3,>=2.4.0->jupyterlab->jupyter->lingvo==0.12.7->paxml>=1.4.0->timesfm==1.1.0) (1.8.0)\n",
            "Requirement already satisfied: entrypoints in /usr/local/lib/python3.10/dist-packages (from jupyter-client<8,>=5.3.4->notebook->jupyter->lingvo==0.12.7->paxml>=1.4.0->timesfm==1.1.0) (0.4)\n",
            "Requirement already satisfied: argon2-cffi-bindings in /usr/local/lib/python3.10/dist-packages (from argon2-cffi->notebook->jupyter->lingvo==0.12.7->paxml>=1.4.0->timesfm==1.1.0) (21.2.0)\n",
            "Collecting json5>=0.9.0 (from jupyterlab-server<3,>=2.27.1->jupyterlab->jupyter->lingvo==0.12.7->paxml>=1.4.0->timesfm==1.1.0)\n",
            "  Downloading json5-0.9.25-py3-none-any.whl.metadata (30 kB)\n",
            "Requirement already satisfied: jsonschema>=4.18.0 in /usr/local/lib/python3.10/dist-packages (from jupyterlab-server<3,>=2.27.1->jupyterlab->jupyter->lingvo==0.12.7->paxml>=1.4.0->timesfm==1.1.0) (4.23.0)\n",
            "Requirement already satisfied: fastjsonschema>=2.15 in /usr/local/lib/python3.10/dist-packages (from nbformat->notebook->jupyter->lingvo==0.12.7->paxml>=1.4.0->timesfm==1.1.0) (2.20.0)\n",
            "Requirement already satisfied: ptyprocess>=0.5 in /usr/local/lib/python3.10/dist-packages (from pexpect>4.3->ipython>=5.0.0->ipykernel->lingvo==0.12.7->paxml>=1.4.0->timesfm==1.1.0) (0.7.0)\n",
            "Requirement already satisfied: pyasn1<0.7.0,>=0.4.6 in /usr/local/lib/python3.10/dist-packages (from pyasn1-modules>=0.2.1->google-auth<3,>=1.6.3->tensorboard<2.10,>=2.9->tensorflow~=2.9.2->paxml>=1.4.0->timesfm==1.1.0) (0.6.1)\n",
            "Requirement already satisfied: oauthlib>=3.0.0 in /usr/local/lib/python3.10/dist-packages (from requests-oauthlib>=0.7.0->google-auth-oauthlib<0.5,>=0.4.1->tensorboard<2.10,>=2.9->tensorflow~=2.9.2->paxml>=1.4.0->timesfm==1.1.0) (3.2.2)\n",
            "Requirement already satisfied: exceptiongroup in /usr/local/lib/python3.10/dist-packages (from anyio->httpx>=0.25.0->jupyterlab->jupyter->lingvo==0.12.7->paxml>=1.4.0->timesfm==1.1.0) (1.2.2)\n",
            "Requirement already satisfied: jsonschema-specifications>=2023.03.6 in /usr/local/lib/python3.10/dist-packages (from jsonschema>=4.18.0->jupyterlab-server<3,>=2.27.1->jupyterlab->jupyter->lingvo==0.12.7->paxml>=1.4.0->timesfm==1.1.0) (2024.10.1)\n",
            "Requirement already satisfied: referencing>=0.28.4 in /usr/local/lib/python3.10/dist-packages (from jsonschema>=4.18.0->jupyterlab-server<3,>=2.27.1->jupyterlab->jupyter->lingvo==0.12.7->paxml>=1.4.0->timesfm==1.1.0) (0.35.1)\n",
            "Requirement already satisfied: rpds-py>=0.7.1 in /usr/local/lib/python3.10/dist-packages (from jsonschema>=4.18.0->jupyterlab-server<3,>=2.27.1->jupyterlab->jupyter->lingvo==0.12.7->paxml>=1.4.0->timesfm==1.1.0) (0.20.0)\n",
            "Collecting python-json-logger>=2.0.4 (from jupyter-events>=0.9.0->jupyter-server<3,>=2.4.0->jupyterlab->jupyter->lingvo==0.12.7->paxml>=1.4.0->timesfm==1.1.0)\n",
            "  Downloading python_json_logger-2.0.7-py3-none-any.whl.metadata (6.5 kB)\n",
            "Collecting rfc3339-validator (from jupyter-events>=0.9.0->jupyter-server<3,>=2.4.0->jupyterlab->jupyter->lingvo==0.12.7->paxml>=1.4.0->timesfm==1.1.0)\n",
            "  Downloading rfc3339_validator-0.1.4-py2.py3-none-any.whl.metadata (1.5 kB)\n",
            "Collecting rfc3986-validator>=0.1.1 (from jupyter-events>=0.9.0->jupyter-server<3,>=2.4.0->jupyterlab->jupyter->lingvo==0.12.7->paxml>=1.4.0->timesfm==1.1.0)\n",
            "  Downloading rfc3986_validator-0.1.1-py2.py3-none-any.whl.metadata (1.7 kB)\n",
            "Requirement already satisfied: cffi>=1.0.1 in /usr/local/lib/python3.10/dist-packages (from argon2-cffi-bindings->argon2-cffi->notebook->jupyter->lingvo==0.12.7->paxml>=1.4.0->timesfm==1.1.0) (1.17.1)\n",
            "Requirement already satisfied: pycparser in /usr/local/lib/python3.10/dist-packages (from cffi>=1.0.1->argon2-cffi-bindings->argon2-cffi->notebook->jupyter->lingvo==0.12.7->paxml>=1.4.0->timesfm==1.1.0) (2.22)\n",
            "Collecting fqdn (from jsonschema[format-nongpl]>=4.18.0->jupyter-events>=0.9.0->jupyter-server<3,>=2.4.0->jupyterlab->jupyter->lingvo==0.12.7->paxml>=1.4.0->timesfm==1.1.0)\n",
            "  Downloading fqdn-1.5.1-py3-none-any.whl.metadata (1.4 kB)\n",
            "Collecting isoduration (from jsonschema[format-nongpl]>=4.18.0->jupyter-events>=0.9.0->jupyter-server<3,>=2.4.0->jupyterlab->jupyter->lingvo==0.12.7->paxml>=1.4.0->timesfm==1.1.0)\n",
            "  Downloading isoduration-20.11.0-py3-none-any.whl.metadata (5.7 kB)\n",
            "Requirement already satisfied: jsonpointer>1.13 in /usr/local/lib/python3.10/dist-packages (from jsonschema[format-nongpl]>=4.18.0->jupyter-events>=0.9.0->jupyter-server<3,>=2.4.0->jupyterlab->jupyter->lingvo==0.12.7->paxml>=1.4.0->timesfm==1.1.0) (3.0.0)\n",
            "Collecting uri-template (from jsonschema[format-nongpl]>=4.18.0->jupyter-events>=0.9.0->jupyter-server<3,>=2.4.0->jupyterlab->jupyter->lingvo==0.12.7->paxml>=1.4.0->timesfm==1.1.0)\n",
            "  Downloading uri_template-1.3.0-py3-none-any.whl.metadata (8.8 kB)\n",
            "Requirement already satisfied: webcolors>=24.6.0 in /usr/local/lib/python3.10/dist-packages (from jsonschema[format-nongpl]>=4.18.0->jupyter-events>=0.9.0->jupyter-server<3,>=2.4.0->jupyterlab->jupyter->lingvo==0.12.7->paxml>=1.4.0->timesfm==1.1.0) (24.8.0)\n",
            "Collecting arrow>=0.15.0 (from isoduration->jsonschema[format-nongpl]>=4.18.0->jupyter-events>=0.9.0->jupyter-server<3,>=2.4.0->jupyterlab->jupyter->lingvo==0.12.7->paxml>=1.4.0->timesfm==1.1.0)\n",
            "  Downloading arrow-1.3.0-py3-none-any.whl.metadata (7.5 kB)\n",
            "Collecting types-python-dateutil>=2.8.10 (from arrow>=0.15.0->isoduration->jsonschema[format-nongpl]>=4.18.0->jupyter-events>=0.9.0->jupyter-server<3,>=2.4.0->jupyterlab->jupyter->lingvo==0.12.7->paxml>=1.4.0->timesfm==1.1.0)\n",
            "  Downloading types_python_dateutil-2.9.0.20241003-py3-none-any.whl.metadata (1.9 kB)\n",
            "Downloading timesfm-1.1.0-py3-none-any.whl (37 kB)\n",
            "Downloading einshape-1.0-py3-none-any.whl (21 kB)\n",
            "Downloading InquirerPy-0.3.4-py3-none-any.whl (67 kB)\n",
            "\u001b[2K   \u001b[90m━━━━━━━━━━━━━━━━━━━━━━━━━━━━━━━━━━━━━━━━\u001b[0m \u001b[32m67.7/67.7 kB\u001b[0m \u001b[31m7.2 MB/s\u001b[0m eta \u001b[36m0:00:00\u001b[0m\n",
            "\u001b[?25hDownloading jaxlib-0.4.26-cp310-cp310-manylinux2014_x86_64.whl (78.8 MB)\n",
            "\u001b[2K   \u001b[90m━━━━━━━━━━━━━━━━━━━━━━━━━━━━━━━━━━━━━━━━\u001b[0m \u001b[32m78.8/78.8 MB\u001b[0m \u001b[31m10.1 MB/s\u001b[0m eta \u001b[36m0:00:00\u001b[0m\n",
            "\u001b[?25hDownloading jax_cuda12_plugin-0.4.26-cp310-cp310-manylinux2014_x86_64.whl (12.4 MB)\n",
            "\u001b[2K   \u001b[90m━━━━━━━━━━━━━━━━━━━━━━━━━━━━━━━━━━━━━━━━\u001b[0m \u001b[32m12.4/12.4 MB\u001b[0m \u001b[31m89.2 MB/s\u001b[0m eta \u001b[36m0:00:00\u001b[0m\n",
            "\u001b[?25hDownloading jax_cuda12_pjrt-0.4.26-py3-none-manylinux2014_x86_64.whl (85.7 MB)\n",
            "\u001b[2K   \u001b[90m━━━━━━━━━━━━━━━━━━━━━━━━━━━━━━━━━━━━━━━━\u001b[0m \u001b[32m85.7/85.7 MB\u001b[0m \u001b[31m8.3 MB/s\u001b[0m eta \u001b[36m0:00:00\u001b[0m\n",
            "\u001b[?25hDownloading jax-0.4.26-py3-none-any.whl (1.9 MB)\n",
            "\u001b[2K   \u001b[90m━━━━━━━━━━━━━━━━━━━━━━━━━━━━━━━━━━━━━━━━\u001b[0m \u001b[32m1.9/1.9 MB\u001b[0m \u001b[31m60.6 MB/s\u001b[0m eta \u001b[36m0:00:00\u001b[0m\n",
            "\u001b[?25hDownloading paxml-1.4.0-py3-none-any.whl (440 kB)\n",
            "\u001b[2K   \u001b[90m━━━━━━━━━━━━━━━━━━━━━━━━━━━━━━━━━━━━━━━━\u001b[0m \u001b[32m440.2/440.2 kB\u001b[0m \u001b[31m32.4 MB/s\u001b[0m eta \u001b[36m0:00:00\u001b[0m\n",
            "\u001b[?25hDownloading clu-0.0.11-py3-none-any.whl (101 kB)\n",
            "\u001b[2K   \u001b[90m━━━━━━━━━━━━━━━━━━━━━━━━━━━━━━━━━━━━━━━━\u001b[0m \u001b[32m101.4/101.4 kB\u001b[0m \u001b[31m9.7 MB/s\u001b[0m eta \u001b[36m0:00:00\u001b[0m\n",
            "\u001b[?25hDownloading etils-1.7.0-py3-none-any.whl (152 kB)\n",
            "\u001b[2K   \u001b[90m━━━━━━━━━━━━━━━━━━━━━━━━━━━━━━━━━━━━━━━━\u001b[0m \u001b[32m152.4/152.4 kB\u001b[0m \u001b[31m12.7 MB/s\u001b[0m eta \u001b[36m0:00:00\u001b[0m\n",
            "\u001b[?25hDownloading flax-0.8.2-py3-none-any.whl (686 kB)\n",
            "\u001b[2K   \u001b[90m━━━━━━━━━━━━━━━━━━━━━━━━━━━━━━━━━━━━━━━━\u001b[0m \u001b[32m686.8/686.8 kB\u001b[0m \u001b[31m41.0 MB/s\u001b[0m eta \u001b[36m0:00:00\u001b[0m\n",
            "\u001b[?25hDownloading graphviz-0.20.1-py3-none-any.whl (47 kB)\n",
            "\u001b[2K   \u001b[90m━━━━━━━━━━━━━━━━━━━━━━━━━━━━━━━━━━━━━━━━\u001b[0m \u001b[32m47.0/47.0 kB\u001b[0m \u001b[31m4.5 MB/s\u001b[0m eta \u001b[36m0:00:00\u001b[0m\n",
            "\u001b[?25hDownloading lingvo-0.12.7-cp310-cp310-manylinux_2_17_x86_64.manylinux2014_x86_64.whl (18.0 MB)\n",
            "\u001b[2K   \u001b[90m━━━━━━━━━━━━━━━━━━━━━━━━━━━━━━━━━━━━━━━━\u001b[0m \u001b[32m18.0/18.0 MB\u001b[0m \u001b[31m55.2 MB/s\u001b[0m eta \u001b[36m0:00:00\u001b[0m\n",
            "\u001b[?25hDownloading orbax_checkpoint-0.5.9-py3-none-any.whl (168 kB)\n",
            "\u001b[2K   \u001b[90m━━━━━━━━━━━━━━━━━━━━━━━━━━━━━━━━━━━━━━━━\u001b[0m \u001b[32m168.0/168.0 kB\u001b[0m \u001b[31m15.3 MB/s\u001b[0m eta \u001b[36m0:00:00\u001b[0m\n",
            "\u001b[?25hDownloading praxis-1.4.0-py3-none-any.whl (772 kB)\n",
            "\u001b[2K   \u001b[90m━━━━━━━━━━━━━━━━━━━━━━━━━━━━━━━━━━━━━━━━\u001b[0m \u001b[32m772.5/772.5 kB\u001b[0m \u001b[31m35.8 MB/s\u001b[0m eta \u001b[36m0:00:00\u001b[0m\n",
            "\u001b[?25hDownloading opt_einsum-3.3.0-py3-none-any.whl (65 kB)\n",
            "\u001b[2K   \u001b[90m━━━━━━━━━━━━━━━━━━━━━━━━━━━━━━━━━━━━━━━━\u001b[0m \u001b[32m65.5/65.5 kB\u001b[0m \u001b[31m6.5 MB/s\u001b[0m eta \u001b[36m0:00:00\u001b[0m\n",
            "\u001b[?25hDownloading protobuf-3.19.6-cp310-cp310-manylinux_2_17_x86_64.manylinux2014_x86_64.whl (1.1 MB)\n",
            "\u001b[2K   \u001b[90m━━━━━━━━━━━━━━━━━━━━━━━━━━━━━━━━━━━━━━━━\u001b[0m \u001b[32m1.1/1.1 MB\u001b[0m \u001b[31m54.7 MB/s\u001b[0m eta \u001b[36m0:00:00\u001b[0m\n",
            "\u001b[?25hDownloading pyglove-0.4.4-py3-none-any.whl (577 kB)\n",
            "\u001b[2K   \u001b[90m━━━━━━━━━━━━━━━━━━━━━━━━━━━━━━━━━━━━━━━━\u001b[0m \u001b[32m577.8/577.8 kB\u001b[0m \u001b[31m40.3 MB/s\u001b[0m eta \u001b[36m0:00:00\u001b[0m\n",
            "\u001b[?25hDownloading seqio_nightly-0.0.17.dev20231010-py3-none-any.whl (353 kB)\n",
            "\u001b[2K   \u001b[90m━━━━━━━━━━━━━━━━━━━━━━━━━━━━━━━━━━━━━━━━\u001b[0m \u001b[32m353.1/353.1 kB\u001b[0m \u001b[31m31.8 MB/s\u001b[0m eta \u001b[36m0:00:00\u001b[0m\n",
            "\u001b[?25hDownloading t5-0.9.4-py2.py3-none-any.whl (164 kB)\n",
            "\u001b[2K   \u001b[90m━━━━━━━━━━━━━━━━━━━━━━━━━━━━━━━━━━━━━━━━\u001b[0m \u001b[32m164.5/164.5 kB\u001b[0m \u001b[31m17.5 MB/s\u001b[0m eta \u001b[36m0:00:00\u001b[0m\n",
            "\u001b[?25hDownloading tensorflow_datasets-4.8.3-py3-none-any.whl (5.4 MB)\n",
            "\u001b[2K   \u001b[90m━━━━━━━━━━━━━━━━━━━━━━━━━━━━━━━━━━━━━━━━\u001b[0m \u001b[32m5.4/5.4 MB\u001b[0m \u001b[31m70.1 MB/s\u001b[0m eta \u001b[36m0:00:00\u001b[0m\n",
            "\u001b[?25hDownloading tensorflow_metadata-1.12.0-py3-none-any.whl (52 kB)\n",
            "\u001b[2K   \u001b[90m━━━━━━━━━━━━━━━━━━━━━━━━━━━━━━━━━━━━━━━━\u001b[0m \u001b[32m52.3/52.3 kB\u001b[0m \u001b[31m5.1 MB/s\u001b[0m eta \u001b[36m0:00:00\u001b[0m\n",
            "\u001b[?25hDownloading tensorstore-0.1.55-cp310-cp310-manylinux_2_17_x86_64.manylinux2014_x86_64.whl (14.3 MB)\n",
            "\u001b[2K   \u001b[90m━━━━━━━━━━━━━━━━━━━━━━━━━━━━━━━━━━━━━━━━\u001b[0m \u001b[32m14.3/14.3 MB\u001b[0m \u001b[31m70.0 MB/s\u001b[0m eta \u001b[36m0:00:00\u001b[0m\n",
            "\u001b[?25hDownloading tfds_nightly-4.8.3.dev202303280045-py3-none-any.whl (5.4 MB)\n",
            "\u001b[2K   \u001b[90m━━━━━━━━━━━━━━━━━━━━━━━━━━━━━━━━━━━━━━━━\u001b[0m \u001b[32m5.4/5.4 MB\u001b[0m \u001b[31m88.7 MB/s\u001b[0m eta \u001b[36m0:00:00\u001b[0m\n",
            "\u001b[?25hDownloading einops-0.7.0-py3-none-any.whl (44 kB)\n",
            "\u001b[2K   \u001b[90m━━━━━━━━━━━━━━━━━━━━━━━━━━━━━━━━━━━━━━━━\u001b[0m \u001b[32m44.6/44.6 kB\u001b[0m \u001b[31m4.2 MB/s\u001b[0m eta \u001b[36m0:00:00\u001b[0m\n",
            "\u001b[?25hDownloading fiddle-0.3.0-py3-none-any.whl (419 kB)\n",
            "\u001b[2K   \u001b[90m━━━━━━━━━━━━━━━━━━━━━━━━━━━━━━━━━━━━━━━━\u001b[0m \u001b[32m419.8/419.8 kB\u001b[0m \u001b[31m34.2 MB/s\u001b[0m eta \u001b[36m0:00:00\u001b[0m\n",
            "\u001b[?25hDownloading jax_bitempered_loss-0.0.2-py3-none-any.whl (12 kB)\n",
            "Downloading jaxtyping-0.2.28-py3-none-any.whl (40 kB)\n",
            "\u001b[2K   \u001b[90m━━━━━━━━━━━━━━━━━━━━━━━━━━━━━━━━━━━━━━━━\u001b[0m \u001b[32m40.7/40.7 kB\u001b[0m \u001b[31m4.0 MB/s\u001b[0m eta \u001b[36m0:00:00\u001b[0m\n",
            "\u001b[?25hDownloading optax-0.2.2-py3-none-any.whl (223 kB)\n",
            "\u001b[2K   \u001b[90m━━━━━━━━━━━━━━━━━━━━━━━━━━━━━━━━━━━━━━━━\u001b[0m \u001b[32m223.7/223.7 kB\u001b[0m \u001b[31m22.6 MB/s\u001b[0m eta \u001b[36m0:00:00\u001b[0m\n",
            "\u001b[?25hDownloading optax_shampoo-0.0.6-py3-none-any.whl (32 kB)\n",
            "Downloading sentencepiece-0.1.99-cp310-cp310-manylinux_2_17_x86_64.manylinux2014_x86_64.whl (1.3 MB)\n",
            "\u001b[2K   \u001b[90m━━━━━━━━━━━━━━━━━━━━━━━━━━━━━━━━━━━━━━━━\u001b[0m \u001b[32m1.3/1.3 MB\u001b[0m \u001b[31m52.2 MB/s\u001b[0m eta \u001b[36m0:00:00\u001b[0m\n",
            "\u001b[?25hDownloading typeguard-2.13.3-py3-none-any.whl (17 kB)\n",
            "Downloading utilsforecast-0.2.8-py3-none-any.whl (41 kB)\n",
            "\u001b[2K   \u001b[90m━━━━━━━━━━━━━━━━━━━━━━━━━━━━━━━━━━━━━━━━\u001b[0m \u001b[32m41.4/41.4 kB\u001b[0m \u001b[31m4.4 MB/s\u001b[0m eta \u001b[36m0:00:00\u001b[0m\n",
            "\u001b[?25hDownloading nvidia_cudnn_cu12-8.9.7.29-py3-none-manylinux1_x86_64.whl (704.7 MB)\n",
            "\u001b[2K   \u001b[90m━━━━━━━━━━━━━━━━━━━━━━━━━━━━━━━━━━━━━━━━\u001b[0m \u001b[32m704.7/704.7 MB\u001b[0m \u001b[31m2.6 MB/s\u001b[0m eta \u001b[36m0:00:00\u001b[0m\n",
            "\u001b[?25hDownloading tensorflow-2.9.3-cp310-cp310-manylinux_2_17_x86_64.manylinux2014_x86_64.whl (511.8 MB)\n",
            "\u001b[2K   \u001b[90m━━━━━━━━━━━━━━━━━━━━━━━━━━━━━━━━━━━━━━━━\u001b[0m \u001b[32m511.8/511.8 MB\u001b[0m \u001b[31m3.5 MB/s\u001b[0m eta \u001b[36m0:00:00\u001b[0m\n",
            "\u001b[?25hDownloading tensorflow_text-2.9.0-cp310-cp310-manylinux_2_17_x86_64.manylinux2014_x86_64.whl (4.6 MB)\n",
            "\u001b[2K   \u001b[90m━━━━━━━━━━━━━━━━━━━━━━━━━━━━━━━━━━━━━━━━\u001b[0m \u001b[32m4.6/4.6 MB\u001b[0m \u001b[31m63.6 MB/s\u001b[0m eta \u001b[36m0:00:00\u001b[0m\n",
            "\u001b[?25hDownloading chex-0.1.86-py3-none-any.whl (98 kB)\n",
            "\u001b[2K   \u001b[90m━━━━━━━━━━━━━━━━━━━━━━━━━━━━━━━━━━━━━━━━\u001b[0m \u001b[32m98.2/98.2 kB\u001b[0m \u001b[31m10.5 MB/s\u001b[0m eta \u001b[36m0:00:00\u001b[0m\n",
            "\u001b[?25hDownloading flatbuffers-1.12-py2.py3-none-any.whl (15 kB)\n",
            "Downloading gast-0.4.0-py3-none-any.whl (9.8 kB)\n",
            "Downloading googleapis_common_protos-1.63.1-py2.py3-none-any.whl (229 kB)\n",
            "\u001b[2K   \u001b[90m━━━━━━━━━━━━━━━━━━━━━━━━━━━━━━━━━━━━━━━━\u001b[0m \u001b[32m229.2/229.2 kB\u001b[0m \u001b[31m21.0 MB/s\u001b[0m eta \u001b[36m0:00:00\u001b[0m\n",
            "\u001b[?25hDownloading keras-2.9.0-py2.py3-none-any.whl (1.6 MB)\n",
            "\u001b[2K   \u001b[90m━━━━━━━━━━━━━━━━━━━━━━━━━━━━━━━━━━━━━━━━\u001b[0m \u001b[32m1.6/1.6 MB\u001b[0m \u001b[31m77.5 MB/s\u001b[0m eta \u001b[36m0:00:00\u001b[0m\n",
            "\u001b[?25hDownloading Keras_Preprocessing-1.1.2-py2.py3-none-any.whl (42 kB)\n",
            "\u001b[2K   \u001b[90m━━━━━━━━━━━━━━━━━━━━━━━━━━━━━━━━━━━━━━━━\u001b[0m \u001b[32m42.6/42.6 kB\u001b[0m \u001b[31m4.1 MB/s\u001b[0m eta \u001b[36m0:00:00\u001b[0m\n",
            "\u001b[?25hDownloading mesh_tensorflow-0.1.21-py3-none-any.whl (385 kB)\n",
            "\u001b[2K   \u001b[90m━━━━━━━━━━━━━━━━━━━━━━━━━━━━━━━━━━━━━━━━\u001b[0m \u001b[32m385.2/385.2 kB\u001b[0m \u001b[31m32.2 MB/s\u001b[0m eta \u001b[36m0:00:00\u001b[0m\n",
            "\u001b[?25hDownloading pfzy-0.3.4-py3-none-any.whl (8.5 kB)\n",
            "Downloading tensorboard-2.9.1-py3-none-any.whl (5.8 MB)\n",
            "\u001b[2K   \u001b[90m━━━━━━━━━━━━━━━━━━━━━━━━━━━━━━━━━━━━━━━━\u001b[0m \u001b[32m5.8/5.8 MB\u001b[0m \u001b[31m54.6 MB/s\u001b[0m eta \u001b[36m0:00:00\u001b[0m\n",
            "\u001b[?25hDownloading tensorflow_estimator-2.9.0-py2.py3-none-any.whl (438 kB)\n",
            "\u001b[2K   \u001b[90m━━━━━━━━━━━━━━━━━━━━━━━━━━━━━━━━━━━━━━━━\u001b[0m \u001b[32m438.7/438.7 kB\u001b[0m \u001b[31m34.4 MB/s\u001b[0m eta \u001b[36m0:00:00\u001b[0m\n",
            "\u001b[?25hDownloading graph_compression_google_research-0.0.4-py3-none-any.whl (90 kB)\n",
            "\u001b[2K   \u001b[90m━━━━━━━━━━━━━━━━━━━━━━━━━━━━━━━━━━━━━━━━\u001b[0m \u001b[32m90.0/90.0 kB\u001b[0m \u001b[31m9.2 MB/s\u001b[0m eta \u001b[36m0:00:00\u001b[0m\n",
            "\u001b[?25hDownloading jupyter-1.1.1-py2.py3-none-any.whl (2.7 kB)\n",
            "Downloading jupyter_http_over_ws-0.0.8-py2.py3-none-any.whl (18 kB)\n",
            "Downloading model_pruning_google_research-0.0.5-py3-none-any.whl (52 kB)\n",
            "\u001b[2K   \u001b[90m━━━━━━━━━━━━━━━━━━━━━━━━━━━━━━━━━━━━━━━━\u001b[0m \u001b[32m52.6/52.6 kB\u001b[0m \u001b[31m5.7 MB/s\u001b[0m eta \u001b[36m0:00:00\u001b[0m\n",
            "\u001b[?25hDownloading nvidia_cuda_nvrtc_cu12-12.6.77-py3-none-manylinux2014_x86_64.whl (23.7 MB)\n",
            "\u001b[2K   \u001b[90m━━━━━━━━━━━━━━━━━━━━━━━━━━━━━━━━━━━━━━━━\u001b[0m \u001b[32m23.7/23.7 MB\u001b[0m \u001b[31m48.4 MB/s\u001b[0m eta \u001b[36m0:00:00\u001b[0m\n",
            "\u001b[?25hDownloading sacrebleu-2.4.3-py3-none-any.whl (103 kB)\n",
            "\u001b[2K   \u001b[90m━━━━━━━━━━━━━━━━━━━━━━━━━━━━━━━━━━━━━━━━\u001b[0m \u001b[32m104.0/104.0 kB\u001b[0m \u001b[31m10.3 MB/s\u001b[0m eta \u001b[36m0:00:00\u001b[0m\n",
            "\u001b[?25hDownloading google_auth_oauthlib-0.4.6-py2.py3-none-any.whl (18 kB)\n",
            "Downloading tensorboard_data_server-0.6.1-py3-none-manylinux2010_x86_64.whl (4.9 MB)\n",
            "\u001b[2K   \u001b[90m━━━━━━━━━━━━━━━━━━━━━━━━━━━━━━━━━━━━━━━━\u001b[0m \u001b[32m4.9/4.9 MB\u001b[0m \u001b[31m67.0 MB/s\u001b[0m eta \u001b[36m0:00:00\u001b[0m\n",
            "\u001b[?25hDownloading tensorboard_plugin_wit-1.8.1-py3-none-any.whl (781 kB)\n",
            "\u001b[2K   \u001b[90m━━━━━━━━━━━━━━━━━━━━━━━━━━━━━━━━━━━━━━━━\u001b[0m \u001b[32m781.3/781.3 kB\u001b[0m \u001b[31m43.6 MB/s\u001b[0m eta \u001b[36m0:00:00\u001b[0m\n",
            "\u001b[?25hDownloading tf_keras-2.15.0-py3-none-any.whl (1.7 MB)\n",
            "\u001b[2K   \u001b[90m━━━━━━━━━━━━━━━━━━━━━━━━━━━━━━━━━━━━━━━━\u001b[0m \u001b[32m1.7/1.7 MB\u001b[0m \u001b[31m48.6 MB/s\u001b[0m eta \u001b[36m0:00:00\u001b[0m\n",
            "\u001b[?25hDownloading colorama-0.4.6-py2.py3-none-any.whl (25 kB)\n",
            "Downloading contextlib2-21.6.0-py2.py3-none-any.whl (13 kB)\n",
            "Downloading jupyterlab-4.3.0-py3-none-any.whl (11.7 MB)\n",
            "\u001b[2K   \u001b[90m━━━━━━━━━━━━━━━━━━━━━━━━━━━━━━━━━━━━━━━━\u001b[0m \u001b[32m11.7/11.7 MB\u001b[0m \u001b[31m66.6 MB/s\u001b[0m eta \u001b[36m0:00:00\u001b[0m\n",
            "\u001b[?25hDownloading ipykernel-6.29.5-py3-none-any.whl (117 kB)\n",
            "\u001b[2K   \u001b[90m━━━━━━━━━━━━━━━━━━━━━━━━━━━━━━━━━━━━━━━━\u001b[0m \u001b[32m117.2/117.2 kB\u001b[0m \u001b[31m11.6 MB/s\u001b[0m eta \u001b[36m0:00:00\u001b[0m\n",
            "\u001b[?25hDownloading comm-0.2.2-py3-none-any.whl (7.2 kB)\n",
            "Downloading libcst-1.5.0-cp310-cp310-manylinux_2_17_x86_64.manylinux2014_x86_64.whl (2.3 MB)\n",
            "\u001b[2K   \u001b[90m━━━━━━━━━━━━━━━━━━━━━━━━━━━━━━━━━━━━━━━━\u001b[0m \u001b[32m2.3/2.3 MB\u001b[0m \u001b[31m67.9 MB/s\u001b[0m eta \u001b[36m0:00:00\u001b[0m\n",
            "\u001b[?25hDownloading portalocker-2.10.1-py3-none-any.whl (18 kB)\n",
            "Downloading async_lru-2.0.4-py3-none-any.whl (6.1 kB)\n",
            "Downloading jedi-0.19.1-py2.py3-none-any.whl (1.6 MB)\n",
            "\u001b[2K   \u001b[90m━━━━━━━━━━━━━━━━━━━━━━━━━━━━━━━━━━━━━━━━\u001b[0m \u001b[32m1.6/1.6 MB\u001b[0m \u001b[31m47.0 MB/s\u001b[0m eta \u001b[36m0:00:00\u001b[0m\n",
            "\u001b[?25hDownloading jupyter_lsp-2.2.5-py3-none-any.whl (69 kB)\n",
            "\u001b[2K   \u001b[90m━━━━━━━━━━━━━━━━━━━━━━━━━━━━━━━━━━━━━━━━\u001b[0m \u001b[32m69.1/69.1 kB\u001b[0m \u001b[31m5.6 MB/s\u001b[0m eta \u001b[36m0:00:00\u001b[0m\n",
            "\u001b[?25hDownloading jupyter_server-2.14.2-py3-none-any.whl (383 kB)\n",
            "\u001b[2K   \u001b[90m━━━━━━━━━━━━━━━━━━━━━━━━━━━━━━━━━━━━━━━━\u001b[0m \u001b[32m383.6/383.6 kB\u001b[0m \u001b[31m29.5 MB/s\u001b[0m eta \u001b[36m0:00:00\u001b[0m\n",
            "\u001b[?25hDownloading jupyter_client-7.4.9-py3-none-any.whl (133 kB)\n",
            "\u001b[2K   \u001b[90m━━━━━━━━━━━━━━━━━━━━━━━━━━━━━━━━━━━━━━━━\u001b[0m \u001b[32m133.5/133.5 kB\u001b[0m \u001b[31m11.6 MB/s\u001b[0m eta \u001b[36m0:00:00\u001b[0m\n",
            "\u001b[?25hDownloading jupyterlab_server-2.27.3-py3-none-any.whl (59 kB)\n",
            "\u001b[2K   \u001b[90m━━━━━━━━━━━━━━━━━━━━━━━━━━━━━━━━━━━━━━━━\u001b[0m \u001b[32m59.7/59.7 kB\u001b[0m \u001b[31m5.2 MB/s\u001b[0m eta \u001b[36m0:00:00\u001b[0m\n",
            "\u001b[?25hDownloading json5-0.9.25-py3-none-any.whl (30 kB)\n",
            "Downloading jupyter_events-0.10.0-py3-none-any.whl (18 kB)\n",
            "Downloading jupyter_server_terminals-0.5.3-py3-none-any.whl (13 kB)\n",
            "Downloading overrides-7.7.0-py3-none-any.whl (17 kB)\n",
            "Downloading python_json_logger-2.0.7-py3-none-any.whl (8.1 kB)\n",
            "Downloading rfc3986_validator-0.1.1-py2.py3-none-any.whl (4.2 kB)\n",
            "Downloading rfc3339_validator-0.1.4-py2.py3-none-any.whl (3.5 kB)\n",
            "Downloading fqdn-1.5.1-py3-none-any.whl (9.1 kB)\n",
            "Downloading isoduration-20.11.0-py3-none-any.whl (11 kB)\n",
            "Downloading uri_template-1.3.0-py3-none-any.whl (11 kB)\n",
            "Downloading arrow-1.3.0-py3-none-any.whl (66 kB)\n",
            "\u001b[2K   \u001b[90m━━━━━━━━━━━━━━━━━━━━━━━━━━━━━━━━━━━━━━━━\u001b[0m \u001b[32m66.4/66.4 kB\u001b[0m \u001b[31m6.8 MB/s\u001b[0m eta \u001b[36m0:00:00\u001b[0m\n",
            "\u001b[?25hDownloading types_python_dateutil-2.9.0.20241003-py3-none-any.whl (9.7 kB)\n",
            "Building wheels for collected packages: rouge-score, ml-collections\n",
            "  Building wheel for rouge-score (setup.py) ... \u001b[?25l\u001b[?25hdone\n",
            "  Created wheel for rouge-score: filename=rouge_score-0.1.2-py3-none-any.whl size=24935 sha256=6cf75a3de0eaefa61bc3bddf7833e9c29842e0061ddd90f2c9513d973cfd4dc2\n",
            "  Stored in directory: /root/.cache/pip/wheels/5f/dd/89/461065a73be61a532ff8599a28e9beef17985c9e9c31e541b4\n",
            "  Building wheel for ml-collections (setup.py) ... \u001b[?25l\u001b[?25hdone\n",
            "  Created wheel for ml-collections: filename=ml_collections-0.1.1-py3-none-any.whl size=94508 sha256=cc3642c94a2700bb9ff61d19e105f05942fd63698c2fdd7e7cff3d872cab6392\n",
            "  Stored in directory: /root/.cache/pip/wheels/7b/89/c9/a9b87790789e94aadcfc393c283e3ecd5ab916aed0a31be8fe\n",
            "Successfully built rouge-score ml-collections\n",
            "Installing collected packages: tensorboard-plugin-wit, sentencepiece, keras, jax-cuda12-pjrt, flatbuffers, uri-template, types-python-dateutil, typeguard, tf-keras, tensorflow-estimator, tensorboard-data-server, rfc3986-validator, rfc3339-validator, python-json-logger, pyglove, protobuf, portalocker, pfzy, overrides, optax-shampoo, opt-einsum, nvidia-cuda-nvrtc-cu12, model-pruning-google-research, mesh-tensorflow, libcst, keras-preprocessing, json5, jedi, jax-cuda12-plugin, jax-bitempered-loss, graphviz, graph-compression-google-research, gast, fqdn, etils, einshape, einops, contextlib2, comm, colorama, async-lru, tensorstore, sacrebleu, rouge-score, nvidia-cudnn-cu12, ml-collections, jupyter-server-terminals, jupyter-client, jaxtyping, jaxlib, jax, InquirerPy, googleapis-common-protos, fiddle, arrow, utilsforecast, tensorflow-metadata, isoduration, ipykernel, google-auth-oauthlib, chex, tensorflow-datasets, tensorboard, orbax-checkpoint, optax, tfds-nightly, tensorflow, jupyter-events, flax, tensorflow-text, clu, seqio-nightly, jupyter-server, t5, jupyterlab-server, jupyter-lsp, jupyterlab, jupyter-http-over-ws, jupyter, lingvo, praxis, paxml, timesfm\n",
            "  Attempting uninstall: sentencepiece\n",
            "    Found existing installation: sentencepiece 0.2.0\n",
            "    Uninstalling sentencepiece-0.2.0:\n",
            "      Successfully uninstalled sentencepiece-0.2.0\n",
            "  Attempting uninstall: keras\n",
            "    Found existing installation: keras 3.4.1\n",
            "    Uninstalling keras-3.4.1:\n",
            "      Successfully uninstalled keras-3.4.1\n",
            "  Attempting uninstall: jax-cuda12-pjrt\n",
            "    Found existing installation: jax-cuda12-pjrt 0.4.33\n",
            "    Uninstalling jax-cuda12-pjrt-0.4.33:\n",
            "      Successfully uninstalled jax-cuda12-pjrt-0.4.33\n",
            "  Attempting uninstall: flatbuffers\n",
            "    Found existing installation: flatbuffers 24.3.25\n",
            "    Uninstalling flatbuffers-24.3.25:\n",
            "      Successfully uninstalled flatbuffers-24.3.25\n",
            "  Attempting uninstall: typeguard\n",
            "    Found existing installation: typeguard 4.4.0\n",
            "    Uninstalling typeguard-4.4.0:\n",
            "      Successfully uninstalled typeguard-4.4.0\n",
            "  Attempting uninstall: tf-keras\n",
            "    Found existing installation: tf_keras 2.17.0\n",
            "    Uninstalling tf_keras-2.17.0:\n",
            "      Successfully uninstalled tf_keras-2.17.0\n",
            "  Attempting uninstall: tensorboard-data-server\n",
            "    Found existing installation: tensorboard-data-server 0.7.2\n",
            "    Uninstalling tensorboard-data-server-0.7.2:\n",
            "      Successfully uninstalled tensorboard-data-server-0.7.2\n",
            "  Attempting uninstall: protobuf\n",
            "    Found existing installation: protobuf 3.20.3\n",
            "    Uninstalling protobuf-3.20.3:\n",
            "      Successfully uninstalled protobuf-3.20.3\n",
            "  Attempting uninstall: opt-einsum\n",
            "    Found existing installation: opt_einsum 3.4.0\n",
            "    Uninstalling opt_einsum-3.4.0:\n",
            "      Successfully uninstalled opt_einsum-3.4.0\n",
            "  Attempting uninstall: jax-cuda12-plugin\n",
            "    Found existing installation: jax-cuda12-plugin 0.4.33\n",
            "    Uninstalling jax-cuda12-plugin-0.4.33:\n",
            "      Successfully uninstalled jax-cuda12-plugin-0.4.33\n",
            "  Attempting uninstall: graphviz\n",
            "    Found existing installation: graphviz 0.20.3\n",
            "    Uninstalling graphviz-0.20.3:\n",
            "      Successfully uninstalled graphviz-0.20.3\n",
            "  Attempting uninstall: gast\n",
            "    Found existing installation: gast 0.6.0\n",
            "    Uninstalling gast-0.6.0:\n",
            "      Successfully uninstalled gast-0.6.0\n",
            "  Attempting uninstall: etils\n",
            "    Found existing installation: etils 1.10.0\n",
            "    Uninstalling etils-1.10.0:\n",
            "      Successfully uninstalled etils-1.10.0\n",
            "  Attempting uninstall: einops\n",
            "    Found existing installation: einops 0.8.0\n",
            "    Uninstalling einops-0.8.0:\n",
            "      Successfully uninstalled einops-0.8.0\n",
            "  Attempting uninstall: tensorstore\n",
            "    Found existing installation: tensorstore 0.1.67\n",
            "    Uninstalling tensorstore-0.1.67:\n",
            "      Successfully uninstalled tensorstore-0.1.67\n",
            "  Attempting uninstall: nvidia-cudnn-cu12\n",
            "    Found existing installation: nvidia-cudnn-cu12 9.5.1.17\n",
            "    Uninstalling nvidia-cudnn-cu12-9.5.1.17:\n",
            "      Successfully uninstalled nvidia-cudnn-cu12-9.5.1.17\n",
            "  Attempting uninstall: jupyter-client\n",
            "    Found existing installation: jupyter-client 6.1.12\n",
            "    Uninstalling jupyter-client-6.1.12:\n",
            "      Successfully uninstalled jupyter-client-6.1.12\n",
            "  Attempting uninstall: jaxlib\n",
            "    Found existing installation: jaxlib 0.4.33\n",
            "    Uninstalling jaxlib-0.4.33:\n",
            "      Successfully uninstalled jaxlib-0.4.33\n",
            "  Attempting uninstall: jax\n",
            "    Found existing installation: jax 0.4.33\n",
            "    Uninstalling jax-0.4.33:\n",
            "      Successfully uninstalled jax-0.4.33\n",
            "  Attempting uninstall: googleapis-common-protos\n",
            "    Found existing installation: googleapis-common-protos 1.65.0\n",
            "    Uninstalling googleapis-common-protos-1.65.0:\n",
            "      Successfully uninstalled googleapis-common-protos-1.65.0\n",
            "  Attempting uninstall: tensorflow-metadata\n",
            "    Found existing installation: tensorflow-metadata 1.16.1\n",
            "    Uninstalling tensorflow-metadata-1.16.1:\n",
            "      Successfully uninstalled tensorflow-metadata-1.16.1\n",
            "  Attempting uninstall: ipykernel\n",
            "    Found existing installation: ipykernel 5.5.6\n",
            "    Uninstalling ipykernel-5.5.6:\n",
            "      Successfully uninstalled ipykernel-5.5.6\n",
            "  Attempting uninstall: google-auth-oauthlib\n",
            "    Found existing installation: google-auth-oauthlib 1.2.1\n",
            "    Uninstalling google-auth-oauthlib-1.2.1:\n",
            "      Successfully uninstalled google-auth-oauthlib-1.2.1\n",
            "  Attempting uninstall: chex\n",
            "    Found existing installation: chex 0.1.87\n",
            "    Uninstalling chex-0.1.87:\n",
            "      Successfully uninstalled chex-0.1.87\n",
            "  Attempting uninstall: tensorflow-datasets\n",
            "    Found existing installation: tensorflow-datasets 4.9.6\n",
            "    Uninstalling tensorflow-datasets-4.9.6:\n",
            "      Successfully uninstalled tensorflow-datasets-4.9.6\n",
            "  Attempting uninstall: tensorboard\n",
            "    Found existing installation: tensorboard 2.17.0\n",
            "    Uninstalling tensorboard-2.17.0:\n",
            "      Successfully uninstalled tensorboard-2.17.0\n",
            "  Attempting uninstall: orbax-checkpoint\n",
            "    Found existing installation: orbax-checkpoint 0.6.4\n",
            "    Uninstalling orbax-checkpoint-0.6.4:\n",
            "      Successfully uninstalled orbax-checkpoint-0.6.4\n",
            "  Attempting uninstall: optax\n",
            "    Found existing installation: optax 0.2.3\n",
            "    Uninstalling optax-0.2.3:\n",
            "      Successfully uninstalled optax-0.2.3\n",
            "  Attempting uninstall: tensorflow\n",
            "    Found existing installation: tensorflow 2.17.0\n",
            "    Uninstalling tensorflow-2.17.0:\n",
            "      Successfully uninstalled tensorflow-2.17.0\n",
            "  Attempting uninstall: flax\n",
            "    Found existing installation: flax 0.8.5\n",
            "    Uninstalling flax-0.8.5:\n",
            "      Successfully uninstalled flax-0.8.5\n",
            "  Attempting uninstall: jupyter-server\n",
            "    Found existing installation: jupyter-server 1.24.0\n",
            "    Uninstalling jupyter-server-1.24.0:\n",
            "      Successfully uninstalled jupyter-server-1.24.0\n",
            "\u001b[31mERROR: pip's dependency resolver does not currently take into account all the packages that are installed. This behaviour is the source of the following dependency conflicts.\n",
            "google-ai-generativelanguage 0.6.10 requires protobuf!=4.21.0,!=4.21.1,!=4.21.2,!=4.21.3,!=4.21.4,!=4.21.5,<6.0.0dev,>=3.20.2, but you have protobuf 3.19.6 which is incompatible.\n",
            "google-cloud-aiplatform 1.70.0 requires protobuf!=4.21.0,!=4.21.1,!=4.21.2,!=4.21.3,!=4.21.4,!=4.21.5,<6.0.0dev,>=3.20.2, but you have protobuf 3.19.6 which is incompatible.\n",
            "google-cloud-bigquery-connection 1.15.5 requires protobuf!=4.21.0,!=4.21.1,!=4.21.2,!=4.21.3,!=4.21.4,!=4.21.5,<6.0.0dev,>=3.20.2, but you have protobuf 3.19.6 which is incompatible.\n",
            "google-cloud-bigquery-storage 2.27.0 requires protobuf!=3.20.0,!=3.20.1,!=4.21.0,!=4.21.1,!=4.21.2,!=4.21.3,!=4.21.4,!=4.21.5,<6.0.0dev,>=3.20.2, but you have protobuf 3.19.6 which is incompatible.\n",
            "google-cloud-bigtable 2.26.0 requires protobuf!=4.21.0,!=4.21.1,!=4.21.2,!=4.21.3,!=4.21.4,!=4.21.5,<6.0.0dev,>=3.20.2, but you have protobuf 3.19.6 which is incompatible.\n",
            "google-cloud-functions 1.16.5 requires protobuf!=4.21.0,!=4.21.1,!=4.21.2,!=4.21.3,!=4.21.4,!=4.21.5,<6.0.0dev,>=3.20.2, but you have protobuf 3.19.6 which is incompatible.\n",
            "google-cloud-iam 2.16.0 requires protobuf!=4.21.0,!=4.21.1,!=4.21.2,!=4.21.3,!=4.21.4,!=4.21.5,<6.0.0dev,>=3.20.2, but you have protobuf 3.19.6 which is incompatible.\n",
            "google-cloud-language 2.13.4 requires protobuf!=4.21.0,!=4.21.1,!=4.21.2,!=4.21.3,!=4.21.4,!=4.21.5,<6.0.0dev,>=3.20.2, but you have protobuf 3.19.6 which is incompatible.\n",
            "google-cloud-pubsub 2.25.0 requires protobuf!=4.21.0,!=4.21.1,!=4.21.2,!=4.21.3,!=4.21.4,!=4.21.5,<6.0.0dev,>=3.20.2, but you have protobuf 3.19.6 which is incompatible.\n",
            "google-cloud-resource-manager 1.13.0 requires protobuf!=4.21.0,!=4.21.1,!=4.21.2,!=4.21.3,!=4.21.4,!=4.21.5,<6.0.0dev,>=3.20.2, but you have protobuf 3.19.6 which is incompatible.\n",
            "google-cloud-translate 3.15.5 requires protobuf!=4.21.0,!=4.21.1,!=4.21.2,!=4.21.3,!=4.21.4,!=4.21.5,<6.0.0dev,>=3.20.2, but you have protobuf 3.19.6 which is incompatible.\n",
            "google-colab 1.0.0 requires ipykernel==5.5.6, but you have ipykernel 6.29.5 which is incompatible.\n",
            "grpc-google-iam-v1 0.13.1 requires protobuf!=4.21.1,!=4.21.2,!=4.21.3,!=4.21.4,!=4.21.5,<6.0.0dev,>=3.20.2, but you have protobuf 3.19.6 which is incompatible.\n",
            "inflect 7.4.0 requires typeguard>=4.0.1, but you have typeguard 2.13.3 which is incompatible.\n",
            "pandas-gbq 0.24.0 requires google-auth-oauthlib>=0.7.0, but you have google-auth-oauthlib 0.4.6 which is incompatible.\u001b[0m\u001b[31m\n",
            "\u001b[0mSuccessfully installed InquirerPy-0.3.4 arrow-1.3.0 async-lru-2.0.4 chex-0.1.86 clu-0.0.11 colorama-0.4.6 comm-0.2.2 contextlib2-21.6.0 einops-0.7.0 einshape-1.0 etils-1.7.0 fiddle-0.3.0 flatbuffers-1.12 flax-0.8.2 fqdn-1.5.1 gast-0.4.0 google-auth-oauthlib-0.4.6 googleapis-common-protos-1.63.1 graph-compression-google-research-0.0.4 graphviz-0.20.1 ipykernel-6.29.5 isoduration-20.11.0 jax-0.4.26 jax-bitempered-loss-0.0.2 jax-cuda12-pjrt-0.4.26 jax-cuda12-plugin-0.4.26 jaxlib-0.4.26 jaxtyping-0.2.28 jedi-0.19.1 json5-0.9.25 jupyter-1.1.1 jupyter-client-7.4.9 jupyter-events-0.10.0 jupyter-http-over-ws-0.0.8 jupyter-lsp-2.2.5 jupyter-server-2.14.2 jupyter-server-terminals-0.5.3 jupyterlab-4.3.0 jupyterlab-server-2.27.3 keras-2.9.0 keras-preprocessing-1.1.2 libcst-1.5.0 lingvo-0.12.7 mesh-tensorflow-0.1.21 ml-collections-0.1.1 model-pruning-google-research-0.0.5 nvidia-cuda-nvrtc-cu12-12.6.77 nvidia-cudnn-cu12-8.9.7.29 opt-einsum-3.3.0 optax-0.2.2 optax-shampoo-0.0.6 orbax-checkpoint-0.5.9 overrides-7.7.0 paxml-1.4.0 pfzy-0.3.4 portalocker-2.10.1 praxis-1.4.0 protobuf-3.19.6 pyglove-0.4.4 python-json-logger-2.0.7 rfc3339-validator-0.1.4 rfc3986-validator-0.1.1 rouge-score-0.1.2 sacrebleu-2.4.3 sentencepiece-0.1.99 seqio-nightly-0.0.17.dev20231010 t5-0.9.4 tensorboard-2.9.1 tensorboard-data-server-0.6.1 tensorboard-plugin-wit-1.8.1 tensorflow-2.9.3 tensorflow-datasets-4.8.3 tensorflow-estimator-2.9.0 tensorflow-metadata-1.12.0 tensorflow-text-2.9.0 tensorstore-0.1.55 tf-keras-2.15.0 tfds-nightly-4.8.3.dev202303280045 timesfm-1.1.0 typeguard-2.13.3 types-python-dateutil-2.9.0.20241003 uri-template-1.3.0 utilsforecast-0.2.8\n"
          ]
        },
        {
          "data": {
            "application/vnd.colab-display-data+json": {
              "id": "d6f52ae225c84de384f1a487449efc88",
              "pip_warning": {
                "packages": [
                  "google",
                  "jax",
                  "jax_cuda12_plugin",
                  "jax_plugins",
                  "jaxlib",
                  "opt_einsum"
                ]
              }
            }
          },
          "metadata": {},
          "output_type": "display_data"
        }
      ],
      "source": [
        "!pip install yfinance timesfm==1.1.0"
      ]
    },
    {
      "cell_type": "code",
      "execution_count": 1,
      "metadata": {
        "colab": {
          "base_uri": "https://localhost:8080/"
        },
        "id": "RMcskjEryhrO",
        "outputId": "27c6b5d2-f4d1-4114-eae8-8913c28c9d44"
      },
      "outputs": [
        {
          "name": "stdout",
          "output_type": "stream",
          "text": [
            "Collecting ta\n",
            "  Downloading ta-0.11.0.tar.gz (25 kB)\n",
            "  Preparing metadata (setup.py) ... \u001b[?25l\u001b[?25hdone\n",
            "Requirement already satisfied: numpy in /usr/local/lib/python3.10/dist-packages (from ta) (1.26.4)\n",
            "Requirement already satisfied: pandas in /usr/local/lib/python3.10/dist-packages (from ta) (2.2.2)\n",
            "Requirement already satisfied: python-dateutil>=2.8.2 in /usr/local/lib/python3.10/dist-packages (from pandas->ta) (2.8.2)\n",
            "Requirement already satisfied: pytz>=2020.1 in /usr/local/lib/python3.10/dist-packages (from pandas->ta) (2024.2)\n",
            "Requirement already satisfied: tzdata>=2022.7 in /usr/local/lib/python3.10/dist-packages (from pandas->ta) (2024.2)\n",
            "Requirement already satisfied: six>=1.5 in /usr/local/lib/python3.10/dist-packages (from python-dateutil>=2.8.2->pandas->ta) (1.16.0)\n",
            "Building wheels for collected packages: ta\n",
            "  Building wheel for ta (setup.py) ... \u001b[?25l\u001b[?25hdone\n",
            "  Created wheel for ta: filename=ta-0.11.0-py3-none-any.whl size=29412 sha256=3fa5c866d783e5d433422651ccc76b832a848419df7cba09649e00dbec11bc1d\n",
            "  Stored in directory: /root/.cache/pip/wheels/5f/67/4f/8a9f252836e053e532c6587a3230bc72a4deb16b03a829610b\n",
            "Successfully built ta\n",
            "Installing collected packages: ta\n",
            "Successfully installed ta-0.11.0\n"
          ]
        }
      ],
      "source": [
        "pip install ta"
      ]
    },
    {
      "cell_type": "code",
      "execution_count": 1,
      "metadata": {
        "colab": {
          "base_uri": "https://localhost:8080/"
        },
        "id": "BmIVhMd4AS_7",
        "outputId": "00bf9377-ab95-44a7-93df-03c41518c673"
      },
      "outputs": [
        {
          "name": "stderr",
          "output_type": "stream",
          "text": [
            "2024-11-08 13:57:10.659765: W tensorflow/stream_executor/platform/default/dso_loader.cc:64] Could not load dynamic library 'libcudart.so.11.0'; dlerror: libcudart.so.11.0: cannot open shared object file: No such file or directory; LD_LIBRARY_PATH: /usr/lib64-nvidia\n",
            "/usr/local/lib/python3.10/dist-packages/dask/dataframe/__init__.py:42: FutureWarning: \n",
            "Dask dataframe query planning is disabled because dask-expr is not installed.\n",
            "\n",
            "You can install it with `pip install dask[dataframe]` or `conda install dask`.\n",
            "This will raise in a future version.\n",
            "\n",
            "  warnings.warn(msg, FutureWarning)\n"
          ]
        }
      ],
      "source": [
        "import os\n",
        "import time\n",
        "import timesfm\n",
        "from collections import defaultdict\n",
        "import yfinance as yf\n",
        "import numpy as np\n",
        "import pandas as pd\n",
        "import matplotlib.pyplot as plt\n",
        "from sklearn.metrics import mean_squared_error, mean_absolute_error\n"
      ]
    },
    {
      "cell_type": "code",
      "execution_count": 2,
      "metadata": {
        "id": "tqd7LZhQOs8s"
      },
      "outputs": [],
      "source": [
        "# Load TimesFM model\n",
        "timesfm_backend = \"gpu\"  # or 'cpu'\n",
        "from jax._src import config\n",
        "config.update(\"jax_platforms\", {\"cpu\": \"cpu\", \"gpu\": \"cuda\", \"tpu\": \"\"}[timesfm_backend])"
      ]
    },
    {
      "cell_type": "code",
      "execution_count": 3,
      "metadata": {
        "colab": {
          "base_uri": "https://localhost:8080/"
        },
        "id": "D2kgX-BTAZq3",
        "outputId": "ca0127da-45d8-49d8-bfe3-c0456e123697"
      },
      "outputs": [
        {
          "name": "stderr",
          "output_type": "stream",
          "text": [
            "\r[*********************100%***********************]  1 of 1 completed\n"
          ]
        },
        {
          "name": "stdout",
          "output_type": "stream",
          "text": [
            "Number of records: 10853\n"
          ]
        }
      ],
      "source": [
        "import yfinance as yf\n",
        "import pandas as pd\n",
        "import numpy as np\n",
        "\n",
        "# انتخاب نماد سهام (مثال: AAPL برای اپل)\n",
        "ticker = 'AAPL'\n",
        "\n",
        "# بارگذاری داده‌های بورسی روزانه\n",
        "data = yf.download(ticker, start='1900-01-01', end='2024-01-01')\n",
        "data = data.dropna()\n",
        "data.reset_index(inplace=True)  # تبدیل شاخص به ستون\n",
        "\n",
        "# تغییر نام ستون‌ها\n",
        "data.rename(columns={'Date': 'date', 'Close': 'y'}, inplace=True)\n",
        "\n",
        "\n",
        "\n",
        "# محاسبه ویژگی‌های اضافی\n",
        "data['MA_10'] = data['y'].rolling(window=10).mean()\n",
        "data['MA_50'] = data['y'].rolling(window=50).mean()\n",
        "data['RSI'] = 100 - (100 / (1 + data['y'].pct_change().rolling(window=14).apply(lambda x: (x[x > 0].mean() / -x[x < 0].mean()) if x[x < 0].mean() != 0 else np.inf)))\n",
        "\n",
        "\n",
        "\n",
        "# انتخاب ستون‌های نهایی\n",
        "final_cols = [\"date\",  \"y\"]\n",
        "data = data[final_cols]\n",
        "data.columns = data.columns.droplevel(1)\n",
        "\n",
        "# ذخیره‌سازی داده‌ها در یک فایل CSV\n",
        "data_path = 'stock_data.csv'\n",
        "data.to_csv(data_path, index=False)\n",
        "\n",
        "print(f\"Number of records: {len(data)}\")\n"
      ]
    },
    {
      "cell_type": "code",
      "execution_count": 5,
      "metadata": {
        "colab": {
          "base_uri": "https://localhost:8080/",
          "height": 424
        },
        "id": "3KpJ6rFF6Yat",
        "outputId": "2faa7b41-50cc-43e7-ab85-19631b5be31c"
      },
      "outputs": [
        {
          "data": {
            "application/vnd.google.colaboratory.intrinsic+json": {
              "summary": "{\n  \"name\": \"data\",\n  \"rows\": 10853,\n  \"fields\": [\n    {\n      \"column\": \"date\",\n      \"properties\": {\n        \"dtype\": \"date\",\n        \"min\": \"1980-12-12 00:00:00+00:00\",\n        \"max\": \"2023-12-29 00:00:00+00:00\",\n        \"num_unique_values\": 10853,\n        \"samples\": [\n          \"1987-07-24 00:00:00+00:00\",\n          \"2016-01-27 00:00:00+00:00\",\n          \"1995-11-20 00:00:00+00:00\"\n        ],\n        \"semantic_type\": \"\",\n        \"description\": \"\"\n      }\n    },\n    {\n      \"column\": \"y\",\n      \"properties\": {\n        \"dtype\": \"number\",\n        \"std\": 41.97797099844729,\n        \"min\": 0.04910700023174286,\n        \"max\": 198.11000061035156,\n        \"num_unique_values\": 6279,\n        \"samples\": [\n          24.989999771118164,\n          65.79750061035156,\n          6.871428966522217\n        ],\n        \"semantic_type\": \"\",\n        \"description\": \"\"\n      }\n    }\n  ]\n}",
              "type": "dataframe",
              "variable_name": "data"
            },
            "text/html": [
              "\n",
              "  <div id=\"df-1688816d-02b3-440a-a114-1c2d58eeb5ef\" class=\"colab-df-container\">\n",
              "    <div>\n",
              "<style scoped>\n",
              "    .dataframe tbody tr th:only-of-type {\n",
              "        vertical-align: middle;\n",
              "    }\n",
              "\n",
              "    .dataframe tbody tr th {\n",
              "        vertical-align: top;\n",
              "    }\n",
              "\n",
              "    .dataframe thead th {\n",
              "        text-align: right;\n",
              "    }\n",
              "</style>\n",
              "<table border=\"1\" class=\"dataframe\">\n",
              "  <thead>\n",
              "    <tr style=\"text-align: right;\">\n",
              "      <th>Price</th>\n",
              "      <th>date</th>\n",
              "      <th>y</th>\n",
              "    </tr>\n",
              "  </thead>\n",
              "  <tbody>\n",
              "    <tr>\n",
              "      <th>0</th>\n",
              "      <td>1980-12-12 00:00:00+00:00</td>\n",
              "      <td>0.128348</td>\n",
              "    </tr>\n",
              "    <tr>\n",
              "      <th>1</th>\n",
              "      <td>1980-12-15 00:00:00+00:00</td>\n",
              "      <td>0.121652</td>\n",
              "    </tr>\n",
              "    <tr>\n",
              "      <th>2</th>\n",
              "      <td>1980-12-16 00:00:00+00:00</td>\n",
              "      <td>0.112723</td>\n",
              "    </tr>\n",
              "    <tr>\n",
              "      <th>3</th>\n",
              "      <td>1980-12-17 00:00:00+00:00</td>\n",
              "      <td>0.115513</td>\n",
              "    </tr>\n",
              "    <tr>\n",
              "      <th>4</th>\n",
              "      <td>1980-12-18 00:00:00+00:00</td>\n",
              "      <td>0.118862</td>\n",
              "    </tr>\n",
              "    <tr>\n",
              "      <th>...</th>\n",
              "      <td>...</td>\n",
              "      <td>...</td>\n",
              "    </tr>\n",
              "    <tr>\n",
              "      <th>10848</th>\n",
              "      <td>2023-12-22 00:00:00+00:00</td>\n",
              "      <td>193.600006</td>\n",
              "    </tr>\n",
              "    <tr>\n",
              "      <th>10849</th>\n",
              "      <td>2023-12-26 00:00:00+00:00</td>\n",
              "      <td>193.050003</td>\n",
              "    </tr>\n",
              "    <tr>\n",
              "      <th>10850</th>\n",
              "      <td>2023-12-27 00:00:00+00:00</td>\n",
              "      <td>193.149994</td>\n",
              "    </tr>\n",
              "    <tr>\n",
              "      <th>10851</th>\n",
              "      <td>2023-12-28 00:00:00+00:00</td>\n",
              "      <td>193.580002</td>\n",
              "    </tr>\n",
              "    <tr>\n",
              "      <th>10852</th>\n",
              "      <td>2023-12-29 00:00:00+00:00</td>\n",
              "      <td>192.529999</td>\n",
              "    </tr>\n",
              "  </tbody>\n",
              "</table>\n",
              "<p>10853 rows × 2 columns</p>\n",
              "</div>\n",
              "    <div class=\"colab-df-buttons\">\n",
              "\n",
              "  <div class=\"colab-df-container\">\n",
              "    <button class=\"colab-df-convert\" onclick=\"convertToInteractive('df-1688816d-02b3-440a-a114-1c2d58eeb5ef')\"\n",
              "            title=\"Convert this dataframe to an interactive table.\"\n",
              "            style=\"display:none;\">\n",
              "\n",
              "  <svg xmlns=\"http://www.w3.org/2000/svg\" height=\"24px\" viewBox=\"0 -960 960 960\">\n",
              "    <path d=\"M120-120v-720h720v720H120Zm60-500h600v-160H180v160Zm220 220h160v-160H400v160Zm0 220h160v-160H400v160ZM180-400h160v-160H180v160Zm440 0h160v-160H620v160ZM180-180h160v-160H180v160Zm440 0h160v-160H620v160Z\"/>\n",
              "  </svg>\n",
              "    </button>\n",
              "\n",
              "  <style>\n",
              "    .colab-df-container {\n",
              "      display:flex;\n",
              "      gap: 12px;\n",
              "    }\n",
              "\n",
              "    .colab-df-convert {\n",
              "      background-color: #E8F0FE;\n",
              "      border: none;\n",
              "      border-radius: 50%;\n",
              "      cursor: pointer;\n",
              "      display: none;\n",
              "      fill: #1967D2;\n",
              "      height: 32px;\n",
              "      padding: 0 0 0 0;\n",
              "      width: 32px;\n",
              "    }\n",
              "\n",
              "    .colab-df-convert:hover {\n",
              "      background-color: #E2EBFA;\n",
              "      box-shadow: 0px 1px 2px rgba(60, 64, 67, 0.3), 0px 1px 3px 1px rgba(60, 64, 67, 0.15);\n",
              "      fill: #174EA6;\n",
              "    }\n",
              "\n",
              "    .colab-df-buttons div {\n",
              "      margin-bottom: 4px;\n",
              "    }\n",
              "\n",
              "    [theme=dark] .colab-df-convert {\n",
              "      background-color: #3B4455;\n",
              "      fill: #D2E3FC;\n",
              "    }\n",
              "\n",
              "    [theme=dark] .colab-df-convert:hover {\n",
              "      background-color: #434B5C;\n",
              "      box-shadow: 0px 1px 3px 1px rgba(0, 0, 0, 0.15);\n",
              "      filter: drop-shadow(0px 1px 2px rgba(0, 0, 0, 0.3));\n",
              "      fill: #FFFFFF;\n",
              "    }\n",
              "  </style>\n",
              "\n",
              "    <script>\n",
              "      const buttonEl =\n",
              "        document.querySelector('#df-1688816d-02b3-440a-a114-1c2d58eeb5ef button.colab-df-convert');\n",
              "      buttonEl.style.display =\n",
              "        google.colab.kernel.accessAllowed ? 'block' : 'none';\n",
              "\n",
              "      async function convertToInteractive(key) {\n",
              "        const element = document.querySelector('#df-1688816d-02b3-440a-a114-1c2d58eeb5ef');\n",
              "        const dataTable =\n",
              "          await google.colab.kernel.invokeFunction('convertToInteractive',\n",
              "                                                    [key], {});\n",
              "        if (!dataTable) return;\n",
              "\n",
              "        const docLinkHtml = 'Like what you see? Visit the ' +\n",
              "          '<a target=\"_blank\" href=https://colab.research.google.com/notebooks/data_table.ipynb>data table notebook</a>'\n",
              "          + ' to learn more about interactive tables.';\n",
              "        element.innerHTML = '';\n",
              "        dataTable['output_type'] = 'display_data';\n",
              "        await google.colab.output.renderOutput(dataTable, element);\n",
              "        const docLink = document.createElement('div');\n",
              "        docLink.innerHTML = docLinkHtml;\n",
              "        element.appendChild(docLink);\n",
              "      }\n",
              "    </script>\n",
              "  </div>\n",
              "\n",
              "\n",
              "<div id=\"df-c427f53b-e081-4f6f-9e81-3c2df1f1b5e8\">\n",
              "  <button class=\"colab-df-quickchart\" onclick=\"quickchart('df-c427f53b-e081-4f6f-9e81-3c2df1f1b5e8')\"\n",
              "            title=\"Suggest charts\"\n",
              "            style=\"display:none;\">\n",
              "\n",
              "<svg xmlns=\"http://www.w3.org/2000/svg\" height=\"24px\"viewBox=\"0 0 24 24\"\n",
              "     width=\"24px\">\n",
              "    <g>\n",
              "        <path d=\"M19 3H5c-1.1 0-2 .9-2 2v14c0 1.1.9 2 2 2h14c1.1 0 2-.9 2-2V5c0-1.1-.9-2-2-2zM9 17H7v-7h2v7zm4 0h-2V7h2v10zm4 0h-2v-4h2v4z\"/>\n",
              "    </g>\n",
              "</svg>\n",
              "  </button>\n",
              "\n",
              "<style>\n",
              "  .colab-df-quickchart {\n",
              "      --bg-color: #E8F0FE;\n",
              "      --fill-color: #1967D2;\n",
              "      --hover-bg-color: #E2EBFA;\n",
              "      --hover-fill-color: #174EA6;\n",
              "      --disabled-fill-color: #AAA;\n",
              "      --disabled-bg-color: #DDD;\n",
              "  }\n",
              "\n",
              "  [theme=dark] .colab-df-quickchart {\n",
              "      --bg-color: #3B4455;\n",
              "      --fill-color: #D2E3FC;\n",
              "      --hover-bg-color: #434B5C;\n",
              "      --hover-fill-color: #FFFFFF;\n",
              "      --disabled-bg-color: #3B4455;\n",
              "      --disabled-fill-color: #666;\n",
              "  }\n",
              "\n",
              "  .colab-df-quickchart {\n",
              "    background-color: var(--bg-color);\n",
              "    border: none;\n",
              "    border-radius: 50%;\n",
              "    cursor: pointer;\n",
              "    display: none;\n",
              "    fill: var(--fill-color);\n",
              "    height: 32px;\n",
              "    padding: 0;\n",
              "    width: 32px;\n",
              "  }\n",
              "\n",
              "  .colab-df-quickchart:hover {\n",
              "    background-color: var(--hover-bg-color);\n",
              "    box-shadow: 0 1px 2px rgba(60, 64, 67, 0.3), 0 1px 3px 1px rgba(60, 64, 67, 0.15);\n",
              "    fill: var(--button-hover-fill-color);\n",
              "  }\n",
              "\n",
              "  .colab-df-quickchart-complete:disabled,\n",
              "  .colab-df-quickchart-complete:disabled:hover {\n",
              "    background-color: var(--disabled-bg-color);\n",
              "    fill: var(--disabled-fill-color);\n",
              "    box-shadow: none;\n",
              "  }\n",
              "\n",
              "  .colab-df-spinner {\n",
              "    border: 2px solid var(--fill-color);\n",
              "    border-color: transparent;\n",
              "    border-bottom-color: var(--fill-color);\n",
              "    animation:\n",
              "      spin 1s steps(1) infinite;\n",
              "  }\n",
              "\n",
              "  @keyframes spin {\n",
              "    0% {\n",
              "      border-color: transparent;\n",
              "      border-bottom-color: var(--fill-color);\n",
              "      border-left-color: var(--fill-color);\n",
              "    }\n",
              "    20% {\n",
              "      border-color: transparent;\n",
              "      border-left-color: var(--fill-color);\n",
              "      border-top-color: var(--fill-color);\n",
              "    }\n",
              "    30% {\n",
              "      border-color: transparent;\n",
              "      border-left-color: var(--fill-color);\n",
              "      border-top-color: var(--fill-color);\n",
              "      border-right-color: var(--fill-color);\n",
              "    }\n",
              "    40% {\n",
              "      border-color: transparent;\n",
              "      border-right-color: var(--fill-color);\n",
              "      border-top-color: var(--fill-color);\n",
              "    }\n",
              "    60% {\n",
              "      border-color: transparent;\n",
              "      border-right-color: var(--fill-color);\n",
              "    }\n",
              "    80% {\n",
              "      border-color: transparent;\n",
              "      border-right-color: var(--fill-color);\n",
              "      border-bottom-color: var(--fill-color);\n",
              "    }\n",
              "    90% {\n",
              "      border-color: transparent;\n",
              "      border-bottom-color: var(--fill-color);\n",
              "    }\n",
              "  }\n",
              "</style>\n",
              "\n",
              "  <script>\n",
              "    async function quickchart(key) {\n",
              "      const quickchartButtonEl =\n",
              "        document.querySelector('#' + key + ' button');\n",
              "      quickchartButtonEl.disabled = true;  // To prevent multiple clicks.\n",
              "      quickchartButtonEl.classList.add('colab-df-spinner');\n",
              "      try {\n",
              "        const charts = await google.colab.kernel.invokeFunction(\n",
              "            'suggestCharts', [key], {});\n",
              "      } catch (error) {\n",
              "        console.error('Error during call to suggestCharts:', error);\n",
              "      }\n",
              "      quickchartButtonEl.classList.remove('colab-df-spinner');\n",
              "      quickchartButtonEl.classList.add('colab-df-quickchart-complete');\n",
              "    }\n",
              "    (() => {\n",
              "      let quickchartButtonEl =\n",
              "        document.querySelector('#df-c427f53b-e081-4f6f-9e81-3c2df1f1b5e8 button');\n",
              "      quickchartButtonEl.style.display =\n",
              "        google.colab.kernel.accessAllowed ? 'block' : 'none';\n",
              "    })();\n",
              "  </script>\n",
              "</div>\n",
              "\n",
              "  <div id=\"id_ca281317-0ff4-493a-82b8-803f23acb89d\">\n",
              "    <style>\n",
              "      .colab-df-generate {\n",
              "        background-color: #E8F0FE;\n",
              "        border: none;\n",
              "        border-radius: 50%;\n",
              "        cursor: pointer;\n",
              "        display: none;\n",
              "        fill: #1967D2;\n",
              "        height: 32px;\n",
              "        padding: 0 0 0 0;\n",
              "        width: 32px;\n",
              "      }\n",
              "\n",
              "      .colab-df-generate:hover {\n",
              "        background-color: #E2EBFA;\n",
              "        box-shadow: 0px 1px 2px rgba(60, 64, 67, 0.3), 0px 1px 3px 1px rgba(60, 64, 67, 0.15);\n",
              "        fill: #174EA6;\n",
              "      }\n",
              "\n",
              "      [theme=dark] .colab-df-generate {\n",
              "        background-color: #3B4455;\n",
              "        fill: #D2E3FC;\n",
              "      }\n",
              "\n",
              "      [theme=dark] .colab-df-generate:hover {\n",
              "        background-color: #434B5C;\n",
              "        box-shadow: 0px 1px 3px 1px rgba(0, 0, 0, 0.15);\n",
              "        filter: drop-shadow(0px 1px 2px rgba(0, 0, 0, 0.3));\n",
              "        fill: #FFFFFF;\n",
              "      }\n",
              "    </style>\n",
              "    <button class=\"colab-df-generate\" onclick=\"generateWithVariable('data')\"\n",
              "            title=\"Generate code using this dataframe.\"\n",
              "            style=\"display:none;\">\n",
              "\n",
              "  <svg xmlns=\"http://www.w3.org/2000/svg\" height=\"24px\"viewBox=\"0 0 24 24\"\n",
              "       width=\"24px\">\n",
              "    <path d=\"M7,19H8.4L18.45,9,17,7.55,7,17.6ZM5,21V16.75L18.45,3.32a2,2,0,0,1,2.83,0l1.4,1.43a1.91,1.91,0,0,1,.58,1.4,1.91,1.91,0,0,1-.58,1.4L9.25,21ZM18.45,9,17,7.55Zm-12,3A5.31,5.31,0,0,0,4.9,8.1,5.31,5.31,0,0,0,1,6.5,5.31,5.31,0,0,0,4.9,4.9,5.31,5.31,0,0,0,6.5,1,5.31,5.31,0,0,0,8.1,4.9,5.31,5.31,0,0,0,12,6.5,5.46,5.46,0,0,0,6.5,12Z\"/>\n",
              "  </svg>\n",
              "    </button>\n",
              "    <script>\n",
              "      (() => {\n",
              "      const buttonEl =\n",
              "        document.querySelector('#id_ca281317-0ff4-493a-82b8-803f23acb89d button.colab-df-generate');\n",
              "      buttonEl.style.display =\n",
              "        google.colab.kernel.accessAllowed ? 'block' : 'none';\n",
              "\n",
              "      buttonEl.onclick = () => {\n",
              "        google.colab.notebook.generateWithVariable('data');\n",
              "      }\n",
              "      })();\n",
              "    </script>\n",
              "  </div>\n",
              "\n",
              "    </div>\n",
              "  </div>\n"
            ],
            "text/plain": [
              "Price                      date           y\n",
              "0     1980-12-12 00:00:00+00:00    0.128348\n",
              "1     1980-12-15 00:00:00+00:00    0.121652\n",
              "2     1980-12-16 00:00:00+00:00    0.112723\n",
              "3     1980-12-17 00:00:00+00:00    0.115513\n",
              "4     1980-12-18 00:00:00+00:00    0.118862\n",
              "...                         ...         ...\n",
              "10848 2023-12-22 00:00:00+00:00  193.600006\n",
              "10849 2023-12-26 00:00:00+00:00  193.050003\n",
              "10850 2023-12-27 00:00:00+00:00  193.149994\n",
              "10851 2023-12-28 00:00:00+00:00  193.580002\n",
              "10852 2023-12-29 00:00:00+00:00  192.529999\n",
              "\n",
              "[10853 rows x 2 columns]"
            ]
          },
          "execution_count": 5,
          "metadata": {},
          "output_type": "execute_result"
        }
      ],
      "source": [
        "data"
      ]
    },
    {
      "cell_type": "code",
      "execution_count": 4,
      "metadata": {
        "id": "3PGZ_xatwFIG"
      },
      "outputs": [],
      "source": [
        "import sys\n",
        "import os\n",
        "\n",
        "# اضافه کردن مسیر ماژول به sys.path\n",
        "sys.path.append(os.path.join(os.getcwd(), 'timesfm/src/adapter'))\n",
        "\n",
        "# حالا می‌توانید ماژول‌ها را وارد کنید\n",
        "from utils import get_adapter_params, load_adapter_layer"
      ]
    },
    {
      "cell_type": "code",
      "execution_count": 5,
      "metadata": {
        "id": "r8U3_xB6pEbe"
      },
      "outputs": [],
      "source": [
        "import gc\n",
        "import logging\n",
        "import warnings\n",
        "from datetime import datetime\n",
        "from typing import Tuple\n",
        "\n",
        "import jax\n",
        "import jax.numpy as jnp\n",
        "import numpy as np\n",
        "import pandas as pd\n",
        "from jax import numpy as jnp\n",
        "from paxml import checkpoint_types, checkpoints, learners, tasks_lib, trainer_lib\n",
        "from praxis import optimizers, pax_fiddle, py_utils, schedules\n",
        "from tqdm import tqdm\n",
        "from typing_extensions import Annotated\n",
        "from timesfm import TimesFm, data_loader, patched_decoder\n",
        "\n",
        "NestedMap = py_utils.NestedMap\n",
        "\n",
        "warnings.filterwarnings(\"ignore\")\n",
        "cmdstanpy_logger = logging.getLogger(\"cmdstanpy\")\n",
        "absl_logger = logging.getLogger(\"absl\")\n",
        "cmdstanpy_logger.disabled = True\n",
        "absl_logger.disabled = True\n",
        "\n",
        "INPUT_PATCH_LEN = 32\n",
        "OUTPUT_PATCH_LEN = 128\n",
        "NUM_LAYERS = 20\n",
        "MODEL_DIMS = 1280\n",
        "QUANTILES = list(np.arange(1, 10) / 10.0)\n",
        "EPS = 1e-7\n",
        "RANDOM_SEED = 1234\n",
        "\n",
        "def finetune(\n",
        "    model_name: str = \"google/timesfm-1.0-200m\",\n",
        "    checkpoint_path: str = None,\n",
        "    datetime_col: str = \"date\",\n",
        "    ts_cols: list[str] = [],\n",
        "    normalize: bool = True,\n",
        "    num_cov_cols: int = None,\n",
        "    context_len: int = 64,\n",
        "    horizon_len: int = 1,\n",
        "    freq: str = \"D\",\n",
        "    data_path: str = \"timeseries_data.csv\",\n",
        "    boundaries: Tuple[int, int, int] = (0, 0, 0),\n",
        "    backend: str = \"gpu\",\n",
        "    batch_size: int = 32,\n",
        "    num_epochs: int = 10,\n",
        "    learning_rate: float = 0.001,\n",
        "    adam_epsilon: float = 1e-8,\n",
        "    adam_clip_threshold: float = 1.0,\n",
        "    cos_initial_decay_value: float = 0.001,\n",
        "    cos_final_decay_value: float = 0.0001,\n",
        "    cos_decay_steps: int = 1000,\n",
        "    ema_decay: float = 0.9999,\n",
        "    early_stop_patience: int = 5,\n",
        "    use_lora: bool = False,\n",
        "    lora_rank: int = 8,\n",
        "    lora_target_modules: str = \"all\",\n",
        "    use_dora: bool = False,\n",
        "    use_linear_probing: bool = False,\n",
        "    checkpoint_dir: str = \"./checkpoints\",\n",
        ") -> None:\n",
        "    key = jax.random.PRNGKey(seed=RANDOM_SEED)\n",
        "\n",
        "    data_df = pd.read_csv(open(data_path, \"r\"))\n",
        "\n",
        "\n",
        "\n",
        "    ts_cols = [col for col in data_df.columns if col != datetime_col]\n",
        "\n",
        "    dtl = data_loader.TimeSeriesdata(\n",
        "        data_path=data_path,\n",
        "        datetime_col=datetime_col,\n",
        "        num_cov_cols=num_cov_cols,\n",
        "        cat_cov_cols=None,\n",
        "        ts_cols=np.array(ts_cols),\n",
        "        train_range=[0, boundaries[0]],\n",
        "        val_range=[boundaries[0], boundaries[1]],\n",
        "        test_range=[boundaries[1], boundaries[2]],\n",
        "        hist_len=context_len,\n",
        "        pred_len=horizon_len,\n",
        "        batch_size=batch_size,\n",
        "        freq=freq,\n",
        "        normalize=normalize,\n",
        "        epoch_len=None,\n",
        "        holiday=False,\n",
        "        permute=False,\n",
        "    )\n",
        "\n",
        "    train_batches = dtl.tf_dataset(mode=\"train\", shift=1).batch(batch_size)\n",
        "    val_batches = dtl.tf_dataset(mode=\"val\", shift=horizon_len)\n",
        "    test_batches = dtl.tf_dataset(mode=\"test\", shift=horizon_len)\n",
        "    mse_losses = []\n",
        "\n",
        "    for tbatch in tqdm(train_batches.as_numpy_iterator()):\n",
        "        pass\n",
        "    print(tbatch[0].shape)\n",
        "\n",
        "    tfm = TimesFm(\n",
        "        context_len=context_len,\n",
        "        horizon_len=horizon_len,\n",
        "        input_patch_len=INPUT_PATCH_LEN,\n",
        "        output_patch_len=OUTPUT_PATCH_LEN,\n",
        "        num_layers=NUM_LAYERS,\n",
        "        model_dims=MODEL_DIMS,\n",
        "        backend=backend,\n",
        "        per_core_batch_size=batch_size,\n",
        "        quantiles=QUANTILES,\n",
        "    )\n",
        "\n",
        "\n",
        "    if checkpoint_path:\n",
        "        tfm.load_from_checkpoint(\n",
        "            checkpoint_path=checkpoint_path,\n",
        "            checkpoint_type=checkpoints.CheckpointType.FLAX,\n",
        "        )\n",
        "    else:\n",
        "        tfm.load_from_checkpoint(\n",
        "            repo_id=model_name,\n",
        "            checkpoint_type=checkpoints.CheckpointType.FLAX,\n",
        "        )\n",
        "\n",
        "    model = pax_fiddle.Config(\n",
        "        patched_decoder.PatchedDecoderFinetuneModel,\n",
        "        name=\"patched_decoder_finetune\",\n",
        "        core_layer_tpl=tfm.model_p,\n",
        "    )\n",
        "    for batch in tqdm(test_batches.as_numpy_iterator()):\n",
        "        past = batch[0]\n",
        "        actuals = batch[3]\n",
        "\n",
        "        _, forecasts = tfm.forecast(list(past), [0] * past.shape[0])\n",
        "        forecasts = forecasts[:, 0 : actuals.shape[1], 5]\n",
        "\n",
        "        mse_losses.append(np.square(forecasts - actuals).mean())\n",
        "\n",
        "    print(f\"MSE: {np.mean(mse_losses)}\")\n",
        "\n",
        "    if use_lora:\n",
        "        load_adapter_layer(\n",
        "            mdl_vars=tfm._train_state.mdl_vars,\n",
        "            model=model.core_layer_tpl,\n",
        "            lora_rank=lora_rank,\n",
        "            lora_target_modules=lora_target_modules,\n",
        "            use_dora=use_dora,\n",
        "        )\n",
        "\n",
        "    @pax_fiddle.auto_config\n",
        "    def build_learner() -> learners.Learner:\n",
        "        bprop_variable_inclusion = []\n",
        "        bprop_variable_exclusion = []\n",
        "        if use_lora:\n",
        "            bprop_variable_inclusion.append(r\"^.*lora.*$\")\n",
        "            if use_dora:\n",
        "                bprop_variable_inclusion.append(r\"^.*dora.*$\")\n",
        "        elif use_linear_probing:\n",
        "            bprop_variable_exclusion = [\".*/stacked_transformer_layer/.*\"]\n",
        "\n",
        "        return pax_fiddle.Config(\n",
        "            learners.Learner,\n",
        "            name=\"learner\",\n",
        "            loss_name=\"avg_qloss\",\n",
        "            optimizer=optimizers.Adam(\n",
        "                epsilon=adam_epsilon,\n",
        "                clip_threshold=adam_clip_threshold,\n",
        "                learning_rate=learning_rate,\n",
        "                lr_schedule=pax_fiddle.Config(\n",
        "                    schedules.Cosine,\n",
        "                    initial_value=cos_initial_decay_value,\n",
        "                    final_value=cos_final_decay_value,\n",
        "                    total_steps=cos_decay_steps,\n",
        "                ),\n",
        "                ema_decay=ema_decay,\n",
        "            ),\n",
        "            bprop_variable_exclusion=bprop_variable_exclusion,\n",
        "            bprop_variable_inclusion=bprop_variable_inclusion,\n",
        "        )\n",
        "\n",
        "    task_p = tasks_lib.SingleTask(\n",
        "        name=\"ts-learn\",\n",
        "        model=model,\n",
        "        train=tasks_lib.SingleTask.Train(\n",
        "            learner=build_learner(),\n",
        "        ),\n",
        "    )\n",
        "\n",
        "    task_p.model.ici_mesh_shape = [1, 1, 1]\n",
        "    task_p.model.mesh_axis_names = [\"replica\", \"data\", \"mdl\"]\n",
        "\n",
        "    DEVICES = np.array(jax.devices()).reshape([1, 1, 1])\n",
        "    jax.sharding.Mesh(DEVICES, [\"replica\", \"data\", \"mdl\"])\n",
        "\n",
        "    num_devices = jax.local_device_count()\n",
        "    print(f\"num_devices: {num_devices}\")\n",
        "    print(f\"device kind: {jax.local_devices()[0].device_kind}\")\n",
        "\n",
        "    jax_task = task_p\n",
        "    key, init_key = jax.random.split(key)\n",
        "\n",
        "    def process_train_batch(batch):\n",
        "\n",
        "        past_ts = batch[0].reshape( batch[0].shape[0] * len(ts_cols), -1)\n",
        "        actual_ts = batch[3].reshape(batch[3].shape[0] * len(ts_cols), -1)\n",
        "        return NestedMap(input_ts=past_ts, actual_ts=actual_ts)\n",
        "\n",
        "    def process_eval_batch(batch):\n",
        "        past_ts = batch[0]\n",
        "        actual_ts = batch[3]\n",
        "        return NestedMap(input_ts=past_ts, actual_ts=actual_ts)\n",
        "\n",
        "    jax_model_states, _ = trainer_lib.initialize_model_state(\n",
        "        jax_task,\n",
        "        init_key,\n",
        "        process_train_batch(tbatch),\n",
        "        checkpoint_type=checkpoint_types.CheckpointType.GDA,\n",
        "    )\n",
        "    jax_model_states.mdl_vars[\"params\"][\"core_layer\"] = tfm._train_state.mdl_vars[\n",
        "        \"params\"\n",
        "    ]\n",
        "    gc.collect()\n",
        "\n",
        "    jax_task = task_p\n",
        "\n",
        "    def train_step(states, prng_key, inputs):\n",
        "        return trainer_lib.train_step_single_learner(jax_task, states, prng_key, inputs)\n",
        "\n",
        "    def eval_step(states, prng_key, inputs):\n",
        "        states = states.to_eval_state()\n",
        "        return trainer_lib.eval_step_single_learner(jax_task, states, prng_key, inputs)\n",
        "\n",
        "    key, train_key, eval_key = jax.random.split(key, 3)\n",
        "    train_prng_seed = jax.random.split(train_key, num=jax.local_device_count())\n",
        "    eval_prng_seed = jax.random.split(eval_key, num=jax.local_device_count())\n",
        "\n",
        "    p_train_step = jax.pmap(train_step, axis_name=\"batch\")\n",
        "    p_eval_step = jax.pmap(eval_step, axis_name=\"batch\")\n",
        "\n",
        "    replicated_jax_states = trainer_lib.replicate_model_state(jax_model_states)\n",
        "\n",
        "    def reshape_batch_for_pmap(batch, num_devices):\n",
        "        def _reshape(input_tensor):\n",
        "            bsize = input_tensor.shape[0]\n",
        "            residual_shape = list(input_tensor.shape[1:])\n",
        "            nbsize = bsize // num_devices\n",
        "            return jnp.reshape(input_tensor, [num_devices, nbsize] + residual_shape)\n",
        "\n",
        "        return jax.tree.map(_reshape, batch)\n",
        "\n",
        "    patience = 0\n",
        "    best_eval_loss = 1e7\n",
        "    checkpoint_dir = f\"{checkpoint_dir}/run_{datetime.now().strftime('%Y%m%d_%H%M%S')}\"\n",
        "    for epoch in range(num_epochs):\n",
        "        if patience >= early_stop_patience:\n",
        "            print(\"Early stopping.\")\n",
        "            break\n",
        "        print(f\"Epoch: {epoch + 1}\")\n",
        "        train_its = train_batches.as_numpy_iterator()\n",
        "        train_losses = []\n",
        "        for batch in tqdm(train_its):\n",
        "            tbatch = process_train_batch(batch)\n",
        "            tbatch = reshape_batch_for_pmap(tbatch, num_devices)\n",
        "            replicated_jax_states, step_fun_out = p_train_step(\n",
        "                replicated_jax_states, train_prng_seed, tbatch\n",
        "            )\n",
        "            train_losses.append(step_fun_out.loss[0])\n",
        "\n",
        "        avg_train_loss = np.mean(train_losses)\n",
        "\n",
        "        print(\"Starting eval.\")\n",
        "        val_its = val_batches.as_numpy_iterator()\n",
        "        eval_losses = []\n",
        "        for ev_batch in tqdm(val_its):\n",
        "            ebatch = process_eval_batch(ev_batch)\n",
        "            ebatch = reshape_batch_for_pmap(ebatch, num_devices)\n",
        "            _, step_fun_out = p_eval_step(replicated_jax_states, eval_prng_seed, ebatch)\n",
        "            eval_losses.append(step_fun_out.loss[0])\n",
        "\n",
        "        avg_eval_loss = np.mean(eval_losses)\n",
        "\n",
        "        print(f\"Train Loss: {avg_train_loss}, Val Loss: {avg_eval_loss}\")\n",
        "\n",
        "        if avg_eval_loss < best_eval_loss or np.isnan(avg_eval_loss):\n",
        "            best_eval_loss = avg_eval_loss\n",
        "            print(\"Saving checkpoint.\")\n",
        "            jax_state_for_saving = py_utils.maybe_unreplicate_for_fully_replicated(\n",
        "                replicated_jax_states\n",
        "            )\n",
        "            if use_lora:\n",
        "                adapter_params = get_adapter_params(\n",
        "                    params=jax_state_for_saving.mdl_vars,\n",
        "                    lora_target_modules=lora_target_modules,\n",
        "                    num_layers=NUM_LAYERS,\n",
        "                    use_dora=use_dora,\n",
        "                )\n",
        "                jax_state_for_saving.mdl_vars[\"params\"] = adapter_params\n",
        "\n",
        "            checkpoints.save_checkpoint(\n",
        "                jax_state_for_saving, checkpoint_dir, overwrite=True\n",
        "            )\n",
        "\n",
        "            patience = 0\n",
        "            del jax_state_for_saving\n",
        "            gc.collect()\n",
        "        else:\n",
        "            patience += 1\n",
        "            print(f\"patience: {patience}\")\n",
        "    print(\"Fine-tuning completed.\")\n",
        "    return (dtl,test_batches)\n"
      ]
    },
    {
      "cell_type": "code",
      "execution_count": 6,
      "metadata": {
        "colab": {
          "base_uri": "https://localhost:8080/",
          "height": 1000,
          "referenced_widgets": [
            "5b918209708c486d984dd9927bf45986",
            "a048b4d406654873889f19561ec064cc",
            "14b6a98596b244c29fe6b39b87d05410",
            "9be8a8b5d35a4a6bbb224c927814053b",
            "13bac889d2e24eb9901f9cdfaa709528",
            "7e005669491d4894ab385baf470aa4a9",
            "045648f455ab46fbace9bad2c8f9b254",
            "ec9c212c0ed943c0ad98569c6121365f",
            "eb2d63fe502f481db3f0b3baa76da0f7",
            "67a545f2aa45480784d9a7ed356b0dd8",
            "82dc29b2fc824205b174e8a381a8f09a"
          ]
        },
        "id": "Q37Ea_ZVy3l4",
        "outputId": "56369dcb-46cd-4f08-c7a0-1a335e2da5aa"
      },
      "outputs": [
        {
          "name": "stderr",
          "output_type": "stream",
          "text": [
            "2024-11-08 13:57:57.548151: W external/xla/xla/service/gpu/nvptx_compiler.cc:718] The NVIDIA driver's CUDA version is 12.2 which is older than the ptxas CUDA version (12.6.77). Because the driver is older than the ptxas version, XLA is disabling parallel compilation, which may slow down compilation. You should update your NVIDIA driver or use the NVIDIA-provided CUDA forward compatibility packages.\n",
            "2024-11-08 13:57:58.182582: W tensorflow/stream_executor/platform/default/dso_loader.cc:64] Could not load dynamic library 'libcudart.so.11.0'; dlerror: libcudart.so.11.0: cannot open shared object file: No such file or directory; LD_LIBRARY_PATH: /usr/lib64-nvidia\n",
            "2024-11-08 13:57:58.182918: W tensorflow/stream_executor/platform/default/dso_loader.cc:64] Could not load dynamic library 'libcublas.so.11'; dlerror: libcublas.so.11: cannot open shared object file: No such file or directory; LD_LIBRARY_PATH: /usr/lib64-nvidia\n",
            "2024-11-08 13:57:58.183073: W tensorflow/stream_executor/platform/default/dso_loader.cc:64] Could not load dynamic library 'libcublasLt.so.11'; dlerror: libcublasLt.so.11: cannot open shared object file: No such file or directory; LD_LIBRARY_PATH: /usr/lib64-nvidia\n",
            "2024-11-08 13:57:58.183198: W tensorflow/stream_executor/platform/default/dso_loader.cc:64] Could not load dynamic library 'libcufft.so.10'; dlerror: libcufft.so.10: cannot open shared object file: No such file or directory; LD_LIBRARY_PATH: /usr/lib64-nvidia\n",
            "2024-11-08 13:57:58.183477: W tensorflow/stream_executor/platform/default/dso_loader.cc:64] Could not load dynamic library 'libcusparse.so.11'; dlerror: libcusparse.so.11: cannot open shared object file: No such file or directory; LD_LIBRARY_PATH: /usr/lib64-nvidia\n",
            "2024-11-08 13:57:58.183529: W tensorflow/core/common_runtime/gpu/gpu_device.cc:1850] Cannot dlopen some GPU libraries. Please make sure the missing libraries mentioned above are installed properly if you would like to use GPU. Follow the guide at https://www.tensorflow.org/install/gpu for how to download and setup the required libraries for your platform.\n",
            "Skipping registering GPU devices...\n",
            "328it [00:03, 91.77it/s]\n"
          ]
        },
        {
          "name": "stdout",
          "output_type": "stream",
          "text": [
            "(11, 1, 64)\n",
            "Multiprocessing context has already been set.\n"
          ]
        },
        {
          "data": {
            "application/vnd.jupyter.widget-view+json": {
              "model_id": "5b918209708c486d984dd9927bf45986",
              "version_major": 2,
              "version_minor": 0
            },
            "text/plain": [
              "Fetching 5 files:   0%|          | 0/5 [00:00<?, ?it/s]"
            ]
          },
          "metadata": {},
          "output_type": "display_data"
        },
        {
          "name": "stdout",
          "output_type": "stream",
          "text": [
            "Constructing model weights.\n",
            "Constructed model weights in 4.01 seconds.\n",
            "Restoring checkpoint from /root/.cache/huggingface/hub/models--google--timesfm-1.0-200m/snapshots/8775f7531211ac864b739fe776b0b255c277e2be/checkpoints.\n",
            "Restored checkpoint in 4.74 seconds.\n",
            "Jitting decoding.\n",
            "Jitted decoding in 25.16 seconds.\n"
          ]
        },
        {
          "name": "stderr",
          "output_type": "stream",
          "text": [
            "186it [00:03, 57.00it/s]\n"
          ]
        },
        {
          "name": "stdout",
          "output_type": "stream",
          "text": [
            "MSE: 0.004730826243758202\n",
            "num_devices: 1\n",
            "device kind: Tesla T4\n",
            "Epoch: 1\n"
          ]
        },
        {
          "name": "stderr",
          "output_type": "stream",
          "text": [
            "328it [02:59,  1.83it/s]\n"
          ]
        },
        {
          "name": "stdout",
          "output_type": "stream",
          "text": [
            "Starting eval.\n"
          ]
        },
        {
          "name": "stderr",
          "output_type": "stream",
          "text": [
            "127it [00:18,  6.79it/s]\n"
          ]
        },
        {
          "name": "stdout",
          "output_type": "stream",
          "text": [
            "Train Loss: 0.05147454887628555, Val Loss: 0.5274292230606079\n",
            "Saving checkpoint.\n",
            "Epoch: 2\n"
          ]
        },
        {
          "name": "stderr",
          "output_type": "stream",
          "text": [
            "328it [00:30, 10.81it/s]\n"
          ]
        },
        {
          "name": "stdout",
          "output_type": "stream",
          "text": [
            "Starting eval.\n"
          ]
        },
        {
          "name": "stderr",
          "output_type": "stream",
          "text": [
            "127it [00:03, 41.92it/s]\n"
          ]
        },
        {
          "name": "stdout",
          "output_type": "stream",
          "text": [
            "Train Loss: 0.0488518625497818, Val Loss: 0.5252360105514526\n",
            "Saving checkpoint.\n",
            "Epoch: 3\n"
          ]
        },
        {
          "name": "stderr",
          "output_type": "stream",
          "text": [
            "328it [00:30, 10.73it/s]\n"
          ]
        },
        {
          "name": "stdout",
          "output_type": "stream",
          "text": [
            "Starting eval.\n"
          ]
        },
        {
          "name": "stderr",
          "output_type": "stream",
          "text": [
            "127it [00:03, 41.81it/s]\n"
          ]
        },
        {
          "name": "stdout",
          "output_type": "stream",
          "text": [
            "Train Loss: 0.0474495030939579, Val Loss: 0.5245223641395569\n",
            "Saving checkpoint.\n",
            "Epoch: 4\n"
          ]
        },
        {
          "name": "stderr",
          "output_type": "stream",
          "text": [
            "328it [00:31, 10.52it/s]\n"
          ]
        },
        {
          "name": "stdout",
          "output_type": "stream",
          "text": [
            "Starting eval.\n"
          ]
        },
        {
          "name": "stderr",
          "output_type": "stream",
          "text": [
            "127it [00:03, 41.73it/s]\n"
          ]
        },
        {
          "name": "stdout",
          "output_type": "stream",
          "text": [
            "Train Loss: 0.047037046402692795, Val Loss: 0.5241855382919312\n",
            "Saving checkpoint.\n",
            "Epoch: 5\n"
          ]
        },
        {
          "name": "stderr",
          "output_type": "stream",
          "text": [
            "328it [00:33,  9.93it/s]\n"
          ]
        },
        {
          "name": "stdout",
          "output_type": "stream",
          "text": [
            "Starting eval.\n"
          ]
        },
        {
          "name": "stderr",
          "output_type": "stream",
          "text": [
            "127it [00:03, 41.24it/s]\n"
          ]
        },
        {
          "name": "stdout",
          "output_type": "stream",
          "text": [
            "Train Loss: 0.046889934688806534, Val Loss: 0.5237709879875183\n",
            "Saving checkpoint.\n",
            "Epoch: 6\n"
          ]
        },
        {
          "name": "stderr",
          "output_type": "stream",
          "text": [
            "328it [00:32,  9.95it/s]\n"
          ]
        },
        {
          "name": "stdout",
          "output_type": "stream",
          "text": [
            "Starting eval.\n"
          ]
        },
        {
          "name": "stderr",
          "output_type": "stream",
          "text": [
            "127it [00:03, 41.70it/s]\n"
          ]
        },
        {
          "name": "stdout",
          "output_type": "stream",
          "text": [
            "Train Loss: 0.04669942334294319, Val Loss: 0.5234156250953674\n",
            "Saving checkpoint.\n",
            "Epoch: 7\n"
          ]
        },
        {
          "name": "stderr",
          "output_type": "stream",
          "text": [
            "328it [00:33,  9.72it/s]\n"
          ]
        },
        {
          "name": "stdout",
          "output_type": "stream",
          "text": [
            "Starting eval.\n"
          ]
        },
        {
          "name": "stderr",
          "output_type": "stream",
          "text": [
            "127it [00:03, 41.62it/s]\n"
          ]
        },
        {
          "name": "stdout",
          "output_type": "stream",
          "text": [
            "Train Loss: 0.04657628387212753, Val Loss: 0.5231113433837891\n",
            "Saving checkpoint.\n",
            "Epoch: 8\n"
          ]
        },
        {
          "name": "stderr",
          "output_type": "stream",
          "text": [
            "328it [00:32, 10.03it/s]\n"
          ]
        },
        {
          "name": "stdout",
          "output_type": "stream",
          "text": [
            "Starting eval.\n"
          ]
        },
        {
          "name": "stderr",
          "output_type": "stream",
          "text": [
            "127it [00:03, 41.51it/s]\n"
          ]
        },
        {
          "name": "stdout",
          "output_type": "stream",
          "text": [
            "Train Loss: 0.04640696570277214, Val Loss: 0.5228934288024902\n",
            "Saving checkpoint.\n",
            "Epoch: 9\n"
          ]
        },
        {
          "name": "stderr",
          "output_type": "stream",
          "text": [
            "328it [00:33,  9.91it/s]\n"
          ]
        },
        {
          "name": "stdout",
          "output_type": "stream",
          "text": [
            "Starting eval.\n"
          ]
        },
        {
          "name": "stderr",
          "output_type": "stream",
          "text": [
            "127it [00:03, 41.50it/s]\n"
          ]
        },
        {
          "name": "stdout",
          "output_type": "stream",
          "text": [
            "Train Loss: 0.046372219920158386, Val Loss: 0.5225788950920105\n",
            "Saving checkpoint.\n",
            "Epoch: 10\n"
          ]
        },
        {
          "name": "stderr",
          "output_type": "stream",
          "text": [
            "328it [00:33,  9.66it/s]\n"
          ]
        },
        {
          "name": "stdout",
          "output_type": "stream",
          "text": [
            "Starting eval.\n"
          ]
        },
        {
          "name": "stderr",
          "output_type": "stream",
          "text": [
            "127it [00:03, 41.45it/s]\n"
          ]
        },
        {
          "name": "stdout",
          "output_type": "stream",
          "text": [
            "Train Loss: 0.046068064868450165, Val Loss: 0.5225591659545898\n",
            "Saving checkpoint.\n",
            "Epoch: 11\n"
          ]
        },
        {
          "name": "stderr",
          "output_type": "stream",
          "text": [
            "328it [00:33,  9.92it/s]\n"
          ]
        },
        {
          "name": "stdout",
          "output_type": "stream",
          "text": [
            "Starting eval.\n"
          ]
        },
        {
          "name": "stderr",
          "output_type": "stream",
          "text": [
            "127it [00:03, 41.50it/s]\n"
          ]
        },
        {
          "name": "stdout",
          "output_type": "stream",
          "text": [
            "Train Loss: 0.046005506068468094, Val Loss: 0.5221462249755859\n",
            "Saving checkpoint.\n",
            "Epoch: 12\n"
          ]
        },
        {
          "name": "stderr",
          "output_type": "stream",
          "text": [
            "328it [00:31, 10.49it/s]\n"
          ]
        },
        {
          "name": "stdout",
          "output_type": "stream",
          "text": [
            "Starting eval.\n"
          ]
        },
        {
          "name": "stderr",
          "output_type": "stream",
          "text": [
            "127it [00:03, 41.33it/s]\n"
          ]
        },
        {
          "name": "stdout",
          "output_type": "stream",
          "text": [
            "Train Loss: 0.04585680738091469, Val Loss: 0.5221682786941528\n",
            "patience: 1\n",
            "Epoch: 13\n"
          ]
        },
        {
          "name": "stderr",
          "output_type": "stream",
          "text": [
            "328it [00:38,  8.63it/s]\n"
          ]
        },
        {
          "name": "stdout",
          "output_type": "stream",
          "text": [
            "Starting eval.\n"
          ]
        },
        {
          "name": "stderr",
          "output_type": "stream",
          "text": [
            "127it [00:03, 41.54it/s]\n"
          ]
        },
        {
          "name": "stdout",
          "output_type": "stream",
          "text": [
            "Train Loss: 0.04568259418010712, Val Loss: 0.5218678116798401\n",
            "Saving checkpoint.\n",
            "Epoch: 14\n"
          ]
        },
        {
          "name": "stderr",
          "output_type": "stream",
          "text": [
            "328it [00:33,  9.66it/s]\n"
          ]
        },
        {
          "name": "stdout",
          "output_type": "stream",
          "text": [
            "Starting eval.\n"
          ]
        },
        {
          "name": "stderr",
          "output_type": "stream",
          "text": [
            "127it [00:03, 41.15it/s]\n"
          ]
        },
        {
          "name": "stdout",
          "output_type": "stream",
          "text": [
            "Train Loss: 0.045500464737415314, Val Loss: 0.5216458439826965\n",
            "Saving checkpoint.\n",
            "Epoch: 15\n"
          ]
        },
        {
          "name": "stderr",
          "output_type": "stream",
          "text": [
            "328it [00:33,  9.87it/s]\n"
          ]
        },
        {
          "name": "stdout",
          "output_type": "stream",
          "text": [
            "Starting eval.\n"
          ]
        },
        {
          "name": "stderr",
          "output_type": "stream",
          "text": [
            "127it [00:03, 41.19it/s]\n"
          ]
        },
        {
          "name": "stdout",
          "output_type": "stream",
          "text": [
            "Train Loss: 0.045459672808647156, Val Loss: 0.5215086936950684\n",
            "Saving checkpoint.\n",
            "Epoch: 16\n"
          ]
        },
        {
          "name": "stderr",
          "output_type": "stream",
          "text": [
            "328it [00:33,  9.92it/s]\n"
          ]
        },
        {
          "name": "stdout",
          "output_type": "stream",
          "text": [
            "Starting eval.\n"
          ]
        },
        {
          "name": "stderr",
          "output_type": "stream",
          "text": [
            "127it [00:03, 41.18it/s]\n"
          ]
        },
        {
          "name": "stdout",
          "output_type": "stream",
          "text": [
            "Train Loss: 0.04518989473581314, Val Loss: 0.5212559700012207\n",
            "Saving checkpoint.\n",
            "Epoch: 17\n"
          ]
        },
        {
          "name": "stderr",
          "output_type": "stream",
          "text": [
            "328it [00:33,  9.93it/s]\n"
          ]
        },
        {
          "name": "stdout",
          "output_type": "stream",
          "text": [
            "Starting eval.\n"
          ]
        },
        {
          "name": "stderr",
          "output_type": "stream",
          "text": [
            "127it [00:03, 41.18it/s]\n"
          ]
        },
        {
          "name": "stdout",
          "output_type": "stream",
          "text": [
            "Train Loss: 0.04507806524634361, Val Loss: 0.5208863615989685\n",
            "Saving checkpoint.\n",
            "Epoch: 18\n"
          ]
        },
        {
          "name": "stderr",
          "output_type": "stream",
          "text": [
            "328it [00:32, 10.00it/s]\n"
          ]
        },
        {
          "name": "stdout",
          "output_type": "stream",
          "text": [
            "Starting eval.\n"
          ]
        },
        {
          "name": "stderr",
          "output_type": "stream",
          "text": [
            "127it [00:03, 41.20it/s]\n"
          ]
        },
        {
          "name": "stdout",
          "output_type": "stream",
          "text": [
            "Train Loss: 0.044969912618398666, Val Loss: 0.5206872224807739\n",
            "Saving checkpoint.\n",
            "Epoch: 19\n"
          ]
        },
        {
          "name": "stderr",
          "output_type": "stream",
          "text": [
            "328it [00:32, 10.01it/s]\n"
          ]
        },
        {
          "name": "stdout",
          "output_type": "stream",
          "text": [
            "Starting eval.\n"
          ]
        },
        {
          "name": "stderr",
          "output_type": "stream",
          "text": [
            "127it [00:03, 41.17it/s]\n"
          ]
        },
        {
          "name": "stdout",
          "output_type": "stream",
          "text": [
            "Train Loss: 0.04477081820368767, Val Loss: 0.520422101020813\n",
            "Saving checkpoint.\n",
            "Epoch: 20\n"
          ]
        },
        {
          "name": "stderr",
          "output_type": "stream",
          "text": [
            "328it [00:32,  9.99it/s]\n"
          ]
        },
        {
          "name": "stdout",
          "output_type": "stream",
          "text": [
            "Starting eval.\n"
          ]
        },
        {
          "name": "stderr",
          "output_type": "stream",
          "text": [
            "127it [00:03, 41.50it/s]\n"
          ]
        },
        {
          "name": "stdout",
          "output_type": "stream",
          "text": [
            "Train Loss: 0.045152172446250916, Val Loss: 0.5204992890357971\n",
            "patience: 1\n",
            "Epoch: 21\n"
          ]
        },
        {
          "name": "stderr",
          "output_type": "stream",
          "text": [
            "328it [00:32, 10.13it/s]\n"
          ]
        },
        {
          "name": "stdout",
          "output_type": "stream",
          "text": [
            "Starting eval.\n"
          ]
        },
        {
          "name": "stderr",
          "output_type": "stream",
          "text": [
            "127it [00:03, 41.46it/s]\n"
          ]
        },
        {
          "name": "stdout",
          "output_type": "stream",
          "text": [
            "Train Loss: 0.0445532463490963, Val Loss: 0.5201582908630371\n",
            "Saving checkpoint.\n",
            "Epoch: 22\n"
          ]
        },
        {
          "name": "stderr",
          "output_type": "stream",
          "text": [
            "328it [00:32, 10.22it/s]\n"
          ]
        },
        {
          "name": "stdout",
          "output_type": "stream",
          "text": [
            "Starting eval.\n"
          ]
        },
        {
          "name": "stderr",
          "output_type": "stream",
          "text": [
            "127it [00:03, 41.20it/s]\n"
          ]
        },
        {
          "name": "stdout",
          "output_type": "stream",
          "text": [
            "Train Loss: 0.044422395527362823, Val Loss: 0.5199803113937378\n",
            "Saving checkpoint.\n",
            "Epoch: 23\n"
          ]
        },
        {
          "name": "stderr",
          "output_type": "stream",
          "text": [
            "328it [00:33,  9.94it/s]\n"
          ]
        },
        {
          "name": "stdout",
          "output_type": "stream",
          "text": [
            "Starting eval.\n"
          ]
        },
        {
          "name": "stderr",
          "output_type": "stream",
          "text": [
            "127it [00:03, 41.17it/s]\n"
          ]
        },
        {
          "name": "stdout",
          "output_type": "stream",
          "text": [
            "Train Loss: 0.04470685124397278, Val Loss: 0.519930362701416\n",
            "Saving checkpoint.\n",
            "Epoch: 24\n"
          ]
        },
        {
          "name": "stderr",
          "output_type": "stream",
          "text": [
            "328it [00:33,  9.77it/s]\n"
          ]
        },
        {
          "name": "stdout",
          "output_type": "stream",
          "text": [
            "Starting eval.\n"
          ]
        },
        {
          "name": "stderr",
          "output_type": "stream",
          "text": [
            "127it [00:03, 41.20it/s]\n"
          ]
        },
        {
          "name": "stdout",
          "output_type": "stream",
          "text": [
            "Train Loss: 0.044195111840963364, Val Loss: 0.5198062658309937\n",
            "Saving checkpoint.\n",
            "Epoch: 25\n"
          ]
        },
        {
          "name": "stderr",
          "output_type": "stream",
          "text": [
            "328it [00:33,  9.85it/s]\n"
          ]
        },
        {
          "name": "stdout",
          "output_type": "stream",
          "text": [
            "Starting eval.\n"
          ]
        },
        {
          "name": "stderr",
          "output_type": "stream",
          "text": [
            "127it [00:03, 41.17it/s]\n"
          ]
        },
        {
          "name": "stdout",
          "output_type": "stream",
          "text": [
            "Train Loss: 0.04399162903428078, Val Loss: 0.5199705958366394\n",
            "patience: 1\n",
            "Epoch: 26\n"
          ]
        },
        {
          "name": "stderr",
          "output_type": "stream",
          "text": [
            "328it [00:34,  9.60it/s]\n"
          ]
        },
        {
          "name": "stdout",
          "output_type": "stream",
          "text": [
            "Starting eval.\n"
          ]
        },
        {
          "name": "stderr",
          "output_type": "stream",
          "text": [
            "127it [00:03, 41.46it/s]\n"
          ]
        },
        {
          "name": "stdout",
          "output_type": "stream",
          "text": [
            "Train Loss: 0.04398209974169731, Val Loss: 0.5201356410980225\n",
            "patience: 2\n",
            "Epoch: 27\n"
          ]
        },
        {
          "name": "stderr",
          "output_type": "stream",
          "text": [
            "328it [00:33,  9.81it/s]\n"
          ]
        },
        {
          "name": "stdout",
          "output_type": "stream",
          "text": [
            "Starting eval.\n"
          ]
        },
        {
          "name": "stderr",
          "output_type": "stream",
          "text": [
            "127it [00:03, 41.47it/s]\n"
          ]
        },
        {
          "name": "stdout",
          "output_type": "stream",
          "text": [
            "Train Loss: 0.04384290426969528, Val Loss: 0.520131528377533\n",
            "patience: 3\n",
            "Epoch: 28\n"
          ]
        },
        {
          "name": "stderr",
          "output_type": "stream",
          "text": [
            "328it [00:33,  9.73it/s]\n"
          ]
        },
        {
          "name": "stdout",
          "output_type": "stream",
          "text": [
            "Starting eval.\n"
          ]
        },
        {
          "name": "stderr",
          "output_type": "stream",
          "text": [
            "127it [00:03, 41.13it/s]\n"
          ]
        },
        {
          "name": "stdout",
          "output_type": "stream",
          "text": [
            "Train Loss: 0.04369119182229042, Val Loss: 0.5199756026268005\n",
            "patience: 4\n",
            "Epoch: 29\n"
          ]
        },
        {
          "name": "stderr",
          "output_type": "stream",
          "text": [
            "328it [00:33,  9.67it/s]\n"
          ]
        },
        {
          "name": "stdout",
          "output_type": "stream",
          "text": [
            "Starting eval.\n"
          ]
        },
        {
          "name": "stderr",
          "output_type": "stream",
          "text": [
            "127it [00:03, 41.61it/s]\n"
          ]
        },
        {
          "name": "stdout",
          "output_type": "stream",
          "text": [
            "Train Loss: 0.04360850155353546, Val Loss: 0.5199511647224426\n",
            "patience: 5\n",
            "Early stopping.\n",
            "Fine-tuning completed.\n"
          ]
        }
      ],
      "source": [
        "ts_cols = [col for col in data.columns if col != \"date\"]\n",
        "train_data = data[data['date'] < '2022-07-01']\n",
        "val_data = data[(data['date'] >= '2022-07-01') & (data['date'] < '2023-01-01')]\n",
        "test_data = data[data['date'] >= '2023-01-01']\n",
        "dtl,test_batches=finetune(\n",
        "    model_name=\"google/timesfm-1.0-200m\",  # یا هر مدل دیگر\n",
        "    checkpoint_path=None,  # اگر از چک‌پوینت خاصی می‌خواهید استفاده کنید، مسیر را مشخص کنید\n",
        "    datetime_col=\"date\",\n",
        "    ts_cols=[\"y\"],\n",
        "    num_cov_cols=None,  # تعداد ستون‌های کوواریانس عددی\n",
        "    context_len=64,  # طول پنجره زمینه\n",
        "    horizon_len=1,  # طول پیش‌بینی\n",
        "    freq=\"D\",  # فرکانس داده‌ها (روزانه)\n",
        "    data_path=\"stock_data.csv\",  # مسیر فایل CSV\n",
        "    backend=\"gpu\",  # یا 'cpu' یا 'tpu'\n",
        "    batch_size=32,\n",
        "    num_epochs=100,\n",
        "    use_lora=True,\n",
        "    learning_rate=0.001,\n",
        "    adam_epsilon=1e-8,\n",
        "    adam_clip_threshold=1.0,\n",
        "    boundaries= (len(train_data)+64, len(train_data)+len(val_data)+64, len(data)),\n",
        "    cos_initial_decay_value=0.001,\n",
        "    cos_final_decay_value=0.0001,\n",
        "    cos_decay_steps=1000,\n",
        "    ema_decay=0.9999,\n",
        "    early_stop_patience=5,\n",
        "    checkpoint_dir=\"./checkpoints\",\n",
        "\n",
        ")\n",
        "\n"
      ]
    },
    {
      "cell_type": "code",
      "execution_count": 9,
      "metadata": {
        "colab": {
          "base_uri": "https://localhost:8080/"
        },
        "id": "FGDqVKHMzg6o",
        "outputId": "0ebd41ed-6d1e-4f4d-9b07-d6887ce9092d"
      },
      "outputs": [
        {
          "name": "stdout",
          "output_type": "stream",
          "text": [
            "Mounted at /content/drive\n"
          ]
        }
      ],
      "source": [
        "from google.colab import drive\n",
        "drive.mount('/content/drive')"
      ]
    },
    {
      "cell_type": "code",
      "execution_count": 9,
      "metadata": {
        "colab": {
          "base_uri": "https://localhost:8080/",
          "height": 219,
          "referenced_widgets": [
            "7885592c716b4ee889771b0baabf8002",
            "7e7b96a79dfe42aeb5f0b46f31bdecdb",
            "310d466b862147629d7216d8c465f19a",
            "dbb28111fce54907827741d50a0eb8b1",
            "e0b9eeee95cc453696887217d53eb5fb",
            "37e5942bbc704580b8018d8525dba03f",
            "34e63b9cfe7c4e6ba2c3ff9395b8d1b5",
            "d325fea2b00943b990b0a5afe11ad277",
            "638f436428294f13a09b39294868a787",
            "492bacbd4a344cac8a6206c7a4f38c67",
            "69269b38e3ed43b0841984d9ba9efd82"
          ]
        },
        "id": "TEGMFoRAbn8y",
        "outputId": "0dc36b09-b1c6-424d-e588-40b6b13d0648"
      },
      "outputs": [
        {
          "name": "stdout",
          "output_type": "stream",
          "text": [
            "Multiprocessing context has already been set.\n"
          ]
        },
        {
          "data": {
            "application/vnd.jupyter.widget-view+json": {
              "model_id": "7885592c716b4ee889771b0baabf8002",
              "version_major": 2,
              "version_minor": 0
            },
            "text/plain": [
              "Fetching 5 files:   0%|          | 0/5 [00:00<?, ?it/s]"
            ]
          },
          "metadata": {},
          "output_type": "display_data"
        },
        {
          "name": "stdout",
          "output_type": "stream",
          "text": [
            "Constructing model weights.\n",
            "Constructed model weights in 3.84 seconds.\n",
            "Restoring checkpoint from /root/.cache/huggingface/hub/models--google--timesfm-1.0-200m/snapshots/8775f7531211ac864b739fe776b0b255c277e2be/checkpoints.\n",
            "Restored checkpoint in 3.93 seconds.\n",
            "Jitting decoding.\n",
            "Jitted decoding in 33.44 seconds.\n"
          ]
        }
      ],
      "source": [
        "from timesfm import TimesFm, freq_map, data_loader\n",
        "\n",
        "from tqdm import tqdm\n",
        "import numpy as np\n",
        "import pandas as pd\n",
        "\n",
        "\n",
        "tfm = TimesFm(\n",
        "    context_len=64,\n",
        "    horizon_len=128,\n",
        "    input_patch_len=32,\n",
        "    output_patch_len=128,\n",
        "    num_layers=20,\n",
        "    model_dims=1280,\n",
        "    backend=\"gpu\",\n",
        ")\n",
        "tfm.load_from_checkpoint(repo_id=\"google/timesfm-1.0-200m\")"
      ]
    },
    {
      "cell_type": "code",
      "execution_count": 10,
      "metadata": {
        "id": "Kh1bVb6yyeyT"
      },
      "outputs": [],
      "source": [
        "import sys\n",
        "import os\n",
        "\n",
        "# اضافه کردن مسیر ماژول به sys.path\n",
        "sys.path.append(os.path.join(os.getcwd(), 'timesfm/src/adapter'))\n",
        "\n",
        "# حالا می‌توانید ماژول‌ها را وارد کنید\n",
        "from utils import load_adapter_checkpoint, load_adapter_layer"
      ]
    },
    {
      "cell_type": "code",
      "execution_count": 11,
      "metadata": {
        "colab": {
          "base_uri": "https://localhost:8080/"
        },
        "id": "MJrCbuwIbvLw",
        "outputId": "afb8cd36-5401-4909-9a6d-cbf115116c6b"
      },
      "outputs": [
        {
          "name": "stdout",
          "output_type": "stream",
          "text": [
            "Restoring adapter checkpoint from /content/checkpoints/run_20241108_135904.\n",
            "Restored adapter checkpoint in 9.75 seconds.\n",
            "Jitting decoding.\n",
            "Jitted decoding in 21.15 seconds.\n"
          ]
        }
      ],
      "source": [
        "load_adapter_checkpoint(\n",
        "    model=tfm,\n",
        "    adapter_checkpoint_path=\"/content/checkpoints/run_20241108_135904\",\n",
        "    lora_rank=8,\n",
        "    lora_target_modules=\"all\",\n",
        "    use_dora=False,\n",
        "\n",
        ")"
      ]
    },
    {
      "cell_type": "code",
      "execution_count": 14,
      "metadata": {
        "colab": {
          "base_uri": "https://localhost:8080/"
        },
        "id": "uxaVZczc49ba",
        "outputId": "6c8ead4b-9509-44a7-a0b3-1b840888de42"
      },
      "outputs": [
        {
          "name": "stderr",
          "output_type": "stream",
          "text": [
            "186it [00:03, 55.08it/s]"
          ]
        },
        {
          "name": "stdout",
          "output_type": "stream",
          "text": [
            "MSE: 0.004359005484730005\n"
          ]
        },
        {
          "name": "stderr",
          "output_type": "stream",
          "text": [
            "\n"
          ]
        }
      ],
      "source": [
        "    mse_losses = []\n",
        "    for batch in tqdm(test_batches.as_numpy_iterator()):\n",
        "        past = batch[0]\n",
        "        actuals = batch[3]\n",
        "\n",
        "        _, forecasts = tfm.forecast(list(past), [0] * past.shape[0])\n",
        "        forecasts = forecasts[:, 0 : actuals.shape[1], 5]\n",
        "\n",
        "        mse_losses.append(np.square(forecasts - actuals).mean())\n",
        "\n",
        "    print(f\"MSE: {np.mean(mse_losses)}\")"
      ]
    },
    {
      "cell_type": "code",
      "execution_count": 15,
      "metadata": {
        "colab": {
          "base_uri": "https://localhost:8080/"
        },
        "id": "D9L1BThlKKMB",
        "outputId": "b8869377-f52d-4991-bf67-911400221e75"
      },
      "outputs": [
        {
          "name": "stderr",
          "output_type": "stream",
          "text": [
            "\r[*********************100%***********************]  1 of 1 completed\n"
          ]
        },
        {
          "data": {
            "text/plain": [
              "5.03608915312845"
            ]
          },
          "execution_count": 15,
          "metadata": {},
          "output_type": "execute_result"
        }
      ],
      "source": [
        "from collections import defaultdict\n",
        "# Download stock data from Yahoo Finance\n",
        "ticker = 'AAPL'  # Example: Apple Inc.\n",
        "data = yf.download(ticker, start=\"2023-01-01\", end=\"2024-01-01\")\n",
        "data = data.dropna()\n",
        "\n",
        "df = data[['Close']].reset_index()\n",
        "df.columns = ['date', 'close']\n",
        "df['date'] = pd.to_datetime(df['date'])\n",
        "df.set_index('date', inplace=True)\n",
        "\n",
        "\n",
        "def get_batched_data_fn(batch_size: int = 32, context_len: int = 32, horizon_len: int = 1):\n",
        "    examples = defaultdict(list)\n",
        "    num_examples = 0\n",
        "    for start in range(0, len(df) - (context_len + horizon_len), horizon_len):\n",
        "        num_examples += 1\n",
        "        context_end = start + context_len\n",
        "        examples[\"inputs\"].append(df[\"close\"][start:context_end].tolist())\n",
        "        examples[\"outputs\"].append(df[\"close\"][context_end:context_end + horizon_len].tolist())\n",
        "        examples[\"dates\"].append(df.index[start:context_end + horizon_len].tolist())  # Add dates to examples\n",
        "\n",
        "    def data_fn():\n",
        "        for i in range(1 + (num_examples - 1) // batch_size):\n",
        "            yield {k: v[(i * batch_size): ((i + 1) * batch_size)] for k, v in examples.items()}\n",
        "\n",
        "    return data_fn\n",
        "context_len=64\n",
        "input_patch_len=32\n",
        "horizon_len=1\n",
        "batch_size=1\n",
        "\n",
        "input_data = get_batched_data_fn(batch_size=batch_size, context_len=context_len, horizon_len=horizon_len)\n",
        "\n",
        "results = []\n",
        "# Process in smaller sub-batches\n",
        "for i, example in enumerate(input_data()):\n",
        "    raw_forecast, _ = tfm.forecast(\n",
        "        inputs=example[\"inputs\"], freq=[0] * len(example[\"inputs\"])\n",
        "    )\n",
        "    for j in range(len(example[\"inputs\"])):\n",
        "        result = {\n",
        "            'input_index': j,\n",
        "            'train_start_date': str(example[\"dates\"][j][0]),\n",
        "            'train_end_date': str(example[\"dates\"][j][-2]),\n",
        "            'predict_date': str(example[\"dates\"][j][-1]),\n",
        "            'raw_forecast': raw_forecast[j][0],\n",
        "            'y_actual': example[\"outputs\"][j][0],\n",
        "            'batch_size': batch_size,\n",
        "            'context_len': context_len,\n",
        "            'input_patch_len': input_patch_len\n",
        "        }\n",
        "        results.append(result)\n",
        "results_df = pd.DataFrame(results)\n",
        "from sklearn.metrics import mean_squared_error, accuracy_score\n",
        "mean_squared_error(results_df['y_actual'], results_df['raw_forecast'])\n"
      ]
    }
  ],
  "metadata": {
    "accelerator": "GPU",
    "colab": {
      "gpuType": "T4",
      "provenance": []
    },
    "kernelspec": {
      "display_name": "Python 3",
      "name": "python3"
    },
    "language_info": {
      "name": "python"
    },
    "widgets": {
      "application/vnd.jupyter.widget-state+json": {
        "045648f455ab46fbace9bad2c8f9b254": {
          "model_module": "@jupyter-widgets/controls",
          "model_module_version": "1.5.0",
          "model_name": "DescriptionStyleModel",
          "state": {
            "_model_module": "@jupyter-widgets/controls",
            "_model_module_version": "1.5.0",
            "_model_name": "DescriptionStyleModel",
            "_view_count": null,
            "_view_module": "@jupyter-widgets/base",
            "_view_module_version": "1.2.0",
            "_view_name": "StyleView",
            "description_width": ""
          }
        },
        "13bac889d2e24eb9901f9cdfaa709528": {
          "model_module": "@jupyter-widgets/base",
          "model_module_version": "1.2.0",
          "model_name": "LayoutModel",
          "state": {
            "_model_module": "@jupyter-widgets/base",
            "_model_module_version": "1.2.0",
            "_model_name": "LayoutModel",
            "_view_count": null,
            "_view_module": "@jupyter-widgets/base",
            "_view_module_version": "1.2.0",
            "_view_name": "LayoutView",
            "align_content": null,
            "align_items": null,
            "align_self": null,
            "border": null,
            "bottom": null,
            "display": null,
            "flex": null,
            "flex_flow": null,
            "grid_area": null,
            "grid_auto_columns": null,
            "grid_auto_flow": null,
            "grid_auto_rows": null,
            "grid_column": null,
            "grid_gap": null,
            "grid_row": null,
            "grid_template_areas": null,
            "grid_template_columns": null,
            "grid_template_rows": null,
            "height": null,
            "justify_content": null,
            "justify_items": null,
            "left": null,
            "margin": null,
            "max_height": null,
            "max_width": null,
            "min_height": null,
            "min_width": null,
            "object_fit": null,
            "object_position": null,
            "order": null,
            "overflow": null,
            "overflow_x": null,
            "overflow_y": null,
            "padding": null,
            "right": null,
            "top": null,
            "visibility": null,
            "width": null
          }
        },
        "14b6a98596b244c29fe6b39b87d05410": {
          "model_module": "@jupyter-widgets/controls",
          "model_module_version": "1.5.0",
          "model_name": "FloatProgressModel",
          "state": {
            "_dom_classes": [],
            "_model_module": "@jupyter-widgets/controls",
            "_model_module_version": "1.5.0",
            "_model_name": "FloatProgressModel",
            "_view_count": null,
            "_view_module": "@jupyter-widgets/controls",
            "_view_module_version": "1.5.0",
            "_view_name": "ProgressView",
            "bar_style": "success",
            "description": "",
            "description_tooltip": null,
            "layout": "IPY_MODEL_ec9c212c0ed943c0ad98569c6121365f",
            "max": 5,
            "min": 0,
            "orientation": "horizontal",
            "style": "IPY_MODEL_eb2d63fe502f481db3f0b3baa76da0f7",
            "value": 5
          }
        },
        "310d466b862147629d7216d8c465f19a": {
          "model_module": "@jupyter-widgets/controls",
          "model_module_version": "1.5.0",
          "model_name": "FloatProgressModel",
          "state": {
            "_dom_classes": [],
            "_model_module": "@jupyter-widgets/controls",
            "_model_module_version": "1.5.0",
            "_model_name": "FloatProgressModel",
            "_view_count": null,
            "_view_module": "@jupyter-widgets/controls",
            "_view_module_version": "1.5.0",
            "_view_name": "ProgressView",
            "bar_style": "success",
            "description": "",
            "description_tooltip": null,
            "layout": "IPY_MODEL_d325fea2b00943b990b0a5afe11ad277",
            "max": 5,
            "min": 0,
            "orientation": "horizontal",
            "style": "IPY_MODEL_638f436428294f13a09b39294868a787",
            "value": 5
          }
        },
        "34e63b9cfe7c4e6ba2c3ff9395b8d1b5": {
          "model_module": "@jupyter-widgets/controls",
          "model_module_version": "1.5.0",
          "model_name": "DescriptionStyleModel",
          "state": {
            "_model_module": "@jupyter-widgets/controls",
            "_model_module_version": "1.5.0",
            "_model_name": "DescriptionStyleModel",
            "_view_count": null,
            "_view_module": "@jupyter-widgets/base",
            "_view_module_version": "1.2.0",
            "_view_name": "StyleView",
            "description_width": ""
          }
        },
        "37e5942bbc704580b8018d8525dba03f": {
          "model_module": "@jupyter-widgets/base",
          "model_module_version": "1.2.0",
          "model_name": "LayoutModel",
          "state": {
            "_model_module": "@jupyter-widgets/base",
            "_model_module_version": "1.2.0",
            "_model_name": "LayoutModel",
            "_view_count": null,
            "_view_module": "@jupyter-widgets/base",
            "_view_module_version": "1.2.0",
            "_view_name": "LayoutView",
            "align_content": null,
            "align_items": null,
            "align_self": null,
            "border": null,
            "bottom": null,
            "display": null,
            "flex": null,
            "flex_flow": null,
            "grid_area": null,
            "grid_auto_columns": null,
            "grid_auto_flow": null,
            "grid_auto_rows": null,
            "grid_column": null,
            "grid_gap": null,
            "grid_row": null,
            "grid_template_areas": null,
            "grid_template_columns": null,
            "grid_template_rows": null,
            "height": null,
            "justify_content": null,
            "justify_items": null,
            "left": null,
            "margin": null,
            "max_height": null,
            "max_width": null,
            "min_height": null,
            "min_width": null,
            "object_fit": null,
            "object_position": null,
            "order": null,
            "overflow": null,
            "overflow_x": null,
            "overflow_y": null,
            "padding": null,
            "right": null,
            "top": null,
            "visibility": null,
            "width": null
          }
        },
        "492bacbd4a344cac8a6206c7a4f38c67": {
          "model_module": "@jupyter-widgets/base",
          "model_module_version": "1.2.0",
          "model_name": "LayoutModel",
          "state": {
            "_model_module": "@jupyter-widgets/base",
            "_model_module_version": "1.2.0",
            "_model_name": "LayoutModel",
            "_view_count": null,
            "_view_module": "@jupyter-widgets/base",
            "_view_module_version": "1.2.0",
            "_view_name": "LayoutView",
            "align_content": null,
            "align_items": null,
            "align_self": null,
            "border": null,
            "bottom": null,
            "display": null,
            "flex": null,
            "flex_flow": null,
            "grid_area": null,
            "grid_auto_columns": null,
            "grid_auto_flow": null,
            "grid_auto_rows": null,
            "grid_column": null,
            "grid_gap": null,
            "grid_row": null,
            "grid_template_areas": null,
            "grid_template_columns": null,
            "grid_template_rows": null,
            "height": null,
            "justify_content": null,
            "justify_items": null,
            "left": null,
            "margin": null,
            "max_height": null,
            "max_width": null,
            "min_height": null,
            "min_width": null,
            "object_fit": null,
            "object_position": null,
            "order": null,
            "overflow": null,
            "overflow_x": null,
            "overflow_y": null,
            "padding": null,
            "right": null,
            "top": null,
            "visibility": null,
            "width": null
          }
        },
        "5b918209708c486d984dd9927bf45986": {
          "model_module": "@jupyter-widgets/controls",
          "model_module_version": "1.5.0",
          "model_name": "HBoxModel",
          "state": {
            "_dom_classes": [],
            "_model_module": "@jupyter-widgets/controls",
            "_model_module_version": "1.5.0",
            "_model_name": "HBoxModel",
            "_view_count": null,
            "_view_module": "@jupyter-widgets/controls",
            "_view_module_version": "1.5.0",
            "_view_name": "HBoxView",
            "box_style": "",
            "children": [
              "IPY_MODEL_a048b4d406654873889f19561ec064cc",
              "IPY_MODEL_14b6a98596b244c29fe6b39b87d05410",
              "IPY_MODEL_9be8a8b5d35a4a6bbb224c927814053b"
            ],
            "layout": "IPY_MODEL_13bac889d2e24eb9901f9cdfaa709528"
          }
        },
        "638f436428294f13a09b39294868a787": {
          "model_module": "@jupyter-widgets/controls",
          "model_module_version": "1.5.0",
          "model_name": "ProgressStyleModel",
          "state": {
            "_model_module": "@jupyter-widgets/controls",
            "_model_module_version": "1.5.0",
            "_model_name": "ProgressStyleModel",
            "_view_count": null,
            "_view_module": "@jupyter-widgets/base",
            "_view_module_version": "1.2.0",
            "_view_name": "StyleView",
            "bar_color": null,
            "description_width": ""
          }
        },
        "67a545f2aa45480784d9a7ed356b0dd8": {
          "model_module": "@jupyter-widgets/base",
          "model_module_version": "1.2.0",
          "model_name": "LayoutModel",
          "state": {
            "_model_module": "@jupyter-widgets/base",
            "_model_module_version": "1.2.0",
            "_model_name": "LayoutModel",
            "_view_count": null,
            "_view_module": "@jupyter-widgets/base",
            "_view_module_version": "1.2.0",
            "_view_name": "LayoutView",
            "align_content": null,
            "align_items": null,
            "align_self": null,
            "border": null,
            "bottom": null,
            "display": null,
            "flex": null,
            "flex_flow": null,
            "grid_area": null,
            "grid_auto_columns": null,
            "grid_auto_flow": null,
            "grid_auto_rows": null,
            "grid_column": null,
            "grid_gap": null,
            "grid_row": null,
            "grid_template_areas": null,
            "grid_template_columns": null,
            "grid_template_rows": null,
            "height": null,
            "justify_content": null,
            "justify_items": null,
            "left": null,
            "margin": null,
            "max_height": null,
            "max_width": null,
            "min_height": null,
            "min_width": null,
            "object_fit": null,
            "object_position": null,
            "order": null,
            "overflow": null,
            "overflow_x": null,
            "overflow_y": null,
            "padding": null,
            "right": null,
            "top": null,
            "visibility": null,
            "width": null
          }
        },
        "69269b38e3ed43b0841984d9ba9efd82": {
          "model_module": "@jupyter-widgets/controls",
          "model_module_version": "1.5.0",
          "model_name": "DescriptionStyleModel",
          "state": {
            "_model_module": "@jupyter-widgets/controls",
            "_model_module_version": "1.5.0",
            "_model_name": "DescriptionStyleModel",
            "_view_count": null,
            "_view_module": "@jupyter-widgets/base",
            "_view_module_version": "1.2.0",
            "_view_name": "StyleView",
            "description_width": ""
          }
        },
        "7885592c716b4ee889771b0baabf8002": {
          "model_module": "@jupyter-widgets/controls",
          "model_module_version": "1.5.0",
          "model_name": "HBoxModel",
          "state": {
            "_dom_classes": [],
            "_model_module": "@jupyter-widgets/controls",
            "_model_module_version": "1.5.0",
            "_model_name": "HBoxModel",
            "_view_count": null,
            "_view_module": "@jupyter-widgets/controls",
            "_view_module_version": "1.5.0",
            "_view_name": "HBoxView",
            "box_style": "",
            "children": [
              "IPY_MODEL_7e7b96a79dfe42aeb5f0b46f31bdecdb",
              "IPY_MODEL_310d466b862147629d7216d8c465f19a",
              "IPY_MODEL_dbb28111fce54907827741d50a0eb8b1"
            ],
            "layout": "IPY_MODEL_e0b9eeee95cc453696887217d53eb5fb"
          }
        },
        "7e005669491d4894ab385baf470aa4a9": {
          "model_module": "@jupyter-widgets/base",
          "model_module_version": "1.2.0",
          "model_name": "LayoutModel",
          "state": {
            "_model_module": "@jupyter-widgets/base",
            "_model_module_version": "1.2.0",
            "_model_name": "LayoutModel",
            "_view_count": null,
            "_view_module": "@jupyter-widgets/base",
            "_view_module_version": "1.2.0",
            "_view_name": "LayoutView",
            "align_content": null,
            "align_items": null,
            "align_self": null,
            "border": null,
            "bottom": null,
            "display": null,
            "flex": null,
            "flex_flow": null,
            "grid_area": null,
            "grid_auto_columns": null,
            "grid_auto_flow": null,
            "grid_auto_rows": null,
            "grid_column": null,
            "grid_gap": null,
            "grid_row": null,
            "grid_template_areas": null,
            "grid_template_columns": null,
            "grid_template_rows": null,
            "height": null,
            "justify_content": null,
            "justify_items": null,
            "left": null,
            "margin": null,
            "max_height": null,
            "max_width": null,
            "min_height": null,
            "min_width": null,
            "object_fit": null,
            "object_position": null,
            "order": null,
            "overflow": null,
            "overflow_x": null,
            "overflow_y": null,
            "padding": null,
            "right": null,
            "top": null,
            "visibility": null,
            "width": null
          }
        },
        "7e7b96a79dfe42aeb5f0b46f31bdecdb": {
          "model_module": "@jupyter-widgets/controls",
          "model_module_version": "1.5.0",
          "model_name": "HTMLModel",
          "state": {
            "_dom_classes": [],
            "_model_module": "@jupyter-widgets/controls",
            "_model_module_version": "1.5.0",
            "_model_name": "HTMLModel",
            "_view_count": null,
            "_view_module": "@jupyter-widgets/controls",
            "_view_module_version": "1.5.0",
            "_view_name": "HTMLView",
            "description": "",
            "description_tooltip": null,
            "layout": "IPY_MODEL_37e5942bbc704580b8018d8525dba03f",
            "placeholder": "​",
            "style": "IPY_MODEL_34e63b9cfe7c4e6ba2c3ff9395b8d1b5",
            "value": "Fetching 5 files: 100%"
          }
        },
        "82dc29b2fc824205b174e8a381a8f09a": {
          "model_module": "@jupyter-widgets/controls",
          "model_module_version": "1.5.0",
          "model_name": "DescriptionStyleModel",
          "state": {
            "_model_module": "@jupyter-widgets/controls",
            "_model_module_version": "1.5.0",
            "_model_name": "DescriptionStyleModel",
            "_view_count": null,
            "_view_module": "@jupyter-widgets/base",
            "_view_module_version": "1.2.0",
            "_view_name": "StyleView",
            "description_width": ""
          }
        },
        "9be8a8b5d35a4a6bbb224c927814053b": {
          "model_module": "@jupyter-widgets/controls",
          "model_module_version": "1.5.0",
          "model_name": "HTMLModel",
          "state": {
            "_dom_classes": [],
            "_model_module": "@jupyter-widgets/controls",
            "_model_module_version": "1.5.0",
            "_model_name": "HTMLModel",
            "_view_count": null,
            "_view_module": "@jupyter-widgets/controls",
            "_view_module_version": "1.5.0",
            "_view_name": "HTMLView",
            "description": "",
            "description_tooltip": null,
            "layout": "IPY_MODEL_67a545f2aa45480784d9a7ed356b0dd8",
            "placeholder": "​",
            "style": "IPY_MODEL_82dc29b2fc824205b174e8a381a8f09a",
            "value": " 5/5 [00:00&lt;00:00, 258.81it/s]"
          }
        },
        "a048b4d406654873889f19561ec064cc": {
          "model_module": "@jupyter-widgets/controls",
          "model_module_version": "1.5.0",
          "model_name": "HTMLModel",
          "state": {
            "_dom_classes": [],
            "_model_module": "@jupyter-widgets/controls",
            "_model_module_version": "1.5.0",
            "_model_name": "HTMLModel",
            "_view_count": null,
            "_view_module": "@jupyter-widgets/controls",
            "_view_module_version": "1.5.0",
            "_view_name": "HTMLView",
            "description": "",
            "description_tooltip": null,
            "layout": "IPY_MODEL_7e005669491d4894ab385baf470aa4a9",
            "placeholder": "​",
            "style": "IPY_MODEL_045648f455ab46fbace9bad2c8f9b254",
            "value": "Fetching 5 files: 100%"
          }
        },
        "d325fea2b00943b990b0a5afe11ad277": {
          "model_module": "@jupyter-widgets/base",
          "model_module_version": "1.2.0",
          "model_name": "LayoutModel",
          "state": {
            "_model_module": "@jupyter-widgets/base",
            "_model_module_version": "1.2.0",
            "_model_name": "LayoutModel",
            "_view_count": null,
            "_view_module": "@jupyter-widgets/base",
            "_view_module_version": "1.2.0",
            "_view_name": "LayoutView",
            "align_content": null,
            "align_items": null,
            "align_self": null,
            "border": null,
            "bottom": null,
            "display": null,
            "flex": null,
            "flex_flow": null,
            "grid_area": null,
            "grid_auto_columns": null,
            "grid_auto_flow": null,
            "grid_auto_rows": null,
            "grid_column": null,
            "grid_gap": null,
            "grid_row": null,
            "grid_template_areas": null,
            "grid_template_columns": null,
            "grid_template_rows": null,
            "height": null,
            "justify_content": null,
            "justify_items": null,
            "left": null,
            "margin": null,
            "max_height": null,
            "max_width": null,
            "min_height": null,
            "min_width": null,
            "object_fit": null,
            "object_position": null,
            "order": null,
            "overflow": null,
            "overflow_x": null,
            "overflow_y": null,
            "padding": null,
            "right": null,
            "top": null,
            "visibility": null,
            "width": null
          }
        },
        "dbb28111fce54907827741d50a0eb8b1": {
          "model_module": "@jupyter-widgets/controls",
          "model_module_version": "1.5.0",
          "model_name": "HTMLModel",
          "state": {
            "_dom_classes": [],
            "_model_module": "@jupyter-widgets/controls",
            "_model_module_version": "1.5.0",
            "_model_name": "HTMLModel",
            "_view_count": null,
            "_view_module": "@jupyter-widgets/controls",
            "_view_module_version": "1.5.0",
            "_view_name": "HTMLView",
            "description": "",
            "description_tooltip": null,
            "layout": "IPY_MODEL_492bacbd4a344cac8a6206c7a4f38c67",
            "placeholder": "​",
            "style": "IPY_MODEL_69269b38e3ed43b0841984d9ba9efd82",
            "value": " 5/5 [00:00&lt;00:00, 328.78it/s]"
          }
        },
        "e0b9eeee95cc453696887217d53eb5fb": {
          "model_module": "@jupyter-widgets/base",
          "model_module_version": "1.2.0",
          "model_name": "LayoutModel",
          "state": {
            "_model_module": "@jupyter-widgets/base",
            "_model_module_version": "1.2.0",
            "_model_name": "LayoutModel",
            "_view_count": null,
            "_view_module": "@jupyter-widgets/base",
            "_view_module_version": "1.2.0",
            "_view_name": "LayoutView",
            "align_content": null,
            "align_items": null,
            "align_self": null,
            "border": null,
            "bottom": null,
            "display": null,
            "flex": null,
            "flex_flow": null,
            "grid_area": null,
            "grid_auto_columns": null,
            "grid_auto_flow": null,
            "grid_auto_rows": null,
            "grid_column": null,
            "grid_gap": null,
            "grid_row": null,
            "grid_template_areas": null,
            "grid_template_columns": null,
            "grid_template_rows": null,
            "height": null,
            "justify_content": null,
            "justify_items": null,
            "left": null,
            "margin": null,
            "max_height": null,
            "max_width": null,
            "min_height": null,
            "min_width": null,
            "object_fit": null,
            "object_position": null,
            "order": null,
            "overflow": null,
            "overflow_x": null,
            "overflow_y": null,
            "padding": null,
            "right": null,
            "top": null,
            "visibility": null,
            "width": null
          }
        },
        "eb2d63fe502f481db3f0b3baa76da0f7": {
          "model_module": "@jupyter-widgets/controls",
          "model_module_version": "1.5.0",
          "model_name": "ProgressStyleModel",
          "state": {
            "_model_module": "@jupyter-widgets/controls",
            "_model_module_version": "1.5.0",
            "_model_name": "ProgressStyleModel",
            "_view_count": null,
            "_view_module": "@jupyter-widgets/base",
            "_view_module_version": "1.2.0",
            "_view_name": "StyleView",
            "bar_color": null,
            "description_width": ""
          }
        },
        "ec9c212c0ed943c0ad98569c6121365f": {
          "model_module": "@jupyter-widgets/base",
          "model_module_version": "1.2.0",
          "model_name": "LayoutModel",
          "state": {
            "_model_module": "@jupyter-widgets/base",
            "_model_module_version": "1.2.0",
            "_model_name": "LayoutModel",
            "_view_count": null,
            "_view_module": "@jupyter-widgets/base",
            "_view_module_version": "1.2.0",
            "_view_name": "LayoutView",
            "align_content": null,
            "align_items": null,
            "align_self": null,
            "border": null,
            "bottom": null,
            "display": null,
            "flex": null,
            "flex_flow": null,
            "grid_area": null,
            "grid_auto_columns": null,
            "grid_auto_flow": null,
            "grid_auto_rows": null,
            "grid_column": null,
            "grid_gap": null,
            "grid_row": null,
            "grid_template_areas": null,
            "grid_template_columns": null,
            "grid_template_rows": null,
            "height": null,
            "justify_content": null,
            "justify_items": null,
            "left": null,
            "margin": null,
            "max_height": null,
            "max_width": null,
            "min_height": null,
            "min_width": null,
            "object_fit": null,
            "object_position": null,
            "order": null,
            "overflow": null,
            "overflow_x": null,
            "overflow_y": null,
            "padding": null,
            "right": null,
            "top": null,
            "visibility": null,
            "width": null
          }
        }
      }
    }
  },
  "nbformat": 4,
  "nbformat_minor": 0
}
