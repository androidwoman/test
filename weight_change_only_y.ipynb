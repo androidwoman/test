{
  "cells": [
    {
      "cell_type": "code",
      "execution_count": 1,
      "metadata": {
        "colab": {
          "base_uri": "https://localhost:8080/",
          "height": 1000
        },
        "id": "Q9eCwB8v-hsQ",
        "outputId": "a04f6494-98e5-4a92-830a-19d6019f9052"
      },
      "outputs": [
        {
          "output_type": "stream",
          "name": "stdout",
          "text": [
            "Requirement already satisfied: yfinance in /usr/local/lib/python3.10/dist-packages (0.2.49)\n",
            "Collecting timesfm==1.1.0\n",
            "  Downloading timesfm-1.1.0-py3-none-any.whl.metadata (12 kB)\n",
            "Collecting einshape>=1.0.0 (from timesfm==1.1.0)\n",
            "  Downloading einshape-1.0-py3-none-any.whl.metadata (706 bytes)\n",
            "Requirement already satisfied: huggingface_hub>=0.23.0 in /usr/local/lib/python3.10/dist-packages (from huggingface_hub[cli]>=0.23.0->timesfm==1.1.0) (0.26.2)\n",
            "Requirement already satisfied: jax>=0.4.26 in /usr/local/lib/python3.10/dist-packages (from jax[cuda12]>=0.4.26->timesfm==1.1.0) (0.4.33)\n",
            "Requirement already satisfied: jaxlib>=0.4.26 in /usr/local/lib/python3.10/dist-packages (from timesfm==1.1.0) (0.4.33)\n",
            "Requirement already satisfied: numpy>=1.26.4 in /usr/local/lib/python3.10/dist-packages (from timesfm==1.1.0) (1.26.4)\n",
            "Requirement already satisfied: pandas>=2.1.4 in /usr/local/lib/python3.10/dist-packages (from timesfm==1.1.0) (2.2.2)\n",
            "Collecting paxml>=1.4.0 (from timesfm==1.1.0)\n",
            "  Downloading paxml-1.4.0-py3-none-any.whl.metadata (1.3 kB)\n",
            "Requirement already satisfied: scikit-learn>=1.2.2 in /usr/local/lib/python3.10/dist-packages (from timesfm==1.1.0) (1.5.2)\n",
            "Requirement already satisfied: typer>=0.12.3 in /usr/local/lib/python3.10/dist-packages (from timesfm==1.1.0) (0.13.0)\n",
            "Collecting utilsforecast>=0.1.10 (from timesfm==1.1.0)\n",
            "  Downloading utilsforecast-0.2.9-py3-none-any.whl.metadata (7.4 kB)\n",
            "Requirement already satisfied: wandb>=0.17.5 in /usr/local/lib/python3.10/dist-packages (from timesfm==1.1.0) (0.18.7)\n",
            "Requirement already satisfied: requests>=2.31 in /usr/local/lib/python3.10/dist-packages (from yfinance) (2.32.3)\n",
            "Requirement already satisfied: multitasking>=0.0.7 in /usr/local/lib/python3.10/dist-packages (from yfinance) (0.0.11)\n",
            "Requirement already satisfied: lxml>=4.9.1 in /usr/local/lib/python3.10/dist-packages (from yfinance) (5.3.0)\n",
            "Requirement already satisfied: platformdirs>=2.0.0 in /usr/local/lib/python3.10/dist-packages (from yfinance) (4.3.6)\n",
            "Requirement already satisfied: pytz>=2022.5 in /usr/local/lib/python3.10/dist-packages (from yfinance) (2024.2)\n",
            "Requirement already satisfied: frozendict>=2.3.4 in /usr/local/lib/python3.10/dist-packages (from yfinance) (2.4.6)\n",
            "Requirement already satisfied: peewee>=3.16.2 in /usr/local/lib/python3.10/dist-packages (from yfinance) (3.17.8)\n",
            "Requirement already satisfied: beautifulsoup4>=4.11.1 in /usr/local/lib/python3.10/dist-packages (from yfinance) (4.12.3)\n",
            "Requirement already satisfied: html5lib>=1.1 in /usr/local/lib/python3.10/dist-packages (from yfinance) (1.1)\n",
            "Requirement already satisfied: soupsieve>1.2 in /usr/local/lib/python3.10/dist-packages (from beautifulsoup4>=4.11.1->yfinance) (2.6)\n",
            "Requirement already satisfied: absl-py in /usr/local/lib/python3.10/dist-packages (from einshape>=1.0.0->timesfm==1.1.0) (1.4.0)\n",
            "Requirement already satisfied: six>=1.9 in /usr/local/lib/python3.10/dist-packages (from html5lib>=1.1->yfinance) (1.16.0)\n",
            "Requirement already satisfied: webencodings in /usr/local/lib/python3.10/dist-packages (from html5lib>=1.1->yfinance) (0.5.1)\n",
            "Requirement already satisfied: filelock in /usr/local/lib/python3.10/dist-packages (from huggingface_hub>=0.23.0->huggingface_hub[cli]>=0.23.0->timesfm==1.1.0) (3.16.1)\n",
            "Requirement already satisfied: fsspec>=2023.5.0 in /usr/local/lib/python3.10/dist-packages (from huggingface_hub>=0.23.0->huggingface_hub[cli]>=0.23.0->timesfm==1.1.0) (2024.10.0)\n",
            "Requirement already satisfied: packaging>=20.9 in /usr/local/lib/python3.10/dist-packages (from huggingface_hub>=0.23.0->huggingface_hub[cli]>=0.23.0->timesfm==1.1.0) (24.2)\n",
            "Requirement already satisfied: pyyaml>=5.1 in /usr/local/lib/python3.10/dist-packages (from huggingface_hub>=0.23.0->huggingface_hub[cli]>=0.23.0->timesfm==1.1.0) (6.0.2)\n",
            "Requirement already satisfied: tqdm>=4.42.1 in /usr/local/lib/python3.10/dist-packages (from huggingface_hub>=0.23.0->huggingface_hub[cli]>=0.23.0->timesfm==1.1.0) (4.66.6)\n",
            "Requirement already satisfied: typing-extensions>=3.7.4.3 in /usr/local/lib/python3.10/dist-packages (from huggingface_hub>=0.23.0->huggingface_hub[cli]>=0.23.0->timesfm==1.1.0) (4.12.2)\n",
            "Collecting InquirerPy==0.3.4 (from huggingface_hub[cli]>=0.23.0->timesfm==1.1.0)\n",
            "  Downloading InquirerPy-0.3.4-py3-none-any.whl.metadata (8.1 kB)\n",
            "Collecting pfzy<0.4.0,>=0.3.1 (from InquirerPy==0.3.4->huggingface_hub[cli]>=0.23.0->timesfm==1.1.0)\n",
            "  Downloading pfzy-0.3.4-py3-none-any.whl.metadata (4.9 kB)\n",
            "Requirement already satisfied: prompt-toolkit<4.0.0,>=3.0.1 in /usr/local/lib/python3.10/dist-packages (from InquirerPy==0.3.4->huggingface_hub[cli]>=0.23.0->timesfm==1.1.0) (3.0.48)\n",
            "Requirement already satisfied: ml-dtypes>=0.2.0 in /usr/local/lib/python3.10/dist-packages (from jax>=0.4.26->jax[cuda12]>=0.4.26->timesfm==1.1.0) (0.4.1)\n",
            "Requirement already satisfied: opt-einsum in /usr/local/lib/python3.10/dist-packages (from jax>=0.4.26->jax[cuda12]>=0.4.26->timesfm==1.1.0) (3.4.0)\n",
            "Requirement already satisfied: scipy>=1.10 in /usr/local/lib/python3.10/dist-packages (from jax>=0.4.26->jax[cuda12]>=0.4.26->timesfm==1.1.0) (1.13.1)\n",
            "Requirement already satisfied: jax-cuda12-plugin<=0.4.33,>=0.4.33 in /usr/local/lib/python3.10/dist-packages (from jax-cuda12-plugin[with_cuda]<=0.4.33,>=0.4.33; extra == \"cuda12\"->jax[cuda12]>=0.4.26->timesfm==1.1.0) (0.4.33)\n",
            "Requirement already satisfied: python-dateutil>=2.8.2 in /usr/local/lib/python3.10/dist-packages (from pandas>=2.1.4->timesfm==1.1.0) (2.8.2)\n",
            "Requirement already satisfied: tzdata>=2022.7 in /usr/local/lib/python3.10/dist-packages (from pandas>=2.1.4->timesfm==1.1.0) (2024.2)\n",
            "Collecting clu==0.0.11 (from paxml>=1.4.0->timesfm==1.1.0)\n",
            "  Downloading clu-0.0.11-py3-none-any.whl.metadata (1.9 kB)\n",
            "Collecting etils==1.7.0 (from paxml>=1.4.0->timesfm==1.1.0)\n",
            "  Downloading etils-1.7.0-py3-none-any.whl.metadata (6.4 kB)\n",
            "Collecting flax==0.8.2 (from paxml>=1.4.0->timesfm==1.1.0)\n",
            "  Downloading flax-0.8.2-py3-none-any.whl.metadata (10 kB)\n",
            "Collecting graphviz==0.20.1 (from paxml>=1.4.0->timesfm==1.1.0)\n",
            "  Downloading graphviz-0.20.1-py3-none-any.whl.metadata (12 kB)\n",
            "INFO: pip is looking at multiple versions of paxml to determine which version is compatible with other requirements. This could take a while.\n",
            "Collecting jax[cuda12]>=0.4.26 (from timesfm==1.1.0)\n",
            "  Downloading jax-0.4.35-py3-none-any.whl.metadata (22 kB)\n",
            "INFO: pip is looking at multiple versions of jax[cuda12] to determine which version is compatible with other requirements. This could take a while.\n",
            "  Downloading jax-0.4.34-py3-none-any.whl.metadata (22 kB)\n",
            "  Downloading jax-0.4.33-py3-none-any.whl.metadata (22 kB)\n",
            "  Downloading jax-0.4.31-py3-none-any.whl.metadata (22 kB)\n",
            "  Downloading jax-0.4.30-py3-none-any.whl.metadata (22 kB)\n",
            "  Downloading jax-0.4.29-py3-none-any.whl.metadata (23 kB)\n",
            "  Downloading jax-0.4.28-py3-none-any.whl.metadata (23 kB)\n",
            "INFO: pip is still looking at multiple versions of jax[cuda12] to determine which version is compatible with other requirements. This could take a while.\n",
            "  Downloading jax-0.4.27-py3-none-any.whl.metadata (23 kB)\n",
            "  Downloading jax-0.4.26-py3-none-any.whl.metadata (23 kB)\n",
            "Collecting jaxlib>=0.4.26 (from timesfm==1.1.0)\n",
            "  Downloading jaxlib-0.4.35-cp310-cp310-manylinux2014_x86_64.whl.metadata (983 bytes)\n",
            "  Downloading jaxlib-0.4.34-cp310-cp310-manylinux2014_x86_64.whl.metadata (983 bytes)\n",
            "Collecting jax-cuda12-plugin<=0.4.35,>=0.4.34 (from jax-cuda12-plugin[with_cuda]<=0.4.35,>=0.4.34; extra == \"cuda12\"->jax[cuda12]>=0.4.26->timesfm==1.1.0)\n",
            "  Downloading jax_cuda12_plugin-0.4.35-cp310-cp310-manylinux2014_x86_64.whl.metadata (1.2 kB)\n",
            "Collecting jax-cuda12-plugin<=0.4.34,>=0.4.34 (from jax-cuda12-plugin[with_cuda]<=0.4.34,>=0.4.34; extra == \"cuda12\"->jax[cuda12]>=0.4.26->timesfm==1.1.0)\n",
            "  Downloading jax_cuda12_plugin-0.4.34-cp310-cp310-manylinux2014_x86_64.whl.metadata (1.2 kB)\n",
            "INFO: This is taking longer than usual. You might need to provide the dependency resolver with stricter constraints to reduce runtime. See https://pip.pypa.io/warnings/backtracking for guidance. If you want to abort this run, press Ctrl + C.\n",
            "Collecting jaxlib>=0.4.26 (from timesfm==1.1.0)\n",
            "  Downloading jaxlib-0.4.31-cp310-cp310-manylinux2014_x86_64.whl.metadata (983 bytes)\n",
            "Collecting jax-cuda12-plugin<=0.4.31,>=0.4.31 (from jax-cuda12-plugin[with_cuda]<=0.4.31,>=0.4.31; extra == \"cuda12\"->jax[cuda12]>=0.4.26->timesfm==1.1.0)\n",
            "  Downloading jax_cuda12_plugin-0.4.31-cp310-cp310-manylinux2014_x86_64.whl.metadata (1.2 kB)\n",
            "Collecting jaxlib>=0.4.26 (from timesfm==1.1.0)\n",
            "  Downloading jaxlib-0.4.30-cp310-cp310-manylinux2014_x86_64.whl.metadata (1.0 kB)\n",
            "Collecting jax-cuda12-plugin<=0.4.30,>=0.4.30 (from jax-cuda12-plugin[with_cuda]<=0.4.30,>=0.4.30; extra == \"cuda12\"->jax[cuda12]>=0.4.26->timesfm==1.1.0)\n",
            "  Downloading jax_cuda12_plugin-0.4.30-cp310-cp310-manylinux2014_x86_64.whl.metadata (1.3 kB)\n",
            "INFO: pip is still looking at multiple versions of paxml to determine which version is compatible with other requirements. This could take a while.\n",
            "Collecting jaxlib>=0.4.26 (from timesfm==1.1.0)\n",
            "  Downloading jaxlib-0.4.29-cp310-cp310-manylinux2014_x86_64.whl.metadata (1.8 kB)\n",
            "Collecting jax-cuda12-plugin==0.4.29 (from jax[cuda12]>=0.4.26->timesfm==1.1.0)\n",
            "  Downloading jax_cuda12_plugin-0.4.29-cp310-cp310-manylinux2014_x86_64.whl.metadata (560 bytes)\n",
            "Requirement already satisfied: nvidia-cublas-cu12>=12.1.3.1 in /usr/local/lib/python3.10/dist-packages (from jax[cuda12]>=0.4.26->timesfm==1.1.0) (12.6.3.3)\n",
            "Requirement already satisfied: nvidia-cuda-cupti-cu12>=12.1.105 in /usr/local/lib/python3.10/dist-packages (from jax[cuda12]>=0.4.26->timesfm==1.1.0) (12.6.80)\n",
            "Requirement already satisfied: nvidia-cuda-nvcc-cu12>=12.1.105 in /usr/local/lib/python3.10/dist-packages (from jax[cuda12]>=0.4.26->timesfm==1.1.0) (12.6.77)\n",
            "Requirement already satisfied: nvidia-cuda-runtime-cu12>=12.1.105 in /usr/local/lib/python3.10/dist-packages (from jax[cuda12]>=0.4.26->timesfm==1.1.0) (12.6.77)\n",
            "Requirement already satisfied: nvidia-cudnn-cu12<10.0,>=9.0 in /usr/local/lib/python3.10/dist-packages (from jax[cuda12]>=0.4.26->timesfm==1.1.0) (9.5.1.17)\n",
            "Requirement already satisfied: nvidia-cufft-cu12>=11.0.2.54 in /usr/local/lib/python3.10/dist-packages (from jax[cuda12]>=0.4.26->timesfm==1.1.0) (11.3.0.4)\n",
            "Requirement already satisfied: nvidia-cusolver-cu12>=11.4.5.107 in /usr/local/lib/python3.10/dist-packages (from jax[cuda12]>=0.4.26->timesfm==1.1.0) (11.7.1.2)\n",
            "Requirement already satisfied: nvidia-cusparse-cu12>=12.1.0.106 in /usr/local/lib/python3.10/dist-packages (from jax[cuda12]>=0.4.26->timesfm==1.1.0) (12.5.4.2)\n",
            "Requirement already satisfied: nvidia-nccl-cu12>=2.18.1 in /usr/local/lib/python3.10/dist-packages (from jax[cuda12]>=0.4.26->timesfm==1.1.0) (2.23.4)\n",
            "Requirement already satisfied: nvidia-nvjitlink-cu12>=12.1.105 in /usr/local/lib/python3.10/dist-packages (from jax[cuda12]>=0.4.26->timesfm==1.1.0) (12.6.77)\n",
            "Collecting jax-cuda12-pjrt==0.4.29 (from jax-cuda12-plugin==0.4.29->jax[cuda12]>=0.4.26->timesfm==1.1.0)\n",
            "  Downloading jax_cuda12_pjrt-0.4.29-py3-none-manylinux2014_x86_64.whl.metadata (349 bytes)\n",
            "Collecting jaxlib>=0.4.26 (from timesfm==1.1.0)\n",
            "  Downloading jaxlib-0.4.28-cp310-cp310-manylinux2014_x86_64.whl.metadata (1.8 kB)\n",
            "Collecting jax-cuda12-plugin==0.4.28 (from jax[cuda12]>=0.4.26->timesfm==1.1.0)\n",
            "  Downloading jax_cuda12_plugin-0.4.28-cp310-cp310-manylinux2014_x86_64.whl.metadata (560 bytes)\n",
            "Collecting nvidia-cudnn-cu12<9.0,>=8.9.2.26 (from jax[cuda12]>=0.4.26->timesfm==1.1.0)\n",
            "  Downloading nvidia_cudnn_cu12-8.9.7.29-py3-none-manylinux1_x86_64.whl.metadata (1.6 kB)\n",
            "Collecting jax-cuda12-pjrt==0.4.28 (from jax-cuda12-plugin==0.4.28->jax[cuda12]>=0.4.26->timesfm==1.1.0)\n",
            "  Downloading jax_cuda12_pjrt-0.4.28-py3-none-manylinux2014_x86_64.whl.metadata (349 bytes)\n",
            "Collecting jaxlib>=0.4.26 (from timesfm==1.1.0)\n",
            "  Downloading jaxlib-0.4.27-cp310-cp310-manylinux2014_x86_64.whl.metadata (1.8 kB)\n",
            "Collecting jax-cuda12-plugin==0.4.27 (from jax[cuda12]>=0.4.26->timesfm==1.1.0)\n",
            "  Downloading jax_cuda12_plugin-0.4.27-cp310-cp310-manylinux2014_x86_64.whl.metadata (560 bytes)\n",
            "Collecting jax-cuda12-pjrt==0.4.27 (from jax-cuda12-plugin==0.4.27->jax[cuda12]>=0.4.26->timesfm==1.1.0)\n",
            "  Downloading jax_cuda12_pjrt-0.4.27-py3-none-manylinux2014_x86_64.whl.metadata (349 bytes)\n",
            "INFO: This is taking longer than usual. You might need to provide the dependency resolver with stricter constraints to reduce runtime. See https://pip.pypa.io/warnings/backtracking for guidance. If you want to abort this run, press Ctrl + C.\n",
            "Collecting jaxlib>=0.4.26 (from timesfm==1.1.0)\n",
            "  Downloading jaxlib-0.4.26-cp310-cp310-manylinux2014_x86_64.whl.metadata (1.8 kB)\n",
            "Collecting jax-cuda12-plugin==0.4.26 (from jax[cuda12]>=0.4.26->timesfm==1.1.0)\n",
            "  Downloading jax_cuda12_plugin-0.4.26-cp310-cp310-manylinux2014_x86_64.whl.metadata (560 bytes)\n",
            "Collecting jax-cuda12-pjrt==0.4.26 (from jax-cuda12-plugin==0.4.26->jax[cuda12]>=0.4.26->timesfm==1.1.0)\n",
            "  Downloading jax_cuda12_pjrt-0.4.26-py3-none-manylinux2014_x86_64.whl.metadata (349 bytes)\n",
            "Collecting lingvo==0.12.7 (from paxml>=1.4.0->timesfm==1.1.0)\n",
            "  Downloading lingvo-0.12.7-cp310-cp310-manylinux_2_17_x86_64.manylinux2014_x86_64.whl.metadata (1.5 kB)\n",
            "Collecting orbax-checkpoint==0.5.9 (from paxml>=1.4.0->timesfm==1.1.0)\n",
            "  Downloading orbax_checkpoint-0.5.9-py3-none-any.whl.metadata (1.7 kB)\n",
            "Collecting praxis==1.4.0 (from paxml>=1.4.0->timesfm==1.1.0)\n",
            "  Downloading praxis-1.4.0-py3-none-any.whl.metadata (1.2 kB)\n",
            "Collecting protobuf==3.19.6 (from paxml>=1.4.0->timesfm==1.1.0)\n",
            "  Downloading protobuf-3.19.6-cp310-cp310-manylinux_2_17_x86_64.manylinux2014_x86_64.whl.metadata (787 bytes)\n",
            "Collecting pyglove==0.4.4 (from paxml>=1.4.0->timesfm==1.1.0)\n",
            "  Downloading pyglove-0.4.4-py3-none-any.whl.metadata (6.7 kB)\n",
            "Collecting seqio-nightly==0.0.17.dev20231010 (from paxml>=1.4.0->timesfm==1.1.0)\n",
            "  Downloading seqio_nightly-0.0.17.dev20231010-py3-none-any.whl.metadata (51 kB)\n",
            "\u001b[2K     \u001b[90m━━━━━━━━━━━━━━━━━━━━━━━━━━━━━━━━━━━━━━━━\u001b[0m \u001b[32m51.9/51.9 kB\u001b[0m \u001b[31m3.1 MB/s\u001b[0m eta \u001b[36m0:00:00\u001b[0m\n",
            "\u001b[?25hCollecting t5==0.9.4 (from paxml>=1.4.0->timesfm==1.1.0)\n",
            "  Downloading t5-0.9.4-py2.py3-none-any.whl.metadata (25 kB)\n",
            "Collecting tensorflow-datasets==4.8.3 (from paxml>=1.4.0->timesfm==1.1.0)\n",
            "  Downloading tensorflow_datasets-4.8.3-py3-none-any.whl.metadata (8.9 kB)\n",
            "Collecting tensorflow-metadata==1.12.0 (from paxml>=1.4.0->timesfm==1.1.0)\n",
            "  Downloading tensorflow_metadata-1.12.0-py3-none-any.whl.metadata (2.2 kB)\n",
            "Collecting tensorflow-text~=2.9.0 (from paxml>=1.4.0->timesfm==1.1.0)\n",
            "  Downloading tensorflow_text-2.9.0-cp310-cp310-manylinux_2_17_x86_64.manylinux2014_x86_64.whl.metadata (2.0 kB)\n",
            "Collecting tensorflow~=2.9.2 (from paxml>=1.4.0->timesfm==1.1.0)\n",
            "  Downloading tensorflow-2.9.3-cp310-cp310-manylinux_2_17_x86_64.manylinux2014_x86_64.whl.metadata (3.0 kB)\n",
            "Collecting tensorstore==0.1.55 (from paxml>=1.4.0->timesfm==1.1.0)\n",
            "  Downloading tensorstore-0.1.55-cp310-cp310-manylinux_2_17_x86_64.manylinux2014_x86_64.whl.metadata (3.0 kB)\n",
            "Collecting tfds-nightly==4.8.3.dev202303280045 (from paxml>=1.4.0->timesfm==1.1.0)\n",
            "  Downloading tfds_nightly-4.8.3.dev202303280045-py3-none-any.whl.metadata (9.0 kB)\n",
            "Collecting ml-collections (from clu==0.0.11->paxml>=1.4.0->timesfm==1.1.0)\n",
            "  Downloading ml_collections-1.0.0-py3-none-any.whl.metadata (22 kB)\n",
            "Requirement already satisfied: wrapt in /usr/local/lib/python3.10/dist-packages (from clu==0.0.11->paxml>=1.4.0->timesfm==1.1.0) (1.16.0)\n",
            "Requirement already satisfied: msgpack in /usr/local/lib/python3.10/dist-packages (from flax==0.8.2->paxml>=1.4.0->timesfm==1.1.0) (1.1.0)\n",
            "Requirement already satisfied: optax in /usr/local/lib/python3.10/dist-packages (from flax==0.8.2->paxml>=1.4.0->timesfm==1.1.0) (0.2.4)\n",
            "Requirement already satisfied: rich>=11.1 in /usr/local/lib/python3.10/dist-packages (from flax==0.8.2->paxml>=1.4.0->timesfm==1.1.0) (13.9.4)\n",
            "Requirement already satisfied: attrs in /usr/local/lib/python3.10/dist-packages (from lingvo==0.12.7->paxml>=1.4.0->timesfm==1.1.0) (24.2.0)\n",
            "Collecting graph-compression-google-research (from lingvo==0.12.7->paxml>=1.4.0->timesfm==1.1.0)\n",
            "  Downloading graph_compression_google_research-0.0.4-py3-none-any.whl.metadata (8.5 kB)\n",
            "Requirement already satisfied: ipykernel in /usr/local/lib/python3.10/dist-packages (from lingvo==0.12.7->paxml>=1.4.0->timesfm==1.1.0) (5.5.6)\n",
            "Collecting jupyter-http-over-ws (from lingvo==0.12.7->paxml>=1.4.0->timesfm==1.1.0)\n",
            "  Downloading jupyter_http_over_ws-0.0.8-py2.py3-none-any.whl.metadata (1.1 kB)\n",
            "Collecting jupyter (from lingvo==0.12.7->paxml>=1.4.0->timesfm==1.1.0)\n",
            "  Downloading jupyter-1.1.1-py2.py3-none-any.whl.metadata (2.0 kB)\n",
            "Requirement already satisfied: matplotlib in /usr/local/lib/python3.10/dist-packages (from lingvo==0.12.7->paxml>=1.4.0->timesfm==1.1.0) (3.8.0)\n",
            "Collecting model-pruning-google-research (from lingvo==0.12.7->paxml>=1.4.0->timesfm==1.1.0)\n",
            "  Downloading model_pruning_google_research-0.0.5-py3-none-any.whl.metadata (627 bytes)\n",
            "Requirement already satisfied: Pillow in /usr/local/lib/python3.10/dist-packages (from lingvo==0.12.7->paxml>=1.4.0->timesfm==1.1.0) (11.0.0)\n",
            "Requirement already satisfied: sentencepiece in /usr/local/lib/python3.10/dist-packages (from lingvo==0.12.7->paxml>=1.4.0->timesfm==1.1.0) (0.2.0)\n",
            "Requirement already satisfied: sympy in /usr/local/lib/python3.10/dist-packages (from lingvo==0.12.7->paxml>=1.4.0->timesfm==1.1.0) (1.13.1)\n",
            "Requirement already satisfied: tensorflow-hub in /usr/local/lib/python3.10/dist-packages (from lingvo==0.12.7->paxml>=1.4.0->timesfm==1.1.0) (0.16.1)\n",
            "Requirement already satisfied: nest_asyncio in /usr/local/lib/python3.10/dist-packages (from orbax-checkpoint==0.5.9->paxml>=1.4.0->timesfm==1.1.0) (1.6.0)\n",
            "Requirement already satisfied: chex>=0.1.85 in /usr/local/lib/python3.10/dist-packages (from praxis==1.4.0->paxml>=1.4.0->timesfm==1.1.0) (0.1.87)\n",
            "Collecting einops==0.7.0 (from praxis==1.4.0->paxml>=1.4.0->timesfm==1.1.0)\n",
            "  Downloading einops-0.7.0-py3-none-any.whl.metadata (13 kB)\n",
            "Collecting fiddle==0.3.0 (from praxis==1.4.0->paxml>=1.4.0->timesfm==1.1.0)\n",
            "  Downloading fiddle-0.3.0-py3-none-any.whl.metadata (2.3 kB)\n",
            "Collecting jax-bitempered-loss==0.0.2 (from praxis==1.4.0->paxml>=1.4.0->timesfm==1.1.0)\n",
            "  Downloading jax_bitempered_loss-0.0.2-py3-none-any.whl.metadata (4.0 kB)\n",
            "Collecting jaxtyping==0.2.28 (from praxis==1.4.0->paxml>=1.4.0->timesfm==1.1.0)\n",
            "  Downloading jaxtyping-0.2.28-py3-none-any.whl.metadata (6.4 kB)\n",
            "Collecting opt-einsum (from jax[cuda12]>=0.4.26->timesfm==1.1.0)\n",
            "  Downloading opt_einsum-3.3.0-py3-none-any.whl.metadata (6.5 kB)\n",
            "Collecting optax-shampoo==0.0.6 (from praxis==1.4.0->paxml>=1.4.0->timesfm==1.1.0)\n",
            "  Downloading optax_shampoo-0.0.6-py3-none-any.whl.metadata (1.4 kB)\n",
            "Collecting optax (from flax==0.8.2->paxml>=1.4.0->timesfm==1.1.0)\n",
            "  Downloading optax-0.2.2-py3-none-any.whl.metadata (8.1 kB)\n",
            "Collecting sentencepiece (from lingvo==0.12.7->paxml>=1.4.0->timesfm==1.1.0)\n",
            "  Downloading sentencepiece-0.1.99-cp310-cp310-manylinux_2_17_x86_64.manylinux2014_x86_64.whl.metadata (7.7 kB)\n",
            "Collecting typeguard==2.13.3 (from praxis==1.4.0->paxml>=1.4.0->timesfm==1.1.0)\n",
            "  Downloading typeguard-2.13.3-py3-none-any.whl.metadata (3.6 kB)\n",
            "Requirement already satisfied: docstring-parser>=0.12 in /usr/local/lib/python3.10/dist-packages (from pyglove==0.4.4->paxml>=1.4.0->timesfm==1.1.0) (0.16)\n",
            "Requirement already satisfied: editdistance in /usr/local/lib/python3.10/dist-packages (from seqio-nightly==0.0.17.dev20231010->paxml>=1.4.0->timesfm==1.1.0) (0.8.1)\n",
            "Requirement already satisfied: babel in /usr/local/lib/python3.10/dist-packages (from t5==0.9.4->paxml>=1.4.0->timesfm==1.1.0) (2.16.0)\n",
            "Requirement already satisfied: immutabledict in /usr/local/lib/python3.10/dist-packages (from t5==0.9.4->paxml>=1.4.0->timesfm==1.1.0) (4.2.1)\n",
            "Requirement already satisfied: gin-config in /usr/local/lib/python3.10/dist-packages (from t5==0.9.4->paxml>=1.4.0->timesfm==1.1.0) (0.5.0)\n",
            "Collecting mesh-tensorflow>=0.1.13 (from mesh-tensorflow[transformer]>=0.1.13->t5==0.9.4->paxml>=1.4.0->timesfm==1.1.0)\n",
            "  Downloading mesh_tensorflow-0.1.21-py3-none-any.whl.metadata (1.0 kB)\n",
            "Requirement already satisfied: nltk in /usr/local/lib/python3.10/dist-packages (from t5==0.9.4->paxml>=1.4.0->timesfm==1.1.0) (3.9.1)\n",
            "Collecting rouge-score>=0.1.2 (from t5==0.9.4->paxml>=1.4.0->timesfm==1.1.0)\n",
            "  Downloading rouge_score-0.1.2.tar.gz (17 kB)\n",
            "  Preparing metadata (setup.py) ... \u001b[?25l\u001b[?25hdone\n",
            "Collecting sacrebleu (from t5==0.9.4->paxml>=1.4.0->timesfm==1.1.0)\n",
            "  Downloading sacrebleu-2.4.3-py3-none-any.whl.metadata (51 kB)\n",
            "\u001b[2K     \u001b[90m━━━━━━━━━━━━━━━━━━━━━━━━━━━━━━━━━━━━━━━━\u001b[0m \u001b[32m51.8/51.8 kB\u001b[0m \u001b[31m5.2 MB/s\u001b[0m eta \u001b[36m0:00:00\u001b[0m\n",
            "\u001b[?25hRequirement already satisfied: transformers>=2.7.0 in /usr/local/lib/python3.10/dist-packages (from t5==0.9.4->paxml>=1.4.0->timesfm==1.1.0) (4.46.2)\n",
            "Requirement already satisfied: click in /usr/local/lib/python3.10/dist-packages (from tensorflow-datasets==4.8.3->paxml>=1.4.0->timesfm==1.1.0) (8.1.7)\n",
            "Requirement already satisfied: dm-tree in /usr/local/lib/python3.10/dist-packages (from tensorflow-datasets==4.8.3->paxml>=1.4.0->timesfm==1.1.0) (0.1.8)\n",
            "Requirement already satisfied: promise in /usr/local/lib/python3.10/dist-packages (from tensorflow-datasets==4.8.3->paxml>=1.4.0->timesfm==1.1.0) (2.3)\n",
            "Requirement already satisfied: psutil in /usr/local/lib/python3.10/dist-packages (from tensorflow-datasets==4.8.3->paxml>=1.4.0->timesfm==1.1.0) (5.9.5)\n",
            "Requirement already satisfied: termcolor in /usr/local/lib/python3.10/dist-packages (from tensorflow-datasets==4.8.3->paxml>=1.4.0->timesfm==1.1.0) (2.5.0)\n",
            "Requirement already satisfied: toml in /usr/local/lib/python3.10/dist-packages (from tensorflow-datasets==4.8.3->paxml>=1.4.0->timesfm==1.1.0) (0.10.2)\n",
            "Requirement already satisfied: googleapis-common-protos<2,>=1.52.0 in /usr/local/lib/python3.10/dist-packages (from tensorflow-metadata==1.12.0->paxml>=1.4.0->timesfm==1.1.0) (1.66.0)\n",
            "Requirement already satisfied: array-record in /usr/local/lib/python3.10/dist-packages (from tfds-nightly==4.8.3.dev202303280045->paxml>=1.4.0->timesfm==1.1.0) (0.5.1)\n",
            "Collecting libcst (from fiddle==0.3.0->praxis==1.4.0->paxml>=1.4.0->timesfm==1.1.0)\n",
            "  Downloading libcst-1.5.1-cp310-cp310-manylinux_2_17_x86_64.manylinux2014_x86_64.whl.metadata (17 kB)\n",
            "Requirement already satisfied: charset-normalizer<4,>=2 in /usr/local/lib/python3.10/dist-packages (from requests>=2.31->yfinance) (3.4.0)\n",
            "Requirement already satisfied: idna<4,>=2.5 in /usr/local/lib/python3.10/dist-packages (from requests>=2.31->yfinance) (3.10)\n",
            "Requirement already satisfied: urllib3<3,>=1.21.1 in /usr/local/lib/python3.10/dist-packages (from requests>=2.31->yfinance) (2.2.3)\n",
            "Requirement already satisfied: certifi>=2017.4.17 in /usr/local/lib/python3.10/dist-packages (from requests>=2.31->yfinance) (2024.8.30)\n",
            "Requirement already satisfied: joblib>=1.2.0 in /usr/local/lib/python3.10/dist-packages (from scikit-learn>=1.2.2->timesfm==1.1.0) (1.4.2)\n",
            "Requirement already satisfied: threadpoolctl>=3.1.0 in /usr/local/lib/python3.10/dist-packages (from scikit-learn>=1.2.2->timesfm==1.1.0) (3.5.0)\n",
            "Requirement already satisfied: shellingham>=1.3.0 in /usr/local/lib/python3.10/dist-packages (from typer>=0.12.3->timesfm==1.1.0) (1.5.4)\n",
            "Requirement already satisfied: docker-pycreds>=0.4.0 in /usr/local/lib/python3.10/dist-packages (from wandb>=0.17.5->timesfm==1.1.0) (0.4.0)\n",
            "Requirement already satisfied: gitpython!=3.1.29,>=1.0.0 in /usr/local/lib/python3.10/dist-packages (from wandb>=0.17.5->timesfm==1.1.0) (3.1.43)\n",
            "Requirement already satisfied: sentry-sdk>=2.0.0 in /usr/local/lib/python3.10/dist-packages (from wandb>=0.17.5->timesfm==1.1.0) (2.18.0)\n",
            "Requirement already satisfied: setproctitle in /usr/local/lib/python3.10/dist-packages (from wandb>=0.17.5->timesfm==1.1.0) (1.3.4)\n",
            "Requirement already satisfied: setuptools in /usr/local/lib/python3.10/dist-packages (from wandb>=0.17.5->timesfm==1.1.0) (75.1.0)\n",
            "Requirement already satisfied: gitdb<5,>=4.0.1 in /usr/local/lib/python3.10/dist-packages (from gitpython!=3.1.29,>=1.0.0->wandb>=0.17.5->timesfm==1.1.0) (4.0.11)\n",
            "Collecting nvidia-cuda-nvrtc-cu12 (from nvidia-cudnn-cu12<9.0,>=8.9.2.26->jax[cuda12]>=0.4.26->timesfm==1.1.0)\n",
            "  Downloading nvidia_cuda_nvrtc_cu12-12.6.85-py3-none-manylinux2010_x86_64.manylinux_2_12_x86_64.whl.metadata (1.5 kB)\n",
            "Requirement already satisfied: markdown-it-py>=2.2.0 in /usr/local/lib/python3.10/dist-packages (from rich>=11.1->flax==0.8.2->paxml>=1.4.0->timesfm==1.1.0) (3.0.0)\n",
            "Requirement already satisfied: pygments<3.0.0,>=2.13.0 in /usr/local/lib/python3.10/dist-packages (from rich>=11.1->flax==0.8.2->paxml>=1.4.0->timesfm==1.1.0) (2.18.0)\n",
            "Requirement already satisfied: astunparse>=1.6.0 in /usr/local/lib/python3.10/dist-packages (from tensorflow~=2.9.2->paxml>=1.4.0->timesfm==1.1.0) (1.6.3)\n",
            "Collecting flatbuffers<2,>=1.12 (from tensorflow~=2.9.2->paxml>=1.4.0->timesfm==1.1.0)\n",
            "  Downloading flatbuffers-1.12-py2.py3-none-any.whl.metadata (872 bytes)\n",
            "Collecting gast<=0.4.0,>=0.2.1 (from tensorflow~=2.9.2->paxml>=1.4.0->timesfm==1.1.0)\n",
            "  Downloading gast-0.4.0-py3-none-any.whl.metadata (1.1 kB)\n",
            "Requirement already satisfied: google-pasta>=0.1.1 in /usr/local/lib/python3.10/dist-packages (from tensorflow~=2.9.2->paxml>=1.4.0->timesfm==1.1.0) (0.2.0)\n",
            "Requirement already satisfied: grpcio<2.0,>=1.24.3 in /usr/local/lib/python3.10/dist-packages (from tensorflow~=2.9.2->paxml>=1.4.0->timesfm==1.1.0) (1.68.0)\n",
            "Requirement already satisfied: h5py>=2.9.0 in /usr/local/lib/python3.10/dist-packages (from tensorflow~=2.9.2->paxml>=1.4.0->timesfm==1.1.0) (3.12.1)\n",
            "Collecting keras<2.10.0,>=2.9.0rc0 (from tensorflow~=2.9.2->paxml>=1.4.0->timesfm==1.1.0)\n",
            "  Downloading keras-2.9.0-py2.py3-none-any.whl.metadata (1.3 kB)\n",
            "Collecting keras-preprocessing>=1.1.1 (from tensorflow~=2.9.2->paxml>=1.4.0->timesfm==1.1.0)\n",
            "  Downloading Keras_Preprocessing-1.1.2-py2.py3-none-any.whl.metadata (1.9 kB)\n",
            "Requirement already satisfied: libclang>=13.0.0 in /usr/local/lib/python3.10/dist-packages (from tensorflow~=2.9.2->paxml>=1.4.0->timesfm==1.1.0) (18.1.1)\n",
            "Collecting tensorboard<2.10,>=2.9 (from tensorflow~=2.9.2->paxml>=1.4.0->timesfm==1.1.0)\n",
            "  Downloading tensorboard-2.9.1-py3-none-any.whl.metadata (1.9 kB)\n",
            "Requirement already satisfied: tensorflow-io-gcs-filesystem>=0.23.1 in /usr/local/lib/python3.10/dist-packages (from tensorflow~=2.9.2->paxml>=1.4.0->timesfm==1.1.0) (0.37.1)\n",
            "Collecting tensorflow-estimator<2.10.0,>=2.9.0rc0 (from tensorflow~=2.9.2->paxml>=1.4.0->timesfm==1.1.0)\n",
            "  Downloading tensorflow_estimator-2.9.0-py2.py3-none-any.whl.metadata (1.3 kB)\n",
            "Requirement already satisfied: wheel<1.0,>=0.23.0 in /usr/local/lib/python3.10/dist-packages (from astunparse>=1.6.0->tensorflow~=2.9.2->paxml>=1.4.0->timesfm==1.1.0) (0.45.0)\n",
            "INFO: pip is looking at multiple versions of chex to determine which version is compatible with other requirements. This could take a while.\n",
            "Collecting chex>=0.1.85 (from praxis==1.4.0->paxml>=1.4.0->timesfm==1.1.0)\n",
            "  Downloading chex-0.1.86-py3-none-any.whl.metadata (17 kB)\n",
            "Requirement already satisfied: toolz>=0.9.0 in /usr/local/lib/python3.10/dist-packages (from chex>=0.1.85->praxis==1.4.0->paxml>=1.4.0->timesfm==1.1.0) (0.12.1)\n",
            "Requirement already satisfied: importlib_resources in /usr/local/lib/python3.10/dist-packages (from etils[enp,epath]>=0.9.0->tensorflow-datasets==4.8.3->paxml>=1.4.0->timesfm==1.1.0) (6.4.5)\n",
            "Requirement already satisfied: zipp in /usr/local/lib/python3.10/dist-packages (from etils[enp,epath]>=0.9.0->tensorflow-datasets==4.8.3->paxml>=1.4.0->timesfm==1.1.0) (3.21.0)\n",
            "Requirement already satisfied: smmap<6,>=3.0.1 in /usr/local/lib/python3.10/dist-packages (from gitdb<5,>=4.0.1->gitpython!=3.1.29,>=1.0.0->wandb>=0.17.5->timesfm==1.1.0) (5.0.1)\n",
            "INFO: pip is looking at multiple versions of googleapis-common-protos to determine which version is compatible with other requirements. This could take a while.\n",
            "Collecting googleapis-common-protos<2,>=1.52.0 (from tensorflow-metadata==1.12.0->paxml>=1.4.0->timesfm==1.1.0)\n",
            "  Downloading googleapis_common_protos-1.65.0-py2.py3-none-any.whl.metadata (1.5 kB)\n",
            "  Downloading googleapis_common_protos-1.64.0-py2.py3-none-any.whl.metadata (1.5 kB)\n",
            "  Downloading googleapis_common_protos-1.63.2-py2.py3-none-any.whl.metadata (1.5 kB)\n",
            "  Downloading googleapis_common_protos-1.63.1-py2.py3-none-any.whl.metadata (1.5 kB)\n",
            "Requirement already satisfied: mdurl~=0.1 in /usr/local/lib/python3.10/dist-packages (from markdown-it-py>=2.2.0->rich>=11.1->flax==0.8.2->paxml>=1.4.0->timesfm==1.1.0) (0.1.2)\n",
            "Requirement already satisfied: future in /usr/local/lib/python3.10/dist-packages (from mesh-tensorflow>=0.1.13->mesh-tensorflow[transformer]>=0.1.13->t5==0.9.4->paxml>=1.4.0->timesfm==1.1.0) (1.0.0)\n",
            "Requirement already satisfied: wcwidth in /usr/local/lib/python3.10/dist-packages (from prompt-toolkit<4.0.0,>=3.0.1->InquirerPy==0.3.4->huggingface_hub[cli]>=0.23.0->timesfm==1.1.0) (0.2.13)\n",
            "Requirement already satisfied: google-auth<3,>=1.6.3 in /usr/local/lib/python3.10/dist-packages (from tensorboard<2.10,>=2.9->tensorflow~=2.9.2->paxml>=1.4.0->timesfm==1.1.0) (2.27.0)\n",
            "Collecting google-auth-oauthlib<0.5,>=0.4.1 (from tensorboard<2.10,>=2.9->tensorflow~=2.9.2->paxml>=1.4.0->timesfm==1.1.0)\n",
            "  Downloading google_auth_oauthlib-0.4.6-py2.py3-none-any.whl.metadata (2.7 kB)\n",
            "Requirement already satisfied: markdown>=2.6.8 in /usr/local/lib/python3.10/dist-packages (from tensorboard<2.10,>=2.9->tensorflow~=2.9.2->paxml>=1.4.0->timesfm==1.1.0) (3.7)\n",
            "Collecting tensorboard-data-server<0.7.0,>=0.6.0 (from tensorboard<2.10,>=2.9->tensorflow~=2.9.2->paxml>=1.4.0->timesfm==1.1.0)\n",
            "  Downloading tensorboard_data_server-0.6.1-py3-none-manylinux2010_x86_64.whl.metadata (1.1 kB)\n",
            "Collecting tensorboard-plugin-wit>=1.6.0 (from tensorboard<2.10,>=2.9->tensorflow~=2.9.2->paxml>=1.4.0->timesfm==1.1.0)\n",
            "  Downloading tensorboard_plugin_wit-1.8.1-py3-none-any.whl.metadata (873 bytes)\n",
            "Requirement already satisfied: werkzeug>=1.0.1 in /usr/local/lib/python3.10/dist-packages (from tensorboard<2.10,>=2.9->tensorflow~=2.9.2->paxml>=1.4.0->timesfm==1.1.0) (3.1.3)\n",
            "Requirement already satisfied: tf-keras>=2.14.1 in /usr/local/lib/python3.10/dist-packages (from tensorflow-hub->lingvo==0.12.7->paxml>=1.4.0->timesfm==1.1.0) (2.17.0)\n",
            "Requirement already satisfied: regex!=2019.12.17 in /usr/local/lib/python3.10/dist-packages (from transformers>=2.7.0->t5==0.9.4->paxml>=1.4.0->timesfm==1.1.0) (2024.9.11)\n",
            "Requirement already satisfied: safetensors>=0.4.1 in /usr/local/lib/python3.10/dist-packages (from transformers>=2.7.0->t5==0.9.4->paxml>=1.4.0->timesfm==1.1.0) (0.4.5)\n",
            "Requirement already satisfied: tokenizers<0.21,>=0.20 in /usr/local/lib/python3.10/dist-packages (from transformers>=2.7.0->t5==0.9.4->paxml>=1.4.0->timesfm==1.1.0) (0.20.3)\n",
            "Requirement already satisfied: ipython-genutils in /usr/local/lib/python3.10/dist-packages (from ipykernel->lingvo==0.12.7->paxml>=1.4.0->timesfm==1.1.0) (0.2.0)\n",
            "Requirement already satisfied: ipython>=5.0.0 in /usr/local/lib/python3.10/dist-packages (from ipykernel->lingvo==0.12.7->paxml>=1.4.0->timesfm==1.1.0) (7.34.0)\n",
            "Requirement already satisfied: traitlets>=4.1.0 in /usr/local/lib/python3.10/dist-packages (from ipykernel->lingvo==0.12.7->paxml>=1.4.0->timesfm==1.1.0) (5.7.1)\n",
            "Requirement already satisfied: jupyter-client in /usr/local/lib/python3.10/dist-packages (from ipykernel->lingvo==0.12.7->paxml>=1.4.0->timesfm==1.1.0) (6.1.12)\n",
            "Requirement already satisfied: tornado>=4.2 in /usr/local/lib/python3.10/dist-packages (from ipykernel->lingvo==0.12.7->paxml>=1.4.0->timesfm==1.1.0) (6.3.3)\n",
            "Requirement already satisfied: notebook in /usr/local/lib/python3.10/dist-packages (from jupyter->lingvo==0.12.7->paxml>=1.4.0->timesfm==1.1.0) (6.5.5)\n",
            "Requirement already satisfied: jupyter-console in /usr/local/lib/python3.10/dist-packages (from jupyter->lingvo==0.12.7->paxml>=1.4.0->timesfm==1.1.0) (6.1.0)\n",
            "Requirement already satisfied: nbconvert in /usr/local/lib/python3.10/dist-packages (from jupyter->lingvo==0.12.7->paxml>=1.4.0->timesfm==1.1.0) (7.16.4)\n",
            "Requirement already satisfied: ipywidgets in /usr/local/lib/python3.10/dist-packages (from jupyter->lingvo==0.12.7->paxml>=1.4.0->timesfm==1.1.0) (7.7.1)\n",
            "Collecting jupyterlab (from jupyter->lingvo==0.12.7->paxml>=1.4.0->timesfm==1.1.0)\n",
            "  Downloading jupyterlab-4.3.1-py3-none-any.whl.metadata (16 kB)\n",
            "Requirement already satisfied: contourpy>=1.0.1 in /usr/local/lib/python3.10/dist-packages (from matplotlib->lingvo==0.12.7->paxml>=1.4.0->timesfm==1.1.0) (1.3.1)\n",
            "Requirement already satisfied: cycler>=0.10 in /usr/local/lib/python3.10/dist-packages (from matplotlib->lingvo==0.12.7->paxml>=1.4.0->timesfm==1.1.0) (0.12.1)\n",
            "Requirement already satisfied: fonttools>=4.22.0 in /usr/local/lib/python3.10/dist-packages (from matplotlib->lingvo==0.12.7->paxml>=1.4.0->timesfm==1.1.0) (4.55.0)\n",
            "Requirement already satisfied: kiwisolver>=1.0.1 in /usr/local/lib/python3.10/dist-packages (from matplotlib->lingvo==0.12.7->paxml>=1.4.0->timesfm==1.1.0) (1.4.7)\n",
            "Requirement already satisfied: pyparsing>=2.3.1 in /usr/local/lib/python3.10/dist-packages (from matplotlib->lingvo==0.12.7->paxml>=1.4.0->timesfm==1.1.0) (3.2.0)\n",
            "Collecting portalocker (from sacrebleu->t5==0.9.4->paxml>=1.4.0->timesfm==1.1.0)\n",
            "  Downloading portalocker-3.0.0-py3-none-any.whl.metadata (8.5 kB)\n",
            "Requirement already satisfied: tabulate>=0.8.9 in /usr/local/lib/python3.10/dist-packages (from sacrebleu->t5==0.9.4->paxml>=1.4.0->timesfm==1.1.0) (0.9.0)\n",
            "Collecting colorama (from sacrebleu->t5==0.9.4->paxml>=1.4.0->timesfm==1.1.0)\n",
            "  Downloading colorama-0.4.6-py2.py3-none-any.whl.metadata (17 kB)\n",
            "Requirement already satisfied: mpmath<1.4,>=1.1.0 in /usr/local/lib/python3.10/dist-packages (from sympy->lingvo==0.12.7->paxml>=1.4.0->timesfm==1.1.0) (1.3.0)\n",
            "Requirement already satisfied: cachetools<6.0,>=2.0.0 in /usr/local/lib/python3.10/dist-packages (from google-auth<3,>=1.6.3->tensorboard<2.10,>=2.9->tensorflow~=2.9.2->paxml>=1.4.0->timesfm==1.1.0) (5.5.0)\n",
            "Requirement already satisfied: pyasn1-modules>=0.2.1 in /usr/local/lib/python3.10/dist-packages (from google-auth<3,>=1.6.3->tensorboard<2.10,>=2.9->tensorflow~=2.9.2->paxml>=1.4.0->timesfm==1.1.0) (0.4.1)\n",
            "Requirement already satisfied: rsa<5,>=3.1.4 in /usr/local/lib/python3.10/dist-packages (from google-auth<3,>=1.6.3->tensorboard<2.10,>=2.9->tensorflow~=2.9.2->paxml>=1.4.0->timesfm==1.1.0) (4.9)\n",
            "Requirement already satisfied: requests-oauthlib>=0.7.0 in /usr/local/lib/python3.10/dist-packages (from google-auth-oauthlib<0.5,>=0.4.1->tensorboard<2.10,>=2.9->tensorflow~=2.9.2->paxml>=1.4.0->timesfm==1.1.0) (1.3.1)\n",
            "Collecting jedi>=0.16 (from ipython>=5.0.0->ipykernel->lingvo==0.12.7->paxml>=1.4.0->timesfm==1.1.0)\n",
            "  Downloading jedi-0.19.2-py2.py3-none-any.whl.metadata (22 kB)\n",
            "Requirement already satisfied: decorator in /usr/local/lib/python3.10/dist-packages (from ipython>=5.0.0->ipykernel->lingvo==0.12.7->paxml>=1.4.0->timesfm==1.1.0) (4.4.2)\n",
            "Requirement already satisfied: pickleshare in /usr/local/lib/python3.10/dist-packages (from ipython>=5.0.0->ipykernel->lingvo==0.12.7->paxml>=1.4.0->timesfm==1.1.0) (0.7.5)\n",
            "Requirement already satisfied: backcall in /usr/local/lib/python3.10/dist-packages (from ipython>=5.0.0->ipykernel->lingvo==0.12.7->paxml>=1.4.0->timesfm==1.1.0) (0.2.0)\n",
            "Requirement already satisfied: matplotlib-inline in /usr/local/lib/python3.10/dist-packages (from ipython>=5.0.0->ipykernel->lingvo==0.12.7->paxml>=1.4.0->timesfm==1.1.0) (0.1.7)\n",
            "Requirement already satisfied: pexpect>4.3 in /usr/local/lib/python3.10/dist-packages (from ipython>=5.0.0->ipykernel->lingvo==0.12.7->paxml>=1.4.0->timesfm==1.1.0) (4.9.0)\n",
            "Requirement already satisfied: jinja2 in /usr/local/lib/python3.10/dist-packages (from notebook->jupyter->lingvo==0.12.7->paxml>=1.4.0->timesfm==1.1.0) (3.1.4)\n",
            "Requirement already satisfied: pyzmq<25,>=17 in /usr/local/lib/python3.10/dist-packages (from notebook->jupyter->lingvo==0.12.7->paxml>=1.4.0->timesfm==1.1.0) (24.0.1)\n",
            "Requirement already satisfied: argon2-cffi in /usr/local/lib/python3.10/dist-packages (from notebook->jupyter->lingvo==0.12.7->paxml>=1.4.0->timesfm==1.1.0) (23.1.0)\n",
            "Requirement already satisfied: jupyter-core>=4.6.1 in /usr/local/lib/python3.10/dist-packages (from notebook->jupyter->lingvo==0.12.7->paxml>=1.4.0->timesfm==1.1.0) (5.7.2)\n",
            "Requirement already satisfied: nbformat in /usr/local/lib/python3.10/dist-packages (from notebook->jupyter->lingvo==0.12.7->paxml>=1.4.0->timesfm==1.1.0) (5.10.4)\n",
            "Requirement already satisfied: Send2Trash>=1.8.0 in /usr/local/lib/python3.10/dist-packages (from notebook->jupyter->lingvo==0.12.7->paxml>=1.4.0->timesfm==1.1.0) (1.8.3)\n",
            "Requirement already satisfied: terminado>=0.8.3 in /usr/local/lib/python3.10/dist-packages (from notebook->jupyter->lingvo==0.12.7->paxml>=1.4.0->timesfm==1.1.0) (0.18.1)\n",
            "Requirement already satisfied: prometheus-client in /usr/local/lib/python3.10/dist-packages (from notebook->jupyter->lingvo==0.12.7->paxml>=1.4.0->timesfm==1.1.0) (0.21.0)\n",
            "Requirement already satisfied: nbclassic>=0.4.7 in /usr/local/lib/python3.10/dist-packages (from notebook->jupyter->lingvo==0.12.7->paxml>=1.4.0->timesfm==1.1.0) (1.1.0)\n",
            "Requirement already satisfied: bleach!=5.0.0 in /usr/local/lib/python3.10/dist-packages (from nbconvert->jupyter->lingvo==0.12.7->paxml>=1.4.0->timesfm==1.1.0) (6.2.0)\n",
            "Requirement already satisfied: defusedxml in /usr/local/lib/python3.10/dist-packages (from nbconvert->jupyter->lingvo==0.12.7->paxml>=1.4.0->timesfm==1.1.0) (0.7.1)\n",
            "Requirement already satisfied: jupyterlab-pygments in /usr/local/lib/python3.10/dist-packages (from nbconvert->jupyter->lingvo==0.12.7->paxml>=1.4.0->timesfm==1.1.0) (0.3.0)\n",
            "Requirement already satisfied: markupsafe>=2.0 in /usr/local/lib/python3.10/dist-packages (from nbconvert->jupyter->lingvo==0.12.7->paxml>=1.4.0->timesfm==1.1.0) (3.0.2)\n",
            "Requirement already satisfied: mistune<4,>=2.0.3 in /usr/local/lib/python3.10/dist-packages (from nbconvert->jupyter->lingvo==0.12.7->paxml>=1.4.0->timesfm==1.1.0) (3.0.2)\n",
            "Requirement already satisfied: nbclient>=0.5.0 in /usr/local/lib/python3.10/dist-packages (from nbconvert->jupyter->lingvo==0.12.7->paxml>=1.4.0->timesfm==1.1.0) (0.10.0)\n",
            "Requirement already satisfied: pandocfilters>=1.4.1 in /usr/local/lib/python3.10/dist-packages (from nbconvert->jupyter->lingvo==0.12.7->paxml>=1.4.0->timesfm==1.1.0) (1.5.1)\n",
            "Requirement already satisfied: tinycss2 in /usr/local/lib/python3.10/dist-packages (from nbconvert->jupyter->lingvo==0.12.7->paxml>=1.4.0->timesfm==1.1.0) (1.4.0)\n",
            "INFO: pip is looking at multiple versions of tf-keras to determine which version is compatible with other requirements. This could take a while.\n",
            "Collecting tf-keras>=2.14.1 (from tensorflow-hub->lingvo==0.12.7->paxml>=1.4.0->timesfm==1.1.0)\n",
            "  Downloading tf_keras-2.18.0-py3-none-any.whl.metadata (1.6 kB)\n",
            "  Downloading tf_keras-2.16.0-py3-none-any.whl.metadata (1.6 kB)\n",
            "  Downloading tf_keras-2.15.1-py3-none-any.whl.metadata (1.7 kB)\n",
            "  Downloading tf_keras-2.15.0-py3-none-any.whl.metadata (1.6 kB)\n",
            "Requirement already satisfied: widgetsnbextension~=3.6.0 in /usr/local/lib/python3.10/dist-packages (from ipywidgets->jupyter->lingvo==0.12.7->paxml>=1.4.0->timesfm==1.1.0) (3.6.10)\n",
            "Requirement already satisfied: jupyterlab-widgets>=1.0.0 in /usr/local/lib/python3.10/dist-packages (from ipywidgets->jupyter->lingvo==0.12.7->paxml>=1.4.0->timesfm==1.1.0) (3.0.13)\n",
            "Collecting async-lru>=1.0.0 (from jupyterlab->jupyter->lingvo==0.12.7->paxml>=1.4.0->timesfm==1.1.0)\n",
            "  Downloading async_lru-2.0.4-py3-none-any.whl.metadata (4.5 kB)\n",
            "Requirement already satisfied: httpx>=0.25.0 in /usr/local/lib/python3.10/dist-packages (from jupyterlab->jupyter->lingvo==0.12.7->paxml>=1.4.0->timesfm==1.1.0) (0.27.2)\n",
            "Collecting ipykernel (from lingvo==0.12.7->paxml>=1.4.0->timesfm==1.1.0)\n",
            "  Downloading ipykernel-6.29.5-py3-none-any.whl.metadata (6.3 kB)\n",
            "Collecting jupyter-lsp>=2.0.0 (from jupyterlab->jupyter->lingvo==0.12.7->paxml>=1.4.0->timesfm==1.1.0)\n",
            "  Downloading jupyter_lsp-2.2.5-py3-none-any.whl.metadata (1.8 kB)\n",
            "Collecting jupyter-server<3,>=2.4.0 (from jupyterlab->jupyter->lingvo==0.12.7->paxml>=1.4.0->timesfm==1.1.0)\n",
            "  Downloading jupyter_server-2.14.2-py3-none-any.whl.metadata (8.4 kB)\n",
            "Collecting jupyterlab-server<3,>=2.27.1 (from jupyterlab->jupyter->lingvo==0.12.7->paxml>=1.4.0->timesfm==1.1.0)\n",
            "  Downloading jupyterlab_server-2.27.3-py3-none-any.whl.metadata (5.9 kB)\n",
            "Requirement already satisfied: notebook-shim>=0.2 in /usr/local/lib/python3.10/dist-packages (from jupyterlab->jupyter->lingvo==0.12.7->paxml>=1.4.0->timesfm==1.1.0) (0.2.4)\n",
            "Requirement already satisfied: tomli>=1.2.2 in /usr/local/lib/python3.10/dist-packages (from jupyterlab->jupyter->lingvo==0.12.7->paxml>=1.4.0->timesfm==1.1.0) (2.1.0)\n",
            "Collecting comm>=0.1.1 (from ipykernel->lingvo==0.12.7->paxml>=1.4.0->timesfm==1.1.0)\n",
            "  Downloading comm-0.2.2-py3-none-any.whl.metadata (3.7 kB)\n",
            "Requirement already satisfied: debugpy>=1.6.5 in /usr/local/lib/python3.10/dist-packages (from ipykernel->lingvo==0.12.7->paxml>=1.4.0->timesfm==1.1.0) (1.8.0)\n",
            "Requirement already satisfied: anyio in /usr/local/lib/python3.10/dist-packages (from httpx>=0.25.0->jupyterlab->jupyter->lingvo==0.12.7->paxml>=1.4.0->timesfm==1.1.0) (3.7.1)\n",
            "Requirement already satisfied: httpcore==1.* in /usr/local/lib/python3.10/dist-packages (from httpx>=0.25.0->jupyterlab->jupyter->lingvo==0.12.7->paxml>=1.4.0->timesfm==1.1.0) (1.0.7)\n",
            "Requirement already satisfied: sniffio in /usr/local/lib/python3.10/dist-packages (from httpx>=0.25.0->jupyterlab->jupyter->lingvo==0.12.7->paxml>=1.4.0->timesfm==1.1.0) (1.3.1)\n",
            "Requirement already satisfied: h11<0.15,>=0.13 in /usr/local/lib/python3.10/dist-packages (from httpcore==1.*->httpx>=0.25.0->jupyterlab->jupyter->lingvo==0.12.7->paxml>=1.4.0->timesfm==1.1.0) (0.14.0)\n",
            "Requirement already satisfied: parso<0.9.0,>=0.8.4 in /usr/local/lib/python3.10/dist-packages (from jedi>=0.16->ipython>=5.0.0->ipykernel->lingvo==0.12.7->paxml>=1.4.0->timesfm==1.1.0) (0.8.4)\n",
            "Collecting jupyter-client<8,>=5.3.4 (from notebook->jupyter->lingvo==0.12.7->paxml>=1.4.0->timesfm==1.1.0)\n",
            "  Downloading jupyter_client-7.4.9-py3-none-any.whl.metadata (8.5 kB)\n",
            "Collecting jupyter-events>=0.9.0 (from jupyter-server<3,>=2.4.0->jupyterlab->jupyter->lingvo==0.12.7->paxml>=1.4.0->timesfm==1.1.0)\n",
            "  Downloading jupyter_events-0.10.0-py3-none-any.whl.metadata (5.9 kB)\n",
            "Collecting jupyter-server-terminals>=0.4.4 (from jupyter-server<3,>=2.4.0->jupyterlab->jupyter->lingvo==0.12.7->paxml>=1.4.0->timesfm==1.1.0)\n",
            "  Downloading jupyter_server_terminals-0.5.3-py3-none-any.whl.metadata (5.6 kB)\n",
            "Collecting overrides>=5.0 (from jupyter-server<3,>=2.4.0->jupyterlab->jupyter->lingvo==0.12.7->paxml>=1.4.0->timesfm==1.1.0)\n",
            "  Downloading overrides-7.7.0-py3-none-any.whl.metadata (5.8 kB)\n",
            "Requirement already satisfied: websocket-client>=1.7 in /usr/local/lib/python3.10/dist-packages (from jupyter-server<3,>=2.4.0->jupyterlab->jupyter->lingvo==0.12.7->paxml>=1.4.0->timesfm==1.1.0) (1.8.0)\n",
            "Requirement already satisfied: entrypoints in /usr/local/lib/python3.10/dist-packages (from jupyter-client<8,>=5.3.4->notebook->jupyter->lingvo==0.12.7->paxml>=1.4.0->timesfm==1.1.0) (0.4)\n",
            "Requirement already satisfied: argon2-cffi-bindings in /usr/local/lib/python3.10/dist-packages (from argon2-cffi->notebook->jupyter->lingvo==0.12.7->paxml>=1.4.0->timesfm==1.1.0) (21.2.0)\n",
            "Collecting json5>=0.9.0 (from jupyterlab-server<3,>=2.27.1->jupyterlab->jupyter->lingvo==0.12.7->paxml>=1.4.0->timesfm==1.1.0)\n",
            "  Downloading json5-0.10.0-py3-none-any.whl.metadata (34 kB)\n",
            "Requirement already satisfied: jsonschema>=4.18.0 in /usr/local/lib/python3.10/dist-packages (from jupyterlab-server<3,>=2.27.1->jupyterlab->jupyter->lingvo==0.12.7->paxml>=1.4.0->timesfm==1.1.0) (4.23.0)\n",
            "Requirement already satisfied: fastjsonschema>=2.15 in /usr/local/lib/python3.10/dist-packages (from nbformat->notebook->jupyter->lingvo==0.12.7->paxml>=1.4.0->timesfm==1.1.0) (2.20.0)\n",
            "Requirement already satisfied: ptyprocess>=0.5 in /usr/local/lib/python3.10/dist-packages (from pexpect>4.3->ipython>=5.0.0->ipykernel->lingvo==0.12.7->paxml>=1.4.0->timesfm==1.1.0) (0.7.0)\n",
            "Requirement already satisfied: pyasn1<0.7.0,>=0.4.6 in /usr/local/lib/python3.10/dist-packages (from pyasn1-modules>=0.2.1->google-auth<3,>=1.6.3->tensorboard<2.10,>=2.9->tensorflow~=2.9.2->paxml>=1.4.0->timesfm==1.1.0) (0.6.1)\n",
            "Requirement already satisfied: oauthlib>=3.0.0 in /usr/local/lib/python3.10/dist-packages (from requests-oauthlib>=0.7.0->google-auth-oauthlib<0.5,>=0.4.1->tensorboard<2.10,>=2.9->tensorflow~=2.9.2->paxml>=1.4.0->timesfm==1.1.0) (3.2.2)\n",
            "Requirement already satisfied: exceptiongroup in /usr/local/lib/python3.10/dist-packages (from anyio->httpx>=0.25.0->jupyterlab->jupyter->lingvo==0.12.7->paxml>=1.4.0->timesfm==1.1.0) (1.2.2)\n",
            "Requirement already satisfied: jsonschema-specifications>=2023.03.6 in /usr/local/lib/python3.10/dist-packages (from jsonschema>=4.18.0->jupyterlab-server<3,>=2.27.1->jupyterlab->jupyter->lingvo==0.12.7->paxml>=1.4.0->timesfm==1.1.0) (2024.10.1)\n",
            "Requirement already satisfied: referencing>=0.28.4 in /usr/local/lib/python3.10/dist-packages (from jsonschema>=4.18.0->jupyterlab-server<3,>=2.27.1->jupyterlab->jupyter->lingvo==0.12.7->paxml>=1.4.0->timesfm==1.1.0) (0.35.1)\n",
            "Requirement already satisfied: rpds-py>=0.7.1 in /usr/local/lib/python3.10/dist-packages (from jsonschema>=4.18.0->jupyterlab-server<3,>=2.27.1->jupyterlab->jupyter->lingvo==0.12.7->paxml>=1.4.0->timesfm==1.1.0) (0.21.0)\n",
            "Collecting python-json-logger>=2.0.4 (from jupyter-events>=0.9.0->jupyter-server<3,>=2.4.0->jupyterlab->jupyter->lingvo==0.12.7->paxml>=1.4.0->timesfm==1.1.0)\n",
            "  Downloading python_json_logger-2.0.7-py3-none-any.whl.metadata (6.5 kB)\n",
            "Collecting rfc3339-validator (from jupyter-events>=0.9.0->jupyter-server<3,>=2.4.0->jupyterlab->jupyter->lingvo==0.12.7->paxml>=1.4.0->timesfm==1.1.0)\n",
            "  Downloading rfc3339_validator-0.1.4-py2.py3-none-any.whl.metadata (1.5 kB)\n",
            "Collecting rfc3986-validator>=0.1.1 (from jupyter-events>=0.9.0->jupyter-server<3,>=2.4.0->jupyterlab->jupyter->lingvo==0.12.7->paxml>=1.4.0->timesfm==1.1.0)\n",
            "  Downloading rfc3986_validator-0.1.1-py2.py3-none-any.whl.metadata (1.7 kB)\n",
            "Requirement already satisfied: cffi>=1.0.1 in /usr/local/lib/python3.10/dist-packages (from argon2-cffi-bindings->argon2-cffi->notebook->jupyter->lingvo==0.12.7->paxml>=1.4.0->timesfm==1.1.0) (1.17.1)\n",
            "Requirement already satisfied: pycparser in /usr/local/lib/python3.10/dist-packages (from cffi>=1.0.1->argon2-cffi-bindings->argon2-cffi->notebook->jupyter->lingvo==0.12.7->paxml>=1.4.0->timesfm==1.1.0) (2.22)\n",
            "Collecting fqdn (from jsonschema[format-nongpl]>=4.18.0->jupyter-events>=0.9.0->jupyter-server<3,>=2.4.0->jupyterlab->jupyter->lingvo==0.12.7->paxml>=1.4.0->timesfm==1.1.0)\n",
            "  Downloading fqdn-1.5.1-py3-none-any.whl.metadata (1.4 kB)\n",
            "Collecting isoduration (from jsonschema[format-nongpl]>=4.18.0->jupyter-events>=0.9.0->jupyter-server<3,>=2.4.0->jupyterlab->jupyter->lingvo==0.12.7->paxml>=1.4.0->timesfm==1.1.0)\n",
            "  Downloading isoduration-20.11.0-py3-none-any.whl.metadata (5.7 kB)\n",
            "Requirement already satisfied: jsonpointer>1.13 in /usr/local/lib/python3.10/dist-packages (from jsonschema[format-nongpl]>=4.18.0->jupyter-events>=0.9.0->jupyter-server<3,>=2.4.0->jupyterlab->jupyter->lingvo==0.12.7->paxml>=1.4.0->timesfm==1.1.0) (3.0.0)\n",
            "Collecting uri-template (from jsonschema[format-nongpl]>=4.18.0->jupyter-events>=0.9.0->jupyter-server<3,>=2.4.0->jupyterlab->jupyter->lingvo==0.12.7->paxml>=1.4.0->timesfm==1.1.0)\n",
            "  Downloading uri_template-1.3.0-py3-none-any.whl.metadata (8.8 kB)\n",
            "Requirement already satisfied: webcolors>=24.6.0 in /usr/local/lib/python3.10/dist-packages (from jsonschema[format-nongpl]>=4.18.0->jupyter-events>=0.9.0->jupyter-server<3,>=2.4.0->jupyterlab->jupyter->lingvo==0.12.7->paxml>=1.4.0->timesfm==1.1.0) (24.11.1)\n",
            "Collecting arrow>=0.15.0 (from isoduration->jsonschema[format-nongpl]>=4.18.0->jupyter-events>=0.9.0->jupyter-server<3,>=2.4.0->jupyterlab->jupyter->lingvo==0.12.7->paxml>=1.4.0->timesfm==1.1.0)\n",
            "  Downloading arrow-1.3.0-py3-none-any.whl.metadata (7.5 kB)\n",
            "Collecting types-python-dateutil>=2.8.10 (from arrow>=0.15.0->isoduration->jsonschema[format-nongpl]>=4.18.0->jupyter-events>=0.9.0->jupyter-server<3,>=2.4.0->jupyterlab->jupyter->lingvo==0.12.7->paxml>=1.4.0->timesfm==1.1.0)\n",
            "  Downloading types_python_dateutil-2.9.0.20241003-py3-none-any.whl.metadata (1.9 kB)\n",
            "Downloading timesfm-1.1.0-py3-none-any.whl (37 kB)\n",
            "Downloading einshape-1.0-py3-none-any.whl (21 kB)\n",
            "Downloading InquirerPy-0.3.4-py3-none-any.whl (67 kB)\n",
            "\u001b[2K   \u001b[90m━━━━━━━━━━━━━━━━━━━━━━━━━━━━━━━━━━━━━━━━\u001b[0m \u001b[32m67.7/67.7 kB\u001b[0m \u001b[31m7.4 MB/s\u001b[0m eta \u001b[36m0:00:00\u001b[0m\n",
            "\u001b[?25hDownloading jaxlib-0.4.26-cp310-cp310-manylinux2014_x86_64.whl (78.8 MB)\n",
            "\u001b[2K   \u001b[90m━━━━━━━━━━━━━━━━━━━━━━━━━━━━━━━━━━━━━━━━\u001b[0m \u001b[32m78.8/78.8 MB\u001b[0m \u001b[31m11.7 MB/s\u001b[0m eta \u001b[36m0:00:00\u001b[0m\n",
            "\u001b[?25hDownloading jax_cuda12_plugin-0.4.26-cp310-cp310-manylinux2014_x86_64.whl (12.4 MB)\n",
            "\u001b[2K   \u001b[90m━━━━━━━━━━━━━━━━━━━━━━━━━━━━━━━━━━━━━━━━\u001b[0m \u001b[32m12.4/12.4 MB\u001b[0m \u001b[31m77.7 MB/s\u001b[0m eta \u001b[36m0:00:00\u001b[0m\n",
            "\u001b[?25hDownloading jax_cuda12_pjrt-0.4.26-py3-none-manylinux2014_x86_64.whl (85.7 MB)\n",
            "\u001b[2K   \u001b[90m━━━━━━━━━━━━━━━━━━━━━━━━━━━━━━━━━━━━━━━━\u001b[0m \u001b[32m85.7/85.7 MB\u001b[0m \u001b[31m9.1 MB/s\u001b[0m eta \u001b[36m0:00:00\u001b[0m\n",
            "\u001b[?25hDownloading jax-0.4.26-py3-none-any.whl (1.9 MB)\n",
            "\u001b[2K   \u001b[90m━━━━━━━━━━━━━━━━━━━━━━━━━━━━━━━━━━━━━━━━\u001b[0m \u001b[32m1.9/1.9 MB\u001b[0m \u001b[31m49.0 MB/s\u001b[0m eta \u001b[36m0:00:00\u001b[0m\n",
            "\u001b[?25hDownloading paxml-1.4.0-py3-none-any.whl (440 kB)\n",
            "\u001b[2K   \u001b[90m━━━━━━━━━━━━━━━━━━━━━━━━━━━━━━━━━━━━━━━━\u001b[0m \u001b[32m440.2/440.2 kB\u001b[0m \u001b[31m35.2 MB/s\u001b[0m eta \u001b[36m0:00:00\u001b[0m\n",
            "\u001b[?25hDownloading clu-0.0.11-py3-none-any.whl (101 kB)\n",
            "\u001b[2K   \u001b[90m━━━━━━━━━━━━━━━━━━━━━━━━━━━━━━━━━━━━━━━━\u001b[0m \u001b[32m101.4/101.4 kB\u001b[0m \u001b[31m10.9 MB/s\u001b[0m eta \u001b[36m0:00:00\u001b[0m\n",
            "\u001b[?25hDownloading etils-1.7.0-py3-none-any.whl (152 kB)\n",
            "\u001b[2K   \u001b[90m━━━━━━━━━━━━━━━━━━━━━━━━━━━━━━━━━━━━━━━━\u001b[0m \u001b[32m152.4/152.4 kB\u001b[0m \u001b[31m15.6 MB/s\u001b[0m eta \u001b[36m0:00:00\u001b[0m\n",
            "\u001b[?25hDownloading flax-0.8.2-py3-none-any.whl (686 kB)\n",
            "\u001b[2K   \u001b[90m━━━━━━━━━━━━━━━━━━━━━━━━━━━━━━━━━━━━━━━━\u001b[0m \u001b[32m686.8/686.8 kB\u001b[0m \u001b[31m2.1 MB/s\u001b[0m eta \u001b[36m0:00:00\u001b[0m\n",
            "\u001b[?25hDownloading graphviz-0.20.1-py3-none-any.whl (47 kB)\n",
            "\u001b[2K   \u001b[90m━━━━━━━━━━━━━━━━━━━━━━━━━━━━━━━━━━━━━━━━\u001b[0m \u001b[32m47.0/47.0 kB\u001b[0m \u001b[31m4.2 MB/s\u001b[0m eta \u001b[36m0:00:00\u001b[0m\n",
            "\u001b[?25hDownloading lingvo-0.12.7-cp310-cp310-manylinux_2_17_x86_64.manylinux2014_x86_64.whl (18.0 MB)\n",
            "\u001b[2K   \u001b[90m━━━━━━━━━━━━━━━━━━━━━━━━━━━━━━━━━━━━━━━━\u001b[0m \u001b[32m18.0/18.0 MB\u001b[0m \u001b[31m42.0 MB/s\u001b[0m eta \u001b[36m0:00:00\u001b[0m\n",
            "\u001b[?25hDownloading orbax_checkpoint-0.5.9-py3-none-any.whl (168 kB)\n",
            "\u001b[2K   \u001b[90m━━━━━━━━━━━━━━━━━━━━━━━━━━━━━━━━━━━━━━━━\u001b[0m \u001b[32m168.0/168.0 kB\u001b[0m \u001b[31m15.4 MB/s\u001b[0m eta \u001b[36m0:00:00\u001b[0m\n",
            "\u001b[?25hDownloading praxis-1.4.0-py3-none-any.whl (772 kB)\n",
            "\u001b[2K   \u001b[90m━━━━━━━━━━━━━━━━━━━━━━━━━━━━━━━━━━━━━━━━\u001b[0m \u001b[32m772.5/772.5 kB\u001b[0m \u001b[31m52.0 MB/s\u001b[0m eta \u001b[36m0:00:00\u001b[0m\n",
            "\u001b[?25hDownloading opt_einsum-3.3.0-py3-none-any.whl (65 kB)\n",
            "\u001b[2K   \u001b[90m━━━━━━━━━━━━━━━━━━━━━━━━━━━━━━━━━━━━━━━━\u001b[0m \u001b[32m65.5/65.5 kB\u001b[0m \u001b[31m7.3 MB/s\u001b[0m eta \u001b[36m0:00:00\u001b[0m\n",
            "\u001b[?25hDownloading protobuf-3.19.6-cp310-cp310-manylinux_2_17_x86_64.manylinux2014_x86_64.whl (1.1 MB)\n",
            "\u001b[2K   \u001b[90m━━━━━━━━━━━━━━━━━━━━━━━━━━━━━━━━━━━━━━━━\u001b[0m \u001b[32m1.1/1.1 MB\u001b[0m \u001b[31m66.4 MB/s\u001b[0m eta \u001b[36m0:00:00\u001b[0m\n",
            "\u001b[?25hDownloading pyglove-0.4.4-py3-none-any.whl (577 kB)\n",
            "\u001b[2K   \u001b[90m━━━━━━━━━━━━━━━━━━━━━━━━━━━━━━━━━━━━━━━━\u001b[0m \u001b[32m577.8/577.8 kB\u001b[0m \u001b[31m46.2 MB/s\u001b[0m eta \u001b[36m0:00:00\u001b[0m\n",
            "\u001b[?25hDownloading seqio_nightly-0.0.17.dev20231010-py3-none-any.whl (353 kB)\n",
            "\u001b[2K   \u001b[90m━━━━━━━━━━━━━━━━━━━━━━━━━━━━━━━━━━━━━━━━\u001b[0m \u001b[32m353.1/353.1 kB\u001b[0m \u001b[31m33.2 MB/s\u001b[0m eta \u001b[36m0:00:00\u001b[0m\n",
            "\u001b[?25hDownloading t5-0.9.4-py2.py3-none-any.whl (164 kB)\n",
            "\u001b[2K   \u001b[90m━━━━━━━━━━━━━━━━━━━━━━━━━━━━━━━━━━━━━━━━\u001b[0m \u001b[32m164.5/164.5 kB\u001b[0m \u001b[31m17.8 MB/s\u001b[0m eta \u001b[36m0:00:00\u001b[0m\n",
            "\u001b[?25hDownloading tensorflow_datasets-4.8.3-py3-none-any.whl (5.4 MB)\n",
            "\u001b[2K   \u001b[90m━━━━━━━━━━━━━━━━━━━━━━━━━━━━━━━━━━━━━━━━\u001b[0m \u001b[32m5.4/5.4 MB\u001b[0m \u001b[31m94.8 MB/s\u001b[0m eta \u001b[36m0:00:00\u001b[0m\n",
            "\u001b[?25hDownloading tensorflow_metadata-1.12.0-py3-none-any.whl (52 kB)\n",
            "\u001b[2K   \u001b[90m━━━━━━━━━━━━━━━━━━━━━━━━━━━━━━━━━━━━━━━━\u001b[0m \u001b[32m52.3/52.3 kB\u001b[0m \u001b[31m5.2 MB/s\u001b[0m eta \u001b[36m0:00:00\u001b[0m\n",
            "\u001b[?25hDownloading tensorstore-0.1.55-cp310-cp310-manylinux_2_17_x86_64.manylinux2014_x86_64.whl (14.3 MB)\n",
            "\u001b[2K   \u001b[90m━━━━━━━━━━━━━━━━━━━━━━━━━━━━━━━━━━━━━━━━\u001b[0m \u001b[32m14.3/14.3 MB\u001b[0m \u001b[31m82.9 MB/s\u001b[0m eta \u001b[36m0:00:00\u001b[0m\n",
            "\u001b[?25hDownloading tfds_nightly-4.8.3.dev202303280045-py3-none-any.whl (5.4 MB)\n",
            "\u001b[2K   \u001b[90m━━━━━━━━━━━━━━━━━━━━━━━━━━━━━━━━━━━━━━━━\u001b[0m \u001b[32m5.4/5.4 MB\u001b[0m \u001b[31m27.3 MB/s\u001b[0m eta \u001b[36m0:00:00\u001b[0m\n",
            "\u001b[?25hDownloading einops-0.7.0-py3-none-any.whl (44 kB)\n",
            "\u001b[2K   \u001b[90m━━━━━━━━━━━━━━━━━━━━━━━━━━━━━━━━━━━━━━━━\u001b[0m \u001b[32m44.6/44.6 kB\u001b[0m \u001b[31m4.2 MB/s\u001b[0m eta \u001b[36m0:00:00\u001b[0m\n",
            "\u001b[?25hDownloading fiddle-0.3.0-py3-none-any.whl (419 kB)\n",
            "\u001b[2K   \u001b[90m━━━━━━━━━━━━━━━━━━━━━━━━━━━━━━━━━━━━━━━━\u001b[0m \u001b[32m419.8/419.8 kB\u001b[0m \u001b[31m26.0 MB/s\u001b[0m eta \u001b[36m0:00:00\u001b[0m\n",
            "\u001b[?25hDownloading jax_bitempered_loss-0.0.2-py3-none-any.whl (12 kB)\n",
            "Downloading jaxtyping-0.2.28-py3-none-any.whl (40 kB)\n",
            "\u001b[2K   \u001b[90m━━━━━━━━━━━━━━━━━━━━━━━━━━━━━━━━━━━━━━━━\u001b[0m \u001b[32m40.7/40.7 kB\u001b[0m \u001b[31m4.2 MB/s\u001b[0m eta \u001b[36m0:00:00\u001b[0m\n",
            "\u001b[?25hDownloading optax-0.2.2-py3-none-any.whl (223 kB)\n",
            "\u001b[2K   \u001b[90m━━━━━━━━━━━━━━━━━━━━━━━━━━━━━━━━━━━━━━━━\u001b[0m \u001b[32m223.7/223.7 kB\u001b[0m \u001b[31m1.7 MB/s\u001b[0m eta \u001b[36m0:00:00\u001b[0m\n",
            "\u001b[?25hDownloading optax_shampoo-0.0.6-py3-none-any.whl (32 kB)\n",
            "Downloading sentencepiece-0.1.99-cp310-cp310-manylinux_2_17_x86_64.manylinux2014_x86_64.whl (1.3 MB)\n",
            "\u001b[2K   \u001b[90m━━━━━━━━━━━━━━━━━━━━━━━━━━━━━━━━━━━━━━━━\u001b[0m \u001b[32m1.3/1.3 MB\u001b[0m \u001b[31m4.6 MB/s\u001b[0m eta \u001b[36m0:00:00\u001b[0m\n",
            "\u001b[?25hDownloading typeguard-2.13.3-py3-none-any.whl (17 kB)\n",
            "Downloading utilsforecast-0.2.9-py3-none-any.whl (41 kB)\n",
            "\u001b[2K   \u001b[90m━━━━━━━━━━━━━━━━━━━━━━━━━━━━━━━━━━━━━━━━\u001b[0m \u001b[32m41.7/41.7 kB\u001b[0m \u001b[31m4.0 MB/s\u001b[0m eta \u001b[36m0:00:00\u001b[0m\n",
            "\u001b[?25hDownloading nvidia_cudnn_cu12-8.9.7.29-py3-none-manylinux1_x86_64.whl (704.7 MB)\n",
            "\u001b[2K   \u001b[90m━━━━━━━━━━━━━━━━━━━━━━━━━━━━━━━━━━━━━━━━\u001b[0m \u001b[32m704.7/704.7 MB\u001b[0m \u001b[31m2.2 MB/s\u001b[0m eta \u001b[36m0:00:00\u001b[0m\n",
            "\u001b[?25hDownloading tensorflow-2.9.3-cp310-cp310-manylinux_2_17_x86_64.manylinux2014_x86_64.whl (511.8 MB)\n",
            "\u001b[2K   \u001b[90m━━━━━━━━━━━━━━━━━━━━━━━━━━━━━━━━━━━━━━━━\u001b[0m \u001b[32m511.8/511.8 MB\u001b[0m \u001b[31m3.7 MB/s\u001b[0m eta \u001b[36m0:00:00\u001b[0m\n",
            "\u001b[?25hDownloading tensorflow_text-2.9.0-cp310-cp310-manylinux_2_17_x86_64.manylinux2014_x86_64.whl (4.6 MB)\n",
            "\u001b[2K   \u001b[90m━━━━━━━━━━━━━━━━━━━━━━━━━━━━━━━━━━━━━━━━\u001b[0m \u001b[32m4.6/4.6 MB\u001b[0m \u001b[31m72.6 MB/s\u001b[0m eta \u001b[36m0:00:00\u001b[0m\n",
            "\u001b[?25hDownloading chex-0.1.86-py3-none-any.whl (98 kB)\n",
            "\u001b[2K   \u001b[90m━━━━━━━━━━━━━━━━━━━━━━━━━━━━━━━━━━━━━━━━\u001b[0m \u001b[32m98.2/98.2 kB\u001b[0m \u001b[31m11.0 MB/s\u001b[0m eta \u001b[36m0:00:00\u001b[0m\n",
            "\u001b[?25hDownloading flatbuffers-1.12-py2.py3-none-any.whl (15 kB)\n",
            "Downloading gast-0.4.0-py3-none-any.whl (9.8 kB)\n",
            "Downloading googleapis_common_protos-1.63.1-py2.py3-none-any.whl (229 kB)\n",
            "\u001b[2K   \u001b[90m━━━━━━━━━━━━━━━━━━━━━━━━━━━━━━━━━━━━━━━━\u001b[0m \u001b[32m229.2/229.2 kB\u001b[0m \u001b[31m21.5 MB/s\u001b[0m eta \u001b[36m0:00:00\u001b[0m\n",
            "\u001b[?25hDownloading keras-2.9.0-py2.py3-none-any.whl (1.6 MB)\n",
            "\u001b[2K   \u001b[90m━━━━━━━━━━━━━━━━━━━━━━━━━━━━━━━━━━━━━━━━\u001b[0m \u001b[32m1.6/1.6 MB\u001b[0m \u001b[31m64.7 MB/s\u001b[0m eta \u001b[36m0:00:00\u001b[0m\n",
            "\u001b[?25hDownloading Keras_Preprocessing-1.1.2-py2.py3-none-any.whl (42 kB)\n",
            "\u001b[2K   \u001b[90m━━━━━━━━━━━━━━━━━━━━━━━━━━━━━━━━━━━━━━━━\u001b[0m \u001b[32m42.6/42.6 kB\u001b[0m \u001b[31m3.9 MB/s\u001b[0m eta \u001b[36m0:00:00\u001b[0m\n",
            "\u001b[?25hDownloading mesh_tensorflow-0.1.21-py3-none-any.whl (385 kB)\n",
            "\u001b[2K   \u001b[90m━━━━━━━━━━━━━━━━━━━━━━━━━━━━━━━━━━━━━━━━\u001b[0m \u001b[32m385.2/385.2 kB\u001b[0m \u001b[31m36.3 MB/s\u001b[0m eta \u001b[36m0:00:00\u001b[0m\n",
            "\u001b[?25hDownloading pfzy-0.3.4-py3-none-any.whl (8.5 kB)\n",
            "Downloading tensorboard-2.9.1-py3-none-any.whl (5.8 MB)\n",
            "\u001b[2K   \u001b[90m━━━━━━━━━━━━━━━━━━━━━━━━━━━━━━━━━━━━━━━━\u001b[0m \u001b[32m5.8/5.8 MB\u001b[0m \u001b[31m113.2 MB/s\u001b[0m eta \u001b[36m0:00:00\u001b[0m\n",
            "\u001b[?25hDownloading tensorflow_estimator-2.9.0-py2.py3-none-any.whl (438 kB)\n",
            "\u001b[2K   \u001b[90m━━━━━━━━━━━━━━━━━━━━━━━━━━━━━━━━━━━━━━━━\u001b[0m \u001b[32m438.7/438.7 kB\u001b[0m \u001b[31m36.5 MB/s\u001b[0m eta \u001b[36m0:00:00\u001b[0m\n",
            "\u001b[?25hDownloading graph_compression_google_research-0.0.4-py3-none-any.whl (90 kB)\n",
            "\u001b[2K   \u001b[90m━━━━━━━━━━━━━━━━━━━━━━━━━━━━━━━━━━━━━━━━\u001b[0m \u001b[32m90.0/90.0 kB\u001b[0m \u001b[31m1.9 MB/s\u001b[0m eta \u001b[36m0:00:00\u001b[0m\n",
            "\u001b[?25hDownloading jupyter-1.1.1-py2.py3-none-any.whl (2.7 kB)\n",
            "Downloading jupyter_http_over_ws-0.0.8-py2.py3-none-any.whl (18 kB)\n",
            "Downloading ml_collections-1.0.0-py3-none-any.whl (76 kB)\n",
            "\u001b[2K   \u001b[90m━━━━━━━━━━━━━━━━━━━━━━━━━━━━━━━━━━━━━━━━\u001b[0m \u001b[32m76.5/76.5 kB\u001b[0m \u001b[31m9.4 MB/s\u001b[0m eta \u001b[36m0:00:00\u001b[0m\n",
            "\u001b[?25hDownloading model_pruning_google_research-0.0.5-py3-none-any.whl (52 kB)\n",
            "\u001b[2K   \u001b[90m━━━━━━━━━━━━━━━━━━━━━━━━━━━━━━━━━━━━━━━━\u001b[0m \u001b[32m52.6/52.6 kB\u001b[0m \u001b[31m5.5 MB/s\u001b[0m eta \u001b[36m0:00:00\u001b[0m\n",
            "\u001b[?25hDownloading nvidia_cuda_nvrtc_cu12-12.6.85-py3-none-manylinux2010_x86_64.manylinux_2_12_x86_64.whl (23.6 MB)\n",
            "\u001b[2K   \u001b[90m━━━━━━━━━━━━━━━━━━━━━━━━━━━━━━━━━━━━━━━━\u001b[0m \u001b[32m23.6/23.6 MB\u001b[0m \u001b[31m63.1 MB/s\u001b[0m eta \u001b[36m0:00:00\u001b[0m\n",
            "\u001b[?25hDownloading sacrebleu-2.4.3-py3-none-any.whl (103 kB)\n",
            "\u001b[2K   \u001b[90m━━━━━━━━━━━━━━━━━━━━━━━━━━━━━━━━━━━━━━━━\u001b[0m \u001b[32m104.0/104.0 kB\u001b[0m \u001b[31m9.8 MB/s\u001b[0m eta \u001b[36m0:00:00\u001b[0m\n",
            "\u001b[?25hDownloading google_auth_oauthlib-0.4.6-py2.py3-none-any.whl (18 kB)\n",
            "Downloading tensorboard_data_server-0.6.1-py3-none-manylinux2010_x86_64.whl (4.9 MB)\n",
            "\u001b[2K   \u001b[90m━━━━━━━━━━━━━━━━━━━━━━━━━━━━━━━━━━━━━━━━\u001b[0m \u001b[32m4.9/4.9 MB\u001b[0m \u001b[31m113.0 MB/s\u001b[0m eta \u001b[36m0:00:00\u001b[0m\n",
            "\u001b[?25hDownloading tensorboard_plugin_wit-1.8.1-py3-none-any.whl (781 kB)\n",
            "\u001b[2K   \u001b[90m━━━━━━━━━━━━━━━━━━━━━━━━━━━━━━━━━━━━━━━━\u001b[0m \u001b[32m781.3/781.3 kB\u001b[0m \u001b[31m53.1 MB/s\u001b[0m eta \u001b[36m0:00:00\u001b[0m\n",
            "\u001b[?25hDownloading tf_keras-2.15.0-py3-none-any.whl (1.7 MB)\n",
            "\u001b[2K   \u001b[90m━━━━━━━━━━━━━━━━━━━━━━━━━━━━━━━━━━━━━━━━\u001b[0m \u001b[32m1.7/1.7 MB\u001b[0m \u001b[31m47.6 MB/s\u001b[0m eta \u001b[36m0:00:00\u001b[0m\n",
            "\u001b[?25hDownloading colorama-0.4.6-py2.py3-none-any.whl (25 kB)\n",
            "Downloading jupyterlab-4.3.1-py3-none-any.whl (11.7 MB)\n",
            "\u001b[2K   \u001b[90m━━━━━━━━━━━━━━━━━━━━━━━━━━━━━━━━━━━━━━━━\u001b[0m \u001b[32m11.7/11.7 MB\u001b[0m \u001b[31m83.3 MB/s\u001b[0m eta \u001b[36m0:00:00\u001b[0m\n",
            "\u001b[?25hDownloading ipykernel-6.29.5-py3-none-any.whl (117 kB)\n",
            "\u001b[2K   \u001b[90m━━━━━━━━━━━━━━━━━━━━━━━━━━━━━━━━━━━━━━━━\u001b[0m \u001b[32m117.2/117.2 kB\u001b[0m \u001b[31m12.1 MB/s\u001b[0m eta \u001b[36m0:00:00\u001b[0m\n",
            "\u001b[?25hDownloading comm-0.2.2-py3-none-any.whl (7.2 kB)\n",
            "Downloading libcst-1.5.1-cp310-cp310-manylinux_2_17_x86_64.manylinux2014_x86_64.whl (2.3 MB)\n",
            "\u001b[2K   \u001b[90m━━━━━━━━━━━━━━━━━━━━━━━━━━━━━━━━━━━━━━━━\u001b[0m \u001b[32m2.3/2.3 MB\u001b[0m \u001b[31m86.0 MB/s\u001b[0m eta \u001b[36m0:00:00\u001b[0m\n",
            "\u001b[?25hDownloading portalocker-3.0.0-py3-none-any.whl (19 kB)\n",
            "Downloading async_lru-2.0.4-py3-none-any.whl (6.1 kB)\n",
            "Downloading jedi-0.19.2-py2.py3-none-any.whl (1.6 MB)\n",
            "\u001b[2K   \u001b[90m━━━━━━━━━━━━━━━━━━━━━━━━━━━━━━━━━━━━━━━━\u001b[0m \u001b[32m1.6/1.6 MB\u001b[0m \u001b[31m82.9 MB/s\u001b[0m eta \u001b[36m0:00:00\u001b[0m\n",
            "\u001b[?25hDownloading jupyter_lsp-2.2.5-py3-none-any.whl (69 kB)\n",
            "\u001b[2K   \u001b[90m━━━━━━━━━━━━━━━━━━━━━━━━━━━━━━━━━━━━━━━━\u001b[0m \u001b[32m69.1/69.1 kB\u001b[0m \u001b[31m7.8 MB/s\u001b[0m eta \u001b[36m0:00:00\u001b[0m\n",
            "\u001b[?25hDownloading jupyter_server-2.14.2-py3-none-any.whl (383 kB)\n",
            "\u001b[2K   \u001b[90m━━━━━━━━━━━━━━━━━━━━━━━━━━━━━━━━━━━━━━━━\u001b[0m \u001b[32m383.6/383.6 kB\u001b[0m \u001b[31m24.3 MB/s\u001b[0m eta \u001b[36m0:00:00\u001b[0m\n",
            "\u001b[?25hDownloading jupyter_client-7.4.9-py3-none-any.whl (133 kB)\n",
            "\u001b[2K   \u001b[90m━━━━━━━━━━━━━━━━━━━━━━━━━━━━━━━━━━━━━━━━\u001b[0m \u001b[32m133.5/133.5 kB\u001b[0m \u001b[31m14.7 MB/s\u001b[0m eta \u001b[36m0:00:00\u001b[0m\n",
            "\u001b[?25hDownloading jupyterlab_server-2.27.3-py3-none-any.whl (59 kB)\n",
            "\u001b[2K   \u001b[90m━━━━━━━━━━━━━━━━━━━━━━━━━━━━━━━━━━━━━━━━\u001b[0m \u001b[32m59.7/59.7 kB\u001b[0m \u001b[31m7.0 MB/s\u001b[0m eta \u001b[36m0:00:00\u001b[0m\n",
            "\u001b[?25hDownloading json5-0.10.0-py3-none-any.whl (34 kB)\n",
            "Downloading jupyter_events-0.10.0-py3-none-any.whl (18 kB)\n",
            "Downloading jupyter_server_terminals-0.5.3-py3-none-any.whl (13 kB)\n",
            "Downloading overrides-7.7.0-py3-none-any.whl (17 kB)\n",
            "Downloading python_json_logger-2.0.7-py3-none-any.whl (8.1 kB)\n",
            "Downloading rfc3986_validator-0.1.1-py2.py3-none-any.whl (4.2 kB)\n",
            "Downloading rfc3339_validator-0.1.4-py2.py3-none-any.whl (3.5 kB)\n",
            "Downloading fqdn-1.5.1-py3-none-any.whl (9.1 kB)\n",
            "Downloading isoduration-20.11.0-py3-none-any.whl (11 kB)\n",
            "Downloading uri_template-1.3.0-py3-none-any.whl (11 kB)\n",
            "Downloading arrow-1.3.0-py3-none-any.whl (66 kB)\n",
            "\u001b[2K   \u001b[90m━━━━━━━━━━━━━━━━━━━━━━━━━━━━━━━━━━━━━━━━\u001b[0m \u001b[32m66.4/66.4 kB\u001b[0m \u001b[31m7.5 MB/s\u001b[0m eta \u001b[36m0:00:00\u001b[0m\n",
            "\u001b[?25hDownloading types_python_dateutil-2.9.0.20241003-py3-none-any.whl (9.7 kB)\n",
            "Building wheels for collected packages: rouge-score\n",
            "  Building wheel for rouge-score (setup.py) ... \u001b[?25l\u001b[?25hdone\n",
            "  Created wheel for rouge-score: filename=rouge_score-0.1.2-py3-none-any.whl size=24935 sha256=0b8b0beafaa5ca73c17953ae02b268e1d0c1f9d611d8919f91dae086dccc7e84\n",
            "  Stored in directory: /root/.cache/pip/wheels/5f/dd/89/461065a73be61a532ff8599a28e9beef17985c9e9c31e541b4\n",
            "Successfully built rouge-score\n",
            "Installing collected packages: tensorboard-plugin-wit, sentencepiece, keras, jax-cuda12-pjrt, flatbuffers, uri-template, types-python-dateutil, typeguard, tf-keras, tensorflow-estimator, tensorboard-data-server, rfc3986-validator, rfc3339-validator, python-json-logger, pyglove, protobuf, portalocker, pfzy, overrides, optax-shampoo, opt-einsum, nvidia-cuda-nvrtc-cu12, model-pruning-google-research, ml-collections, mesh-tensorflow, libcst, keras-preprocessing, json5, jedi, jax-cuda12-plugin, jax-bitempered-loss, graphviz, graph-compression-google-research, gast, fqdn, etils, einshape, einops, comm, colorama, async-lru, tensorstore, sacrebleu, rouge-score, nvidia-cudnn-cu12, jupyter-server-terminals, jupyter-client, jaxtyping, jaxlib, jax, InquirerPy, googleapis-common-protos, fiddle, arrow, utilsforecast, tensorflow-metadata, isoduration, ipykernel, google-auth-oauthlib, chex, tensorflow-datasets, tensorboard, orbax-checkpoint, optax, tfds-nightly, tensorflow, jupyter-events, flax, tensorflow-text, clu, seqio-nightly, jupyter-server, t5, jupyterlab-server, jupyter-lsp, jupyterlab, jupyter-http-over-ws, jupyter, lingvo, praxis, paxml, timesfm\n",
            "  Attempting uninstall: sentencepiece\n",
            "    Found existing installation: sentencepiece 0.2.0\n",
            "    Uninstalling sentencepiece-0.2.0:\n",
            "      Successfully uninstalled sentencepiece-0.2.0\n",
            "  Attempting uninstall: keras\n",
            "    Found existing installation: keras 3.5.0\n",
            "    Uninstalling keras-3.5.0:\n",
            "      Successfully uninstalled keras-3.5.0\n",
            "  Attempting uninstall: jax-cuda12-pjrt\n",
            "    Found existing installation: jax-cuda12-pjrt 0.4.33\n",
            "    Uninstalling jax-cuda12-pjrt-0.4.33:\n",
            "      Successfully uninstalled jax-cuda12-pjrt-0.4.33\n",
            "  Attempting uninstall: flatbuffers\n",
            "    Found existing installation: flatbuffers 24.3.25\n",
            "    Uninstalling flatbuffers-24.3.25:\n",
            "      Successfully uninstalled flatbuffers-24.3.25\n",
            "  Attempting uninstall: typeguard\n",
            "    Found existing installation: typeguard 4.4.1\n",
            "    Uninstalling typeguard-4.4.1:\n",
            "      Successfully uninstalled typeguard-4.4.1\n",
            "  Attempting uninstall: tf-keras\n",
            "    Found existing installation: tf_keras 2.17.0\n",
            "    Uninstalling tf_keras-2.17.0:\n",
            "      Successfully uninstalled tf_keras-2.17.0\n",
            "  Attempting uninstall: tensorboard-data-server\n",
            "    Found existing installation: tensorboard-data-server 0.7.2\n",
            "    Uninstalling tensorboard-data-server-0.7.2:\n",
            "      Successfully uninstalled tensorboard-data-server-0.7.2\n",
            "  Attempting uninstall: protobuf\n",
            "    Found existing installation: protobuf 4.25.5\n",
            "    Uninstalling protobuf-4.25.5:\n",
            "      Successfully uninstalled protobuf-4.25.5\n",
            "  Attempting uninstall: opt-einsum\n",
            "    Found existing installation: opt_einsum 3.4.0\n",
            "    Uninstalling opt_einsum-3.4.0:\n",
            "      Successfully uninstalled opt_einsum-3.4.0\n",
            "  Attempting uninstall: jax-cuda12-plugin\n",
            "    Found existing installation: jax-cuda12-plugin 0.4.33\n",
            "    Uninstalling jax-cuda12-plugin-0.4.33:\n",
            "      Successfully uninstalled jax-cuda12-plugin-0.4.33\n",
            "  Attempting uninstall: graphviz\n",
            "    Found existing installation: graphviz 0.20.3\n",
            "    Uninstalling graphviz-0.20.3:\n",
            "      Successfully uninstalled graphviz-0.20.3\n",
            "  Attempting uninstall: gast\n",
            "    Found existing installation: gast 0.6.0\n",
            "    Uninstalling gast-0.6.0:\n",
            "      Successfully uninstalled gast-0.6.0\n",
            "  Attempting uninstall: etils\n",
            "    Found existing installation: etils 1.10.0\n",
            "    Uninstalling etils-1.10.0:\n",
            "      Successfully uninstalled etils-1.10.0\n",
            "  Attempting uninstall: einops\n",
            "    Found existing installation: einops 0.8.0\n",
            "    Uninstalling einops-0.8.0:\n",
            "      Successfully uninstalled einops-0.8.0\n",
            "  Attempting uninstall: tensorstore\n",
            "    Found existing installation: tensorstore 0.1.68\n",
            "    Uninstalling tensorstore-0.1.68:\n",
            "      Successfully uninstalled tensorstore-0.1.68\n",
            "  Attempting uninstall: nvidia-cudnn-cu12\n",
            "    Found existing installation: nvidia-cudnn-cu12 9.5.1.17\n",
            "    Uninstalling nvidia-cudnn-cu12-9.5.1.17:\n",
            "      Successfully uninstalled nvidia-cudnn-cu12-9.5.1.17\n",
            "  Attempting uninstall: jupyter-client\n",
            "    Found existing installation: jupyter-client 6.1.12\n",
            "    Uninstalling jupyter-client-6.1.12:\n",
            "      Successfully uninstalled jupyter-client-6.1.12\n",
            "  Attempting uninstall: jaxlib\n",
            "    Found existing installation: jaxlib 0.4.33\n",
            "    Uninstalling jaxlib-0.4.33:\n",
            "      Successfully uninstalled jaxlib-0.4.33\n",
            "  Attempting uninstall: jax\n",
            "    Found existing installation: jax 0.4.33\n",
            "    Uninstalling jax-0.4.33:\n",
            "      Successfully uninstalled jax-0.4.33\n",
            "  Attempting uninstall: googleapis-common-protos\n",
            "    Found existing installation: googleapis-common-protos 1.66.0\n",
            "    Uninstalling googleapis-common-protos-1.66.0:\n",
            "      Successfully uninstalled googleapis-common-protos-1.66.0\n",
            "  Attempting uninstall: tensorflow-metadata\n",
            "    Found existing installation: tensorflow-metadata 1.13.1\n",
            "    Uninstalling tensorflow-metadata-1.13.1:\n",
            "      Successfully uninstalled tensorflow-metadata-1.13.1\n",
            "  Attempting uninstall: ipykernel\n",
            "    Found existing installation: ipykernel 5.5.6\n",
            "    Uninstalling ipykernel-5.5.6:\n",
            "      Successfully uninstalled ipykernel-5.5.6\n",
            "  Attempting uninstall: google-auth-oauthlib\n",
            "    Found existing installation: google-auth-oauthlib 1.2.1\n",
            "    Uninstalling google-auth-oauthlib-1.2.1:\n",
            "      Successfully uninstalled google-auth-oauthlib-1.2.1\n",
            "  Attempting uninstall: chex\n",
            "    Found existing installation: chex 0.1.87\n",
            "    Uninstalling chex-0.1.87:\n",
            "      Successfully uninstalled chex-0.1.87\n",
            "  Attempting uninstall: tensorflow-datasets\n",
            "    Found existing installation: tensorflow-datasets 4.9.7\n",
            "    Uninstalling tensorflow-datasets-4.9.7:\n",
            "      Successfully uninstalled tensorflow-datasets-4.9.7\n",
            "  Attempting uninstall: tensorboard\n",
            "    Found existing installation: tensorboard 2.17.1\n",
            "    Uninstalling tensorboard-2.17.1:\n",
            "      Successfully uninstalled tensorboard-2.17.1\n",
            "  Attempting uninstall: orbax-checkpoint\n",
            "    Found existing installation: orbax-checkpoint 0.6.4\n",
            "    Uninstalling orbax-checkpoint-0.6.4:\n",
            "      Successfully uninstalled orbax-checkpoint-0.6.4\n",
            "  Attempting uninstall: optax\n",
            "    Found existing installation: optax 0.2.4\n",
            "    Uninstalling optax-0.2.4:\n",
            "      Successfully uninstalled optax-0.2.4\n",
            "  Attempting uninstall: tensorflow\n",
            "    Found existing installation: tensorflow 2.17.1\n",
            "    Uninstalling tensorflow-2.17.1:\n",
            "      Successfully uninstalled tensorflow-2.17.1\n",
            "  Attempting uninstall: flax\n",
            "    Found existing installation: flax 0.8.5\n",
            "    Uninstalling flax-0.8.5:\n",
            "      Successfully uninstalled flax-0.8.5\n",
            "  Attempting uninstall: jupyter-server\n",
            "    Found existing installation: jupyter-server 1.24.0\n",
            "    Uninstalling jupyter-server-1.24.0:\n",
            "      Successfully uninstalled jupyter-server-1.24.0\n",
            "\u001b[31mERROR: pip's dependency resolver does not currently take into account all the packages that are installed. This behaviour is the source of the following dependency conflicts.\n",
            "google-ai-generativelanguage 0.6.10 requires protobuf!=4.21.0,!=4.21.1,!=4.21.2,!=4.21.3,!=4.21.4,!=4.21.5,<6.0.0dev,>=3.20.2, but you have protobuf 3.19.6 which is incompatible.\n",
            "google-cloud-aiplatform 1.71.1 requires protobuf!=4.21.0,!=4.21.1,!=4.21.2,!=4.21.3,!=4.21.4,!=4.21.5,<6.0.0dev,>=3.20.2, but you have protobuf 3.19.6 which is incompatible.\n",
            "google-cloud-bigquery-connection 1.16.1 requires protobuf!=4.21.0,!=4.21.1,!=4.21.2,!=4.21.3,!=4.21.4,!=4.21.5,<6.0.0dev,>=3.20.2, but you have protobuf 3.19.6 which is incompatible.\n",
            "google-cloud-bigquery-storage 2.27.0 requires protobuf!=3.20.0,!=3.20.1,!=4.21.0,!=4.21.1,!=4.21.2,!=4.21.3,!=4.21.4,!=4.21.5,<6.0.0dev,>=3.20.2, but you have protobuf 3.19.6 which is incompatible.\n",
            "google-cloud-bigtable 2.27.0 requires protobuf!=4.21.0,!=4.21.1,!=4.21.2,!=4.21.3,!=4.21.4,!=4.21.5,<6.0.0dev,>=3.20.2, but you have protobuf 3.19.6 which is incompatible.\n",
            "google-cloud-datastore 2.20.1 requires protobuf!=3.20.0,!=3.20.1,!=4.21.0,!=4.21.1,!=4.21.2,!=4.21.3,!=4.21.4,!=4.21.5,<6.0.0dev,>=3.20.2, but you have protobuf 3.19.6 which is incompatible.\n",
            "google-cloud-firestore 2.19.0 requires protobuf!=3.20.0,!=3.20.1,!=4.21.0,!=4.21.1,!=4.21.2,!=4.21.3,!=4.21.4,!=4.21.5,<6.0.0dev,>=3.20.2, but you have protobuf 3.19.6 which is incompatible.\n",
            "google-cloud-functions 1.18.1 requires protobuf!=4.21.0,!=4.21.1,!=4.21.2,!=4.21.3,!=4.21.4,!=4.21.5,<6.0.0dev,>=3.20.2, but you have protobuf 3.19.6 which is incompatible.\n",
            "google-cloud-iam 2.16.1 requires protobuf!=4.21.0,!=4.21.1,!=4.21.2,!=4.21.3,!=4.21.4,!=4.21.5,<6.0.0dev,>=3.20.2, but you have protobuf 3.19.6 which is incompatible.\n",
            "google-cloud-language 2.15.1 requires protobuf!=4.21.0,!=4.21.1,!=4.21.2,!=4.21.3,!=4.21.4,!=4.21.5,<6.0.0dev,>=3.20.2, but you have protobuf 3.19.6 which is incompatible.\n",
            "google-cloud-pubsub 2.27.1 requires protobuf!=4.21.0,!=4.21.1,!=4.21.2,!=4.21.3,!=4.21.4,!=4.21.5,<6.0.0dev,>=3.20.2, but you have protobuf 3.19.6 which is incompatible.\n",
            "google-cloud-resource-manager 1.13.1 requires protobuf!=4.21.0,!=4.21.1,!=4.21.2,!=4.21.3,!=4.21.4,!=4.21.5,<6.0.0dev,>=3.20.2, but you have protobuf 3.19.6 which is incompatible.\n",
            "google-cloud-translate 3.17.0 requires protobuf!=4.21.0,!=4.21.1,!=4.21.2,!=4.21.3,!=4.21.4,!=4.21.5,<6.0.0dev,>=3.20.2, but you have protobuf 3.19.6 which is incompatible.\n",
            "google-colab 1.0.0 requires ipykernel==5.5.6, but you have ipykernel 6.29.5 which is incompatible.\n",
            "grpc-google-iam-v1 0.13.1 requires protobuf!=4.21.1,!=4.21.2,!=4.21.3,!=4.21.4,!=4.21.5,<6.0.0dev,>=3.20.2, but you have protobuf 3.19.6 which is incompatible.\n",
            "grpcio-status 1.62.3 requires protobuf>=4.21.6, but you have protobuf 3.19.6 which is incompatible.\n",
            "inflect 7.4.0 requires typeguard>=4.0.1, but you have typeguard 2.13.3 which is incompatible.\n",
            "pandas-gbq 0.24.0 requires google-auth-oauthlib>=0.7.0, but you have google-auth-oauthlib 0.4.6 which is incompatible.\u001b[0m\u001b[31m\n",
            "\u001b[0mSuccessfully installed InquirerPy-0.3.4 arrow-1.3.0 async-lru-2.0.4 chex-0.1.86 clu-0.0.11 colorama-0.4.6 comm-0.2.2 einops-0.7.0 einshape-1.0 etils-1.7.0 fiddle-0.3.0 flatbuffers-1.12 flax-0.8.2 fqdn-1.5.1 gast-0.4.0 google-auth-oauthlib-0.4.6 googleapis-common-protos-1.63.1 graph-compression-google-research-0.0.4 graphviz-0.20.1 ipykernel-6.29.5 isoduration-20.11.0 jax-0.4.26 jax-bitempered-loss-0.0.2 jax-cuda12-pjrt-0.4.26 jax-cuda12-plugin-0.4.26 jaxlib-0.4.26 jaxtyping-0.2.28 jedi-0.19.2 json5-0.10.0 jupyter-1.1.1 jupyter-client-7.4.9 jupyter-events-0.10.0 jupyter-http-over-ws-0.0.8 jupyter-lsp-2.2.5 jupyter-server-2.14.2 jupyter-server-terminals-0.5.3 jupyterlab-4.3.1 jupyterlab-server-2.27.3 keras-2.9.0 keras-preprocessing-1.1.2 libcst-1.5.1 lingvo-0.12.7 mesh-tensorflow-0.1.21 ml-collections-1.0.0 model-pruning-google-research-0.0.5 nvidia-cuda-nvrtc-cu12-12.6.85 nvidia-cudnn-cu12-8.9.7.29 opt-einsum-3.3.0 optax-0.2.2 optax-shampoo-0.0.6 orbax-checkpoint-0.5.9 overrides-7.7.0 paxml-1.4.0 pfzy-0.3.4 portalocker-3.0.0 praxis-1.4.0 protobuf-3.19.6 pyglove-0.4.4 python-json-logger-2.0.7 rfc3339-validator-0.1.4 rfc3986-validator-0.1.1 rouge-score-0.1.2 sacrebleu-2.4.3 sentencepiece-0.1.99 seqio-nightly-0.0.17.dev20231010 t5-0.9.4 tensorboard-2.9.1 tensorboard-data-server-0.6.1 tensorboard-plugin-wit-1.8.1 tensorflow-2.9.3 tensorflow-datasets-4.8.3 tensorflow-estimator-2.9.0 tensorflow-metadata-1.12.0 tensorflow-text-2.9.0 tensorstore-0.1.55 tf-keras-2.15.0 tfds-nightly-4.8.3.dev202303280045 timesfm-1.1.0 typeguard-2.13.3 types-python-dateutil-2.9.0.20241003 uri-template-1.3.0 utilsforecast-0.2.9\n"
          ]
        },
        {
          "output_type": "display_data",
          "data": {
            "application/vnd.colab-display-data+json": {
              "pip_warning": {
                "packages": [
                  "google"
                ]
              },
              "id": "4b3243194c174c04a4235c5b75caec0c"
            }
          },
          "metadata": {}
        }
      ],
      "source": [
        "!pip install yfinance timesfm==1.1.0\n"
      ]
    },
    {
      "cell_type": "code",
      "execution_count": 2,
      "metadata": {
        "colab": {
          "base_uri": "https://localhost:8080/"
        },
        "id": "XmWer0Nv_rjo",
        "outputId": "8ec3e704-2f89-4b62-c946-12f094111fd0"
      },
      "outputs": [
        {
          "output_type": "stream",
          "name": "stdout",
          "text": [
            "Requirement already satisfied: yfinance in /usr/local/lib/python3.10/dist-packages (0.2.49)\n",
            "Requirement already satisfied: pandas>=1.3.0 in /usr/local/lib/python3.10/dist-packages (from yfinance) (2.2.2)\n",
            "Requirement already satisfied: numpy>=1.16.5 in /usr/local/lib/python3.10/dist-packages (from yfinance) (1.26.4)\n",
            "Requirement already satisfied: requests>=2.31 in /usr/local/lib/python3.10/dist-packages (from yfinance) (2.32.3)\n",
            "Requirement already satisfied: multitasking>=0.0.7 in /usr/local/lib/python3.10/dist-packages (from yfinance) (0.0.11)\n",
            "Requirement already satisfied: lxml>=4.9.1 in /usr/local/lib/python3.10/dist-packages (from yfinance) (5.3.0)\n",
            "Requirement already satisfied: platformdirs>=2.0.0 in /usr/local/lib/python3.10/dist-packages (from yfinance) (4.3.6)\n",
            "Requirement already satisfied: pytz>=2022.5 in /usr/local/lib/python3.10/dist-packages (from yfinance) (2024.2)\n",
            "Requirement already satisfied: frozendict>=2.3.4 in /usr/local/lib/python3.10/dist-packages (from yfinance) (2.4.6)\n",
            "Requirement already satisfied: peewee>=3.16.2 in /usr/local/lib/python3.10/dist-packages (from yfinance) (3.17.8)\n",
            "Requirement already satisfied: beautifulsoup4>=4.11.1 in /usr/local/lib/python3.10/dist-packages (from yfinance) (4.12.3)\n",
            "Requirement already satisfied: html5lib>=1.1 in /usr/local/lib/python3.10/dist-packages (from yfinance) (1.1)\n",
            "Requirement already satisfied: soupsieve>1.2 in /usr/local/lib/python3.10/dist-packages (from beautifulsoup4>=4.11.1->yfinance) (2.6)\n",
            "Requirement already satisfied: six>=1.9 in /usr/local/lib/python3.10/dist-packages (from html5lib>=1.1->yfinance) (1.16.0)\n",
            "Requirement already satisfied: webencodings in /usr/local/lib/python3.10/dist-packages (from html5lib>=1.1->yfinance) (0.5.1)\n",
            "Requirement already satisfied: python-dateutil>=2.8.2 in /usr/local/lib/python3.10/dist-packages (from pandas>=1.3.0->yfinance) (2.8.2)\n",
            "Requirement already satisfied: tzdata>=2022.7 in /usr/local/lib/python3.10/dist-packages (from pandas>=1.3.0->yfinance) (2024.2)\n",
            "Requirement already satisfied: charset-normalizer<4,>=2 in /usr/local/lib/python3.10/dist-packages (from requests>=2.31->yfinance) (3.4.0)\n",
            "Requirement already satisfied: idna<4,>=2.5 in /usr/local/lib/python3.10/dist-packages (from requests>=2.31->yfinance) (3.10)\n",
            "Requirement already satisfied: urllib3<3,>=1.21.1 in /usr/local/lib/python3.10/dist-packages (from requests>=2.31->yfinance) (2.2.3)\n",
            "Requirement already satisfied: certifi>=2017.4.17 in /usr/local/lib/python3.10/dist-packages (from requests>=2.31->yfinance) (2024.8.30)\n",
            "Requirement already satisfied: utilsforecast in /usr/local/lib/python3.10/dist-packages (0.2.9)\n",
            "Requirement already satisfied: numpy in /usr/local/lib/python3.10/dist-packages (from utilsforecast) (1.26.4)\n",
            "Requirement already satisfied: packaging in /usr/local/lib/python3.10/dist-packages (from utilsforecast) (24.2)\n",
            "Requirement already satisfied: pandas>=1.1.1 in /usr/local/lib/python3.10/dist-packages (from utilsforecast) (2.2.2)\n",
            "Requirement already satisfied: python-dateutil>=2.8.2 in /usr/local/lib/python3.10/dist-packages (from pandas>=1.1.1->utilsforecast) (2.8.2)\n",
            "Requirement already satisfied: pytz>=2020.1 in /usr/local/lib/python3.10/dist-packages (from pandas>=1.1.1->utilsforecast) (2024.2)\n",
            "Requirement already satisfied: tzdata>=2022.7 in /usr/local/lib/python3.10/dist-packages (from pandas>=1.1.1->utilsforecast) (2024.2)\n",
            "Requirement already satisfied: six>=1.5 in /usr/local/lib/python3.10/dist-packages (from python-dateutil>=2.8.2->pandas>=1.1.1->utilsforecast) (1.16.0)\n"
          ]
        }
      ],
      "source": [
        "!pip install yfinance\n",
        "!pip install utilsforecast\n"
      ]
    },
    {
      "cell_type": "code",
      "execution_count": 1,
      "metadata": {
        "id": "b021SYfS_87L"
      },
      "outputs": [],
      "source": [
        "import os\n",
        "os.environ['XLA_PYTHON_CLIENT_PREALLOCATE'] = 'false'\n",
        "os.environ['JAX_PMAP_USE_TENSORSTORE'] = 'false'"
      ]
    },
    {
      "cell_type": "code",
      "execution_count": 2,
      "metadata": {
        "colab": {
          "base_uri": "https://localhost:8080/"
        },
        "id": "zOXko2V9Lv-q",
        "outputId": "b6ca4917-ed85-468f-e2b4-c0b8fe93ace6"
      },
      "outputs": [
        {
          "output_type": "stream",
          "name": "stderr",
          "text": [
            "2024-11-29 13:40:02.501944: W tensorflow/stream_executor/platform/default/dso_loader.cc:64] Could not load dynamic library 'libcudart.so.11.0'; dlerror: libcudart.so.11.0: cannot open shared object file: No such file or directory; LD_LIBRARY_PATH: /usr/lib64-nvidia\n",
            "/usr/local/lib/python3.10/dist-packages/dask/dataframe/__init__.py:42: FutureWarning: \n",
            "Dask dataframe query planning is disabled because dask-expr is not installed.\n",
            "\n",
            "You can install it with `pip install dask[dataframe]` or `conda install dask`.\n",
            "This will raise in a future version.\n",
            "\n",
            "  warnings.warn(msg, FutureWarning)\n"
          ]
        }
      ],
      "source": [
        "import timesfm\n",
        "import gc\n",
        "import numpy as np\n",
        "import pandas as pd\n",
        "from timesfm import patched_decoder\n",
        "from timesfm import data_loader\n",
        "import yfinance as yf"
      ]
    },
    {
      "cell_type": "code",
      "source": [
        "import numpy as np\n",
        "import tensorflow as tf\n",
        "import random\n",
        "import os\n",
        "\n",
        "# Set a seed value\n",
        "seed_value = 42\n",
        "\n",
        "# Set Python random seed\n",
        "random.seed(seed_value)\n",
        "\n",
        "# Set NumPy random seed\n",
        "np.random.seed(seed_value)\n",
        "\n",
        "# Set TensorFlow random seed\n",
        "tf.random.set_seed(seed_value)\n",
        "\n",
        "# For reproducibility in other areas, like OS operations\n",
        "os.environ['PYTHONHASHSEED'] = str(seed_value)\n"
      ],
      "metadata": {
        "id": "TqtZkbytlRyS"
      },
      "execution_count": 3,
      "outputs": []
    },
    {
      "cell_type": "code",
      "execution_count": 4,
      "metadata": {
        "id": "7SXbhtQ6Lv-r"
      },
      "outputs": [],
      "source": [
        "from tqdm import tqdm\n",
        "import dataclasses\n",
        "import IPython\n",
        "import IPython.display\n",
        "import matplotlib as mpl\n",
        "import matplotlib.pyplot as plt\n",
        "mpl.rcParams['figure.figsize'] = (8, 6)\n",
        "mpl.rcParams['axes.grid'] = False"
      ]
    },
    {
      "cell_type": "code",
      "execution_count": 5,
      "metadata": {
        "colab": {
          "base_uri": "https://localhost:8080/",
          "height": 416,
          "referenced_widgets": [
            "a5d381ed7a2a4a929d010add67dd1f3e",
            "92ad9f60a9d64278a7d02e6ed2b001ae",
            "0fb951207e0646f38808f7d3ab4da66c",
            "aaf355807fa04d75b9f4168ec41e3b99",
            "e1287c16b55f42ce94756883a08499e4",
            "bf24f6c7553f4a9ebafd69c5c924ace9",
            "c553463387f241eb930ce07d3a2848ee",
            "4b0f3f145afd48e3810c26dfdf856728",
            "2c61061bd29d464a972aef9c0745334b",
            "fcf7959e5d08443ab99a56c58d628242",
            "f6c4a445c6f0453e9d3d55d35d4f8f8e"
          ]
        },
        "id": "FIveKYrIABNr",
        "outputId": "73c06bd4-0d1f-4999-c293-26a6c49f636d"
      },
      "outputs": [
        {
          "output_type": "stream",
          "name": "stderr",
          "text": [
            "2024-11-29 13:40:28.724394: W external/xla/xla/service/gpu/nvptx_compiler.cc:718] The NVIDIA driver's CUDA version is 12.2 which is older than the ptxas CUDA version (12.6.77). Because the driver is older than the ptxas version, XLA is disabling parallel compilation, which may slow down compilation. You should update your NVIDIA driver or use the NVIDIA-provided CUDA forward compatibility packages.\n",
            "/usr/local/lib/python3.10/dist-packages/huggingface_hub/utils/_auth.py:94: UserWarning: \n",
            "The secret `HF_TOKEN` does not exist in your Colab secrets.\n",
            "To authenticate with the Hugging Face Hub, create a token in your settings tab (https://huggingface.co/settings/tokens), set it as secret in your Google Colab and restart your session.\n",
            "You will be able to reuse this secret in all of your notebooks.\n",
            "Please note that authentication is recommended but still optional to access public models or datasets.\n",
            "  warnings.warn(\n"
          ]
        },
        {
          "output_type": "display_data",
          "data": {
            "text/plain": [
              "Fetching 5 files:   0%|          | 0/5 [00:00<?, ?it/s]"
            ],
            "application/vnd.jupyter.widget-view+json": {
              "version_major": 2,
              "version_minor": 0,
              "model_id": "a5d381ed7a2a4a929d010add67dd1f3e"
            }
          },
          "metadata": {}
        },
        {
          "output_type": "stream",
          "name": "stdout",
          "text": [
            "Constructing model weights.\n"
          ]
        },
        {
          "output_type": "stream",
          "name": "stderr",
          "text": [
            "WARNING:absl:No registered CheckpointArgs found for handler type: <class 'paxml.checkpoints.FlaxCheckpointHandler'>\n",
            "WARNING:absl:Configured `CheckpointManager` using deprecated legacy API. Please follow the instructions at https://orbax.readthedocs.io/en/latest/api_refactor.html to migrate by May 1st, 2024.\n",
            "WARNING:absl:train_state_unpadded_shape_dtype_struct is not provided. We assume `train_state` is unpadded.\n"
          ]
        },
        {
          "output_type": "stream",
          "name": "stdout",
          "text": [
            "Constructed model weights in 3.58 seconds.\n",
            "Restoring checkpoint from /root/.cache/huggingface/hub/models--google--timesfm-1.0-200m/snapshots/8775f7531211ac864b739fe776b0b255c277e2be/checkpoints.\n"
          ]
        },
        {
          "output_type": "stream",
          "name": "stderr",
          "text": [
            "ERROR:absl:For checkpoint version > 1.0, we require users to provide\n",
            "          `train_state_unpadded_shape_dtype_struct` during checkpoint\n",
            "          saving/restoring, to avoid potential silent bugs when loading\n",
            "          checkpoints to incompatible unpadded shapes of TrainState.\n"
          ]
        },
        {
          "output_type": "stream",
          "name": "stdout",
          "text": [
            "Restored checkpoint in 4.49 seconds.\n",
            "Jitting decoding.\n",
            "Jitted decoding in 21.06 seconds.\n"
          ]
        }
      ],
      "source": [
        "# Loading TimesFM pretrained checkpoint\n",
        "tfm = timesfm.TimesFm(\n",
        "    context_len=64,\n",
        "    horizon_len=1,\n",
        "    input_patch_len=32,\n",
        "    output_patch_len=128,\n",
        "    num_layers=20,\n",
        "    model_dims=1280,\n",
        "    backend=\"gpu\",\n",
        ")\n",
        "tfm.load_from_checkpoint(repo_id=\"google/timesfm-1.0-200m\")\n",
        "\n"
      ]
    },
    {
      "cell_type": "code",
      "execution_count": 6,
      "metadata": {
        "colab": {
          "base_uri": "https://localhost:8080/"
        },
        "id": "yVJy1ftLL69e",
        "outputId": "2cda2565-d555-4f42-8b8d-82a868f31367"
      },
      "outputs": [
        {
          "output_type": "stream",
          "name": "stderr",
          "text": [
            "\r[*********************100%***********************]  1 of 1 completed\n"
          ]
        },
        {
          "output_type": "stream",
          "name": "stdout",
          "text": [
            "Number of records: 10853\n"
          ]
        }
      ],
      "source": [
        "import yfinance as yf\n",
        "import pandas as pd\n",
        "import numpy as np\n",
        "\n",
        "# انتخاب نماد سهام (مثال: AAPL برای اپل)\n",
        "ticker = 'AAPL'\n",
        "\n",
        "# بارگذاری داده‌های بورسی روزانه\n",
        "data = yf.download(ticker, start='1900-01-01', end='2024-01-01')\n",
        "data = data.dropna()\n",
        "data.reset_index(inplace=True)  # تبدیل شاخص به ستون\n",
        "\n",
        "# تغییر نام ستون‌ها\n",
        "data.rename(columns={'Date': 'date', 'Close': 'y'}, inplace=True)\n",
        "\n",
        "\n",
        "\n",
        "# محاسبه ویژگی‌های اضافی\n",
        "data['MA_10'] = data['y'].rolling(window=10).mean()\n",
        "data['MA_50'] = data['y'].rolling(window=50).mean()\n",
        "data['RSI'] = 100 - (100 / (1 + data['y'].pct_change().rolling(window=14).apply(lambda x: (x[x > 0].mean() / -x[x < 0].mean()) if x[x < 0].mean() != 0 else np.inf)))\n",
        "\n",
        "\n",
        "\n",
        "# انتخاب ستون‌های نهایی\n",
        "final_cols = [\"date\",  \"y\"]\n",
        "data = data[final_cols]\n",
        "data.columns = data.columns.droplevel(1)\n",
        "\n",
        "# ذخیره‌سازی داده‌ها در یک فایل CSV\n",
        "data_path = 'stock_data.csv'\n",
        "data.to_csv(data_path, index=False)\n",
        "\n",
        "print(f\"Number of records: {len(data)}\")\n"
      ]
    },
    {
      "cell_type": "code",
      "execution_count": 7,
      "metadata": {
        "id": "zMtldVchChUY"
      },
      "outputs": [],
      "source": [
        "freq = 'D'\n",
        "context_len = 64\n",
        "pred_len = 1\n",
        "batch_size = 32\n",
        "train_data = data[data['date'] < '2022-07-01']\n",
        "val_data = data[(data['date'] >= '2022-07-01') & (data['date'] < '2023-01-01')]\n",
        "test_data = data[data['date'] >= '2023-01-01']\n"
      ]
    },
    {
      "cell_type": "code",
      "source": [
        "data.columns"
      ],
      "metadata": {
        "colab": {
          "base_uri": "https://localhost:8080/"
        },
        "id": "3jp97qHz8Ili",
        "outputId": "1931dab2-9b2e-459b-91ad-dcca5fec9ba3"
      },
      "execution_count": 8,
      "outputs": [
        {
          "output_type": "execute_result",
          "data": {
            "text/plain": [
              "Index(['date', 'y'], dtype='object', name='Price')"
            ]
          },
          "metadata": {},
          "execution_count": 8
        }
      ]
    },
    {
      "cell_type": "code",
      "execution_count": 9,
      "metadata": {
        "id": "kh09wt08Cjg_",
        "colab": {
          "base_uri": "https://localhost:8080/"
        },
        "outputId": "7a2ea50e-cf86-4aee-c07a-c8e407bde0d2"
      },
      "outputs": [
        {
          "output_type": "stream",
          "name": "stderr",
          "text": [
            "2024-11-29 13:41:08.159074: W tensorflow/stream_executor/platform/default/dso_loader.cc:64] Could not load dynamic library 'libcudart.so.11.0'; dlerror: libcudart.so.11.0: cannot open shared object file: No such file or directory; LD_LIBRARY_PATH: /usr/lib64-nvidia\n",
            "2024-11-29 13:41:08.159338: W tensorflow/stream_executor/platform/default/dso_loader.cc:64] Could not load dynamic library 'libcublas.so.11'; dlerror: libcublas.so.11: cannot open shared object file: No such file or directory; LD_LIBRARY_PATH: /usr/lib64-nvidia\n",
            "2024-11-29 13:41:08.159527: W tensorflow/stream_executor/platform/default/dso_loader.cc:64] Could not load dynamic library 'libcublasLt.so.11'; dlerror: libcublasLt.so.11: cannot open shared object file: No such file or directory; LD_LIBRARY_PATH: /usr/lib64-nvidia\n",
            "2024-11-29 13:41:08.159688: W tensorflow/stream_executor/platform/default/dso_loader.cc:64] Could not load dynamic library 'libcufft.so.10'; dlerror: libcufft.so.10: cannot open shared object file: No such file or directory; LD_LIBRARY_PATH: /usr/lib64-nvidia\n",
            "2024-11-29 13:41:08.159942: W tensorflow/stream_executor/platform/default/dso_loader.cc:64] Could not load dynamic library 'libcusparse.so.11'; dlerror: libcusparse.so.11: cannot open shared object file: No such file or directory; LD_LIBRARY_PATH: /usr/lib64-nvidia\n",
            "2024-11-29 13:41:08.159985: W tensorflow/core/common_runtime/gpu/gpu_device.cc:1850] Cannot dlopen some GPU libraries. Please make sure the missing libraries mentioned above are installed properly if you would like to use GPU. Follow the guide at https://www.tensorflow.org/install/gpu for how to download and setup the required libraries for your platform.\n",
            "Skipping registering GPU devices...\n"
          ]
        }
      ],
      "source": [
        "ts_cols = [col for col in data.columns if col != \"date\"]\n",
        "cat_cols=[col for col in ts_cols if col != \"y\"]\n",
        "\n",
        "num_ts = 1\n",
        "# Create TimeSeriesdata loader\n",
        "dtl = data_loader.TimeSeriesdata(\n",
        "      data_path=data_path,\n",
        "      datetime_col=\"date\",\n",
        "      num_cov_cols=None,\n",
        "      cat_cov_cols=None,\n",
        "      ts_cols=[\"y\"],\n",
        "      train_range=[0, len(train_data)+64],\n",
        "      val_range=[len(train_data)+64, len(train_data)+len(val_data)+64],\n",
        "      test_range=[len(train_data)+len(val_data)+64, len(data)],\n",
        "      hist_len=context_len,\n",
        "      pred_len=pred_len,\n",
        "      batch_size=1,  # Change as per requirement\n",
        "      freq=freq,\n",
        "      normalize=False,\n",
        "      epoch_len=None,\n",
        "      holiday=False,\n",
        "      permute=False,\n",
        "  )\n",
        "train_batches = dtl.tf_dataset(mode=\"train\", shift=1).batch(batch_size)\n",
        "val_batches = dtl.tf_dataset(mode=\"val\", shift=pred_len)\n",
        "test_batches = dtl.tf_dataset(mode=\"test\", shift=pred_len)"
      ]
    },
    {
      "cell_type": "code",
      "execution_count": 10,
      "metadata": {
        "colab": {
          "base_uri": "https://localhost:8080/"
        },
        "id": "ABzh_VutCkkn",
        "outputId": "3ae98d0b-9bfe-459f-82c2-d6d46a12a020"
      },
      "outputs": [
        {
          "output_type": "stream",
          "name": "stderr",
          "text": [
            "655it [00:06, 101.69it/s]"
          ]
        },
        {
          "output_type": "stream",
          "name": "stdout",
          "text": [
            "(22, 1, 64)\n"
          ]
        },
        {
          "output_type": "stream",
          "name": "stderr",
          "text": [
            "\n"
          ]
        }
      ],
      "source": [
        "for tbatch in tqdm(train_batches.as_numpy_iterator()):\n",
        "    pass\n",
        "print(tbatch[0].shape)"
      ]
    },
    {
      "cell_type": "markdown",
      "metadata": {
        "id": "eIBPb071Lv-w"
      },
      "source": [
        "# MAE on the test split for the pretrained TimesFM model"
      ]
    },
    {
      "cell_type": "code",
      "execution_count": 11,
      "metadata": {
        "colab": {
          "base_uri": "https://localhost:8080/"
        },
        "id": "ukVMJKv8Lv-x",
        "outputId": "0050c4bd-a896-4bda-edbd-8e96d7f893ef"
      },
      "outputs": [
        {
          "output_type": "stream",
          "name": "stderr",
          "text": [
            "186it [00:03, 56.22it/s]"
          ]
        },
        {
          "output_type": "stream",
          "name": "stdout",
          "text": [
            "MSE: 5.423287868499756\n"
          ]
        },
        {
          "output_type": "stream",
          "name": "stderr",
          "text": [
            "\n"
          ]
        }
      ],
      "source": [
        "mse_losses = []\n",
        "for batch in tqdm(test_batches.as_numpy_iterator()):\n",
        "    past = batch[0]\n",
        "    actuals = batch[3]\n",
        "\n",
        "    _, forecasts = tfm.forecast(list(past), [0] * past.shape[0])\n",
        "    forecasts = forecasts[:, 0 : actuals.shape[1], 5]\n",
        "\n",
        "    mse_losses.append(np.square(forecasts - actuals).mean())\n",
        "\n",
        "print(f\"MSE: {np.mean(mse_losses)}\")\n"
      ]
    },
    {
      "cell_type": "markdown",
      "metadata": {
        "id": "K7CumC-_HO0W"
      },
      "source": [
        "# Fine-tuning the model"
      ]
    },
    {
      "cell_type": "code",
      "execution_count": 12,
      "metadata": {
        "id": "wi-S2j1NLv-x"
      },
      "outputs": [],
      "source": [
        "import jax\n",
        "from jax import numpy as jnp\n",
        "from praxis import pax_fiddle\n",
        "from praxis import py_utils\n",
        "from praxis import pytypes\n",
        "from praxis import base_model\n",
        "from praxis import optimizers\n",
        "from praxis import schedules\n",
        "from praxis import base_hyperparams\n",
        "from praxis import base_layer\n",
        "from paxml import tasks_lib\n",
        "from paxml import trainer_lib\n",
        "from paxml import checkpoints\n",
        "from paxml import learners\n",
        "from paxml import partitioning\n",
        "from paxml import checkpoint_types"
      ]
    },
    {
      "cell_type": "code",
      "execution_count": 13,
      "metadata": {
        "id": "2ZGLjnuhLv-x"
      },
      "outputs": [],
      "source": [
        "NestedMap = py_utils.NestedMap\n",
        "WeightInit = base_layer.WeightInit\n",
        "WeightHParams = base_layer.WeightHParams\n",
        "InstantiableParams = py_utils.InstantiableParams\n",
        "JTensor = pytypes.JTensor\n",
        "NpTensor = pytypes.NpTensor\n",
        "WeightedScalars = pytypes.WeightedScalars\n",
        "instantiate = base_hyperparams.instantiate\n",
        "LayerTpl = pax_fiddle.Config[base_layer.BaseLayer]\n",
        "AuxLossStruct = base_layer.AuxLossStruct\n",
        "\n",
        "AUX_LOSS = base_layer.AUX_LOSS\n",
        "template_field = base_layer.template_field\n",
        "\n",
        "# Standard prng key names\n",
        "PARAMS = base_layer.PARAMS\n",
        "RANDOM = base_layer.RANDOM\n",
        "\n",
        "key = jax.random.PRNGKey(seed=1234)"
      ]
    },
    {
      "cell_type": "code",
      "execution_count": 14,
      "metadata": {
        "id": "cd1NHVrRLv-0"
      },
      "outputs": [],
      "source": [
        "model = pax_fiddle.Config(\n",
        "    patched_decoder.PatchedDecoderFinetuneModel,\n",
        "    name='patched_decoder_finetune',\n",
        "    core_layer_tpl=tfm.model_p,\n",
        ")"
      ]
    },
    {
      "cell_type": "code",
      "execution_count": 15,
      "metadata": {
        "id": "-JmTP2ItLv-0"
      },
      "outputs": [],
      "source": [
        "\n",
        "@pax_fiddle.auto_config\n",
        "def build_learner() -> learners.Learner:\n",
        "  return pax_fiddle.Config(\n",
        "      learners.Learner,\n",
        "      name='learner',\n",
        "      loss_name='avg_qloss',\n",
        "      optimizer=optimizers.Adam(\n",
        "          epsilon=1e-7,\n",
        "          clip_threshold=1e2,\n",
        "          learning_rate=1e-2,\n",
        "          lr_schedule=pax_fiddle.Config(\n",
        "              schedules.Cosine,\n",
        "              initial_value=1e-3,\n",
        "              final_value=1e-4,\n",
        "              total_steps=40000,\n",
        "          ),\n",
        "          ema_decay=0.9999,\n",
        "      ),\n",
        "      # Linear probing i.e we hold the transformer layers fixed.\n",
        "      bprop_variable_exclusion=['.*/stacked_transformer_layer/.*'],\n",
        "  )"
      ]
    },
    {
      "cell_type": "code",
      "execution_count": 16,
      "metadata": {
        "id": "BwmRar8GLv-1"
      },
      "outputs": [],
      "source": [
        "\n",
        "task_p = tasks_lib.SingleTask(\n",
        "    name='ts-learn',\n",
        "    model=model,\n",
        "    train=tasks_lib.SingleTask.Train(\n",
        "        learner=build_learner(),\n",
        "    ),\n",
        ")"
      ]
    },
    {
      "cell_type": "code",
      "execution_count": 17,
      "metadata": {
        "colab": {
          "base_uri": "https://localhost:8080/"
        },
        "id": "0HGp8DzGLv-1",
        "outputId": "353c4953-a1e4-406b-a408-d341ffdb3fae"
      },
      "outputs": [
        {
          "output_type": "stream",
          "name": "stdout",
          "text": [
            "num_devices: 1\n",
            "device kind: Tesla T4\n"
          ]
        }
      ],
      "source": [
        "task_p.model.ici_mesh_shape = [1, 1, 1]\n",
        "task_p.model.mesh_axis_names = ['replica', 'data', 'mdl']\n",
        "\n",
        "DEVICES = np.array(jax.devices()).reshape([1, 1, 1])\n",
        "MESH = jax.sharding.Mesh(DEVICES, ['replica', 'data', 'mdl'])\n",
        "\n",
        "num_devices = jax.local_device_count()\n",
        "print(f'num_devices: {num_devices}')\n",
        "print(f'device kind: {jax.local_devices()[0].device_kind}')"
      ]
    },
    {
      "cell_type": "code",
      "execution_count": 18,
      "metadata": {
        "id": "PCuOfttnLv-1"
      },
      "outputs": [],
      "source": [
        "jax_task = task_p\n",
        "key, init_key = jax.random.split(key)\n",
        "\n",
        "# To correctly prepare a batch of data for model initialization (now that shape\n",
        "# inference is merged), we take one devices*batch_size tensor tuple of data,\n",
        "# slice out just one batch, then run the prepare_input_batch function over it.\n",
        "\n",
        "\n",
        "def process_train_batch(batch):\n",
        "\n",
        "    past_ts = batch[0].reshape(len(batch[2]) * num_ts, -1)\n",
        "    actual_ts = batch[3].reshape(len(batch[2]) * num_ts, -1)\n",
        "    return NestedMap(input_ts=past_ts, actual_ts=actual_ts)\n",
        "\n",
        "\n",
        "def process_eval_batch(batch):\n",
        "    past_ts = batch[0]\n",
        "    actual_ts = batch[3]\n",
        "    return NestedMap(input_ts=past_ts, actual_ts=actual_ts)\n",
        "\n",
        "\n",
        "jax_model_states, _ = trainer_lib.initialize_model_state(\n",
        "    jax_task,\n",
        "    init_key,\n",
        "    process_train_batch(tbatch),\n",
        "    checkpoint_type=checkpoint_types.CheckpointType.GDA,\n",
        ")"
      ]
    },
    {
      "cell_type": "code",
      "execution_count": 19,
      "metadata": {
        "id": "JNSyx49ILv-2",
        "colab": {
          "base_uri": "https://localhost:8080/"
        },
        "outputId": "dff4615e-fb65-4e41-a6ce-06cf0be0ecbc"
      },
      "outputs": [
        {
          "output_type": "execute_result",
          "data": {
            "text/plain": [
              "0"
            ]
          },
          "metadata": {},
          "execution_count": 19
        }
      ],
      "source": [
        "jax_model_states.mdl_vars['params']['core_layer'] = tfm._train_state.mdl_vars['params']\n",
        "jax_vars = jax_model_states.mdl_vars\n",
        "gc.collect()"
      ]
    },
    {
      "cell_type": "code",
      "execution_count": 20,
      "metadata": {
        "id": "M1wI6BR9Lv-2"
      },
      "outputs": [],
      "source": [
        "jax_task = task_p\n",
        "\n",
        "\n",
        "def train_step(states, prng_key, inputs):\n",
        "  return trainer_lib.train_step_single_learner(\n",
        "      jax_task, states, prng_key, inputs\n",
        "  )\n",
        "\n",
        "\n",
        "def eval_step(states, prng_key, inputs):\n",
        "  states = states.to_eval_state()\n",
        "  return trainer_lib.eval_step_single_learner(\n",
        "      jax_task, states, prng_key, inputs\n",
        "  )\n",
        "\n",
        "key, train_key, eval_key = jax.random.split(key, 3)\n",
        "train_prng_seed = jax.random.split(train_key, num=jax.local_device_count())\n",
        "eval_prng_seed = jax.random.split(eval_key, num=jax.local_device_count())\n",
        "\n",
        "p_train_step = jax.pmap(train_step, axis_name='batch')\n",
        "p_eval_step = jax.pmap(eval_step, axis_name='batch')"
      ]
    },
    {
      "cell_type": "code",
      "execution_count": 21,
      "metadata": {
        "id": "Gp79Rq9TLv-2"
      },
      "outputs": [],
      "source": [
        "replicated_jax_states = trainer_lib.replicate_model_state(jax_model_states)\n",
        "replicated_jax_vars = replicated_jax_states.mdl_vars"
      ]
    },
    {
      "cell_type": "code",
      "execution_count": 22,
      "metadata": {
        "id": "hUUXA3rLLv-2"
      },
      "outputs": [],
      "source": [
        "best_eval_loss = 1e7\n",
        "step_count = 0\n",
        "patience = 0\n",
        "NUM_EPOCHS = 100\n",
        "PATIENCE = 5\n",
        "TRAIN_STEPS_PER_EVAL = 1000\n",
        "CHECKPOINT_DIR='/content'"
      ]
    },
    {
      "cell_type": "code",
      "execution_count": 23,
      "metadata": {
        "id": "WHCWNE6oLv-3"
      },
      "outputs": [],
      "source": [
        "def reshape_batch_for_pmap(batch, num_devices):\n",
        "  def _reshape(input_tensor):\n",
        "    bsize = input_tensor.shape[0]\n",
        "    residual_shape = list(input_tensor.shape[1:])\n",
        "    nbsize = bsize // num_devices\n",
        "    return jnp.reshape(input_tensor, [num_devices, nbsize] + residual_shape)\n",
        "\n",
        "  return jax.tree.map(_reshape, batch)"
      ]
    },
    {
      "cell_type": "code",
      "source": [
        "!rm -rf /content/checkpoint*\n"
      ],
      "metadata": {
        "id": "LDq6RwY8cg8r"
      },
      "execution_count": 24,
      "outputs": []
    },
    {
      "cell_type": "code",
      "source": [
        "import numpy as np\n",
        "import jax\n",
        "import matplotlib.pyplot as plt\n",
        "import re\n",
        "\n",
        "def traverse_params(var_dict, prefix='', param_paths=None):\n",
        "    \"\"\"Recursively traverse the parameter tree and collect parameter paths.\"\"\"\n",
        "    if param_paths is None:\n",
        "        param_paths = []\n",
        "    for key, value in var_dict.items():\n",
        "        full_key = f'{prefix}/{key}' if prefix else key\n",
        "        if isinstance(value, dict):\n",
        "            traverse_params(value, prefix=full_key, param_paths=param_paths)\n",
        "        else:\n",
        "            param_paths.append(full_key)\n",
        "    return param_paths\n",
        "\n",
        "def is_trainable(param_path, exclusion_patterns):\n",
        "    \"\"\"Determine if a parameter is trainable based on exclusion patterns.\"\"\"\n",
        "    for pattern in exclusion_patterns:\n",
        "        if re.match(pattern, param_path):\n",
        "            return False\n",
        "    return True\n",
        "\n",
        "def count_trainable_params(var_dict, exclusion_patterns):\n",
        "    \"\"\"Count trainable parameters based on exclusion patterns.\"\"\"\n",
        "    param_paths = traverse_params(var_dict)\n",
        "    trainable_param_paths = [p for p in param_paths if is_trainable(p, exclusion_patterns)]\n",
        "\n",
        "    # Count parameters\n",
        "    param_counts = {}\n",
        "    total_trainable_params = 0\n",
        "    for path in trainable_param_paths:\n",
        "        # Retrieve the parameter value by path\n",
        "        parts = path.split('/')\n",
        "        param_value = var_dict\n",
        "        for part in parts:\n",
        "            param_value = param_value[part]\n",
        "        num_params = np.prod(param_value.shape)\n",
        "        param_counts[path] = num_params\n",
        "        total_trainable_params += num_params\n",
        "\n",
        "    return param_counts, total_trainable_params, trainable_param_paths\n",
        "\n",
        "def calculate_changes_for_trainable(initial_vars, fine_tuned_vars, trainable_param_paths):\n",
        "    \"\"\"Calculate changes only for trainable parameters.\"\"\"\n",
        "    changes = {}\n",
        "    for path in trainable_param_paths:\n",
        "        # Retrieve parameter values\n",
        "        parts = path.split('/')\n",
        "        initial_value = initial_vars\n",
        "        fine_tuned_value = fine_tuned_vars\n",
        "        for part in parts:\n",
        "            initial_value = initial_value[part]\n",
        "            fine_tuned_value = fine_tuned_value[part]\n",
        "        # Compute absolute change\n",
        "        diff = np.abs(fine_tuned_value - initial_value)\n",
        "        total_change = diff.sum()\n",
        "        changes[path] = total_change\n",
        "    return changes\n"
      ],
      "metadata": {
        "id": "6TFvODcYgt3T"
      },
      "execution_count": 25,
      "outputs": []
    },
    {
      "cell_type": "code",
      "source": [
        "def count_params(var_dict, prefix=''):\n",
        "    \"\"\"Recursively count the total number of parameters for each component.\"\"\"\n",
        "    param_counts = {}\n",
        "    total_params = 0\n",
        "    for key, value in var_dict.items():\n",
        "        full_key = f'{prefix}/{key}' if prefix else key\n",
        "        if isinstance(value, dict):\n",
        "            sub_counts, sub_total = count_params(value, prefix=full_key)\n",
        "            param_counts.update(sub_counts)\n",
        "            total_params += sub_total\n",
        "        else:\n",
        "            num_params = np.prod(value.shape)\n",
        "            param_counts[full_key] = num_params\n",
        "            total_params += num_params\n",
        "    return param_counts, total_params\n",
        "\n",
        "\n",
        "\n",
        "# Step 1: Save initial weights before fine-tuning\n",
        "initial_weights = jax.device_get(jax_model_states.mdl_vars['params'])\n",
        "initial_param_counts, total_initial_params = count_params(initial_weights)\n",
        "print(f\"Initial parameter counts: {initial_param_counts}\")\n",
        "print(f\"Total initial parameters: {total_initial_params}\")"
      ],
      "metadata": {
        "colab": {
          "base_uri": "https://localhost:8080/"
        },
        "id": "Xk972djig-e8",
        "outputId": "7d54f274-43e2-4d14-f0a5-443d239f9afb"
      },
      "execution_count": 26,
      "outputs": [
        {
          "output_type": "stream",
          "name": "stdout",
          "text": [
            "Initial parameter counts: {'core_layer/freq_emb/emb_var': 3840, 'core_layer/horizon_ff_layer/hidden_layer/bias/b': 1280, 'core_layer/horizon_ff_layer/hidden_layer/linear/w': 1638400, 'core_layer/horizon_ff_layer/output_layer/bias/b': 1280, 'core_layer/horizon_ff_layer/output_layer/linear/w': 1638400, 'core_layer/horizon_ff_layer/residual_layer/bias/b': 1280, 'core_layer/horizon_ff_layer/residual_layer/linear/w': 1638400, 'core_layer/input_ff_layer/hidden_layer/bias/b': 1280, 'core_layer/input_ff_layer/hidden_layer/linear/w': 81920, 'core_layer/input_ff_layer/output_layer/bias/b': 1280, 'core_layer/input_ff_layer/output_layer/linear/w': 1638400, 'core_layer/input_ff_layer/residual_layer/bias/b': 1280, 'core_layer/input_ff_layer/residual_layer/linear/w': 81920, 'core_layer/stacked_transformer_layer/x_layers_0/ff_layer/ffn_layer1/bias/b': 1280, 'core_layer/stacked_transformer_layer/x_layers_0/ff_layer/ffn_layer1/linear/w': 1638400, 'core_layer/stacked_transformer_layer/x_layers_0/ff_layer/ffn_layer2/bias/b': 1280, 'core_layer/stacked_transformer_layer/x_layers_0/ff_layer/ffn_layer2/linear/w': 1638400, 'core_layer/stacked_transformer_layer/x_layers_0/ff_layer/layer_norm/bias': 1280, 'core_layer/stacked_transformer_layer/x_layers_0/ff_layer/layer_norm/scale': 1280, 'core_layer/stacked_transformer_layer/x_layers_0/layer_norm/scale': 1280, 'core_layer/stacked_transformer_layer/x_layers_0/self_attention/key/b': 1280, 'core_layer/stacked_transformer_layer/x_layers_0/self_attention/key/w': 1638400, 'core_layer/stacked_transformer_layer/x_layers_0/self_attention/per_dim_scale/per_dim_scale': 80, 'core_layer/stacked_transformer_layer/x_layers_0/self_attention/post/b': 1280, 'core_layer/stacked_transformer_layer/x_layers_0/self_attention/post/w': 1638400, 'core_layer/stacked_transformer_layer/x_layers_0/self_attention/query/b': 1280, 'core_layer/stacked_transformer_layer/x_layers_0/self_attention/query/w': 1638400, 'core_layer/stacked_transformer_layer/x_layers_0/self_attention/value/b': 1280, 'core_layer/stacked_transformer_layer/x_layers_0/self_attention/value/w': 1638400, 'core_layer/stacked_transformer_layer/x_layers_1/ff_layer/ffn_layer1/bias/b': 1280, 'core_layer/stacked_transformer_layer/x_layers_1/ff_layer/ffn_layer1/linear/w': 1638400, 'core_layer/stacked_transformer_layer/x_layers_1/ff_layer/ffn_layer2/bias/b': 1280, 'core_layer/stacked_transformer_layer/x_layers_1/ff_layer/ffn_layer2/linear/w': 1638400, 'core_layer/stacked_transformer_layer/x_layers_1/ff_layer/layer_norm/bias': 1280, 'core_layer/stacked_transformer_layer/x_layers_1/ff_layer/layer_norm/scale': 1280, 'core_layer/stacked_transformer_layer/x_layers_1/layer_norm/scale': 1280, 'core_layer/stacked_transformer_layer/x_layers_1/self_attention/key/b': 1280, 'core_layer/stacked_transformer_layer/x_layers_1/self_attention/key/w': 1638400, 'core_layer/stacked_transformer_layer/x_layers_1/self_attention/per_dim_scale/per_dim_scale': 80, 'core_layer/stacked_transformer_layer/x_layers_1/self_attention/post/b': 1280, 'core_layer/stacked_transformer_layer/x_layers_1/self_attention/post/w': 1638400, 'core_layer/stacked_transformer_layer/x_layers_1/self_attention/query/b': 1280, 'core_layer/stacked_transformer_layer/x_layers_1/self_attention/query/w': 1638400, 'core_layer/stacked_transformer_layer/x_layers_1/self_attention/value/b': 1280, 'core_layer/stacked_transformer_layer/x_layers_1/self_attention/value/w': 1638400, 'core_layer/stacked_transformer_layer/x_layers_10/ff_layer/ffn_layer1/bias/b': 1280, 'core_layer/stacked_transformer_layer/x_layers_10/ff_layer/ffn_layer1/linear/w': 1638400, 'core_layer/stacked_transformer_layer/x_layers_10/ff_layer/ffn_layer2/bias/b': 1280, 'core_layer/stacked_transformer_layer/x_layers_10/ff_layer/ffn_layer2/linear/w': 1638400, 'core_layer/stacked_transformer_layer/x_layers_10/ff_layer/layer_norm/bias': 1280, 'core_layer/stacked_transformer_layer/x_layers_10/ff_layer/layer_norm/scale': 1280, 'core_layer/stacked_transformer_layer/x_layers_10/layer_norm/scale': 1280, 'core_layer/stacked_transformer_layer/x_layers_10/self_attention/key/b': 1280, 'core_layer/stacked_transformer_layer/x_layers_10/self_attention/key/w': 1638400, 'core_layer/stacked_transformer_layer/x_layers_10/self_attention/per_dim_scale/per_dim_scale': 80, 'core_layer/stacked_transformer_layer/x_layers_10/self_attention/post/b': 1280, 'core_layer/stacked_transformer_layer/x_layers_10/self_attention/post/w': 1638400, 'core_layer/stacked_transformer_layer/x_layers_10/self_attention/query/b': 1280, 'core_layer/stacked_transformer_layer/x_layers_10/self_attention/query/w': 1638400, 'core_layer/stacked_transformer_layer/x_layers_10/self_attention/value/b': 1280, 'core_layer/stacked_transformer_layer/x_layers_10/self_attention/value/w': 1638400, 'core_layer/stacked_transformer_layer/x_layers_11/ff_layer/ffn_layer1/bias/b': 1280, 'core_layer/stacked_transformer_layer/x_layers_11/ff_layer/ffn_layer1/linear/w': 1638400, 'core_layer/stacked_transformer_layer/x_layers_11/ff_layer/ffn_layer2/bias/b': 1280, 'core_layer/stacked_transformer_layer/x_layers_11/ff_layer/ffn_layer2/linear/w': 1638400, 'core_layer/stacked_transformer_layer/x_layers_11/ff_layer/layer_norm/bias': 1280, 'core_layer/stacked_transformer_layer/x_layers_11/ff_layer/layer_norm/scale': 1280, 'core_layer/stacked_transformer_layer/x_layers_11/layer_norm/scale': 1280, 'core_layer/stacked_transformer_layer/x_layers_11/self_attention/key/b': 1280, 'core_layer/stacked_transformer_layer/x_layers_11/self_attention/key/w': 1638400, 'core_layer/stacked_transformer_layer/x_layers_11/self_attention/per_dim_scale/per_dim_scale': 80, 'core_layer/stacked_transformer_layer/x_layers_11/self_attention/post/b': 1280, 'core_layer/stacked_transformer_layer/x_layers_11/self_attention/post/w': 1638400, 'core_layer/stacked_transformer_layer/x_layers_11/self_attention/query/b': 1280, 'core_layer/stacked_transformer_layer/x_layers_11/self_attention/query/w': 1638400, 'core_layer/stacked_transformer_layer/x_layers_11/self_attention/value/b': 1280, 'core_layer/stacked_transformer_layer/x_layers_11/self_attention/value/w': 1638400, 'core_layer/stacked_transformer_layer/x_layers_12/ff_layer/ffn_layer1/bias/b': 1280, 'core_layer/stacked_transformer_layer/x_layers_12/ff_layer/ffn_layer1/linear/w': 1638400, 'core_layer/stacked_transformer_layer/x_layers_12/ff_layer/ffn_layer2/bias/b': 1280, 'core_layer/stacked_transformer_layer/x_layers_12/ff_layer/ffn_layer2/linear/w': 1638400, 'core_layer/stacked_transformer_layer/x_layers_12/ff_layer/layer_norm/bias': 1280, 'core_layer/stacked_transformer_layer/x_layers_12/ff_layer/layer_norm/scale': 1280, 'core_layer/stacked_transformer_layer/x_layers_12/layer_norm/scale': 1280, 'core_layer/stacked_transformer_layer/x_layers_12/self_attention/key/b': 1280, 'core_layer/stacked_transformer_layer/x_layers_12/self_attention/key/w': 1638400, 'core_layer/stacked_transformer_layer/x_layers_12/self_attention/per_dim_scale/per_dim_scale': 80, 'core_layer/stacked_transformer_layer/x_layers_12/self_attention/post/b': 1280, 'core_layer/stacked_transformer_layer/x_layers_12/self_attention/post/w': 1638400, 'core_layer/stacked_transformer_layer/x_layers_12/self_attention/query/b': 1280, 'core_layer/stacked_transformer_layer/x_layers_12/self_attention/query/w': 1638400, 'core_layer/stacked_transformer_layer/x_layers_12/self_attention/value/b': 1280, 'core_layer/stacked_transformer_layer/x_layers_12/self_attention/value/w': 1638400, 'core_layer/stacked_transformer_layer/x_layers_13/ff_layer/ffn_layer1/bias/b': 1280, 'core_layer/stacked_transformer_layer/x_layers_13/ff_layer/ffn_layer1/linear/w': 1638400, 'core_layer/stacked_transformer_layer/x_layers_13/ff_layer/ffn_layer2/bias/b': 1280, 'core_layer/stacked_transformer_layer/x_layers_13/ff_layer/ffn_layer2/linear/w': 1638400, 'core_layer/stacked_transformer_layer/x_layers_13/ff_layer/layer_norm/bias': 1280, 'core_layer/stacked_transformer_layer/x_layers_13/ff_layer/layer_norm/scale': 1280, 'core_layer/stacked_transformer_layer/x_layers_13/layer_norm/scale': 1280, 'core_layer/stacked_transformer_layer/x_layers_13/self_attention/key/b': 1280, 'core_layer/stacked_transformer_layer/x_layers_13/self_attention/key/w': 1638400, 'core_layer/stacked_transformer_layer/x_layers_13/self_attention/per_dim_scale/per_dim_scale': 80, 'core_layer/stacked_transformer_layer/x_layers_13/self_attention/post/b': 1280, 'core_layer/stacked_transformer_layer/x_layers_13/self_attention/post/w': 1638400, 'core_layer/stacked_transformer_layer/x_layers_13/self_attention/query/b': 1280, 'core_layer/stacked_transformer_layer/x_layers_13/self_attention/query/w': 1638400, 'core_layer/stacked_transformer_layer/x_layers_13/self_attention/value/b': 1280, 'core_layer/stacked_transformer_layer/x_layers_13/self_attention/value/w': 1638400, 'core_layer/stacked_transformer_layer/x_layers_14/ff_layer/ffn_layer1/bias/b': 1280, 'core_layer/stacked_transformer_layer/x_layers_14/ff_layer/ffn_layer1/linear/w': 1638400, 'core_layer/stacked_transformer_layer/x_layers_14/ff_layer/ffn_layer2/bias/b': 1280, 'core_layer/stacked_transformer_layer/x_layers_14/ff_layer/ffn_layer2/linear/w': 1638400, 'core_layer/stacked_transformer_layer/x_layers_14/ff_layer/layer_norm/bias': 1280, 'core_layer/stacked_transformer_layer/x_layers_14/ff_layer/layer_norm/scale': 1280, 'core_layer/stacked_transformer_layer/x_layers_14/layer_norm/scale': 1280, 'core_layer/stacked_transformer_layer/x_layers_14/self_attention/key/b': 1280, 'core_layer/stacked_transformer_layer/x_layers_14/self_attention/key/w': 1638400, 'core_layer/stacked_transformer_layer/x_layers_14/self_attention/per_dim_scale/per_dim_scale': 80, 'core_layer/stacked_transformer_layer/x_layers_14/self_attention/post/b': 1280, 'core_layer/stacked_transformer_layer/x_layers_14/self_attention/post/w': 1638400, 'core_layer/stacked_transformer_layer/x_layers_14/self_attention/query/b': 1280, 'core_layer/stacked_transformer_layer/x_layers_14/self_attention/query/w': 1638400, 'core_layer/stacked_transformer_layer/x_layers_14/self_attention/value/b': 1280, 'core_layer/stacked_transformer_layer/x_layers_14/self_attention/value/w': 1638400, 'core_layer/stacked_transformer_layer/x_layers_15/ff_layer/ffn_layer1/bias/b': 1280, 'core_layer/stacked_transformer_layer/x_layers_15/ff_layer/ffn_layer1/linear/w': 1638400, 'core_layer/stacked_transformer_layer/x_layers_15/ff_layer/ffn_layer2/bias/b': 1280, 'core_layer/stacked_transformer_layer/x_layers_15/ff_layer/ffn_layer2/linear/w': 1638400, 'core_layer/stacked_transformer_layer/x_layers_15/ff_layer/layer_norm/bias': 1280, 'core_layer/stacked_transformer_layer/x_layers_15/ff_layer/layer_norm/scale': 1280, 'core_layer/stacked_transformer_layer/x_layers_15/layer_norm/scale': 1280, 'core_layer/stacked_transformer_layer/x_layers_15/self_attention/key/b': 1280, 'core_layer/stacked_transformer_layer/x_layers_15/self_attention/key/w': 1638400, 'core_layer/stacked_transformer_layer/x_layers_15/self_attention/per_dim_scale/per_dim_scale': 80, 'core_layer/stacked_transformer_layer/x_layers_15/self_attention/post/b': 1280, 'core_layer/stacked_transformer_layer/x_layers_15/self_attention/post/w': 1638400, 'core_layer/stacked_transformer_layer/x_layers_15/self_attention/query/b': 1280, 'core_layer/stacked_transformer_layer/x_layers_15/self_attention/query/w': 1638400, 'core_layer/stacked_transformer_layer/x_layers_15/self_attention/value/b': 1280, 'core_layer/stacked_transformer_layer/x_layers_15/self_attention/value/w': 1638400, 'core_layer/stacked_transformer_layer/x_layers_16/ff_layer/ffn_layer1/bias/b': 1280, 'core_layer/stacked_transformer_layer/x_layers_16/ff_layer/ffn_layer1/linear/w': 1638400, 'core_layer/stacked_transformer_layer/x_layers_16/ff_layer/ffn_layer2/bias/b': 1280, 'core_layer/stacked_transformer_layer/x_layers_16/ff_layer/ffn_layer2/linear/w': 1638400, 'core_layer/stacked_transformer_layer/x_layers_16/ff_layer/layer_norm/bias': 1280, 'core_layer/stacked_transformer_layer/x_layers_16/ff_layer/layer_norm/scale': 1280, 'core_layer/stacked_transformer_layer/x_layers_16/layer_norm/scale': 1280, 'core_layer/stacked_transformer_layer/x_layers_16/self_attention/key/b': 1280, 'core_layer/stacked_transformer_layer/x_layers_16/self_attention/key/w': 1638400, 'core_layer/stacked_transformer_layer/x_layers_16/self_attention/per_dim_scale/per_dim_scale': 80, 'core_layer/stacked_transformer_layer/x_layers_16/self_attention/post/b': 1280, 'core_layer/stacked_transformer_layer/x_layers_16/self_attention/post/w': 1638400, 'core_layer/stacked_transformer_layer/x_layers_16/self_attention/query/b': 1280, 'core_layer/stacked_transformer_layer/x_layers_16/self_attention/query/w': 1638400, 'core_layer/stacked_transformer_layer/x_layers_16/self_attention/value/b': 1280, 'core_layer/stacked_transformer_layer/x_layers_16/self_attention/value/w': 1638400, 'core_layer/stacked_transformer_layer/x_layers_17/ff_layer/ffn_layer1/bias/b': 1280, 'core_layer/stacked_transformer_layer/x_layers_17/ff_layer/ffn_layer1/linear/w': 1638400, 'core_layer/stacked_transformer_layer/x_layers_17/ff_layer/ffn_layer2/bias/b': 1280, 'core_layer/stacked_transformer_layer/x_layers_17/ff_layer/ffn_layer2/linear/w': 1638400, 'core_layer/stacked_transformer_layer/x_layers_17/ff_layer/layer_norm/bias': 1280, 'core_layer/stacked_transformer_layer/x_layers_17/ff_layer/layer_norm/scale': 1280, 'core_layer/stacked_transformer_layer/x_layers_17/layer_norm/scale': 1280, 'core_layer/stacked_transformer_layer/x_layers_17/self_attention/key/b': 1280, 'core_layer/stacked_transformer_layer/x_layers_17/self_attention/key/w': 1638400, 'core_layer/stacked_transformer_layer/x_layers_17/self_attention/per_dim_scale/per_dim_scale': 80, 'core_layer/stacked_transformer_layer/x_layers_17/self_attention/post/b': 1280, 'core_layer/stacked_transformer_layer/x_layers_17/self_attention/post/w': 1638400, 'core_layer/stacked_transformer_layer/x_layers_17/self_attention/query/b': 1280, 'core_layer/stacked_transformer_layer/x_layers_17/self_attention/query/w': 1638400, 'core_layer/stacked_transformer_layer/x_layers_17/self_attention/value/b': 1280, 'core_layer/stacked_transformer_layer/x_layers_17/self_attention/value/w': 1638400, 'core_layer/stacked_transformer_layer/x_layers_18/ff_layer/ffn_layer1/bias/b': 1280, 'core_layer/stacked_transformer_layer/x_layers_18/ff_layer/ffn_layer1/linear/w': 1638400, 'core_layer/stacked_transformer_layer/x_layers_18/ff_layer/ffn_layer2/bias/b': 1280, 'core_layer/stacked_transformer_layer/x_layers_18/ff_layer/ffn_layer2/linear/w': 1638400, 'core_layer/stacked_transformer_layer/x_layers_18/ff_layer/layer_norm/bias': 1280, 'core_layer/stacked_transformer_layer/x_layers_18/ff_layer/layer_norm/scale': 1280, 'core_layer/stacked_transformer_layer/x_layers_18/layer_norm/scale': 1280, 'core_layer/stacked_transformer_layer/x_layers_18/self_attention/key/b': 1280, 'core_layer/stacked_transformer_layer/x_layers_18/self_attention/key/w': 1638400, 'core_layer/stacked_transformer_layer/x_layers_18/self_attention/per_dim_scale/per_dim_scale': 80, 'core_layer/stacked_transformer_layer/x_layers_18/self_attention/post/b': 1280, 'core_layer/stacked_transformer_layer/x_layers_18/self_attention/post/w': 1638400, 'core_layer/stacked_transformer_layer/x_layers_18/self_attention/query/b': 1280, 'core_layer/stacked_transformer_layer/x_layers_18/self_attention/query/w': 1638400, 'core_layer/stacked_transformer_layer/x_layers_18/self_attention/value/b': 1280, 'core_layer/stacked_transformer_layer/x_layers_18/self_attention/value/w': 1638400, 'core_layer/stacked_transformer_layer/x_layers_19/ff_layer/ffn_layer1/bias/b': 1280, 'core_layer/stacked_transformer_layer/x_layers_19/ff_layer/ffn_layer1/linear/w': 1638400, 'core_layer/stacked_transformer_layer/x_layers_19/ff_layer/ffn_layer2/bias/b': 1280, 'core_layer/stacked_transformer_layer/x_layers_19/ff_layer/ffn_layer2/linear/w': 1638400, 'core_layer/stacked_transformer_layer/x_layers_19/ff_layer/layer_norm/bias': 1280, 'core_layer/stacked_transformer_layer/x_layers_19/ff_layer/layer_norm/scale': 1280, 'core_layer/stacked_transformer_layer/x_layers_19/layer_norm/scale': 1280, 'core_layer/stacked_transformer_layer/x_layers_19/self_attention/key/b': 1280, 'core_layer/stacked_transformer_layer/x_layers_19/self_attention/key/w': 1638400, 'core_layer/stacked_transformer_layer/x_layers_19/self_attention/per_dim_scale/per_dim_scale': 80, 'core_layer/stacked_transformer_layer/x_layers_19/self_attention/post/b': 1280, 'core_layer/stacked_transformer_layer/x_layers_19/self_attention/post/w': 1638400, 'core_layer/stacked_transformer_layer/x_layers_19/self_attention/query/b': 1280, 'core_layer/stacked_transformer_layer/x_layers_19/self_attention/query/w': 1638400, 'core_layer/stacked_transformer_layer/x_layers_19/self_attention/value/b': 1280, 'core_layer/stacked_transformer_layer/x_layers_19/self_attention/value/w': 1638400, 'core_layer/stacked_transformer_layer/x_layers_2/ff_layer/ffn_layer1/bias/b': 1280, 'core_layer/stacked_transformer_layer/x_layers_2/ff_layer/ffn_layer1/linear/w': 1638400, 'core_layer/stacked_transformer_layer/x_layers_2/ff_layer/ffn_layer2/bias/b': 1280, 'core_layer/stacked_transformer_layer/x_layers_2/ff_layer/ffn_layer2/linear/w': 1638400, 'core_layer/stacked_transformer_layer/x_layers_2/ff_layer/layer_norm/bias': 1280, 'core_layer/stacked_transformer_layer/x_layers_2/ff_layer/layer_norm/scale': 1280, 'core_layer/stacked_transformer_layer/x_layers_2/layer_norm/scale': 1280, 'core_layer/stacked_transformer_layer/x_layers_2/self_attention/key/b': 1280, 'core_layer/stacked_transformer_layer/x_layers_2/self_attention/key/w': 1638400, 'core_layer/stacked_transformer_layer/x_layers_2/self_attention/per_dim_scale/per_dim_scale': 80, 'core_layer/stacked_transformer_layer/x_layers_2/self_attention/post/b': 1280, 'core_layer/stacked_transformer_layer/x_layers_2/self_attention/post/w': 1638400, 'core_layer/stacked_transformer_layer/x_layers_2/self_attention/query/b': 1280, 'core_layer/stacked_transformer_layer/x_layers_2/self_attention/query/w': 1638400, 'core_layer/stacked_transformer_layer/x_layers_2/self_attention/value/b': 1280, 'core_layer/stacked_transformer_layer/x_layers_2/self_attention/value/w': 1638400, 'core_layer/stacked_transformer_layer/x_layers_3/ff_layer/ffn_layer1/bias/b': 1280, 'core_layer/stacked_transformer_layer/x_layers_3/ff_layer/ffn_layer1/linear/w': 1638400, 'core_layer/stacked_transformer_layer/x_layers_3/ff_layer/ffn_layer2/bias/b': 1280, 'core_layer/stacked_transformer_layer/x_layers_3/ff_layer/ffn_layer2/linear/w': 1638400, 'core_layer/stacked_transformer_layer/x_layers_3/ff_layer/layer_norm/bias': 1280, 'core_layer/stacked_transformer_layer/x_layers_3/ff_layer/layer_norm/scale': 1280, 'core_layer/stacked_transformer_layer/x_layers_3/layer_norm/scale': 1280, 'core_layer/stacked_transformer_layer/x_layers_3/self_attention/key/b': 1280, 'core_layer/stacked_transformer_layer/x_layers_3/self_attention/key/w': 1638400, 'core_layer/stacked_transformer_layer/x_layers_3/self_attention/per_dim_scale/per_dim_scale': 80, 'core_layer/stacked_transformer_layer/x_layers_3/self_attention/post/b': 1280, 'core_layer/stacked_transformer_layer/x_layers_3/self_attention/post/w': 1638400, 'core_layer/stacked_transformer_layer/x_layers_3/self_attention/query/b': 1280, 'core_layer/stacked_transformer_layer/x_layers_3/self_attention/query/w': 1638400, 'core_layer/stacked_transformer_layer/x_layers_3/self_attention/value/b': 1280, 'core_layer/stacked_transformer_layer/x_layers_3/self_attention/value/w': 1638400, 'core_layer/stacked_transformer_layer/x_layers_4/ff_layer/ffn_layer1/bias/b': 1280, 'core_layer/stacked_transformer_layer/x_layers_4/ff_layer/ffn_layer1/linear/w': 1638400, 'core_layer/stacked_transformer_layer/x_layers_4/ff_layer/ffn_layer2/bias/b': 1280, 'core_layer/stacked_transformer_layer/x_layers_4/ff_layer/ffn_layer2/linear/w': 1638400, 'core_layer/stacked_transformer_layer/x_layers_4/ff_layer/layer_norm/bias': 1280, 'core_layer/stacked_transformer_layer/x_layers_4/ff_layer/layer_norm/scale': 1280, 'core_layer/stacked_transformer_layer/x_layers_4/layer_norm/scale': 1280, 'core_layer/stacked_transformer_layer/x_layers_4/self_attention/key/b': 1280, 'core_layer/stacked_transformer_layer/x_layers_4/self_attention/key/w': 1638400, 'core_layer/stacked_transformer_layer/x_layers_4/self_attention/per_dim_scale/per_dim_scale': 80, 'core_layer/stacked_transformer_layer/x_layers_4/self_attention/post/b': 1280, 'core_layer/stacked_transformer_layer/x_layers_4/self_attention/post/w': 1638400, 'core_layer/stacked_transformer_layer/x_layers_4/self_attention/query/b': 1280, 'core_layer/stacked_transformer_layer/x_layers_4/self_attention/query/w': 1638400, 'core_layer/stacked_transformer_layer/x_layers_4/self_attention/value/b': 1280, 'core_layer/stacked_transformer_layer/x_layers_4/self_attention/value/w': 1638400, 'core_layer/stacked_transformer_layer/x_layers_5/ff_layer/ffn_layer1/bias/b': 1280, 'core_layer/stacked_transformer_layer/x_layers_5/ff_layer/ffn_layer1/linear/w': 1638400, 'core_layer/stacked_transformer_layer/x_layers_5/ff_layer/ffn_layer2/bias/b': 1280, 'core_layer/stacked_transformer_layer/x_layers_5/ff_layer/ffn_layer2/linear/w': 1638400, 'core_layer/stacked_transformer_layer/x_layers_5/ff_layer/layer_norm/bias': 1280, 'core_layer/stacked_transformer_layer/x_layers_5/ff_layer/layer_norm/scale': 1280, 'core_layer/stacked_transformer_layer/x_layers_5/layer_norm/scale': 1280, 'core_layer/stacked_transformer_layer/x_layers_5/self_attention/key/b': 1280, 'core_layer/stacked_transformer_layer/x_layers_5/self_attention/key/w': 1638400, 'core_layer/stacked_transformer_layer/x_layers_5/self_attention/per_dim_scale/per_dim_scale': 80, 'core_layer/stacked_transformer_layer/x_layers_5/self_attention/post/b': 1280, 'core_layer/stacked_transformer_layer/x_layers_5/self_attention/post/w': 1638400, 'core_layer/stacked_transformer_layer/x_layers_5/self_attention/query/b': 1280, 'core_layer/stacked_transformer_layer/x_layers_5/self_attention/query/w': 1638400, 'core_layer/stacked_transformer_layer/x_layers_5/self_attention/value/b': 1280, 'core_layer/stacked_transformer_layer/x_layers_5/self_attention/value/w': 1638400, 'core_layer/stacked_transformer_layer/x_layers_6/ff_layer/ffn_layer1/bias/b': 1280, 'core_layer/stacked_transformer_layer/x_layers_6/ff_layer/ffn_layer1/linear/w': 1638400, 'core_layer/stacked_transformer_layer/x_layers_6/ff_layer/ffn_layer2/bias/b': 1280, 'core_layer/stacked_transformer_layer/x_layers_6/ff_layer/ffn_layer2/linear/w': 1638400, 'core_layer/stacked_transformer_layer/x_layers_6/ff_layer/layer_norm/bias': 1280, 'core_layer/stacked_transformer_layer/x_layers_6/ff_layer/layer_norm/scale': 1280, 'core_layer/stacked_transformer_layer/x_layers_6/layer_norm/scale': 1280, 'core_layer/stacked_transformer_layer/x_layers_6/self_attention/key/b': 1280, 'core_layer/stacked_transformer_layer/x_layers_6/self_attention/key/w': 1638400, 'core_layer/stacked_transformer_layer/x_layers_6/self_attention/per_dim_scale/per_dim_scale': 80, 'core_layer/stacked_transformer_layer/x_layers_6/self_attention/post/b': 1280, 'core_layer/stacked_transformer_layer/x_layers_6/self_attention/post/w': 1638400, 'core_layer/stacked_transformer_layer/x_layers_6/self_attention/query/b': 1280, 'core_layer/stacked_transformer_layer/x_layers_6/self_attention/query/w': 1638400, 'core_layer/stacked_transformer_layer/x_layers_6/self_attention/value/b': 1280, 'core_layer/stacked_transformer_layer/x_layers_6/self_attention/value/w': 1638400, 'core_layer/stacked_transformer_layer/x_layers_7/ff_layer/ffn_layer1/bias/b': 1280, 'core_layer/stacked_transformer_layer/x_layers_7/ff_layer/ffn_layer1/linear/w': 1638400, 'core_layer/stacked_transformer_layer/x_layers_7/ff_layer/ffn_layer2/bias/b': 1280, 'core_layer/stacked_transformer_layer/x_layers_7/ff_layer/ffn_layer2/linear/w': 1638400, 'core_layer/stacked_transformer_layer/x_layers_7/ff_layer/layer_norm/bias': 1280, 'core_layer/stacked_transformer_layer/x_layers_7/ff_layer/layer_norm/scale': 1280, 'core_layer/stacked_transformer_layer/x_layers_7/layer_norm/scale': 1280, 'core_layer/stacked_transformer_layer/x_layers_7/self_attention/key/b': 1280, 'core_layer/stacked_transformer_layer/x_layers_7/self_attention/key/w': 1638400, 'core_layer/stacked_transformer_layer/x_layers_7/self_attention/per_dim_scale/per_dim_scale': 80, 'core_layer/stacked_transformer_layer/x_layers_7/self_attention/post/b': 1280, 'core_layer/stacked_transformer_layer/x_layers_7/self_attention/post/w': 1638400, 'core_layer/stacked_transformer_layer/x_layers_7/self_attention/query/b': 1280, 'core_layer/stacked_transformer_layer/x_layers_7/self_attention/query/w': 1638400, 'core_layer/stacked_transformer_layer/x_layers_7/self_attention/value/b': 1280, 'core_layer/stacked_transformer_layer/x_layers_7/self_attention/value/w': 1638400, 'core_layer/stacked_transformer_layer/x_layers_8/ff_layer/ffn_layer1/bias/b': 1280, 'core_layer/stacked_transformer_layer/x_layers_8/ff_layer/ffn_layer1/linear/w': 1638400, 'core_layer/stacked_transformer_layer/x_layers_8/ff_layer/ffn_layer2/bias/b': 1280, 'core_layer/stacked_transformer_layer/x_layers_8/ff_layer/ffn_layer2/linear/w': 1638400, 'core_layer/stacked_transformer_layer/x_layers_8/ff_layer/layer_norm/bias': 1280, 'core_layer/stacked_transformer_layer/x_layers_8/ff_layer/layer_norm/scale': 1280, 'core_layer/stacked_transformer_layer/x_layers_8/layer_norm/scale': 1280, 'core_layer/stacked_transformer_layer/x_layers_8/self_attention/key/b': 1280, 'core_layer/stacked_transformer_layer/x_layers_8/self_attention/key/w': 1638400, 'core_layer/stacked_transformer_layer/x_layers_8/self_attention/per_dim_scale/per_dim_scale': 80, 'core_layer/stacked_transformer_layer/x_layers_8/self_attention/post/b': 1280, 'core_layer/stacked_transformer_layer/x_layers_8/self_attention/post/w': 1638400, 'core_layer/stacked_transformer_layer/x_layers_8/self_attention/query/b': 1280, 'core_layer/stacked_transformer_layer/x_layers_8/self_attention/query/w': 1638400, 'core_layer/stacked_transformer_layer/x_layers_8/self_attention/value/b': 1280, 'core_layer/stacked_transformer_layer/x_layers_8/self_attention/value/w': 1638400, 'core_layer/stacked_transformer_layer/x_layers_9/ff_layer/ffn_layer1/bias/b': 1280, 'core_layer/stacked_transformer_layer/x_layers_9/ff_layer/ffn_layer1/linear/w': 1638400, 'core_layer/stacked_transformer_layer/x_layers_9/ff_layer/ffn_layer2/bias/b': 1280, 'core_layer/stacked_transformer_layer/x_layers_9/ff_layer/ffn_layer2/linear/w': 1638400, 'core_layer/stacked_transformer_layer/x_layers_9/ff_layer/layer_norm/bias': 1280, 'core_layer/stacked_transformer_layer/x_layers_9/ff_layer/layer_norm/scale': 1280, 'core_layer/stacked_transformer_layer/x_layers_9/layer_norm/scale': 1280, 'core_layer/stacked_transformer_layer/x_layers_9/self_attention/key/b': 1280, 'core_layer/stacked_transformer_layer/x_layers_9/self_attention/key/w': 1638400, 'core_layer/stacked_transformer_layer/x_layers_9/self_attention/per_dim_scale/per_dim_scale': 80, 'core_layer/stacked_transformer_layer/x_layers_9/self_attention/post/b': 1280, 'core_layer/stacked_transformer_layer/x_layers_9/self_attention/post/w': 1638400, 'core_layer/stacked_transformer_layer/x_layers_9/self_attention/query/b': 1280, 'core_layer/stacked_transformer_layer/x_layers_9/self_attention/query/w': 1638400, 'core_layer/stacked_transformer_layer/x_layers_9/self_attention/value/b': 1280, 'core_layer/stacked_transformer_layer/x_layers_9/self_attention/value/w': 1638400}\n",
            "Total initial parameters: 203568960\n"
          ]
        }
      ]
    },
    {
      "cell_type": "code",
      "source": [
        "exclusion_patterns = [r'.*/stacked_transformer_layer/.*']\n",
        "\n",
        "# Step 2: Count trainable parameters\n",
        "trainable_param_counts, total_trainable_params, trainable_param_paths = count_trainable_params(initial_weights, exclusion_patterns)\n",
        "print(f\"Trainable parameter counts per component:\\n{trainable_param_counts}\")\n",
        "print(f\"Total trainable parameters: {total_trainable_params}\")"
      ],
      "metadata": {
        "colab": {
          "base_uri": "https://localhost:8080/"
        },
        "id": "NJ3HDE_gg68s",
        "outputId": "52a66806-6c5a-48df-8ee5-25c6c135f16b"
      },
      "execution_count": 27,
      "outputs": [
        {
          "output_type": "stream",
          "name": "stdout",
          "text": [
            "Trainable parameter counts per component:\n",
            "{'core_layer/freq_emb/emb_var': 3840, 'core_layer/horizon_ff_layer/hidden_layer/bias/b': 1280, 'core_layer/horizon_ff_layer/hidden_layer/linear/w': 1638400, 'core_layer/horizon_ff_layer/output_layer/bias/b': 1280, 'core_layer/horizon_ff_layer/output_layer/linear/w': 1638400, 'core_layer/horizon_ff_layer/residual_layer/bias/b': 1280, 'core_layer/horizon_ff_layer/residual_layer/linear/w': 1638400, 'core_layer/input_ff_layer/hidden_layer/bias/b': 1280, 'core_layer/input_ff_layer/hidden_layer/linear/w': 81920, 'core_layer/input_ff_layer/output_layer/bias/b': 1280, 'core_layer/input_ff_layer/output_layer/linear/w': 1638400, 'core_layer/input_ff_layer/residual_layer/bias/b': 1280, 'core_layer/input_ff_layer/residual_layer/linear/w': 81920}\n",
            "Total trainable parameters: 6728960\n"
          ]
        }
      ]
    },
    {
      "cell_type": "code",
      "source": [
        "states_fine_tune=None"
      ],
      "metadata": {
        "id": "ofNwSt2N8Xzv"
      },
      "execution_count": 28,
      "outputs": []
    },
    {
      "cell_type": "code",
      "execution_count": 29,
      "metadata": {
        "id": "vfTp0M2sLv-3",
        "colab": {
          "base_uri": "https://localhost:8080/"
        },
        "outputId": "73205b0d-ff57-4ace-93fa-e6f77427e413"
      },
      "outputs": [
        {
          "output_type": "stream",
          "name": "stdout",
          "text": [
            "__________________Epoch: 0__________________\n",
            "Train loss at end of epoch 0: 2.3633310794830322\n",
            "Starting eval.\n"
          ]
        },
        {
          "output_type": "stream",
          "name": "stderr",
          "text": [
            "127it [00:13,  9.55it/s]\n"
          ]
        },
        {
          "output_type": "stream",
          "name": "stdout",
          "text": [
            "Eval loss at end of epoch 0: 27.935487747192383\n"
          ]
        },
        {
          "output_type": "stream",
          "name": "stderr",
          "text": [
            "WARNING:absl:No registered CheckpointArgs found for handler type: <class 'paxml.checkpoints.FlaxCheckpointHandler'>\n",
            "WARNING:absl:Configured `CheckpointManager` using deprecated legacy API. Please follow the instructions at https://orbax.readthedocs.io/en/latest/api_refactor.html to migrate by May 1st, 2024.\n",
            "WARNING:absl:train_state_unpadded_shape_dtype_struct is not provided. Saving the\n",
            "        shapes of train_state  as the unpadded shapes.\n"
          ]
        },
        {
          "output_type": "stream",
          "name": "stdout",
          "text": [
            "Saving checkpoint.\n"
          ]
        },
        {
          "output_type": "stream",
          "name": "stderr",
          "text": [
            "WARNING:absl:SaveArgs.aggregate is deprecated, please use custom TypeHandler (https://orbax.readthedocs.io/en/latest/custom_handlers.html#typehandler) or contact Orbax team to migrate before May 1st, 2024. If your Pytree has empty ([], {}, None) values then use PyTreeCheckpointHandler(..., write_tree_metadata=True, ...) or use StandardCheckpointHandler to avoid TypeHandler Registry error. Please note that PyTreeCheckpointHandler.write_tree_metadata default value is already set to True.\n"
          ]
        },
        {
          "output_type": "stream",
          "name": "stdout",
          "text": [
            "__________________Epoch: 1__________________\n",
            "Train loss at end of epoch 1: 2.1030917167663574\n",
            "Starting eval.\n"
          ]
        },
        {
          "output_type": "stream",
          "name": "stderr",
          "text": [
            "127it [00:01, 103.74it/s]\n"
          ]
        },
        {
          "output_type": "stream",
          "name": "stdout",
          "text": [
            "Eval loss at end of epoch 1: 27.82087516784668\n"
          ]
        },
        {
          "output_type": "stream",
          "name": "stderr",
          "text": [
            "WARNING:absl:No registered CheckpointArgs found for handler type: <class 'paxml.checkpoints.FlaxCheckpointHandler'>\n",
            "WARNING:absl:Configured `CheckpointManager` using deprecated legacy API. Please follow the instructions at https://orbax.readthedocs.io/en/latest/api_refactor.html to migrate by May 1st, 2024.\n",
            "WARNING:absl:train_state_unpadded_shape_dtype_struct is not provided. Saving the\n",
            "        shapes of train_state  as the unpadded shapes.\n"
          ]
        },
        {
          "output_type": "stream",
          "name": "stdout",
          "text": [
            "Saving checkpoint.\n",
            "__________________Epoch: 2__________________\n",
            "Train loss at end of epoch 2: 1.958559513092041\n",
            "Starting eval.\n"
          ]
        },
        {
          "output_type": "stream",
          "name": "stderr",
          "text": [
            "127it [00:01, 103.25it/s]"
          ]
        },
        {
          "output_type": "stream",
          "name": "stdout",
          "text": [
            "Eval loss at end of epoch 2: 27.622390747070312\n"
          ]
        },
        {
          "output_type": "stream",
          "name": "stderr",
          "text": [
            "\n",
            "WARNING:absl:No registered CheckpointArgs found for handler type: <class 'paxml.checkpoints.FlaxCheckpointHandler'>\n",
            "WARNING:absl:Configured `CheckpointManager` using deprecated legacy API. Please follow the instructions at https://orbax.readthedocs.io/en/latest/api_refactor.html to migrate by May 1st, 2024.\n",
            "WARNING:absl:train_state_unpadded_shape_dtype_struct is not provided. Saving the\n",
            "        shapes of train_state  as the unpadded shapes.\n"
          ]
        },
        {
          "output_type": "stream",
          "name": "stdout",
          "text": [
            "Saving checkpoint.\n",
            "__________________Epoch: 3__________________\n",
            "Train loss at end of epoch 3: 1.8314744234085083\n",
            "Starting eval.\n"
          ]
        },
        {
          "output_type": "stream",
          "name": "stderr",
          "text": [
            "127it [00:01, 103.24it/s]\n"
          ]
        },
        {
          "output_type": "stream",
          "name": "stdout",
          "text": [
            "Eval loss at end of epoch 3: 27.297916412353516\n"
          ]
        },
        {
          "output_type": "stream",
          "name": "stderr",
          "text": [
            "WARNING:absl:No registered CheckpointArgs found for handler type: <class 'paxml.checkpoints.FlaxCheckpointHandler'>\n",
            "WARNING:absl:Configured `CheckpointManager` using deprecated legacy API. Please follow the instructions at https://orbax.readthedocs.io/en/latest/api_refactor.html to migrate by May 1st, 2024.\n",
            "WARNING:absl:train_state_unpadded_shape_dtype_struct is not provided. Saving the\n",
            "        shapes of train_state  as the unpadded shapes.\n"
          ]
        },
        {
          "output_type": "stream",
          "name": "stdout",
          "text": [
            "Saving checkpoint.\n",
            "__________________Epoch: 4__________________\n",
            "Train loss at end of epoch 4: 1.724226951599121\n",
            "Starting eval.\n"
          ]
        },
        {
          "output_type": "stream",
          "name": "stderr",
          "text": [
            "127it [00:01, 103.31it/s]"
          ]
        },
        {
          "output_type": "stream",
          "name": "stdout",
          "text": [
            "Eval loss at end of epoch 4: 26.721813201904297\n"
          ]
        },
        {
          "output_type": "stream",
          "name": "stderr",
          "text": [
            "\n",
            "WARNING:absl:No registered CheckpointArgs found for handler type: <class 'paxml.checkpoints.FlaxCheckpointHandler'>\n",
            "WARNING:absl:Configured `CheckpointManager` using deprecated legacy API. Please follow the instructions at https://orbax.readthedocs.io/en/latest/api_refactor.html to migrate by May 1st, 2024.\n",
            "WARNING:absl:train_state_unpadded_shape_dtype_struct is not provided. Saving the\n",
            "        shapes of train_state  as the unpadded shapes.\n"
          ]
        },
        {
          "output_type": "stream",
          "name": "stdout",
          "text": [
            "Saving checkpoint.\n",
            "__________________Epoch: 5__________________\n",
            "Train loss at end of epoch 5: 1.6332553625106812\n",
            "Starting eval.\n"
          ]
        },
        {
          "output_type": "stream",
          "name": "stderr",
          "text": [
            "127it [00:01, 102.75it/s]"
          ]
        },
        {
          "output_type": "stream",
          "name": "stdout",
          "text": [
            "Eval loss at end of epoch 5: 26.867652893066406\n",
            "patience: 1\n",
            "__________________Epoch: 6__________________\n"
          ]
        },
        {
          "output_type": "stream",
          "name": "stderr",
          "text": [
            "\n"
          ]
        },
        {
          "output_type": "stream",
          "name": "stdout",
          "text": [
            "Train loss at end of epoch 6: 1.552759051322937\n",
            "Starting eval.\n"
          ]
        },
        {
          "output_type": "stream",
          "name": "stderr",
          "text": [
            "127it [00:01, 103.78it/s]"
          ]
        },
        {
          "output_type": "stream",
          "name": "stdout",
          "text": [
            "Eval loss at end of epoch 6: 27.2678279876709\n",
            "patience: 2\n",
            "__________________Epoch: 7__________________\n"
          ]
        },
        {
          "output_type": "stream",
          "name": "stderr",
          "text": [
            "\n"
          ]
        },
        {
          "output_type": "stream",
          "name": "stdout",
          "text": [
            "Train loss at end of epoch 7: 1.4658087491989136\n",
            "Starting eval.\n"
          ]
        },
        {
          "output_type": "stream",
          "name": "stderr",
          "text": [
            "127it [00:01, 103.82it/s]"
          ]
        },
        {
          "output_type": "stream",
          "name": "stdout",
          "text": [
            "Eval loss at end of epoch 7: 27.654085159301758\n",
            "patience: 3\n",
            "__________________Epoch: 8__________________\n"
          ]
        },
        {
          "output_type": "stream",
          "name": "stderr",
          "text": [
            "\n"
          ]
        },
        {
          "output_type": "stream",
          "name": "stdout",
          "text": [
            "Train loss at end of epoch 8: 1.4137868881225586\n",
            "Starting eval.\n"
          ]
        },
        {
          "output_type": "stream",
          "name": "stderr",
          "text": [
            "127it [00:01, 103.80it/s]"
          ]
        },
        {
          "output_type": "stream",
          "name": "stdout",
          "text": [
            "Eval loss at end of epoch 8: 27.65414047241211\n",
            "patience: 4\n",
            "__________________Epoch: 9__________________\n"
          ]
        },
        {
          "output_type": "stream",
          "name": "stderr",
          "text": [
            "\n"
          ]
        },
        {
          "output_type": "stream",
          "name": "stdout",
          "text": [
            "Train loss at end of epoch 9: 1.3478139638900757\n",
            "Starting eval.\n"
          ]
        },
        {
          "output_type": "stream",
          "name": "stderr",
          "text": [
            "127it [00:01, 102.43it/s]\n"
          ]
        },
        {
          "output_type": "stream",
          "name": "stdout",
          "text": [
            "Eval loss at end of epoch 9: 29.05936050415039\n",
            "patience: 5\n",
            "Early stopping.\n"
          ]
        }
      ],
      "source": [
        "for epoch in range(NUM_EPOCHS):\n",
        "    print(f\"__________________Epoch: {epoch}__________________\", flush=True)\n",
        "\n",
        "    # Train phase\n",
        "    train_its = train_batches.as_numpy_iterator()\n",
        "    if patience >= PATIENCE:\n",
        "        print(\"Early stopping.\", flush=True)\n",
        "        break\n",
        "\n",
        "    train_losses = []  # Initialize train losses for the epoch\n",
        "    for batch in train_its:\n",
        "        if patience >= PATIENCE:\n",
        "            print(\"Early stopping.\", flush=True)\n",
        "            break\n",
        "\n",
        "        tbatch = process_train_batch(batch)\n",
        "        tbatch = reshape_batch_for_pmap(tbatch, num_devices)\n",
        "        replicated_jax_states, step_fun_out = p_train_step(\n",
        "            replicated_jax_states, train_prng_seed, tbatch\n",
        "        )\n",
        "        train_losses.append(step_fun_out.loss[0])\n",
        "\n",
        "        # Increment step count\n",
        "        step_count += 1\n",
        "\n",
        "    # Calculate and print average train loss for the epoch\n",
        "    avg_train_loss = np.mean(train_losses)\n",
        "    print(f\"Train loss at end of epoch {epoch}: {avg_train_loss}\", flush=True)\n",
        "\n",
        "    # Eval phase at the end of the epoch\n",
        "    print(\"Starting eval.\", flush=True)\n",
        "    val_its = val_batches.as_numpy_iterator()\n",
        "    eval_losses = []  # Initialize eval losses for the epoch\n",
        "\n",
        "    for ev_batch in tqdm(val_its):\n",
        "        ebatch = process_eval_batch(ev_batch)\n",
        "        ebatch = reshape_batch_for_pmap(ebatch, num_devices)\n",
        "        _, step_fun_out = p_eval_step(replicated_jax_states, eval_prng_seed, ebatch)\n",
        "        eval_losses.append(step_fun_out.loss[0])\n",
        "\n",
        "    # Calculate and print average eval loss for the epoch\n",
        "    mean_loss = np.mean(eval_losses)\n",
        "    print(f\"Eval loss at end of epoch {epoch}: {mean_loss}\", flush=True)\n",
        "\n",
        "    # Check for checkpoint saving and patience logic\n",
        "    if mean_loss < best_eval_loss or np.isnan(mean_loss):\n",
        "        best_eval_loss = mean_loss\n",
        "        print(\"Saving checkpoint.\")\n",
        "        jax_state_for_saving = py_utils.maybe_unreplicate_for_fully_replicated(\n",
        "            replicated_jax_states\n",
        "        )\n",
        "        states_fine_tune=replicated_jax_states\n",
        "        checkpoints.save_checkpoint(\n",
        "            jax_state_for_saving, CHECKPOINT_DIR, overwrite=True\n",
        "        )\n",
        "        patience = 0  # Reset patience since we improved\n",
        "        del jax_state_for_saving\n",
        "        gc.collect()\n",
        "    else:\n",
        "        patience += 1\n",
        "        print(f\"patience: {patience}\")\n",
        "\n",
        "    # Early stopping check\n",
        "    if patience >= PATIENCE:\n",
        "        print(\"Early stopping.\", flush=True)\n",
        "        break\n"
      ]
    },
    {
      "cell_type": "code",
      "source": [
        "train_state = checkpoints.restore_checkpoint(jax_model_states, CHECKPOINT_DIR)"
      ],
      "metadata": {
        "colab": {
          "base_uri": "https://localhost:8080/"
        },
        "id": "gjL5o-pVlSbM",
        "outputId": "9cd0b5d9-87d9-4e05-8951-2454d0f5941a"
      },
      "execution_count": 30,
      "outputs": [
        {
          "output_type": "stream",
          "name": "stderr",
          "text": [
            "WARNING:absl:No registered CheckpointArgs found for handler type: <class 'paxml.checkpoints.FlaxCheckpointHandler'>\n",
            "WARNING:absl:Configured `CheckpointManager` using deprecated legacy API. Please follow the instructions at https://orbax.readthedocs.io/en/latest/api_refactor.html to migrate by May 1st, 2024.\n",
            "WARNING:absl:train_state_unpadded_shape_dtype_struct is not provided. We assume `train_state` is unpadded.\n",
            "ERROR:absl:For checkpoint version > 1.0, we require users to provide\n",
            "          `train_state_unpadded_shape_dtype_struct` during checkpoint\n",
            "          saving/restoring, to avoid potential silent bugs when loading\n",
            "          checkpoints to incompatible unpadded shapes of TrainState.\n"
          ]
        }
      ]
    },
    {
      "cell_type": "code",
      "source": [
        "\n",
        "fine_tuned_weights = jax.device_get(states_fine_tune.mdl_vars['params'])\n",
        "# Since replicated_jax_states are replicated across devices, extract one replica\n",
        "fine_tuned_weights = jax.tree_util.tree_map(lambda x: x[0], fine_tuned_weights)\n",
        "\n",
        "# Step 3: Calculate changes for trainable parameters\n",
        "param_changes = calculate_changes_for_trainable(initial_weights, fine_tuned_weights, trainable_param_paths)\n",
        "print(f\"Parameter changes for trainable components:\\n{param_changes}\")"
      ],
      "metadata": {
        "colab": {
          "base_uri": "https://localhost:8080/"
        },
        "id": "CzUa00hChN-g",
        "outputId": "ef57acb2-6c00-48a7-f1ea-88b3e4ce8f48"
      },
      "execution_count": 31,
      "outputs": [
        {
          "output_type": "stream",
          "name": "stdout",
          "text": [
            "Parameter changes for trainable components:\n",
            "{'core_layer/freq_emb/emb_var': 0.7726112, 'core_layer/horizon_ff_layer/hidden_layer/bias/b': 0.4066086, 'core_layer/horizon_ff_layer/hidden_layer/linear/w': 919.2629, 'core_layer/horizon_ff_layer/output_layer/bias/b': 0.0003345972, 'core_layer/horizon_ff_layer/output_layer/linear/w': 4.2500525, 'core_layer/horizon_ff_layer/residual_layer/bias/b': 0.0003345533, 'core_layer/horizon_ff_layer/residual_layer/linear/w': 5.9185658, 'core_layer/input_ff_layer/hidden_layer/bias/b': 0.8268473, 'core_layer/input_ff_layer/hidden_layer/linear/w': 16.944689, 'core_layer/input_ff_layer/output_layer/bias/b': 0.77261484, 'core_layer/input_ff_layer/output_layer/linear/w': 1085.1875, 'core_layer/input_ff_layer/residual_layer/bias/b': 0.77261513, 'core_layer/input_ff_layer/residual_layer/linear/w': 17.665085}\n"
          ]
        }
      ]
    },
    {
      "cell_type": "code",
      "source": [
        "components = list(param_changes.keys())\n",
        "changes = [param_changes[comp] for comp in components]\n",
        "\n",
        "plt.figure(figsize=(12, 6))\n",
        "plt.bar(components, changes)\n",
        "plt.xticks(rotation=90)\n",
        "plt.title(\"Parameter Changes During Fine-Tuning\")\n",
        "plt.ylabel(\"Sum of Absolute Changes\")\n",
        "plt.xlabel(\"Model Components\")\n",
        "plt.tight_layout()\n",
        "plt.show()"
      ],
      "metadata": {
        "colab": {
          "base_uri": "https://localhost:8080/",
          "height": 520
        },
        "id": "UAtapMcIk0Vp",
        "outputId": "c404eac6-611b-4b6f-e056-eb808f4ed880"
      },
      "execution_count": 32,
      "outputs": [
        {
          "output_type": "display_data",
          "data": {
            "text/plain": [
              "<Figure size 1200x600 with 1 Axes>"
            ],
            "image/png": "[encoded data removed]"
          },
          "metadata": {}
        }
      ]
    },
    {
      "cell_type": "code",
      "source": [
        "# Identify non-trainable parameters\n",
        "all_param_paths = traverse_params(initial_weights)\n",
        "non_trainable_param_paths = [p for p in all_param_paths if not is_trainable(p, exclusion_patterns)]\n",
        "\n",
        "# Calculate changes for non-trainable parameters\n",
        "non_trainable_changes = calculate_changes_for_trainable(initial_weights, fine_tuned_weights, non_trainable_param_paths)\n",
        "\n",
        "# Check if all changes are zero\n",
        "non_trainable_non_zero = {k: v for k, v in non_trainable_changes.items() if v != 0}\n",
        "if not non_trainable_non_zero:\n",
        "    print(\"All non-trainable parameters remained unchanged.\")\n",
        "else:\n",
        "    print(\"Some non-trainable parameters have changed:\")\n",
        "    # pprint.pprint(non_trainable_non_zero)\n"
      ],
      "metadata": {
        "colab": {
          "base_uri": "https://localhost:8080/"
        },
        "id": "DLt08z9olHgy",
        "outputId": "8dcad756-bfcd-4f30-feda-d0f265a91d21"
      },
      "execution_count": 33,
      "outputs": [
        {
          "output_type": "stream",
          "name": "stdout",
          "text": [
            "All non-trainable parameters remained unchanged.\n"
          ]
        }
      ]
    },
    {
      "cell_type": "code",
      "source": [
        "components = list(non_trainable_non_zero.keys())\n",
        "changes = [non_trainable_non_zero[comp] for comp in components]\n",
        "\n",
        "plt.figure(figsize=(12, 6))\n",
        "plt.bar(components, changes)\n",
        "plt.xticks(rotation=90)\n",
        "plt.title(\"Parameter Changes During Fine-Tuning\")\n",
        "plt.ylabel(\"Sum of Absolute Changes\")\n",
        "plt.xlabel(\"Model Components\")\n",
        "plt.tight_layout()\n",
        "plt.show()"
      ],
      "metadata": {
        "colab": {
          "base_uri": "https://localhost:8080/",
          "height": 520
        },
        "id": "eel6dnJLmPug",
        "outputId": "e09df740-cab0-45f3-c7de-a817cff2bbe6"
      },
      "execution_count": 34,
      "outputs": [
        {
          "output_type": "display_data",
          "data": {
            "text/plain": [
              "<Figure size 1200x600 with 1 Axes>"
            ],
            "image/png": "[encoded data removed]"
          },
          "metadata": {}
        }
      ]
    },
    {
      "cell_type": "code",
      "source": [
        "non_trainable_non_zero"
      ],
      "metadata": {
        "colab": {
          "base_uri": "https://localhost:8080/"
        },
        "id": "gBA_iwzNldKa",
        "outputId": "ba5471a5-9ccf-435c-95fa-f6cba323a2a5"
      },
      "execution_count": 35,
      "outputs": [
        {
          "output_type": "execute_result",
          "data": {
            "text/plain": [
              "{}"
            ]
          },
          "metadata": {},
          "execution_count": 35
        }
      ]
    },
    {
      "cell_type": "code",
      "source": [
        "        jax_state_for_saving = py_utils.maybe_unreplicate_for_fully_replicated(\n",
        "            states_fine_tune\n",
        "        )\n",
        "\n",
        "        checkpoints.save_checkpoint(\n",
        "            jax_state_for_saving, CHECKPOINT_DIR, overwrite=True\n",
        "        )"
      ],
      "metadata": {
        "colab": {
          "base_uri": "https://localhost:8080/"
        },
        "id": "GEzaRR2hHwPM",
        "outputId": "c0e204d2-e095-46ed-b86b-c286d2645deb"
      },
      "execution_count": 41,
      "outputs": [
        {
          "output_type": "stream",
          "name": "stderr",
          "text": [
            "WARNING:absl:No registered CheckpointArgs found for handler type: <class 'paxml.checkpoints.FlaxCheckpointHandler'>\n",
            "WARNING:absl:Configured `CheckpointManager` using deprecated legacy API. Please follow the instructions at https://orbax.readthedocs.io/en/latest/api_refactor.html to migrate by May 1st, 2024.\n",
            "WARNING:absl:train_state_unpadded_shape_dtype_struct is not provided. Saving the\n",
            "        shapes of train_state  as the unpadded shapes.\n"
          ]
        },
        {
          "output_type": "execute_result",
          "data": {
            "text/plain": [
              "<paxml.checkpoint_managers.OrbaxCheckpointManager at 0x7cbfcdd03ee0>"
            ]
          },
          "metadata": {},
          "execution_count": 41
        }
      ]
    },
    {
      "cell_type": "code",
      "execution_count": null,
      "metadata": {
        "id": "dCPjpDYSLv-3",
        "colab": {
          "base_uri": "https://localhost:8080/"
        },
        "outputId": "5b5850fa-ad8a-4316-88c4-4f42fe1284ff"
      },
      "outputs": [
        {
          "output_type": "stream",
          "name": "stdout",
          "text": [
            "3275\n",
            "Jitting decoding.\n"
          ]
        }
      ],
      "source": [
        "\n",
        "print(train_state.step)\n",
        "tfm._train_state.mdl_vars['params'] = train_state.mdl_vars['params']['core_layer']\n",
        "tfm.jit_decode()"
      ]
    },
    {
      "cell_type": "code",
      "execution_count": null,
      "metadata": {
        "id": "b-v5eQ7mLv-4"
      },
      "outputs": [],
      "source": [
        "mse_losses = []\n",
        "for batch in tqdm(test_batches.as_numpy_iterator()):\n",
        "    past = batch[0]\n",
        "    actuals = batch[3]\n",
        "    _, forecasts = tfm.forecast(list(past), [0] * past.shape[0])\n",
        "    forecasts = forecasts[:, 0 : actuals.shape[1], 5]\n",
        "    mse_losses.append(np.square(forecasts - actuals))\n",
        "\n",
        "print(f\"Mse: {np.mean(mse_losses)}\")"
      ]
    }
  ],
  "metadata": {
    "accelerator": "GPU",
    "colab": {
      "gpuType": "T4",
      "provenance": []
    },
    "kernelspec": {
      "display_name": "Python 3",
      "name": "python3"
    },
    "language_info": {
      "name": "python"
    },
    "widgets": {
      "application/vnd.jupyter.widget-state+json": {
        "a5d381ed7a2a4a929d010add67dd1f3e": {
          "model_module": "@jupyter-widgets/controls",
          "model_name": "HBoxModel",
          "model_module_version": "1.5.0",
          "state": {
            "_dom_classes": [],
            "_model_module": "@jupyter-widgets/controls",
            "_model_module_version": "1.5.0",
            "_model_name": "HBoxModel",
            "_view_count": null,
            "_view_module": "@jupyter-widgets/controls",
            "_view_module_version": "1.5.0",
            "_view_name": "HBoxView",
            "box_style": "",
            "children": [
              "IPY_MODEL_92ad9f60a9d64278a7d02e6ed2b001ae",
              "IPY_MODEL_0fb951207e0646f38808f7d3ab4da66c",
              "IPY_MODEL_aaf355807fa04d75b9f4168ec41e3b99"
            ],
            "layout": "IPY_MODEL_e1287c16b55f42ce94756883a08499e4"
          }
        },
        "92ad9f60a9d64278a7d02e6ed2b001ae": {
          "model_module": "@jupyter-widgets/controls",
          "model_name": "HTMLModel",
          "model_module_version": "1.5.0",
          "state": {
            "_dom_classes": [],
            "_model_module": "@jupyter-widgets/controls",
            "_model_module_version": "1.5.0",
            "_model_name": "HTMLModel",
            "_view_count": null,
            "_view_module": "@jupyter-widgets/controls",
            "_view_module_version": "1.5.0",
            "_view_name": "HTMLView",
            "description": "",
            "description_tooltip": null,
            "layout": "IPY_MODEL_bf24f6c7553f4a9ebafd69c5c924ace9",
            "placeholder": "​",
            "style": "IPY_MODEL_c553463387f241eb930ce07d3a2848ee",
            "value": "Fetching 5 files: 100%"
          }
        },
        "0fb951207e0646f38808f7d3ab4da66c": {
          "model_module": "@jupyter-widgets/controls",
          "model_name": "FloatProgressModel",
          "model_module_version": "1.5.0",
          "state": {
            "_dom_classes": [],
            "_model_module": "@jupyter-widgets/controls",
            "_model_module_version": "1.5.0",
            "_model_name": "FloatProgressModel",
            "_view_count": null,
            "_view_module": "@jupyter-widgets/controls",
            "_view_module_version": "1.5.0",
            "_view_name": "ProgressView",
            "bar_style": "success",
            "description": "",
            "description_tooltip": null,
            "layout": "IPY_MODEL_4b0f3f145afd48e3810c26dfdf856728",
            "max": 5,
            "min": 0,
            "orientation": "horizontal",
            "style": "IPY_MODEL_2c61061bd29d464a972aef9c0745334b",
            "value": 5
          }
        },
        "aaf355807fa04d75b9f4168ec41e3b99": {
          "model_module": "@jupyter-widgets/controls",
          "model_name": "HTMLModel",
          "model_module_version": "1.5.0",
          "state": {
            "_dom_classes": [],
            "_model_module": "@jupyter-widgets/controls",
            "_model_module_version": "1.5.0",
            "_model_name": "HTMLModel",
            "_view_count": null,
            "_view_module": "@jupyter-widgets/controls",
            "_view_module_version": "1.5.0",
            "_view_name": "HTMLView",
            "description": "",
            "description_tooltip": null,
            "layout": "IPY_MODEL_fcf7959e5d08443ab99a56c58d628242",
            "placeholder": "​",
            "style": "IPY_MODEL_f6c4a445c6f0453e9d3d55d35d4f8f8e",
            "value": " 5/5 [00:00&lt;00:00, 162.85it/s]"
          }
        },
        "e1287c16b55f42ce94756883a08499e4": {
          "model_module": "@jupyter-widgets/base",
          "model_name": "LayoutModel",
          "model_module_version": "1.2.0",
          "state": {
            "_model_module": "@jupyter-widgets/base",
            "_model_module_version": "1.2.0",
            "_model_name": "LayoutModel",
            "_view_count": null,
            "_view_module": "@jupyter-widgets/base",
            "_view_module_version": "1.2.0",
            "_view_name": "LayoutView",
            "align_content": null,
            "align_items": null,
            "align_self": null,
            "border": null,
            "bottom": null,
            "display": null,
            "flex": null,
            "flex_flow": null,
            "grid_area": null,
            "grid_auto_columns": null,
            "grid_auto_flow": null,
            "grid_auto_rows": null,
            "grid_column": null,
            "grid_gap": null,
            "grid_row": null,
            "grid_template_areas": null,
            "grid_template_columns": null,
            "grid_template_rows": null,
            "height": null,
            "justify_content": null,
            "justify_items": null,
            "left": null,
            "margin": null,
            "max_height": null,
            "max_width": null,
            "min_height": null,
            "min_width": null,
            "object_fit": null,
            "object_position": null,
            "order": null,
            "overflow": null,
            "overflow_x": null,
            "overflow_y": null,
            "padding": null,
            "right": null,
            "top": null,
            "visibility": null,
            "width": null
          }
        },
        "bf24f6c7553f4a9ebafd69c5c924ace9": {
          "model_module": "@jupyter-widgets/base",
          "model_name": "LayoutModel",
          "model_module_version": "1.2.0",
          "state": {
            "_model_module": "@jupyter-widgets/base",
            "_model_module_version": "1.2.0",
            "_model_name": "LayoutModel",
            "_view_count": null,
            "_view_module": "@jupyter-widgets/base",
            "_view_module_version": "1.2.0",
            "_view_name": "LayoutView",
            "align_content": null,
            "align_items": null,
            "align_self": null,
            "border": null,
            "bottom": null,
            "display": null,
            "flex": null,
            "flex_flow": null,
            "grid_area": null,
            "grid_auto_columns": null,
            "grid_auto_flow": null,
            "grid_auto_rows": null,
            "grid_column": null,
            "grid_gap": null,
            "grid_row": null,
            "grid_template_areas": null,
            "grid_template_columns": null,
            "grid_template_rows": null,
            "height": null,
            "justify_content": null,
            "justify_items": null,
            "left": null,
            "margin": null,
            "max_height": null,
            "max_width": null,
            "min_height": null,
            "min_width": null,
            "object_fit": null,
            "object_position": null,
            "order": null,
            "overflow": null,
            "overflow_x": null,
            "overflow_y": null,
            "padding": null,
            "right": null,
            "top": null,
            "visibility": null,
            "width": null
          }
        },
        "c553463387f241eb930ce07d3a2848ee": {
          "model_module": "@jupyter-widgets/controls",
          "model_name": "DescriptionStyleModel",
          "model_module_version": "1.5.0",
          "state": {
            "_model_module": "@jupyter-widgets/controls",
            "_model_module_version": "1.5.0",
            "_model_name": "DescriptionStyleModel",
            "_view_count": null,
            "_view_module": "@jupyter-widgets/base",
            "_view_module_version": "1.2.0",
            "_view_name": "StyleView",
            "description_width": ""
          }
        },
        "4b0f3f145afd48e3810c26dfdf856728": {
          "model_module": "@jupyter-widgets/base",
          "model_name": "LayoutModel",
          "model_module_version": "1.2.0",
          "state": {
            "_model_module": "@jupyter-widgets/base",
            "_model_module_version": "1.2.0",
            "_model_name": "LayoutModel",
            "_view_count": null,
            "_view_module": "@jupyter-widgets/base",
            "_view_module_version": "1.2.0",
            "_view_name": "LayoutView",
            "align_content": null,
            "align_items": null,
            "align_self": null,
            "border": null,
            "bottom": null,
            "display": null,
            "flex": null,
            "flex_flow": null,
            "grid_area": null,
            "grid_auto_columns": null,
            "grid_auto_flow": null,
            "grid_auto_rows": null,
            "grid_column": null,
            "grid_gap": null,
            "grid_row": null,
            "grid_template_areas": null,
            "grid_template_columns": null,
            "grid_template_rows": null,
            "height": null,
            "justify_content": null,
            "justify_items": null,
            "left": null,
            "margin": null,
            "max_height": null,
            "max_width": null,
            "min_height": null,
            "min_width": null,
            "object_fit": null,
            "object_position": null,
            "order": null,
            "overflow": null,
            "overflow_x": null,
            "overflow_y": null,
            "padding": null,
            "right": null,
            "top": null,
            "visibility": null,
            "width": null
          }
        },
        "2c61061bd29d464a972aef9c0745334b": {
          "model_module": "@jupyter-widgets/controls",
          "model_name": "ProgressStyleModel",
          "model_module_version": "1.5.0",
          "state": {
            "_model_module": "@jupyter-widgets/controls",
            "_model_module_version": "1.5.0",
            "_model_name": "ProgressStyleModel",
            "_view_count": null,
            "_view_module": "@jupyter-widgets/base",
            "_view_module_version": "1.2.0",
            "_view_name": "StyleView",
            "bar_color": null,
            "description_width": ""
          }
        },
        "fcf7959e5d08443ab99a56c58d628242": {
          "model_module": "@jupyter-widgets/base",
          "model_name": "LayoutModel",
          "model_module_version": "1.2.0",
          "state": {
            "_model_module": "@jupyter-widgets/base",
            "_model_module_version": "1.2.0",
            "_model_name": "LayoutModel",
            "_view_count": null,
            "_view_module": "@jupyter-widgets/base",
            "_view_module_version": "1.2.0",
            "_view_name": "LayoutView",
            "align_content": null,
            "align_items": null,
            "align_self": null,
            "border": null,
            "bottom": null,
            "display": null,
            "flex": null,
            "flex_flow": null,
            "grid_area": null,
            "grid_auto_columns": null,
            "grid_auto_flow": null,
            "grid_auto_rows": null,
            "grid_column": null,
            "grid_gap": null,
            "grid_row": null,
            "grid_template_areas": null,
            "grid_template_columns": null,
            "grid_template_rows": null,
            "height": null,
            "justify_content": null,
            "justify_items": null,
            "left": null,
            "margin": null,
            "max_height": null,
            "max_width": null,
            "min_height": null,
            "min_width": null,
            "object_fit": null,
            "object_position": null,
            "order": null,
            "overflow": null,
            "overflow_x": null,
            "overflow_y": null,
            "padding": null,
            "right": null,
            "top": null,
            "visibility": null,
            "width": null
          }
        },
        "f6c4a445c6f0453e9d3d55d35d4f8f8e": {
          "model_module": "@jupyter-widgets/controls",
          "model_name": "DescriptionStyleModel",
          "model_module_version": "1.5.0",
          "state": {
            "_model_module": "@jupyter-widgets/controls",
            "_model_module_version": "1.5.0",
            "_model_name": "DescriptionStyleModel",
            "_view_count": null,
            "_view_module": "@jupyter-widgets/base",
            "_view_module_version": "1.2.0",
            "_view_name": "StyleView",
            "description_width": ""
          }
        }
      }
    }
  },
  "nbformat": 4,
  "nbformat_minor": 0
}